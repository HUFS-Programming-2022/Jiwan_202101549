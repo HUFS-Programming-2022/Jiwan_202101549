{
  "nbformat": 4,
  "nbformat_minor": 0,
  "metadata": {
    "colab": {
      "name": "week06.ipynb",
      "provenance": [],
      "collapsed_sections": []
    },
    "kernelspec": {
      "name": "python3",
      "display_name": "Python 3"
    },
    "language_info": {
      "name": "python"
    }
  },
  "cells": [
    {
      "cell_type": "markdown",
      "source": [
        "### NLTK Inaugural"
      ],
      "metadata": {
        "id": "kVO6HvyW_xD8"
      }
    },
    {
      "cell_type": "code",
      "execution_count": 2,
      "metadata": {
        "colab": {
          "base_uri": "https://localhost:8080/"
        },
        "id": "hs7Dwq7K_qX3",
        "outputId": "a42e98ee-101e-4c85-a9b0-4f5c9db002c6"
      },
      "outputs": [
        {
          "name": "stdout",
          "output_type": "stream",
          "text": [
            "NLTK Downloader\n",
            "---------------------------------------------------------------------------\n",
            "    d) Download   l) List    u) Update   c) Config   h) Help   q) Quit\n",
            "---------------------------------------------------------------------------\n",
            "Downloader> ㅂ\n",
            "Command 'ㅂ' unrecognized\n",
            "\n",
            "---------------------------------------------------------------------------\n",
            "    d) Download   l) List    u) Update   c) Config   h) Help   q) Quit\n",
            "---------------------------------------------------------------------------\n",
            "Downloader> q\n"
          ]
        },
        {
          "output_type": "execute_result",
          "data": {
            "text/plain": [
              "True"
            ]
          },
          "metadata": {},
          "execution_count": 2
        }
      ],
      "source": [
        "# nltk -> specific\n",
        "# 구구단할때 참조 \n",
        "import nltk\n",
        "nltk.download() # lookup error"
      ]
    },
    {
      "cell_type": "code",
      "source": [
        "import nltk\n",
        "nltk.download('brown', 'inaugural')\n",
        "brown = nltk.corpus.brown"
      ],
      "metadata": {
        "colab": {
          "base_uri": "https://localhost:8080/"
        },
        "id": "VE9QW8kw_1Iw",
        "outputId": "6e425a1d-ce83-4e96-ded0-a94dfd277566"
      },
      "execution_count": 1,
      "outputs": [
        {
          "output_type": "stream",
          "name": "stdout",
          "text": [
            "[nltk_data] Downloading package brown to inaugural...\n",
            "[nltk_data]   Unzipping corpora/brown.zip.\n"
          ]
        }
      ]
    },
    {
      "cell_type": "code",
      "source": [
        "import nltk\n",
        "nltk.download('brown')"
      ],
      "metadata": {
        "colab": {
          "base_uri": "https://localhost:8080/"
        },
        "id": "bFcehBKUASGI",
        "outputId": "3e706dc8-7e1d-4061-d737-fb1f7397de6a"
      },
      "execution_count": 6,
      "outputs": [
        {
          "output_type": "stream",
          "name": "stdout",
          "text": [
            "[nltk_data] Downloading package brown to /root/nltk_data...\n",
            "[nltk_data]   Unzipping corpora/brown.zip.\n"
          ]
        },
        {
          "output_type": "execute_result",
          "data": {
            "text/plain": [
              "True"
            ]
          },
          "metadata": {},
          "execution_count": 6
        }
      ]
    },
    {
      "cell_type": "code",
      "source": [
        "from nltk.inference.tableau import Categories\n",
        "#cfd\n",
        "cfd = nltk.ConditionalFreqDist(\n",
        "    (genre, word)\n",
        "    for genre in brown.categories()\n",
        "    for word in brown.words(categories=genre)\n",
        ")\n",
        "\n",
        "modals = ['can', 'could', 'would', 'will', 'might', 'may']\n",
        "cfd.tabulate(conditions=brown.categories(), samples=modals)"
      ],
      "metadata": {
        "colab": {
          "base_uri": "https://localhost:8080/"
        },
        "id": "hAS0hzRIAIba",
        "outputId": "07fd3954-33d0-461b-9fb2-703dd07744c6"
      },
      "execution_count": 7,
      "outputs": [
        {
          "output_type": "stream",
          "name": "stdout",
          "text": [
            "                  can could would  will might   may \n",
            "      adventure    46   151   191    50    58     5 \n",
            " belles_lettres   246   213   392   236   113   207 \n",
            "      editorial   121    56   180   233    39    74 \n",
            "        fiction    37   166   287    52    44     8 \n",
            "     government   117    38   120   244    13   153 \n",
            "        hobbies   268    58    78   264    22   131 \n",
            "          humor    16    30    56    13     8     8 \n",
            "        learned   365   159   319   340   128   324 \n",
            "           lore   170   141   186   175    49   165 \n",
            "        mystery    42   141   186    20    57    13 \n",
            "           news    93    86   244   389    38    66 \n",
            "       religion    82    59    68    71    12    78 \n",
            "        reviews    45    40    47    58    26    45 \n",
            "        romance    74   193   244    43    51    11 \n",
            "science_fiction    16    49    79    16    12     4 \n"
          ]
        }
      ]
    },
    {
      "cell_type": "code",
      "source": [
        "# modals의 빈도수가 포함된 cfd (word -> modal_verb)\n",
        "cfd1 = nltk.ConditionalFreqDist(\n",
        "    (genre, modal)\n",
        "    for genre in brown.categories()\n",
        "    for modal in ['can','could','would','will', 'might', 'may']\n",
        "    \n",
        "    for word in brown.words(categories=genre)\n",
        "      if word.lower() == modal # 탭을 하지 않아도 실행됨\n",
        " )\n",
        "cfd1.tabulate()\n",
        "#lower()하는 것이 더 정확"
      ],
      "metadata": {
        "colab": {
          "base_uri": "https://localhost:8080/"
        },
        "id": "2hI6k3_PAq9i",
        "outputId": "1e5b2f1a-bf14-41a9-ce68-755472c535f6"
      },
      "execution_count": 14,
      "outputs": [
        {
          "output_type": "stream",
          "name": "stdout",
          "text": [
            "                  can could   may might  will would \n",
            "      adventure    48   154     7    59    51   194 \n",
            " belles_lettres   249   216   221   113   246   397 \n",
            "      editorial   124    57    79    39   235   185 \n",
            "        fiction    39   168    10    44    56   291 \n",
            "     government   119    38   179    13   244   120 \n",
            "        hobbies   276    59   143    22   269    83 \n",
            "          humor    17    33     8     8    13    56 \n",
            "        learned   367   159   336   128   340   321 \n",
            "           lore   170   142   170    50   178   188 \n",
            "        mystery    45   145    15    57    25   189 \n",
            "           news    94    87    93    38   389   246 \n",
            "       religion    84    59    79    12    72    69 \n",
            "        reviews    45    40    47    26    61    48 \n",
            "        romance    79   195    11    51    49   247 \n",
            "science_fiction    16    49     4    12    17    80 \n"
          ]
        }
      ]
    },
    {
      "cell_type": "code",
      "source": [
        "import matplotlib.pyplot as plt\n",
        "plt.figure(figsize=(12, 5))\n",
        "cfd1.plot()"
      ],
      "metadata": {
        "colab": {
          "base_uri": "https://localhost:8080/",
          "height": 353
        },
        "id": "lccRJBBFQ3QK",
        "outputId": "fb70d0b0-16fd-4540-f20b-ce0b913047d1"
      },
      "execution_count": 30,
      "outputs": [
        {
          "output_type": "display_data",
          "data": {
            "text/plain": [
              "<Figure size 864x360 with 1 Axes>"
            ],
            "image/png": "[encoded data removed]"
          },
          "metadata": {
            "needs_background": "light"
          }
        }
      ]
    },
    {
      "cell_type": "markdown",
      "source": [
        "#### Inaugural\n",
        "- 연설문 코퍼스"
      ],
      "metadata": {
        "id": "fJ9j1nocLc7m"
      }
    },
    {
      "cell_type": "code",
      "source": [
        "import nltk\n",
        "nltk.download('inaugural')"
      ],
      "metadata": {
        "colab": {
          "base_uri": "https://localhost:8080/"
        },
        "id": "kTPHNIhwM9PS",
        "outputId": "cb309a3f-d297-42c0-b122-bf1c45a837e7"
      },
      "execution_count": 16,
      "outputs": [
        {
          "output_type": "stream",
          "name": "stdout",
          "text": [
            "[nltk_data] Downloading package inaugural to /root/nltk_data...\n",
            "[nltk_data]   Unzipping corpora/inaugural.zip.\n"
          ]
        },
        {
          "output_type": "execute_result",
          "data": {
            "text/plain": [
              "True"
            ]
          },
          "metadata": {},
          "execution_count": 16
        }
      ]
    },
    {
      "cell_type": "code",
      "source": [
        "inaugural = nltk.corpus.inaugural"
      ],
      "metadata": {
        "id": "S7MK_gfwNX-v"
      },
      "execution_count": 18,
      "outputs": []
    },
    {
      "cell_type": "code",
      "source": [
        "inaugural.fileids() # 연도 - 이름.txt | '2021-Biden.txt'"
      ],
      "metadata": {
        "id": "rSO15EcDNBFl"
      },
      "execution_count": null,
      "outputs": []
    },
    {
      "cell_type": "code",
      "source": [
        "# ['america', 'citizen'] 빈도수를 cfd로 만드시오.\n",
        "\n",
        "cfd2 = nltk.ConditionalFreqDist(\n",
        "    (file, words) #\n",
        "    for file in inaugural.fileids()\n",
        "    for words in ['america', 'citizen']\n",
        "\n",
        "    for word in inaugural.words(fileids=file)\n",
        "    if word.lower() == words\n",
        ")\n",
        "cfd2.tabulate()"
      ],
      "metadata": {
        "colab": {
          "base_uri": "https://localhost:8080/"
        },
        "id": "OlJI6VCGNR4p",
        "outputId": "7482cd0d-c760-4752-c259-bdaf747a8698"
      },
      "execution_count": 28,
      "outputs": [
        {
          "output_type": "stream",
          "name": "stdout",
          "text": [
            "                    america citizen \n",
            "1793-Washington.txt       1       0 \n",
            "     1797-Adams.txt       5       1 \n",
            "    1817-Monroe.txt       0       5 \n",
            "    1821-Monroe.txt       2       0 \n",
            "     1825-Adams.txt       0       1 \n",
            "  1837-VanBuren.txt       1       1 \n",
            "  1841-Harrison.txt       0      11 \n",
            "    1853-Pierce.txt       0       1 \n",
            "  1857-Buchanan.txt       1       0 \n",
            "   1861-Lincoln.txt       0       1 \n",
            "     1869-Grant.txt       0       2 \n",
            "     1873-Grant.txt       0       1 \n",
            "     1877-Hayes.txt       0       1 \n",
            "  1881-Garfield.txt       1       2 \n",
            " 1885-Cleveland.txt       0       5 \n",
            "  1889-Harrison.txt       0       3 \n",
            " 1893-Cleveland.txt       0       3 \n",
            "      1909-Taft.txt       4       0 \n",
            "    1917-Wilson.txt       2       0 \n",
            "   1921-Harding.txt      15       0 \n",
            "  1925-Coolidge.txt       8       2 \n",
            "    1929-Hoover.txt       6       2 \n",
            " 1937-Roosevelt.txt       1       1 \n",
            " 1941-Roosevelt.txt       7       1 \n",
            " 1945-Roosevelt.txt       1       0 \n",
            "1953-Eisenhower.txt       3       3 \n",
            "1957-Eisenhower.txt       5       0 \n",
            "   1961-Kennedy.txt       2       0 \n",
            "   1965-Johnson.txt       3       3 \n",
            "     1969-Nixon.txt       6       0 \n",
            "     1973-Nixon.txt      21       0 \n",
            "    1977-Carter.txt       2       0 \n",
            "    1981-Reagan.txt       6       0 \n",
            "    1985-Reagan.txt       7       0 \n",
            "      1989-Bush.txt       7       1 \n",
            "   1993-Clinton.txt      19       0 \n",
            "   1997-Clinton.txt      15       1 \n",
            "      2001-Bush.txt      11       1 \n",
            "      2005-Bush.txt      20       1 \n",
            "     2009-Obama.txt      10       0 \n",
            "     2013-Obama.txt       8       2 \n",
            "     2017-Trump.txt      20       0 \n",
            "     2021-Biden.txt      20       0 \n"
          ]
        }
      ]
    },
    {
      "cell_type": "code",
      "source": [
        "plt.figure(figsize=(12, 5))\n",
        "cfd2.plot()"
      ],
      "metadata": {
        "colab": {
          "base_uri": "https://localhost:8080/",
          "height": 684
        },
        "id": "dmbfPPp8PqO3",
        "outputId": "a987fbc6-ed92-4100-8332-b3b113a0c68d"
      },
      "execution_count": 32,
      "outputs": [
        {
          "output_type": "display_data",
          "data": {
            "text/plain": [
              "<Figure size 864x360 with 1 Axes>"
            ],
            "image/png": "[encoded data removed]"
          },
          "metadata": {
            "needs_background": "light"
          }
        }
      ]
    },
    {
      "cell_type": "markdown",
      "source": [
        "### Tuple & List\n",
        "- 불변 객체 vs. 가변 객체"
      ],
      "metadata": {
        "id": "RbOV3VMwRNIb"
      }
    },
    {
      "cell_type": "code",
      "source": [
        "#1. 생성\n",
        "emptyT = ()\n",
        "emptyT = tuple()\n",
        "\n",
        "emptyL = []\n",
        "emptyL = list()\n",
        "\n",
        "emptyT, emptyL"
      ],
      "metadata": {
        "colab": {
          "base_uri": "https://localhost:8080/"
        },
        "id": "ueVgNCVISMXl",
        "outputId": "33c13c6d-c35c-4e92-ac9d-3080458c4c9a"
      },
      "execution_count": 34,
      "outputs": [
        {
          "output_type": "execute_result",
          "data": {
            "text/plain": [
              "((), [])"
            ]
          },
          "metadata": {},
          "execution_count": 34
        }
      ]
    },
    {
      "cell_type": "code",
      "source": [
        "#1. 1 요소 여러 개일 때\n",
        "alphabetT = ('a', 'b')\n",
        "alphabetT = 'a', 'b'\n",
        "alphabetT\n",
        "\n",
        "alphabetT = ['a', 'b']"
      ],
      "metadata": {
        "id": "ij8FD0t5Sagm"
      },
      "execution_count": 35,
      "outputs": []
    },
    {
      "cell_type": "code",
      "source": [
        "#1.2 요소 1개일 때\n",
        "alphaT = ('a') #str, 튜플 아님\n",
        "type(alphaT)"
      ],
      "metadata": {
        "colab": {
          "base_uri": "https://localhost:8080/"
        },
        "id": "StlokofPSxvD",
        "outputId": "7c5bc4c5-a1a0-4dfb-d09b-9a8f31b08484"
      },
      "execution_count": 36,
      "outputs": [
        {
          "output_type": "execute_result",
          "data": {
            "text/plain": [
              "str"
            ]
          },
          "metadata": {},
          "execution_count": 36
        }
      ]
    },
    {
      "cell_type": "code",
      "source": [
        "alphabetT = ('b',)\n",
        "type(alphaT)"
      ],
      "metadata": {
        "colab": {
          "base_uri": "https://localhost:8080/"
        },
        "id": "2QgUDIoUS2XW",
        "outputId": "6daf3881-e849-4b1d-a757-87e49b3ef1c6"
      },
      "execution_count": 37,
      "outputs": [
        {
          "output_type": "execute_result",
          "data": {
            "text/plain": [
              "str"
            ]
          },
          "metadata": {},
          "execution_count": 37
        }
      ]
    },
    {
      "cell_type": "code",
      "source": [
        "alphaT = ('b',) #쉼표 필요\n",
        "type(alphaT)"
      ],
      "metadata": {
        "colab": {
          "base_uri": "https://localhost:8080/"
        },
        "id": "zAqscr4aS-x6",
        "outputId": "2efe1bf2-305b-4dde-d6ba-817c38e39242"
      },
      "execution_count": 38,
      "outputs": [
        {
          "output_type": "execute_result",
          "data": {
            "text/plain": [
              "tuple"
            ]
          },
          "metadata": {},
          "execution_count": 38
        }
      ]
    },
    {
      "cell_type": "markdown",
      "source": [
        "- unpacking: 한 변수에 여러 데이터를 할당하는 것\n",
        "  - list, tuple 자체. a = [1,2,3,4] -> packing\n",
        "- unpacking: 한 변수에 따라 여러 데이터가 들어있을때 여러 변수에 나누는 것\n",
        "  - a = 'k', b = 'i', c = 'm' -> unpacking"
      ],
      "metadata": {
        "id": "lGrla0LhTBoH"
      }
    },
    {
      "cell_type": "code",
      "source": [
        "a, b, c = 'kim' #unpacking #문자열일때 주의\n",
        "a, b, c"
      ],
      "metadata": {
        "colab": {
          "base_uri": "https://localhost:8080/"
        },
        "id": "yXcngAxFT5pa",
        "outputId": "dc1d85d0-4f86-474f-efe9-d5382b714cc6"
      },
      "execution_count": 39,
      "outputs": [
        {
          "output_type": "execute_result",
          "data": {
            "text/plain": [
              "('k', 'i', 'm')"
            ]
          },
          "metadata": {},
          "execution_count": 39
        }
      ]
    },
    {
      "cell_type": "code",
      "source": [
        "# 값 교환하기\n",
        "pwd = 'abcd'\n",
        "userId = 'sky'\n",
        "\n",
        "#pwd = userId -> 둘다 abcd가 돼서 sky 사라짐\n",
        "\n",
        "\"\"\"\n",
        "temp1 = uesrId\n",
        "temp2 = pwd\n",
        "pwd = temp1\n",
        "userId = temp2\n",
        "\"\"\"\n",
        "\n",
        "pwd, userId = userId, pwd\n",
        "pwd, userId"
      ],
      "metadata": {
        "colab": {
          "base_uri": "https://localhost:8080/"
        },
        "id": "I91gbP5tUEaQ",
        "outputId": "f690b8d9-91cf-41b4-b31d-882c46ae6c30"
      },
      "execution_count": 40,
      "outputs": [
        {
          "output_type": "execute_result",
          "data": {
            "text/plain": [
              "('sky', 'abcd')"
            ]
          },
          "metadata": {},
          "execution_count": 40
        }
      ]
    },
    {
      "cell_type": "code",
      "source": [
        "# 연산 가능(list와 똑같음)\n",
        "\n",
        "('a',) + (1, 2)"
      ],
      "metadata": {
        "colab": {
          "base_uri": "https://localhost:8080/"
        },
        "id": "ETK7lC3QUJDV",
        "outputId": "c7328f60-0d72-4a83-c59b-5568e6c4a82f"
      },
      "execution_count": 41,
      "outputs": [
        {
          "output_type": "execute_result",
          "data": {
            "text/plain": [
              "('a', 1, 2)"
            ]
          },
          "metadata": {},
          "execution_count": 41
        }
      ]
    },
    {
      "cell_type": "code",
      "source": [
        "(1, 2) * 3"
      ],
      "metadata": {
        "colab": {
          "base_uri": "https://localhost:8080/"
        },
        "id": "IbYbtVLuUsDT",
        "outputId": "a02f5b6a-31f0-4a39-8f5b-404604ef40f4"
      },
      "execution_count": 42,
      "outputs": [
        {
          "output_type": "execute_result",
          "data": {
            "text/plain": [
              "(1, 2, 1, 2, 1, 2)"
            ]
          },
          "metadata": {},
          "execution_count": 42
        }
      ]
    },
    {
      "cell_type": "code",
      "source": [
        "# 튜플은 안변한다는데 왜 연산이 가능하냐?\n",
        "x = ('a',)\n",
        "y = (1, 2)\n",
        "id(x), id(x+y) #x+y != x id값이 다름, 새로운 변수에 할당한 것"
      ],
      "metadata": {
        "colab": {
          "base_uri": "https://localhost:8080/"
        },
        "id": "6RdlVrfEUt--",
        "outputId": "32c37e59-30ca-4ead-c8d7-8805dbe5b454"
      },
      "execution_count": 43,
      "outputs": [
        {
          "output_type": "execute_result",
          "data": {
            "text/plain": [
              "(140479410518032, 140479410625104)"
            ]
          },
          "metadata": {},
          "execution_count": 43
        }
      ]
    },
    {
      "cell_type": "code",
      "source": [
        "#비교 가능\n",
        "x = 1, 2\n",
        "y = 1, 6\n",
        "\n",
        "x < y #첫번째 인자부터 비교"
      ],
      "metadata": {
        "colab": {
          "base_uri": "https://localhost:8080/"
        },
        "id": "sxhdx3ChUwJk",
        "outputId": "2215de69-42e0-4262-a481-b2cb0d157343"
      },
      "execution_count": 44,
      "outputs": [
        {
          "output_type": "execute_result",
          "data": {
            "text/plain": [
              "True"
            ]
          },
          "metadata": {},
          "execution_count": 44
        }
      ]
    },
    {
      "cell_type": "code",
      "source": [
        "#순회 가능\n",
        "for i in x:\n",
        "    print(x)"
      ],
      "metadata": {
        "colab": {
          "base_uri": "https://localhost:8080/"
        },
        "id": "XZhHyosKUyIj",
        "outputId": "2795ce15-9208-401c-8bc8-5cafaa345d33"
      },
      "execution_count": 45,
      "outputs": [
        {
          "output_type": "stream",
          "name": "stdout",
          "text": [
            "(1, 2)\n",
            "(1, 2)\n"
          ]
        }
      ]
    },
    {
      "cell_type": "code",
      "source": [
        "#리스트 컴프 사용 가능\n",
        "[i for i in x] #-> 다만 이게 리스트로 바뀌는 것 뿐, 이게 제일 좋음"
      ],
      "metadata": {
        "colab": {
          "base_uri": "https://localhost:8080/"
        },
        "id": "V1H0qBa0U1BN",
        "outputId": "c491bc5a-1912-4cc2-a1dd-3f9ec44e8e2f"
      },
      "execution_count": 46,
      "outputs": [
        {
          "output_type": "execute_result",
          "data": {
            "text/plain": [
              "[1, 2]"
            ]
          },
          "metadata": {},
          "execution_count": 46
        }
      ]
    },
    {
      "cell_type": "code",
      "source": [
        "#tuple comprehenion 없음, tuple로 변경은 가능\n",
        "tuple([i for i in x]) #그 다음 이거\n",
        "*[i for i in x], #그 다음 이거, 느림"
      ],
      "metadata": {
        "colab": {
          "base_uri": "https://localhost:8080/"
        },
        "id": "h3jQ48zfU5qs",
        "outputId": "39bee6b8-ab98-40f7-b1e4-5b02b365f0b3"
      },
      "execution_count": 47,
      "outputs": [
        {
          "output_type": "execute_result",
          "data": {
            "text/plain": [
              "(1, 2)"
            ]
          },
          "metadata": {},
          "execution_count": 47
        }
      ]
    },
    {
      "cell_type": "code",
      "source": [
        "# 형변환 주의!\n",
        "dog = 'dog'\n",
        "dogT = tuple(dog)"
      ],
      "metadata": {
        "id": "btYPO9ZWU6Ch"
      },
      "execution_count": 48,
      "outputs": []
    },
    {
      "cell_type": "code",
      "source": [
        "#slicing 가능\n",
        "dogT[0]"
      ],
      "metadata": {
        "colab": {
          "base_uri": "https://localhost:8080/",
          "height": 36
        },
        "id": "q8DzdS40U7Mk",
        "outputId": "6a5e2845-dc81-452b-9fdc-66bcc77e942c"
      },
      "execution_count": 49,
      "outputs": [
        {
          "output_type": "execute_result",
          "data": {
            "text/plain": [
              "'d'"
            ],
            "application/vnd.google.colaboratory.intrinsic+json": {
              "type": "string"
            }
          },
          "metadata": {},
          "execution_count": 49
        }
      ]
    },
    {
      "cell_type": "code",
      "source": [
        "#중복가능\n",
        "(1, 1, 1, 1)"
      ],
      "metadata": {
        "colab": {
          "base_uri": "https://localhost:8080/"
        },
        "id": "4QbRTMNYU9Ma",
        "outputId": "2d2a1fed-b239-462f-abe5-e49416a131e5"
      },
      "execution_count": 50,
      "outputs": [
        {
          "output_type": "execute_result",
          "data": {
            "text/plain": [
              "(1, 1, 1, 1)"
            ]
          },
          "metadata": {},
          "execution_count": 50
        }
      ]
    },
    {
      "cell_type": "markdown",
      "source": [
        "[정리]\n",
        "- tuple 장점\n",
        "  - 변하지 않는 데이터 시쿼스를 만들 수 있다. -> 타인의 접근을 막는다. \n",
        "    - blue = 1, white = 2, ...\n",
        "  - 메모리 사용 적다.\n",
        "- list 장점\n",
        "  - 튜플의 장점 필요없을 때 전부 리스트 사용\n",
        "  - 데이터를 순차적으로 파악할 때\n",
        "  - 중복 데이터를 쓸 수 있다는 점 vs. set\n",
        "  "
      ],
      "metadata": {
        "id": "aGrexNiXU_CN"
      }
    },
    {
      "cell_type": "markdown",
      "source": [
        "### 리스트의 유용한 함수들\n",
        "- 변경, 삭제, 추가\n",
        "- 리스트컴프리헨션 업그레이드"
      ],
      "metadata": {
        "id": "dn-I3KrwVsR9"
      }
    },
    {
      "cell_type": "code",
      "source": [
        "list('abcd')"
      ],
      "metadata": {
        "colab": {
          "base_uri": "https://localhost:8080/"
        },
        "id": "EVFNpQngV3bR",
        "outputId": "afa8979a-24ad-4286-f6a6-10f5b4415078"
      },
      "execution_count": 51,
      "outputs": [
        {
          "output_type": "execute_result",
          "data": {
            "text/plain": [
              "['a', 'b', 'c', 'd']"
            ]
          },
          "metadata": {},
          "execution_count": 51
        }
      ]
    },
    {
      "cell_type": "code",
      "source": [
        "list(range(5))"
      ],
      "metadata": {
        "colab": {
          "base_uri": "https://localhost:8080/"
        },
        "id": "eJTJkQ4CWV79",
        "outputId": "c21470b7-7f08-4dc3-eae7-82f061767b5b"
      },
      "execution_count": 52,
      "outputs": [
        {
          "output_type": "execute_result",
          "data": {
            "text/plain": [
              "[0, 1, 2, 3, 4]"
            ]
          },
          "metadata": {},
          "execution_count": 52
        }
      ]
    },
    {
      "cell_type": "code",
      "source": [
        "num = list(range(5))\n",
        "num"
      ],
      "metadata": {
        "colab": {
          "base_uri": "https://localhost:8080/"
        },
        "id": "tohTuS1pWXeE",
        "outputId": "49803f75-1f8f-4bc2-ef3e-31373811ec10"
      },
      "execution_count": 53,
      "outputs": [
        {
          "output_type": "execute_result",
          "data": {
            "text/plain": [
              "[0, 1, 2, 3, 4]"
            ]
          },
          "metadata": {},
          "execution_count": 53
        }
      ]
    },
    {
      "cell_type": "code",
      "source": [
        "# 추가\n",
        "num.append(6) #값 반환 안됨, 함수 쓰는 것 자체가 추가, append(맨뒤에 요소 추가, 여러개 안됨, 하나만 가능)\n",
        "num"
      ],
      "metadata": {
        "colab": {
          "base_uri": "https://localhost:8080/"
        },
        "id": "E-nwRUubWZMw",
        "outputId": "042f8268-00cc-4131-9aeb-ac2a32b9912a"
      },
      "execution_count": 54,
      "outputs": [
        {
          "output_type": "execute_result",
          "data": {
            "text/plain": [
              "[0, 1, 2, 3, 4, 6]"
            ]
          },
          "metadata": {},
          "execution_count": 54
        }
      ]
    },
    {
      "cell_type": "code",
      "source": [
        "# insert(index, item)\n",
        "num.insert(0, 8)\n",
        "num"
      ],
      "metadata": {
        "colab": {
          "base_uri": "https://localhost:8080/"
        },
        "id": "sPNvG5cFWfHX",
        "outputId": "b52887c4-6333-4aa5-cf82-be9d9409d8aa"
      },
      "execution_count": 55,
      "outputs": [
        {
          "output_type": "execute_result",
          "data": {
            "text/plain": [
              "[8, 0, 1, 2, 3, 4, 6]"
            ]
          },
          "metadata": {},
          "execution_count": 55
        }
      ]
    },
    {
      "cell_type": "code",
      "source": [
        "# 여러 개 추가\n",
        "x = [6, 6, 6]\n",
        "num.extend(x) # 리스트를\n",
        "num #계속 늘어남?"
      ],
      "metadata": {
        "colab": {
          "base_uri": "https://localhost:8080/"
        },
        "id": "sTYjOmo9WfyK",
        "outputId": "b544dccc-4a6c-41d7-d872-5fee6d39ca25"
      },
      "execution_count": 56,
      "outputs": [
        {
          "output_type": "execute_result",
          "data": {
            "text/plain": [
              "[8, 0, 1, 2, 3, 4, 6, 6, 6, 6]"
            ]
          },
          "metadata": {},
          "execution_count": 56
        }
      ]
    },
    {
      "cell_type": "code",
      "source": [
        "num.append(x) #리스트가 들어감, extend =/= append\n",
        "num"
      ],
      "metadata": {
        "colab": {
          "base_uri": "https://localhost:8080/"
        },
        "id": "y03l6ZjHWmiu",
        "outputId": "4418dd72-5078-4e42-cfa3-ea3185af37ef"
      },
      "execution_count": 57,
      "outputs": [
        {
          "output_type": "execute_result",
          "data": {
            "text/plain": [
              "[8, 0, 1, 2, 3, 4, 6, 6, 6, 6, [6, 6, 6]]"
            ]
          },
          "metadata": {},
          "execution_count": 57
        }
      ]
    },
    {
      "cell_type": "code",
      "source": [
        "# extend = num += x\n",
        "num += x\n",
        "num #튜플은 안됨"
      ],
      "metadata": {
        "colab": {
          "base_uri": "https://localhost:8080/"
        },
        "id": "wefudwxnWpOK",
        "outputId": "2e6ac719-0efa-4d05-f904-15f78bebe6c6"
      },
      "execution_count": 58,
      "outputs": [
        {
          "output_type": "execute_result",
          "data": {
            "text/plain": [
              "[8, 0, 1, 2, 3, 4, 6, 6, 6, 6, [6, 6, 6], 6, 6, 6]"
            ]
          },
          "metadata": {},
          "execution_count": 58
        }
      ]
    },
    {
      "cell_type": "code",
      "source": [
        "num[0] = 9\n",
        "num"
      ],
      "metadata": {
        "colab": {
          "base_uri": "https://localhost:8080/"
        },
        "id": "OvE3T_DbWrIR",
        "outputId": "a0fa1458-ba91-4c01-e9ae-bb3a2f7f02a0"
      },
      "execution_count": 59,
      "outputs": [
        {
          "output_type": "execute_result",
          "data": {
            "text/plain": [
              "[9, 0, 1, 2, 3, 4, 6, 6, 6, 6, [6, 6, 6], 6, 6, 6]"
            ]
          },
          "metadata": {},
          "execution_count": 59
        }
      ]
    },
    {
      "cell_type": "code",
      "source": [
        "num[:3] = 2, 2, 2\n",
        "num"
      ],
      "metadata": {
        "colab": {
          "base_uri": "https://localhost:8080/"
        },
        "id": "ndsNQGctWvQ3",
        "outputId": "9a64fb54-c9af-41aa-9950-5f6453c5b0d0"
      },
      "execution_count": 61,
      "outputs": [
        {
          "output_type": "execute_result",
          "data": {
            "text/plain": [
              "[2, 2, 2, 2, 3, 4, 6, 6, 6, 6, [6, 6, 6], 6, 6, 6]"
            ]
          },
          "metadata": {},
          "execution_count": 61
        }
      ]
    },
    {
      "cell_type": "code",
      "source": [
        "num[:3] = 'cat' #str 넣었을 때, 하나하나씩 unpacking 되어서 들어감\n",
        "num"
      ],
      "metadata": {
        "colab": {
          "base_uri": "https://localhost:8080/"
        },
        "id": "lEgu48fuWyiO",
        "outputId": "b78b1daa-c5cb-4acf-fb9d-e44ab3b1d286"
      },
      "execution_count": 62,
      "outputs": [
        {
          "output_type": "execute_result",
          "data": {
            "text/plain": [
              "['c', 'a', 't', 2, 3, 4, 6, 6, 6, 6, [6, 6, 6], 6, 6, 6]"
            ]
          },
          "metadata": {},
          "execution_count": 62
        }
      ]
    },
    {
      "cell_type": "code",
      "source": [
        "# 삭제\n",
        "del num[:3]\n",
        "num"
      ],
      "metadata": {
        "colab": {
          "base_uri": "https://localhost:8080/"
        },
        "id": "mcQJ-qPzW0IL",
        "outputId": "53946a44-dc74-4c0b-fb28-87c8754c6e01"
      },
      "execution_count": 63,
      "outputs": [
        {
          "output_type": "execute_result",
          "data": {
            "text/plain": [
              "[2, 3, 4, 6, 6, 6, 6, [6, 6, 6], 6, 6, 6]"
            ]
          },
          "metadata": {},
          "execution_count": 63
        }
      ]
    },
    {
      "cell_type": "code",
      "source": [
        "# remove(value)\n",
        "num.remove(2)\n",
        "num"
      ],
      "metadata": {
        "colab": {
          "base_uri": "https://localhost:8080/"
        },
        "id": "sKpQuQThW1ht",
        "outputId": "84f10413-be1e-4346-b5d9-8c14df699051"
      },
      "execution_count": 64,
      "outputs": [
        {
          "output_type": "execute_result",
          "data": {
            "text/plain": [
              "[3, 4, 6, 6, 6, 6, [6, 6, 6], 6, 6, 6]"
            ]
          },
          "metadata": {},
          "execution_count": 64
        }
      ]
    },
    {
      "cell_type": "code",
      "source": [
        "num.pop()\n",
        "num"
      ],
      "metadata": {
        "colab": {
          "base_uri": "https://localhost:8080/"
        },
        "id": "rHsyCv9VW3Zh",
        "outputId": "9d557b24-43ce-478a-8dd1-32bc7709d237"
      },
      "execution_count": 65,
      "outputs": [
        {
          "output_type": "execute_result",
          "data": {
            "text/plain": [
              "[3, 4, 6, 6, 6, 6, [6, 6, 6], 6, 6]"
            ]
          },
          "metadata": {},
          "execution_count": 65
        }
      ]
    },
    {
      "cell_type": "code",
      "source": [
        "num.pop(0)\n",
        "num"
      ],
      "metadata": {
        "colab": {
          "base_uri": "https://localhost:8080/"
        },
        "id": "J5EE-2WFW7QM",
        "outputId": "36a847af-e84f-45a3-e56b-374dafb963fe"
      },
      "execution_count": 66,
      "outputs": [
        {
          "output_type": "execute_result",
          "data": {
            "text/plain": [
              "[4, 6, 6, 6, 6, [6, 6, 6], 6, 6]"
            ]
          },
          "metadata": {},
          "execution_count": 66
        }
      ]
    },
    {
      "cell_type": "code",
      "source": [
        "num.clear()\n",
        "num"
      ],
      "metadata": {
        "colab": {
          "base_uri": "https://localhost:8080/"
        },
        "id": "1ujLtxGfW-Ft",
        "outputId": "4d91436f-0359-41cf-fc07-90148cf99098"
      },
      "execution_count": 67,
      "outputs": [
        {
          "output_type": "execute_result",
          "data": {
            "text/plain": [
              "[]"
            ]
          },
          "metadata": {},
          "execution_count": 67
        }
      ]
    },
    {
      "cell_type": "code",
      "source": [
        "num = list(range(5))\n",
        "num.index(4)"
      ],
      "metadata": {
        "colab": {
          "base_uri": "https://localhost:8080/"
        },
        "id": "tpahkaTUW_0U",
        "outputId": "3644b0c4-0cfd-480b-8dc7-43bb9509eb1c"
      },
      "execution_count": 68,
      "outputs": [
        {
          "output_type": "execute_result",
          "data": {
            "text/plain": [
              "4"
            ]
          },
          "metadata": {},
          "execution_count": 68
        }
      ]
    },
    {
      "cell_type": "code",
      "source": [
        "sorted(num, reverse=True) #num 안변함"
      ],
      "metadata": {
        "colab": {
          "base_uri": "https://localhost:8080/"
        },
        "id": "vkqHx3VdXCoS",
        "outputId": "37b0a9ef-768f-4326-bd5b-a8428714a71b"
      },
      "execution_count": 69,
      "outputs": [
        {
          "output_type": "execute_result",
          "data": {
            "text/plain": [
              "[4, 3, 2, 1, 0]"
            ]
          },
          "metadata": {},
          "execution_count": 69
        }
      ]
    },
    {
      "cell_type": "code",
      "source": [
        "num"
      ],
      "metadata": {
        "colab": {
          "base_uri": "https://localhost:8080/"
        },
        "id": "9xttRbW9XGLp",
        "outputId": "fe414a49-5446-45b8-cab4-0af2bb816ffb"
      },
      "execution_count": 70,
      "outputs": [
        {
          "output_type": "execute_result",
          "data": {
            "text/plain": [
              "[0, 1, 2, 3, 4]"
            ]
          },
          "metadata": {},
          "execution_count": 70
        }
      ]
    },
    {
      "cell_type": "code",
      "source": [
        "num.sort(reverse=True)\n",
        "num"
      ],
      "metadata": {
        "colab": {
          "base_uri": "https://localhost:8080/"
        },
        "id": "bD4_m6soXJUq",
        "outputId": "56bcc303-90a2-4b8c-9c58-2ec0481de80e"
      },
      "execution_count": 72,
      "outputs": [
        {
          "output_type": "execute_result",
          "data": {
            "text/plain": [
              "[4, 3, 2, 1, 0]"
            ]
          },
          "metadata": {},
          "execution_count": 72
        }
      ]
    },
    {
      "cell_type": "code",
      "source": [
        "a = list(range(1, 5))\n",
        "b = a\n",
        "b[0] = 6\n",
        "id(a), id(b)"
      ],
      "metadata": {
        "colab": {
          "base_uri": "https://localhost:8080/"
        },
        "id": "8t_8mGZJXLbw",
        "outputId": "6f3359d3-4d20-468b-8004-c93e5dda3e0c"
      },
      "execution_count": 73,
      "outputs": [
        {
          "output_type": "execute_result",
          "data": {
            "text/plain": [
              "(140479410166272, 140479410166272)"
            ]
          },
          "metadata": {},
          "execution_count": 73
        }
      ]
    },
    {
      "cell_type": "code",
      "source": [
        "c = a.copy()\n",
        "d = list(a)\n",
        "e = a[:]\n",
        "\n",
        "id(a), id(c), id(d), id(e)"
      ],
      "metadata": {
        "colab": {
          "base_uri": "https://localhost:8080/"
        },
        "id": "LBEC4MoiXZmH",
        "outputId": "447dd845-9798-4d9f-9aa4-0b34043d1b8e"
      },
      "execution_count": 74,
      "outputs": [
        {
          "output_type": "execute_result",
          "data": {
            "text/plain": [
              "(140479410166272, 140479410231328, 140479410293968, 140479410462304)"
            ]
          },
          "metadata": {},
          "execution_count": 74
        }
      ]
    },
    {
      "cell_type": "code",
      "source": [
        "a.append([1, 2, 3])\n",
        "a"
      ],
      "metadata": {
        "colab": {
          "base_uri": "https://localhost:8080/"
        },
        "id": "p1qCV20RXeua",
        "outputId": "77087d39-5b7f-40a2-d93c-6a0c529bf36f"
      },
      "execution_count": 75,
      "outputs": [
        {
          "output_type": "execute_result",
          "data": {
            "text/plain": [
              "[6, 2, 3, 4, [1, 2, 3]]"
            ]
          },
          "metadata": {},
          "execution_count": 75
        }
      ]
    },
    {
      "cell_type": "code",
      "source": [
        "f = a.copy()\n",
        "id(a), id(f)"
      ],
      "metadata": {
        "colab": {
          "base_uri": "https://localhost:8080/"
        },
        "id": "SQRw-7PLXfSE",
        "outputId": "96bf676f-951c-44c8-fdcf-ecd80fd1f87d"
      },
      "execution_count": 76,
      "outputs": [
        {
          "output_type": "execute_result",
          "data": {
            "text/plain": [
              "(140479410166272, 140479410291568)"
            ]
          },
          "metadata": {},
          "execution_count": 76
        }
      ]
    },
    {
      "cell_type": "code",
      "source": [
        "f[-1][0] = 9\n",
        "a, f"
      ],
      "metadata": {
        "colab": {
          "base_uri": "https://localhost:8080/"
        },
        "id": "Ya-YkkszXrJ8",
        "outputId": "dd0c7853-1f83-4c0b-813e-7def18d41eb6"
      },
      "execution_count": 77,
      "outputs": [
        {
          "output_type": "execute_result",
          "data": {
            "text/plain": [
              "([6, 2, 3, 4, [9, 2, 3]], [6, 2, 3, 4, [9, 2, 3]])"
            ]
          },
          "metadata": {},
          "execution_count": 77
        }
      ]
    },
    {
      "cell_type": "code",
      "source": [
        "import copy\n",
        "g = copy.deepcopy(a)\n",
        "g"
      ],
      "metadata": {
        "colab": {
          "base_uri": "https://localhost:8080/"
        },
        "id": "LYdPaMVhXs0J",
        "outputId": "80b6cb79-89f7-4ec6-cdeb-5f768f91a03d"
      },
      "execution_count": 78,
      "outputs": [
        {
          "output_type": "execute_result",
          "data": {
            "text/plain": [
              "[6, 2, 3, 4, [9, 2, 3]]"
            ]
          },
          "metadata": {},
          "execution_count": 78
        }
      ]
    },
    {
      "cell_type": "code",
      "source": [
        "g[-1][0] = 10\n",
        "a, g"
      ],
      "metadata": {
        "colab": {
          "base_uri": "https://localhost:8080/"
        },
        "id": "0hmIa13ZXulI",
        "outputId": "04e989ab-d25b-46cf-c7ce-0be6ad5d75c8"
      },
      "execution_count": 79,
      "outputs": [
        {
          "output_type": "execute_result",
          "data": {
            "text/plain": [
              "([6, 2, 3, 4, [9, 2, 3]], [6, 2, 3, 4, [10, 2, 3]])"
            ]
          },
          "metadata": {},
          "execution_count": 79
        }
      ]
    },
    {
      "cell_type": "code",
      "source": [
        "# 순회: zip, enumerate\n",
        "name = ['kate', 'royce', 'phill']\n",
        "age = [77, 44, 54]\n",
        "\n",
        "# (name, age)\n",
        "for item1, item2 in zip(name, age):\n",
        "    print((item1, item2))"
      ],
      "metadata": {
        "colab": {
          "base_uri": "https://localhost:8080/"
        },
        "id": "Y_Xkehp_X3Q-",
        "outputId": "e6ebfded-97b4-43fe-ad68-1e3ca7083570"
      },
      "execution_count": 83,
      "outputs": [
        {
          "output_type": "stream",
          "name": "stdout",
          "text": [
            "('kate', 77)\n",
            "('royce', 44)\n",
            "('phill', 54)\n"
          ]
        }
      ]
    },
    {
      "cell_type": "code",
      "source": [
        "#중첩 for문이랑은 다름\n",
        "for item1 in name:\n",
        "    for item2 in age:\n",
        "        print((item1, item2)) #> 괄호 두번, 안에를 튜플로 바꾼것"
      ],
      "metadata": {
        "colab": {
          "base_uri": "https://localhost:8080/"
        },
        "id": "FO_lpoYsYLbm",
        "outputId": "c453195b-536a-48a2-b1a1-6a118b8db49c"
      },
      "execution_count": 84,
      "outputs": [
        {
          "output_type": "stream",
          "name": "stdout",
          "text": [
            "('kate', 77)\n",
            "('kate', 44)\n",
            "('kate', 54)\n",
            "('royce', 77)\n",
            "('royce', 44)\n",
            "('royce', 54)\n",
            "('phill', 77)\n",
            "('phill', 44)\n",
            "('phill', 54)\n"
          ]
        }
      ]
    },
    {
      "cell_type": "code",
      "source": [
        "for item1 in name:\n",
        "    for item2 in age:\n",
        "        print((item1, item2)) "
      ],
      "metadata": {
        "colab": {
          "base_uri": "https://localhost:8080/"
        },
        "id": "X7MPOdzEYCiT",
        "outputId": "d6e73f1b-e097-409b-ef95-b0b67ab2148f"
      },
      "execution_count": 85,
      "outputs": [
        {
          "output_type": "stream",
          "name": "stdout",
          "text": [
            "('kate', 77)\n",
            "('kate', 44)\n",
            "('kate', 54)\n",
            "('royce', 77)\n",
            "('royce', 44)\n",
            "('royce', 54)\n",
            "('phill', 77)\n",
            "('phill', 44)\n",
            "('phill', 54)\n"
          ]
        }
      ]
    },
    {
      "cell_type": "code",
      "source": [
        "list(zip(name, age))"
      ],
      "metadata": {
        "colab": {
          "base_uri": "https://localhost:8080/"
        },
        "id": "taTgteKOYC5R",
        "outputId": "35de3457-c28d-4f5c-9a08-7dbdad6202f8"
      },
      "execution_count": 87,
      "outputs": [
        {
          "output_type": "execute_result",
          "data": {
            "text/plain": [
              "[('kate', 77), ('royce', 44), ('phill', 54)]"
            ]
          },
          "metadata": {},
          "execution_count": 87
        }
      ]
    },
    {
      "cell_type": "code",
      "source": [
        "for idx, item in enumerate(name):\n",
        "    print(idx, item)"
      ],
      "metadata": {
        "colab": {
          "base_uri": "https://localhost:8080/"
        },
        "id": "yXmu3pI5YE8M",
        "outputId": "db837268-41d5-49a5-cad4-7f572b173d52"
      },
      "execution_count": 88,
      "outputs": [
        {
          "output_type": "stream",
          "name": "stdout",
          "text": [
            "0 kate\n",
            "1 royce\n",
            "2 phill\n"
          ]
        }
      ]
    },
    {
      "cell_type": "code",
      "source": [
        "[word for word in zip(name, age)]"
      ],
      "metadata": {
        "colab": {
          "base_uri": "https://localhost:8080/"
        },
        "id": "uoiQ_1XcYWTQ",
        "outputId": "2bb6202d-059e-47ac-d902-092133463bf7"
      },
      "execution_count": 89,
      "outputs": [
        {
          "output_type": "execute_result",
          "data": {
            "text/plain": [
              "[('kate', 77), ('royce', 44), ('phill', 54)]"
            ]
          },
          "metadata": {},
          "execution_count": 89
        }
      ]
    },
    {
      "cell_type": "code",
      "source": [
        "[(i, j+33) for i, j in zip(name, age)] #변화를 주고 싶을때는 두개로"
      ],
      "metadata": {
        "colab": {
          "base_uri": "https://localhost:8080/"
        },
        "id": "EP2NOPWyYX-Q",
        "outputId": "b6cfccbf-05a8-435f-e1e4-7dd712ed9ee2"
      },
      "execution_count": 90,
      "outputs": [
        {
          "output_type": "execute_result",
          "data": {
            "text/plain": [
              "[('kate', 110), ('royce', 77), ('phill', 87)]"
            ]
          },
          "metadata": {},
          "execution_count": 90
        }
      ]
    },
    {
      "cell_type": "code",
      "source": [
        "n_l = []\n",
        "for i, j in zip(name, age):\n",
        "    n_l.append((i,j)) #append 사용\n",
        "n_l"
      ],
      "metadata": {
        "colab": {
          "base_uri": "https://localhost:8080/"
        },
        "id": "Wy9aq4lyYZ1P",
        "outputId": "68fd0c6a-6076-40bf-9d89-3970ef9bed81"
      },
      "execution_count": 91,
      "outputs": [
        {
          "output_type": "execute_result",
          "data": {
            "text/plain": [
              "[('kate', 77), ('royce', 44), ('phill', 54)]"
            ]
          },
          "metadata": {},
          "execution_count": 91
        }
      ]
    },
    {
      "cell_type": "code",
      "source": [
        "for i in name:\n",
        "    empty = []\n",
        "    for j in age:\n",
        "        print(i, j)\n",
        "        empty.append((i, j))"
      ],
      "metadata": {
        "colab": {
          "base_uri": "https://localhost:8080/"
        },
        "id": "ylsUTu5hYbrJ",
        "outputId": "aee72b30-942c-4e4d-ade0-2c9f1779b2ff"
      },
      "execution_count": 94,
      "outputs": [
        {
          "output_type": "stream",
          "name": "stdout",
          "text": [
            "kate 77\n",
            "kate 44\n",
            "kate 54\n",
            "royce 77\n",
            "royce 44\n",
            "royce 54\n",
            "phill 77\n",
            "phill 44\n",
            "phill 54\n"
          ]
        }
      ]
    },
    {
      "cell_type": "code",
      "source": [
        "[[i, j] for i in name for j in age]\n"
      ],
      "metadata": {
        "colab": {
          "base_uri": "https://localhost:8080/"
        },
        "id": "Wi9mtF_jYeE9",
        "outputId": "a593b155-4934-494d-c784-91d3848ea20d"
      },
      "execution_count": 95,
      "outputs": [
        {
          "output_type": "execute_result",
          "data": {
            "text/plain": [
              "[['kate', 77],\n",
              " ['kate', 44],\n",
              " ['kate', 54],\n",
              " ['royce', 77],\n",
              " ['royce', 44],\n",
              " ['royce', 54],\n",
              " ['phill', 77],\n",
              " ['phill', 44],\n",
              " ['phill', 54]]"
            ]
          },
          "metadata": {},
          "execution_count": 95
        }
      ]
    },
    {
      "cell_type": "code",
      "source": [
        "name = ['kate', 'royce', 'phill']\n",
        "age = [77, 44, 54]\n",
        "\n",
        "empty = []\n",
        "for i in name:\n",
        "    for j in age:\n",
        "        print(i, j)\n",
        "        empty.append((i, j))\n",
        "        \n",
        "empty"
      ],
      "metadata": {
        "colab": {
          "base_uri": "https://localhost:8080/"
        },
        "id": "OJAFvosjYqs0",
        "outputId": "ce0921f5-cff8-422e-ab0e-c711fc042526"
      },
      "execution_count": 96,
      "outputs": [
        {
          "output_type": "stream",
          "name": "stdout",
          "text": [
            "kate 77\n",
            "kate 44\n",
            "kate 54\n",
            "royce 77\n",
            "royce 44\n",
            "royce 54\n",
            "phill 77\n",
            "phill 44\n",
            "phill 54\n"
          ]
        },
        {
          "output_type": "execute_result",
          "data": {
            "text/plain": [
              "[('kate', 77),\n",
              " ('kate', 44),\n",
              " ('kate', 54),\n",
              " ('royce', 77),\n",
              " ('royce', 44),\n",
              " ('royce', 54),\n",
              " ('phill', 77),\n",
              " ('phill', 44),\n",
              " ('phill', 54)]"
            ]
          },
          "metadata": {},
          "execution_count": 96
        }
      ]
    },
    {
      "cell_type": "code",
      "source": [
        "name = ['kate', 'royce', 'phill']\n",
        "age = [77, 44, 54]\n",
        "\n",
        "\n",
        "for i in name:\n",
        "    for j in age:\n",
        "        empty = []\n",
        "        print(i, j)\n",
        "        empty.append((i, j))\n",
        "    #output.append(empty)"
      ],
      "metadata": {
        "colab": {
          "base_uri": "https://localhost:8080/"
        },
        "id": "PgyDYJjIYtjH",
        "outputId": "253ba3b5-f807-4ea6-8599-0b5410420cbd"
      },
      "execution_count": 97,
      "outputs": [
        {
          "output_type": "stream",
          "name": "stdout",
          "text": [
            "kate 77\n",
            "kate 44\n",
            "kate 54\n",
            "royce 77\n",
            "royce 44\n",
            "royce 54\n",
            "phill 77\n",
            "phill 44\n",
            "phill 54\n"
          ]
        }
      ]
    },
    {
      "cell_type": "code",
      "source": [
        "[[(i, j) for i in name] for j in age]"
      ],
      "metadata": {
        "colab": {
          "base_uri": "https://localhost:8080/"
        },
        "id": "K2zqzXYMYvgd",
        "outputId": "c517d7f8-5a9c-4da2-dd07-70763781e799"
      },
      "execution_count": 98,
      "outputs": [
        {
          "output_type": "execute_result",
          "data": {
            "text/plain": [
              "[[('kate', 77), ('royce', 77), ('phill', 77)],\n",
              " [('kate', 44), ('royce', 44), ('phill', 44)],\n",
              " [('kate', 54), ('royce', 54), ('phill', 54)]]"
            ]
          },
          "metadata": {},
          "execution_count": 98
        }
      ]
    },
    {
      "cell_type": "code",
      "source": [
        "sentence = 'do not judge a book by its cover'"
      ],
      "metadata": {
        "id": "E7kKUYH-Yxtw"
      },
      "execution_count": 99,
      "outputs": []
    },
    {
      "cell_type": "code",
      "source": [
        "sentence.split()"
      ],
      "metadata": {
        "colab": {
          "base_uri": "https://localhost:8080/"
        },
        "id": "pyTbBKKggxwF",
        "outputId": "d2b6634e-4353-4c71-e93c-087f7c7d75aa"
      },
      "execution_count": 100,
      "outputs": [
        {
          "output_type": "execute_result",
          "data": {
            "text/plain": [
              "['do', 'not', 'judge', 'a', 'book', 'by', 'its', 'cover']"
            ]
          },
          "metadata": {},
          "execution_count": 100
        }
      ]
    },
    {
      "cell_type": "code",
      "source": [
        "[(word.upper(), word.title(), len(word)) for word in sentence.split()]"
      ],
      "metadata": {
        "colab": {
          "base_uri": "https://localhost:8080/"
        },
        "id": "vx72ccjEg0_B",
        "outputId": "a2fff12f-f816-4e85-e60f-4d278203774a"
      },
      "execution_count": 101,
      "outputs": [
        {
          "output_type": "execute_result",
          "data": {
            "text/plain": [
              "[('DO', 'Do', 2),\n",
              " ('NOT', 'Not', 3),\n",
              " ('JUDGE', 'Judge', 5),\n",
              " ('A', 'A', 1),\n",
              " ('BOOK', 'Book', 4),\n",
              " ('BY', 'By', 2),\n",
              " ('ITS', 'Its', 3),\n",
              " ('COVER', 'Cover', 5)]"
            ]
          },
          "metadata": {},
          "execution_count": 101
        }
      ]
    },
    {
      "cell_type": "code",
      "source": [
        "text = [\n",
        "    ['Sunja', 'said', 'goodnight', 'to', 'her', 'mother'],\n",
        "    ['Hansu', 'was', 'no', 'longer', 'in', 'Busan']\n",
        "]\n",
        "\n",
        "#1. 문장마다 스트링으로 변환해서 리스트로 변환\n",
        "# ['문장1', '문장2']"
      ],
      "metadata": {
        "id": "pyRdFQlvg3Cx"
      },
      "execution_count": 102,
      "outputs": []
    },
    {
      "cell_type": "code",
      "source": [
        "#[[word for word in text.split()]]\n",
        "\n",
        "[\" \".join(word) for word in text]"
      ],
      "metadata": {
        "colab": {
          "base_uri": "https://localhost:8080/"
        },
        "id": "9uU55tzXg9lQ",
        "outputId": "6d41be55-1570-4d40-ea06-fc4abf6acfc0"
      },
      "execution_count": 103,
      "outputs": [
        {
          "output_type": "execute_result",
          "data": {
            "text/plain": [
              "['Sunja said goodnight to her mother', 'Hansu was no longer in Busan']"
            ]
          },
          "metadata": {},
          "execution_count": 103
        }
      ]
    },
    {
      "cell_type": "code",
      "source": [
        "#2. 전체를 스트링으로 변환\n",
        "#'문장1 문장2'\n",
        "' '.join([\" \".join(word) for word in text])"
      ],
      "metadata": {
        "colab": {
          "base_uri": "https://localhost:8080/",
          "height": 36
        },
        "id": "dt9SyIRfg_NH",
        "outputId": "c83898f7-d508-45c3-c781-7be3ea9101de"
      },
      "execution_count": 104,
      "outputs": [
        {
          "output_type": "execute_result",
          "data": {
            "text/plain": [
              "'Sunja said goodnight to her mother Hansu was no longer in Busan'"
            ],
            "application/vnd.google.colaboratory.intrinsic+json": {
              "type": "string"
            }
          },
          "metadata": {},
          "execution_count": 104
        }
      ]
    },
    {
      "cell_type": "code",
      "source": [
        "[word for sent in text for word in sent]"
      ],
      "metadata": {
        "colab": {
          "base_uri": "https://localhost:8080/"
        },
        "id": "YkcE96-chOKt",
        "outputId": "9bf237fb-d7a0-44a7-d34f-8d1e8cd83985"
      },
      "execution_count": 105,
      "outputs": [
        {
          "output_type": "execute_result",
          "data": {
            "text/plain": [
              "['Sunja',\n",
              " 'said',\n",
              " 'goodnight',\n",
              " 'to',\n",
              " 'her',\n",
              " 'mother',\n",
              " 'Hansu',\n",
              " 'was',\n",
              " 'no',\n",
              " 'longer',\n",
              " 'in',\n",
              " 'Busan']"
            ]
          },
          "metadata": {},
          "execution_count": 105
        }
      ]
    },
    {
      "cell_type": "code",
      "source": [
        "for sent in text:\n",
        "    for word in sent:\n",
        "        print(word)"
      ],
      "metadata": {
        "colab": {
          "base_uri": "https://localhost:8080/"
        },
        "id": "J_07VzjKhSWR",
        "outputId": "e358b2b6-a50d-4fc3-ee9a-761547d084ea"
      },
      "execution_count": 106,
      "outputs": [
        {
          "output_type": "stream",
          "name": "stdout",
          "text": [
            "Sunja\n",
            "said\n",
            "goodnight\n",
            "to\n",
            "her\n",
            "mother\n",
            "Hansu\n",
            "was\n",
            "no\n",
            "longer\n",
            "in\n",
            "Busan\n"
          ]
        }
      ]
    },
    {
      "cell_type": "code",
      "source": [
        "#리.컴 if 사용시 else는??\n",
        "[i for i in range(10)]"
      ],
      "metadata": {
        "colab": {
          "base_uri": "https://localhost:8080/"
        },
        "id": "Z2x6EkxJhU7Q",
        "outputId": "583d6e28-6340-40c8-85be-cdd71ef90012"
      },
      "execution_count": 107,
      "outputs": [
        {
          "output_type": "execute_result",
          "data": {
            "text/plain": [
              "[0, 1, 2, 3, 4, 5, 6, 7, 8, 9]"
            ]
          },
          "metadata": {},
          "execution_count": 107
        }
      ]
    },
    {
      "cell_type": "code",
      "source": [
        "#짝수면 가져오고, 홀수면 = '홀수'로\n",
        "[i for i in range(10) if i%2 == 0 else '홀수']"
      ],
      "metadata": {
        "id": "i-7fI0YohWle"
      },
      "execution_count": null,
      "outputs": []
    },
    {
      "cell_type": "code",
      "source": [
        "[i if i%2 == 0 else '홀수' for i in range(10)]"
      ],
      "metadata": {
        "colab": {
          "base_uri": "https://localhost:8080/"
        },
        "id": "AVdtvjdwhZIG",
        "outputId": "a31df60b-fd71-4cd6-d6c8-49a81930a8e1"
      },
      "execution_count": 109,
      "outputs": [
        {
          "output_type": "execute_result",
          "data": {
            "text/plain": [
              "[0, '홀수', 2, '홀수', 4, '홀수', 6, '홀수', 8, '홀수']"
            ]
          },
          "metadata": {},
          "execution_count": 109
        }
      ]
    },
    {
      "cell_type": "markdown",
      "source": [
        "과제 : brown 정제하기"
      ],
      "metadata": {
        "id": "M3WpV66Rh7w4"
      }
    },
    {
      "cell_type": "code",
      "source": [
        "import nltk\n",
        "nltk.download('brown')\n",
        "brown = nltk.corpus.brown"
      ],
      "metadata": {
        "colab": {
          "base_uri": "https://localhost:8080/"
        },
        "id": "B5YiYHW-hanY",
        "outputId": "7241507c-ff41-476f-bace-9099bea7dfeb"
      },
      "execution_count": 112,
      "outputs": [
        {
          "output_type": "stream",
          "name": "stdout",
          "text": [
            "[nltk_data] Downloading package brown to /root/nltk_data...\n",
            "[nltk_data]   Package brown is already up-to-date!\n"
          ]
        }
      ]
    },
    {
      "cell_type": "code",
      "source": [
        "brown.categories()"
      ],
      "metadata": {
        "colab": {
          "base_uri": "https://localhost:8080/"
        },
        "id": "LfJlSDb6h0X1",
        "outputId": "ededd791-cbab-4235-a12a-86586571854a"
      },
      "execution_count": 113,
      "outputs": [
        {
          "output_type": "execute_result",
          "data": {
            "text/plain": [
              "['adventure',\n",
              " 'belles_lettres',\n",
              " 'editorial',\n",
              " 'fiction',\n",
              " 'government',\n",
              " 'hobbies',\n",
              " 'humor',\n",
              " 'learned',\n",
              " 'lore',\n",
              " 'mystery',\n",
              " 'news',\n",
              " 'religion',\n",
              " 'reviews',\n",
              " 'romance',\n",
              " 'science_fiction']"
            ]
          },
          "metadata": {},
          "execution_count": 113
        }
      ]
    },
    {
      "cell_type": "code",
      "source": [
        "brown.raw(categories='romance')[:5000]\n",
        "#[['They', 'neither', 'liked', ...], []] \n",
        "#문장 분절 -> 단어 분절\n",
        "\"\"\"\n",
        "    - 문장부호, POS 제거\n",
        "    - 's, 'nt도 여력이 된다면 건드려보기 (she's -> she, 's) (don't -> do, 'nt)\n",
        "    - 'fly-dotted' -> fly, dotted\n",
        "\n",
        "'품사제거 They/ppss (ppss 삭제)'"
      ],
      "metadata": {
        "id": "8-R-Z5Gdh2Oj"
      },
      "execution_count": null,
      "outputs": []
    }
  ]
}