{
  "nbformat": 4,
  "nbformat_minor": 0,
  "metadata": {
    "colab": {
      "name": "week 9.ipynb",
      "provenance": [],
      "collapsed_sections": []
    },
    "kernelspec": {
      "name": "python3",
      "display_name": "Python 3"
    },
    "language_info": {
      "name": "python"
    }
  },
  "cells": [
    {
      "cell_type": "markdown",
      "source": [
        "남은 자료구조 : set, dictionary"
      ],
      "metadata": {
        "id": "tbkG5Jt-DbvD"
      }
    },
    {
      "cell_type": "markdown",
      "source": [
        "## Dictionary\n",
        "- 영어 사전\n",
        "  - 단어: 뜻 (:콜론으로 a,b가 짝)\n",
        "  - 키 : 값\n",
        "  - **순서가 없다** -> *인덱싱, 오프셋 불가능\n",
        "  - \"키로 값을 찾는다 (단어로 -> 뜻을 찾듯이)\n",
        "    - **`키는 중복되지 않는 고유한 값`**\n",
        "  - 가변 타입: 수정, 삭제, 추가, 가능\n",
        "  - 타입: dict\n",
        "  - 형변환: dict()\n",
        "  - 중괄호 사용 {}, 콤마로 구분함\n",
        "  - 값에 다양한 자료구조가 올 수 있다\n",
        "    - a: 1, a: [1, 2, 3, 4]*"
      ],
      "metadata": {
        "id": "bQcO5PX3CszE"
      }
    },
    {
      "cell_type": "code",
      "source": [
        "# 순서가 있고, 인덱싱이 가능\n",
        "a = [1, 2, 3]\n",
        "a[0]"
      ],
      "metadata": {
        "colab": {
          "base_uri": "https://localhost:8080/"
        },
        "id": "2AmA2n3CEJA5",
        "outputId": "643f39a1-94e2-4bb9-d4ee-117c4ab82da3"
      },
      "execution_count": null,
      "outputs": [
        {
          "output_type": "execute_result",
          "data": {
            "text/plain": [
              "1"
            ]
          },
          "metadata": {},
          "execution_count": 1
        }
      ]
    },
    {
      "cell_type": "markdown",
      "source": [
        "빈 딕셔너리 선언"
      ],
      "metadata": {
        "id": "Ro9IiMiFFqht"
      }
    },
    {
      "cell_type": "code",
      "source": [
        "empty = dict() #1\n",
        "emty = {} #2\n",
        "# set {}\n",
        "empty = {} # set이 아닌 dict type\n",
        "empty = set() # set 선언하려면, 초기화\n",
        "type(empty)"
      ],
      "metadata": {
        "colab": {
          "base_uri": "https://localhost:8080/"
        },
        "id": "hDZlgt2QFAiI",
        "outputId": "3d7f3e6d-92d0-4721-a028-1ce06d380f35"
      },
      "execution_count": null,
      "outputs": [
        {
          "output_type": "execute_result",
          "data": {
            "text/plain": [
              "set"
            ]
          },
          "metadata": {},
          "execution_count": 2
        }
      ]
    },
    {
      "cell_type": "markdown",
      "source": [
        "값이 있는 딕셔너리 선언"
      ],
      "metadata": {
        "id": "6FeM7Se2FtYU"
      }
    },
    {
      "cell_type": "code",
      "source": [
        "a = {1,2,3} #set\n",
        "print(type(a))\n",
        "a = {1:'apple',2:'banana',3:'kiwi'} #dict\n",
        "type(a)"
      ],
      "metadata": {
        "colab": {
          "base_uri": "https://localhost:8080/"
        },
        "id": "jCmc6IhDFdkh",
        "outputId": "ba762eda-7272-4daf-8145-57236e575e0a"
      },
      "execution_count": null,
      "outputs": [
        {
          "output_type": "stream",
          "name": "stdout",
          "text": [
            "<class 'set'>\n"
          ]
        },
        {
          "output_type": "execute_result",
          "data": {
            "text/plain": [
              "dict"
            ]
          },
          "metadata": {},
          "execution_count": 4
        }
      ]
    },
    {
      "cell_type": "code",
      "source": [
        "a"
      ],
      "metadata": {
        "colab": {
          "base_uri": "https://localhost:8080/"
        },
        "id": "fh6bEYOWF8en",
        "outputId": "4819f8e4-c8db-47fc-adac-d86b68a5639a"
      },
      "execution_count": null,
      "outputs": [
        {
          "output_type": "execute_result",
          "data": {
            "text/plain": [
              "{1: 'apple', 2: 'banana', 3: 'kiwi'}"
            ]
          },
          "metadata": {},
          "execution_count": 5
        }
      ]
    },
    {
      "cell_type": "code",
      "source": [
        "#2 다른 선언방법\n",
        "b = {'':'','':'','':''}\n",
        "b = dict(apple='a', banana='b', kiwi='c') # 키 값에 '' 따옴표가 필요없음\n",
        "b"
      ],
      "metadata": {
        "colab": {
          "base_uri": "https://localhost:8080/"
        },
        "id": "Cd7cx3DdGKCv",
        "outputId": "e2b043fd-29b2-4a62-98d2-4066b4ede41c"
      },
      "execution_count": null,
      "outputs": [
        {
          "output_type": "execute_result",
          "data": {
            "text/plain": [
              "{'apple': 'a', 'banana': 'b', 'kiwi': 'c'}"
            ]
          },
          "metadata": {},
          "execution_count": 8
        }
      ]
    },
    {
      "cell_type": "markdown",
      "source": [
        "출석부로 딕셔너리 만들기\n",
        "이름, 학번, 학과\n",
        "** 어떤 것을 키로 만들지 고민**\n",
        "- james 202201 경제학과\n",
        "- laura 202203 스페인어과\n",
        "- louis 202202 컴공과"
      ],
      "metadata": {
        "id": "sIyXn_C9GtaZ"
      }
    },
    {
      "cell_type": "markdown",
      "source": [
        "`키는 중복이 안됨`\n",
        "무엇을 키로 잡을까를 고민"
      ],
      "metadata": {
        "id": "hut90nZaIgbI"
      }
    },
    {
      "cell_type": "code",
      "source": [
        "# attendance_b = {'':[],'':[],'':[]}\n",
        "attendance_b = {202201: ['james', '경제학과'], 202203: ['laura','스페인어과'], 202202: ['louis', '컴공과']}\n",
        "attendance_b"
      ],
      "metadata": {
        "colab": {
          "base_uri": "https://localhost:8080/"
        },
        "id": "ljttQ-oSHP42",
        "outputId": "b8320e1f-00b2-4767-c025-3a458256058c"
      },
      "execution_count": null,
      "outputs": [
        {
          "output_type": "execute_result",
          "data": {
            "text/plain": [
              "{202201: ['james', '경제학과'],\n",
              " 202202: ['louis', '컴공과'],\n",
              " 202203: ['laura', '스페인어과']}"
            ]
          },
          "metadata": {},
          "execution_count": 10
        }
      ]
    },
    {
      "cell_type": "markdown",
      "source": [
        "값에 다양한 자료구조를 받는 이유는 `하나하나 활용하기 위해`\n",
        " - key :list -> [이름정보, 학과정보] -> 0번째, 1번째로 접근"
      ],
      "metadata": {
        "id": "32Qky6w_IUC2"
      }
    },
    {
      "cell_type": "markdown",
      "source": [
        "### 형변환"
      ],
      "metadata": {
        "id": "OSvFPH8GJf-H"
      }
    },
    {
      "cell_type": "code",
      "source": [
        "# 리스트가능\n",
        "#key & value 라는 pair가 있으므로\n",
        "ex1 = [[1,2], [3,4], [5,6]] # 형변환도 pair가 있을때만 가능\n",
        "dict(ex1)"
      ],
      "metadata": {
        "colab": {
          "base_uri": "https://localhost:8080/"
        },
        "id": "I-MPhAxLJ4ff",
        "outputId": "14e666e7-00bf-4868-ff41-f0982f98b4cd"
      },
      "execution_count": null,
      "outputs": [
        {
          "output_type": "execute_result",
          "data": {
            "text/plain": [
              "{1: 2, 3: 4, 5: 6}"
            ]
          },
          "metadata": {},
          "execution_count": 11
        }
      ]
    },
    {
      "cell_type": "code",
      "source": [
        "# 튜플도 가능\n",
        "ex2 = [(1, 2), (2, 3), (1, 3)] # 키가 동일하다면 마지막것만 남고 지원짐\n",
        "#키는 중복이 불가능하기 때문에\n",
        "dict(ex2)"
      ],
      "metadata": {
        "colab": {
          "base_uri": "https://localhost:8080/"
        },
        "id": "V-ejjf5-KUEb",
        "outputId": "b7da6742-206e-41db-ff4f-28a31a6dd1d6"
      },
      "execution_count": null,
      "outputs": [
        {
          "output_type": "execute_result",
          "data": {
            "text/plain": [
              "{1: 3, 2: 3}"
            ]
          },
          "metadata": {},
          "execution_count": 12
        }
      ]
    },
    {
      "cell_type": "code",
      "source": [
        "# 문자가능\n",
        "ex3= ['ab', 'bc','cd'] # but 두자리만 가능 -> pair 존재\n",
        "dict(ex3)"
      ],
      "metadata": {
        "colab": {
          "base_uri": "https://localhost:8080/"
        },
        "id": "IO2o4LnYK1hk",
        "outputId": "5a82d043-b758-45d5-eefa-aee96efbebc9"
      },
      "execution_count": null,
      "outputs": [
        {
          "output_type": "execute_result",
          "data": {
            "text/plain": [
              "{'a': 'b', 'b': 'c', 'c': 'd'}"
            ]
          },
          "metadata": {},
          "execution_count": 15
        }
      ]
    },
    {
      "cell_type": "markdown",
      "source": [
        "### 항목 조회 & 변경"
      ],
      "metadata": {
        "id": "32yHkMBTLJdS"
      }
    },
    {
      "cell_type": "code",
      "source": [
        "python = { #성: 이름\n",
        "    'Champinon':'Graham',\n",
        "    'Cleese': 'John',\n",
        "    'Idle': 'Eric',\n",
        "    'Johnes':'Terry',\n",
        "    'Palin':'Michael'\n",
        "}"
      ],
      "metadata": {
        "id": "GBSZFBeGLzIY"
      },
      "execution_count": null,
      "outputs": []
    },
    {
      "cell_type": "markdown",
      "source": [
        "접근 -> dictionary_name[key]\n",
        "- dict[key] : 할당안하면 값 찾기\n",
        "- dict[key] = values -> 값 추가 & 변경"
      ],
      "metadata": {
        "id": "57w3fyO4NXN_"
      }
    },
    {
      "cell_type": "code",
      "source": [
        "python['Idle'] # []key -> value"
      ],
      "metadata": {
        "colab": {
          "base_uri": "https://localhost:8080/",
          "height": 36
        },
        "id": "4C0XK-G1Md3I",
        "outputId": "b1a14d6f-2626-4bdb-c37d-d520309212f3"
      },
      "execution_count": null,
      "outputs": [
        {
          "output_type": "execute_result",
          "data": {
            "text/plain": [
              "'Eric'"
            ],
            "application/vnd.google.colaboratory.intrinsic+json": {
              "type": "string"
            }
          },
          "metadata": {},
          "execution_count": 17
        }
      ]
    },
    {
      "cell_type": "code",
      "source": [
        "python['Hwa']\n",
        "#없는 값은 오류 발생"
      ],
      "metadata": {
        "id": "83fJlf2VMlyz"
      },
      "execution_count": null,
      "outputs": []
    },
    {
      "cell_type": "code",
      "source": [
        "# key -> 다른 값 넣어주기\n",
        "python['Hwa'] = 'Chole' # 추가 (없는 값)\n",
        "python['Idle'] = \"James\" # 변경 (있는 값)\n",
        "python"
      ],
      "metadata": {
        "colab": {
          "base_uri": "https://localhost:8080/"
        },
        "id": "3t-2U6YLMxDu",
        "outputId": "c41dbdb9-e9d2-4a57-f79c-c0f283048374"
      },
      "execution_count": null,
      "outputs": [
        {
          "output_type": "execute_result",
          "data": {
            "text/plain": [
              "{'Champinon': 'Graham',\n",
              " 'Cleese': 'John',\n",
              " 'Hwa': 'Chole',\n",
              " 'Idle': 'James',\n",
              " 'Johnes': 'Terry',\n",
              " 'Palin': 'Michael'}"
            ]
          },
          "metadata": {},
          "execution_count": 20
        }
      ]
    },
    {
      "cell_type": "code",
      "source": [
        "# in mebership\n",
        "'Hwa' in python"
      ],
      "metadata": {
        "colab": {
          "base_uri": "https://localhost:8080/"
        },
        "id": "snb7pYgwNQvF",
        "outputId": "5c90867b-7dcc-4904-eadf-eda3c12fe953"
      },
      "execution_count": null,
      "outputs": [
        {
          "output_type": "execute_result",
          "data": {
            "text/plain": [
              "True"
            ]
          },
          "metadata": {},
          "execution_count": 21
        }
      ]
    },
    {
      "cell_type": "code",
      "source": [
        "# get()\n",
        "python.get('Hwa', 0) # 없는 키는 None 반환\n",
        "python.get('Lee', 0) # 반환값 설정 가능"
      ],
      "metadata": {
        "colab": {
          "base_uri": "https://localhost:8080/"
        },
        "id": "-WCi5JrROGdY",
        "outputId": "f68d92c9-d791-4f7d-d078-7263b045a71a"
      },
      "execution_count": null,
      "outputs": [
        {
          "output_type": "execute_result",
          "data": {
            "text/plain": [
              "0"
            ]
          },
          "metadata": {},
          "execution_count": 24
        }
      ]
    },
    {
      "cell_type": "markdown",
      "source": [
        "### 전체조회\n",
        "- keys()\n",
        "- values()\n",
        "- items()"
      ],
      "metadata": {
        "id": "nIAe2MwUOQiN"
      }
    },
    {
      "cell_type": "code",
      "source": [
        "list(python.keys())"
      ],
      "metadata": {
        "colab": {
          "base_uri": "https://localhost:8080/"
        },
        "id": "B_eNSHTKOx5j",
        "outputId": "59e1071a-3e96-44ca-f305-fa7f93514c95"
      },
      "execution_count": null,
      "outputs": [
        {
          "output_type": "execute_result",
          "data": {
            "text/plain": [
              "['Champinon', 'Cleese', 'Idle', 'Johnes', 'Palin', 'Hwa']"
            ]
          },
          "metadata": {},
          "execution_count": 29
        }
      ]
    },
    {
      "cell_type": "code",
      "source": [
        "python.values() # 사용하고 싶다면 리스트로 형변환 해줘야 함"
      ],
      "metadata": {
        "colab": {
          "base_uri": "https://localhost:8080/"
        },
        "id": "Z2Wqw_bSO1td",
        "outputId": "0a8dfec6-92d0-4135-8b64-bfb949422fb1"
      },
      "execution_count": null,
      "outputs": [
        {
          "output_type": "execute_result",
          "data": {
            "text/plain": [
              "dict_values(['Graham', 'John', 'James', 'Terry', 'Michael', 'Chole'])"
            ]
          },
          "metadata": {},
          "execution_count": 27
        }
      ]
    },
    {
      "cell_type": "code",
      "source": [
        "python.items() # (키, 값) 튜플형태로 => 순회할때 많이 씀"
      ],
      "metadata": {
        "colab": {
          "base_uri": "https://localhost:8080/"
        },
        "id": "Cnea2Lt1O5fa",
        "outputId": "a3103c33-5dcc-4507-8261-b2a4a18cfd20"
      },
      "execution_count": null,
      "outputs": [
        {
          "output_type": "execute_result",
          "data": {
            "text/plain": [
              "dict_items([('Champinon', 'Graham'), ('Cleese', 'John'), ('Idle', 'James'), ('Johnes', 'Terry'), ('Palin', 'Michael'), ('Hwa', 'Chole')])"
            ]
          },
          "metadata": {},
          "execution_count": 28
        }
      ]
    },
    {
      "cell_type": "code",
      "source": [
        "for k, v in python.items(): # list comprehension\n",
        "  print(f'{k} = {v}')"
      ],
      "metadata": {
        "colab": {
          "base_uri": "https://localhost:8080/"
        },
        "id": "5fqcxo0HO-PS",
        "outputId": "e66a7b62-6cc6-41f2-e749-e1414efdd1a3"
      },
      "execution_count": null,
      "outputs": [
        {
          "output_type": "stream",
          "name": "stdout",
          "text": [
            "Champinon = Graham\n",
            "Cleese = John\n",
            "Idle = James\n",
            "Johnes = Terry\n",
            "Palin = Michael\n",
            "Hwa = Chole\n"
          ]
        }
      ]
    },
    {
      "cell_type": "code",
      "source": [
        "[(k,v) for k, v in python.items()]"
      ],
      "metadata": {
        "colab": {
          "base_uri": "https://localhost:8080/"
        },
        "id": "yg-EY3jQPreE",
        "outputId": "5f1727fa-a8d1-4fb0-d202-005dd093ddd9"
      },
      "execution_count": null,
      "outputs": [
        {
          "output_type": "execute_result",
          "data": {
            "text/plain": [
              "[('Champinon', 'Graham'),\n",
              " ('Cleese', 'John'),\n",
              " ('Idle', 'James'),\n",
              " ('Johnes', 'Terry'),\n",
              " ('Palin', 'Michael'),\n",
              " ('Hwa', 'Chole')]"
            ]
          },
          "metadata": {},
          "execution_count": 33
        }
      ]
    },
    {
      "cell_type": "code",
      "source": [
        "[k[1] for k in python.items()] # 튜플의 형태로 저장되어있으므로 각각의 원소에 인덱스로 접근이 가능함"
      ],
      "metadata": {
        "colab": {
          "base_uri": "https://localhost:8080/"
        },
        "id": "e5ZYs0RDQPR-",
        "outputId": "f68f11ed-7e23-43c9-e133-33ba397a8357"
      },
      "execution_count": null,
      "outputs": [
        {
          "output_type": "execute_result",
          "data": {
            "text/plain": [
              "['Graham', 'John', 'James', 'Terry', 'Michael', 'Chole']"
            ]
          },
          "metadata": {},
          "execution_count": 36
        }
      ]
    },
    {
      "cell_type": "code",
      "source": [
        "[k[0] for k in python.items()] "
      ],
      "metadata": {
        "colab": {
          "base_uri": "https://localhost:8080/"
        },
        "id": "4Zn4WEZ3QYIj",
        "outputId": "3acfa908-dd15-410d-b552-ddec88ab5622"
      },
      "execution_count": null,
      "outputs": [
        {
          "output_type": "execute_result",
          "data": {
            "text/plain": [
              "['Champinon', 'Cleese', 'Idle', 'Johnes', 'Palin', 'Hwa']"
            ]
          },
          "metadata": {},
          "execution_count": 37
        }
      ]
    },
    {
      "cell_type": "code",
      "source": [
        "# dict.items() -> 0=key, 1=value"
      ],
      "metadata": {
        "id": "kn9X4H1cQnos"
      },
      "execution_count": null,
      "outputs": []
    },
    {
      "cell_type": "code",
      "source": [
        "# 아무것도 없이 돌 경우에는 키값만 나옴\n",
        "[k for k in python] #keys"
      ],
      "metadata": {
        "colab": {
          "base_uri": "https://localhost:8080/"
        },
        "id": "vqhhECeYQzNs",
        "outputId": "1d175173-c191-4d71-89fa-0cc890ac2e7e"
      },
      "execution_count": null,
      "outputs": [
        {
          "output_type": "execute_result",
          "data": {
            "text/plain": [
              "['Champinon', 'Cleese', 'Idle', 'Johnes', 'Palin', 'Hwa']"
            ]
          },
          "metadata": {},
          "execution_count": 39
        }
      ]
    },
    {
      "cell_type": "markdown",
      "source": [
        "### ex\n",
        "- animal: num_leg 딕셔너리 만드시오."
      ],
      "metadata": {
        "id": "ZXVSFUYXREpz"
      }
    },
    {
      "cell_type": "code",
      "source": [
        "animals = 'cat snake monkey ant spider'.split() #-> key\n",
        "legs = 4, 0, 2, 4, 8 # arry -> value"
      ],
      "metadata": {
        "id": "qTL2gEgVRaKi"
      },
      "execution_count": null,
      "outputs": []
    },
    {
      "cell_type": "markdown",
      "source": [
        "리스트 두개를 하나의 딕셔너리로 만들기"
      ],
      "metadata": {
        "id": "E8_JWllgRoNj"
      }
    },
    {
      "cell_type": "code",
      "source": [
        "dictionary = dict()\n",
        "for k, v in zip(animals, legs):\n",
        "  dictionary[k] = v"
      ],
      "metadata": {
        "id": "6jJ3A5qxR-ne"
      },
      "execution_count": null,
      "outputs": []
    },
    {
      "cell_type": "code",
      "source": [
        "dictionary"
      ],
      "metadata": {
        "colab": {
          "base_uri": "https://localhost:8080/"
        },
        "id": "VF_45lweSS2w",
        "outputId": "f86414db-98f6-4899-dcf1-ce02e2fc4da0"
      },
      "execution_count": null,
      "outputs": [
        {
          "output_type": "execute_result",
          "data": {
            "text/plain": [
              "{'ant': 4, 'cat': 4, 'monkey': 2, 'snake': 0, 'spider': 8}"
            ]
          },
          "metadata": {},
          "execution_count": 42
        }
      ]
    },
    {
      "cell_type": "code",
      "source": [
        "#2\n",
        "dictionary={}\n",
        "for i in range(len(animals)):\n",
        "  dictionary[animals[i]]= legs[i]"
      ],
      "metadata": {
        "id": "VV-DZsfSSU5W"
      },
      "execution_count": null,
      "outputs": []
    },
    {
      "cell_type": "code",
      "source": [
        "dictionary"
      ],
      "metadata": {
        "colab": {
          "base_uri": "https://localhost:8080/"
        },
        "id": "LN1K8AIxSxAQ",
        "outputId": "7180c4d4-b889-49e9-a5a7-b36cf110ed77"
      },
      "execution_count": null,
      "outputs": [
        {
          "output_type": "execute_result",
          "data": {
            "text/plain": [
              "{'ant': 4, 'cat': 4, 'monkey': 2, 'snake': 0, 'spider': 8}"
            ]
          },
          "metadata": {},
          "execution_count": 44
        }
      ]
    },
    {
      "cell_type": "code",
      "source": [
        "# {animals[i]=legs[i] for i in range(len(animals))}\n",
        "a = {k for k in zip(animals, legs)}\n",
        "dict(a)"
      ],
      "metadata": {
        "colab": {
          "base_uri": "https://localhost:8080/"
        },
        "id": "EZtKvvnwSzHU",
        "outputId": "cdbbbf9e-7133-402e-b794-7a0a1a6b9e84"
      },
      "execution_count": null,
      "outputs": [
        {
          "output_type": "execute_result",
          "data": {
            "text/plain": [
              "{'ant': 4, 'cat': 4, 'monkey': 2, 'snake': 0, 'spider': 8}"
            ]
          },
          "metadata": {},
          "execution_count": 48
        }
      ]
    },
    {
      "cell_type": "markdown",
      "source": [
        "Q. pythons에서 성: 이름, 성첫글자만, 이름은 글자수로 이루어진 튜플 (성, 이름) 리스트로 반환하기\n",
        "- dict comprehension 쓰지 말기"
      ],
      "metadata": {
        "id": "YqNBctmhTI1A"
      }
    },
    {
      "cell_type": "code",
      "source": [
        "{(k[0], len(v)) for k, v in python.items()}"
      ],
      "metadata": {
        "colab": {
          "base_uri": "https://localhost:8080/"
        },
        "id": "8nAdE22aTgS0",
        "outputId": "c819f019-8795-437a-d130-c93031ba9020"
      },
      "execution_count": null,
      "outputs": [
        {
          "output_type": "execute_result",
          "data": {
            "text/plain": [
              "{('C', 4), ('C', 6), ('H', 5), ('I', 5), ('J', 5), ('P', 7)}"
            ]
          },
          "metadata": {},
          "execution_count": 49
        }
      ]
    },
    {
      "cell_type": "code",
      "source": [
        "dictionary = dict()\n",
        "for x, y in python.items():\n",
        "  dictionary[x] = y\n",
        "  tuple(dictionary)"
      ],
      "metadata": {
        "id": "PmS3CXIEUaKF"
      },
      "execution_count": null,
      "outputs": []
    },
    {
      "cell_type": "code",
      "source": [
        "dictionary.items() # how : -> dict로 형변환?"
      ],
      "metadata": {
        "colab": {
          "base_uri": "https://localhost:8080/"
        },
        "id": "bSkWXpLJUuxH",
        "outputId": "731a62fc-3a76-416e-fa6a-a7559fe6d8f3"
      },
      "execution_count": null,
      "outputs": [
        {
          "output_type": "execute_result",
          "data": {
            "text/plain": [
              "dict_items([('Champinon', 'Graham'), ('Cleese', 'John'), ('Idle', 'James'), ('Johnes', 'Terry'), ('Palin', 'Michael'), ('Hwa', 'Chole')])"
            ]
          },
          "metadata": {},
          "execution_count": 59
        }
      ]
    },
    {
      "cell_type": "code",
      "source": [
        "# new_python = dict()\n",
        "# for k in python.keys():\n",
        "#   new_python[k[0]] = len(python[k])"
      ],
      "metadata": {
        "id": "g3ui4tQrUww5"
      },
      "execution_count": null,
      "outputs": []
    },
    {
      "cell_type": "code",
      "source": [
        "# new_python"
      ],
      "metadata": {
        "colab": {
          "base_uri": "https://localhost:8080/"
        },
        "id": "OcLkEPoEWbY9",
        "outputId": "adbc2b19-eb82-490c-aa0f-3c55a3c01feb"
      },
      "execution_count": null,
      "outputs": [
        {
          "output_type": "execute_result",
          "data": {
            "text/plain": [
              "{'C': 4, 'H': 5, 'I': 5, 'J': 5, 'P': 7}"
            ]
          },
          "metadata": {},
          "execution_count": 61
        }
      ]
    },
    {
      "cell_type": "code",
      "source": [
        "# a = {(k[0], len(v)) for k, v in python.items()}\n",
        "# dict(a)"
      ],
      "metadata": {
        "colab": {
          "base_uri": "https://localhost:8080/"
        },
        "id": "hlKLqblpWeum",
        "outputId": "a61b1edb-bffc-43e9-b56c-1f10333ca824"
      },
      "execution_count": null,
      "outputs": [
        {
          "output_type": "execute_result",
          "data": {
            "text/plain": [
              "{'C': 6, 'H': 5, 'I': 5, 'J': 5, 'P': 7}"
            ]
          },
          "metadata": {},
          "execution_count": 62
        }
      ]
    },
    {
      "cell_type": "markdown",
      "source": [
        "튜플을 안은 리스트"
      ],
      "metadata": {
        "id": "j-bEVwt1Wstz"
      }
    },
    {
      "cell_type": "code",
      "source": [
        "new_python =[]\n",
        "for k, v in python.items():\n",
        "  new_python.append((k[0], len(v)))"
      ],
      "metadata": {
        "id": "NPLQnZqzXKGK"
      },
      "execution_count": null,
      "outputs": []
    },
    {
      "cell_type": "code",
      "source": [
        "new_python"
      ],
      "metadata": {
        "colab": {
          "base_uri": "https://localhost:8080/"
        },
        "id": "qCaVylndZtyN",
        "outputId": "6f864c9d-fee6-43d9-b870-72e020deeffe"
      },
      "execution_count": null,
      "outputs": [
        {
          "output_type": "execute_result",
          "data": {
            "text/plain": [
              "[('C', 6), ('C', 4), ('I', 5), ('J', 5), ('P', 7), ('H', 5)]"
            ]
          },
          "metadata": {},
          "execution_count": 69
        }
      ]
    },
    {
      "cell_type": "code",
      "source": [
        "[(k[0], len(v)) for k, v in python.items()]"
      ],
      "metadata": {
        "colab": {
          "base_uri": "https://localhost:8080/"
        },
        "id": "q2ni78Y6ZwIO",
        "outputId": "652d14b2-eef0-4553-d842-3ba823e95b27"
      },
      "execution_count": null,
      "outputs": [
        {
          "output_type": "execute_result",
          "data": {
            "text/plain": [
              "[('C', 6), ('C', 4), ('I', 5), ('J', 5), ('P', 7), ('H', 5)]"
            ]
          },
          "metadata": {},
          "execution_count": 70
        }
      ]
    },
    {
      "cell_type": "markdown",
      "source": [
        "### 값 수정, 삭제, 복제, 비교\n",
        "(딕셔너리 병합)"
      ],
      "metadata": {
        "id": "pNQayU35aLLr"
      }
    },
    {
      "cell_type": "code",
      "source": [
        "python"
      ],
      "metadata": {
        "colab": {
          "base_uri": "https://localhost:8080/"
        },
        "id": "poCcvV6TalSF",
        "outputId": "95a84019-31de-4ec6-8069-1f2251775f84"
      },
      "execution_count": null,
      "outputs": [
        {
          "output_type": "execute_result",
          "data": {
            "text/plain": [
              "{'Champinon': 'Graham',\n",
              " 'Cleese': 'John',\n",
              " 'Hwa': 'Chole',\n",
              " 'Idle': 'James',\n",
              " 'Johnes': 'Terry',\n",
              " 'Palin': 'Michael'}"
            ]
          },
          "metadata": {},
          "execution_count": 71
        }
      ]
    },
    {
      "cell_type": "code",
      "source": [
        "others = {\n",
        "    'Marx':'Groucho',\n",
        "    'Howard':'Moe'\n",
        "}\n",
        "others"
      ],
      "metadata": {
        "colab": {
          "base_uri": "https://localhost:8080/"
        },
        "id": "6mlGx87AanYO",
        "outputId": "4d011223-c051-4eea-b52e-007343e639e9"
      },
      "execution_count": null,
      "outputs": [
        {
          "output_type": "execute_result",
          "data": {
            "text/plain": [
              "{'Howard': 'Moe', 'Marx': 'Groucho'}"
            ]
          },
          "metadata": {},
          "execution_count": 72
        }
      ]
    },
    {
      "cell_type": "markdown",
      "source": [
        "update() -> list:extend()"
      ],
      "metadata": {
        "id": "fzIhcG4CexiA"
      }
    },
    {
      "cell_type": "code",
      "source": [
        "python.update(others)"
      ],
      "metadata": {
        "id": "lgFl3ZHVa3Kh"
      },
      "execution_count": null,
      "outputs": []
    },
    {
      "cell_type": "code",
      "source": [
        "python # 있는 키면 마지막에 있는 키 기준 업데이트"
      ],
      "metadata": {
        "colab": {
          "base_uri": "https://localhost:8080/"
        },
        "id": "C-SjpQ-ja-7h",
        "outputId": "1283f3d8-d7c8-4753-c7f4-1aa4f0a45fde"
      },
      "execution_count": null,
      "outputs": [
        {
          "output_type": "execute_result",
          "data": {
            "text/plain": [
              "{'Champinon': 'Graham',\n",
              " 'Cleese': 'John',\n",
              " 'Howard': 'Moe',\n",
              " 'Hwa': 'Chole',\n",
              " 'Idle': 'James',\n",
              " 'Johnes': 'Terry',\n",
              " 'Marx': 'Groucho',\n",
              " 'Palin': 'Michael'}"
            ]
          },
          "metadata": {},
          "execution_count": 76
        }
      ]
    },
    {
      "cell_type": "code",
      "source": [
        "#py 3\n",
        "{**others, **python}"
      ],
      "metadata": {
        "colab": {
          "base_uri": "https://localhost:8080/"
        },
        "id": "FGCiq5Ofe39X",
        "outputId": "daad71fb-0e7c-4ae9-e46d-174e44a9ff71"
      },
      "execution_count": null,
      "outputs": [
        {
          "output_type": "execute_result",
          "data": {
            "text/plain": [
              "{'Champinon': 'Graham',\n",
              " 'Cleese': 'John',\n",
              " 'Howard': 'Moe',\n",
              " 'Hwa': 'Chole',\n",
              " 'Idle': 'James',\n",
              " 'Johnes': 'Terry',\n",
              " 'Marx': 'Groucho',\n",
              " 'Palin': 'Michael'}"
            ]
          },
          "metadata": {},
          "execution_count": 77
        }
      ]
    },
    {
      "cell_type": "code",
      "source": [
        "# 삭제\n",
        "del python['Hwa']\n",
        "python"
      ],
      "metadata": {
        "colab": {
          "base_uri": "https://localhost:8080/"
        },
        "id": "MJIHNbQAfOJf",
        "outputId": "fd4f6e1e-3916-4103-a032-cbad7fcde420"
      },
      "execution_count": null,
      "outputs": [
        {
          "output_type": "execute_result",
          "data": {
            "text/plain": [
              "{'Champinon': 'Graham',\n",
              " 'Cleese': 'John',\n",
              " 'Howard': 'Moe',\n",
              " 'Idle': 'James',\n",
              " 'Johnes': 'Terry',\n",
              " 'Marx': 'Groucho',\n",
              " 'Palin': 'Michael'}"
            ]
          },
          "metadata": {},
          "execution_count": 78
        }
      ]
    },
    {
      "cell_type": "code",
      "source": [
        "del python{'Lee'}"
      ],
      "metadata": {
        "colab": {
          "base_uri": "https://localhost:8080/",
          "height": 139
        },
        "id": "qwJyQu9bfZd9",
        "outputId": "524f1e95-e9f5-4f7b-dcad-d28ea50a9fc3"
      },
      "execution_count": null,
      "outputs": [
        {
          "output_type": "error",
          "ename": "SyntaxError",
          "evalue": "ignored",
          "traceback": [
            "\u001b[0;36m  File \u001b[0;32m\"<ipython-input-79-b071bd443fba>\"\u001b[0;36m, line \u001b[0;32m1\u001b[0m\n\u001b[0;31m    del python{'Lee'}\u001b[0m\n\u001b[0m              ^\u001b[0m\n\u001b[0;31mSyntaxError\u001b[0m\u001b[0;31m:\u001b[0m invalid syntax\n"
          ]
        }
      ]
    },
    {
      "cell_type": "code",
      "source": [
        "python.pop('Marx')"
      ],
      "metadata": {
        "colab": {
          "base_uri": "https://localhost:8080/",
          "height": 36
        },
        "id": "CBQY5F3tfcIw",
        "outputId": "8002b2ed-e29b-4d3f-a7ac-bbf8c67fe8d6"
      },
      "execution_count": null,
      "outputs": [
        {
          "output_type": "execute_result",
          "data": {
            "text/plain": [
              "'Groucho'"
            ],
            "application/vnd.google.colaboratory.intrinsic+json": {
              "type": "string"
            }
          },
          "metadata": {},
          "execution_count": 80
        }
      ]
    },
    {
      "cell_type": "code",
      "source": [
        "python.pop('Lee', 0) # 없으면 예외는 나지만, 예외시 출력 값을 지정할 수 있음"
      ],
      "metadata": {
        "colab": {
          "base_uri": "https://localhost:8080/"
        },
        "id": "DxaXuIOTfjA1",
        "outputId": "f0e29536-9bf7-4824-9198-73e73952e4d2"
      },
      "execution_count": null,
      "outputs": [
        {
          "output_type": "execute_result",
          "data": {
            "text/plain": [
              "0"
            ]
          },
          "metadata": {},
          "execution_count": 81
        }
      ]
    },
    {
      "cell_type": "code",
      "source": [
        "# 전체 삭제\n",
        "python.clear()\n",
        "python = {}"
      ],
      "metadata": {
        "id": "oxpwDfrFfm3d"
      },
      "execution_count": null,
      "outputs": []
    },
    {
      "cell_type": "code",
      "source": [
        "python"
      ],
      "metadata": {
        "colab": {
          "base_uri": "https://localhost:8080/"
        },
        "id": "aASinTHnf1I6",
        "outputId": "eb7dc737-4050-4aca-f9ae-02471f20fc5c"
      },
      "execution_count": null,
      "outputs": [
        {
          "output_type": "execute_result",
          "data": {
            "text/plain": [
              "{}"
            ]
          },
          "metadata": {},
          "execution_count": 83
        }
      ]
    },
    {
      "cell_type": "markdown",
      "source": [
        "### 복제\n",
        "- 할당: b=a (같은 주소)\n",
        "- 창조, 얕은 복사: c = a.copy()\n",
        "- 깊은 복사\n",
        "(dictionary도 가변객체 literable)"
      ],
      "metadata": {
        "id": "lTcgpbRDf2Hx"
      }
    },
    {
      "cell_type": "code",
      "source": [
        "a = {1:1, 2:2, 3:3}\n",
        "b= a\n",
        "a[1]=35\n",
        "a, b"
      ],
      "metadata": {
        "colab": {
          "base_uri": "https://localhost:8080/"
        },
        "id": "G8V3Tsq_gCWQ",
        "outputId": "a483fbcc-3f6d-4962-a66b-c6b2e4c54696"
      },
      "execution_count": null,
      "outputs": [
        {
          "output_type": "execute_result",
          "data": {
            "text/plain": [
              "({1: 35, 2: 2, 3: 3}, {1: 35, 2: 2, 3: 3})"
            ]
          },
          "metadata": {},
          "execution_count": 84
        }
      ]
    },
    {
      "cell_type": "code",
      "source": [
        "c = a.copy()\n",
        "a[2] = 22\n",
        "a,c"
      ],
      "metadata": {
        "colab": {
          "base_uri": "https://localhost:8080/"
        },
        "id": "K1M_fIkggQLL",
        "outputId": "bf362a6b-d21e-46db-dba9-6d86a43af7cf"
      },
      "execution_count": null,
      "outputs": [
        {
          "output_type": "execute_result",
          "data": {
            "text/plain": [
              "({1: 35, 2: 22, 3: 3}, {1: 35, 2: 2, 3: 3})"
            ]
          },
          "metadata": {},
          "execution_count": 85
        }
      ]
    },
    {
      "cell_type": "code",
      "source": [
        "a = {1: [1,2,3], 2: [2, 3, 4]}\n",
        "d = a.copy()\n",
        "# 이차원 이상으로 갔을 경우에는 또 똑같아지는 문제 -> 얕은 복사의 문제\n",
        "a[1][0] = 100\n",
        "a, d"
      ],
      "metadata": {
        "colab": {
          "base_uri": "https://localhost:8080/"
        },
        "id": "giQLgF3MgXHe",
        "outputId": "6573d304-ac03-41cb-8cc7-ef93d878ec64"
      },
      "execution_count": null,
      "outputs": [
        {
          "output_type": "execute_result",
          "data": {
            "text/plain": [
              "({1: [100, 2, 3], 2: [2, 3, 4]}, {1: [100, 2, 3], 2: [2, 3, 4]})"
            ]
          },
          "metadata": {},
          "execution_count": 86
        }
      ]
    },
    {
      "cell_type": "code",
      "source": [
        "import copy\n",
        "e = copy.deepcopy(a)\n",
        "a[1][1] = 99\n",
        "a, e"
      ],
      "metadata": {
        "colab": {
          "base_uri": "https://localhost:8080/"
        },
        "id": "-R526NKngwwj",
        "outputId": "a5faad2c-a9c3-4703-ee95-c7c4fb12693d"
      },
      "execution_count": null,
      "outputs": [
        {
          "output_type": "execute_result",
          "data": {
            "text/plain": [
              "({1: [100, 99, 3], 2: [2, 3, 4]}, {1: [100, 99, 3], 2: [2, 3, 4]})"
            ]
          },
          "metadata": {},
          "execution_count": 88
        }
      ]
    },
    {
      "cell_type": "markdown",
      "source": [
        "#### 비교\n",
        "- 같다, 다르다만 된다."
      ],
      "metadata": {
        "id": "t5XDWxVdg5xZ"
      }
    },
    {
      "cell_type": "code",
      "source": [
        "a == b"
      ],
      "metadata": {
        "colab": {
          "base_uri": "https://localhost:8080/"
        },
        "id": "w1jginPhhDp0",
        "outputId": "4335e2e8-0e33-48b8-df97-afdd4ca48b1e"
      },
      "execution_count": null,
      "outputs": [
        {
          "output_type": "execute_result",
          "data": {
            "text/plain": [
              "False"
            ]
          },
          "metadata": {},
          "execution_count": 89
        }
      ]
    },
    {
      "cell_type": "code",
      "source": [
        "a != b"
      ],
      "metadata": {
        "colab": {
          "base_uri": "https://localhost:8080/"
        },
        "id": "9Zfr4DEVhFDB",
        "outputId": "42ddb3c6-4a5c-42b6-ec90-7e909aad6c38"
      },
      "execution_count": null,
      "outputs": [
        {
          "output_type": "execute_result",
          "data": {
            "text/plain": [
              "True"
            ]
          },
          "metadata": {},
          "execution_count": 90
        }
      ]
    },
    {
      "cell_type": "markdown",
      "source": [
        "### EX\n",
        "1. 두 리스트로 하나의 딕셔너리 생성\n",
        "2. 명왕성=pluto 추가하기\n",
        "3. '성'으로 끝나지 않는 키 삭제하기\n",
        "  - del dict1['태양'] (x)\n",
        "4. sorted이용해서 값 정렬하기 \n",
        "   - i) key \n",
        "   - ii) value"
      ],
      "metadata": {
        "id": "WvCTqUhGhG4B"
      }
    },
    {
      "cell_type": "markdown",
      "source": [
        "1"
      ],
      "metadata": {
        "id": "P4c-WFRelnoY"
      }
    },
    {
      "cell_type": "code",
      "source": [
        "solar_kor = '태양 수성 금성 지구 화성 목성 토성 천왕성 해왕성'.split()\n",
        "solar_eng = 'sun mercy venus earth mars jupiter saturn uranus neptune'.split()"
      ],
      "metadata": {
        "id": "Z_6vDnqjhfTB"
      },
      "execution_count": null,
      "outputs": []
    },
    {
      "cell_type": "code",
      "source": [
        "dictionary = dict()\n",
        "for k, e in zip(solar_kor, solar_eng):\n",
        "  if k[::-1].startswith('성'):\n",
        "    dictionary[k] = e"
      ],
      "metadata": {
        "id": "zCJvWf3AiFZl"
      },
      "execution_count": null,
      "outputs": []
    },
    {
      "cell_type": "code",
      "source": [
        "dictionary"
      ],
      "metadata": {
        "colab": {
          "base_uri": "https://localhost:8080/"
        },
        "id": "8ZTaMINzjw5C",
        "outputId": "3b8db545-c45d-4be5-8a03-424b65bc45dd"
      },
      "execution_count": null,
      "outputs": [
        {
          "output_type": "execute_result",
          "data": {
            "text/plain": [
              "{'금성': 'venus',\n",
              " '목성': 'jupiter',\n",
              " '수성': 'mercy',\n",
              " '천왕성': 'uranus',\n",
              " '토성': 'saturn',\n",
              " '해왕성': 'neptune',\n",
              " '화성': 'mars'}"
            ]
          },
          "metadata": {},
          "execution_count": 99
        }
      ]
    },
    {
      "cell_type": "code",
      "source": [
        "#1\n",
        "keys = list(dictionary.keys())\n",
        "keys.sort()\n",
        "sorted_dictionary = dict()\n",
        "for k in keys:\n",
        "  sorted_dictionary[k] = dictionary[k]"
      ],
      "metadata": {
        "id": "SaNOB-6nj0PH"
      },
      "execution_count": null,
      "outputs": []
    },
    {
      "cell_type": "code",
      "source": [
        "sorted_dictionary"
      ],
      "metadata": {
        "colab": {
          "base_uri": "https://localhost:8080/"
        },
        "id": "HymGWnZ9k1Ay",
        "outputId": "61181619-80d2-418d-c6fb-d1ade5d4c011"
      },
      "execution_count": null,
      "outputs": [
        {
          "output_type": "execute_result",
          "data": {
            "text/plain": [
              "{'금성': 'venus',\n",
              " '목성': 'jupiter',\n",
              " '수성': 'mercy',\n",
              " '천왕성': 'uranus',\n",
              " '토성': 'saturn',\n",
              " '해왕성': 'neptune',\n",
              " '화성': 'mars'}"
            ]
          },
          "metadata": {},
          "execution_count": 108
        }
      ]
    },
    {
      "cell_type": "code",
      "source": [
        "text = '월화수목금토일'\n",
        "text[:-2:-1]"
      ],
      "metadata": {
        "colab": {
          "base_uri": "https://localhost:8080/",
          "height": 36
        },
        "id": "Y57lgys4k4ko",
        "outputId": "b3cf03d4-4e65-499b-de16-4ae30933398e"
      },
      "execution_count": null,
      "outputs": [
        {
          "output_type": "execute_result",
          "data": {
            "text/plain": [
              "'일'"
            ],
            "application/vnd.google.colaboratory.intrinsic+json": {
              "type": "string"
            }
          },
          "metadata": {},
          "execution_count": 111
        }
      ]
    },
    {
      "cell_type": "markdown",
      "source": [
        "2"
      ],
      "metadata": {
        "id": "EXKjvzLVllfk"
      }
    },
    {
      "cell_type": "code",
      "source": [
        "dictionary = {k:v for k, v in zip(solar_kor, solar_eng) if k[:-2:-1] == '성'}"
      ],
      "metadata": {
        "id": "JRgbwqcilEOG"
      },
      "execution_count": null,
      "outputs": []
    },
    {
      "cell_type": "code",
      "source": [
        "dictionary"
      ],
      "metadata": {
        "colab": {
          "base_uri": "https://localhost:8080/"
        },
        "id": "dr3caWjxlkBU",
        "outputId": "58005d71-8217-40c3-a519-67b726232378"
      },
      "execution_count": null,
      "outputs": [
        {
          "output_type": "execute_result",
          "data": {
            "text/plain": [
              "{'금성': 'venus',\n",
              " '목성': 'jupiter',\n",
              " '수성': 'mercy',\n",
              " '천왕성': 'uranus',\n",
              " '토성': 'saturn',\n",
              " '해왕성': 'neptune',\n",
              " '화성': 'mars'}"
            ]
          },
          "metadata": {},
          "execution_count": 118
        }
      ]
    },
    {
      "cell_type": "code",
      "source": [
        "kor_eng = list(dictionary.items())"
      ],
      "metadata": {
        "id": "tpiZtR1fl4P0"
      },
      "execution_count": null,
      "outputs": []
    },
    {
      "cell_type": "code",
      "source": [
        "# keys = sorted([w for w in kor_eng[0]])\n",
        "[w[0] for w in kor_eng].sort()"
      ],
      "metadata": {
        "id": "fZZo7ypbmIwN"
      },
      "execution_count": null,
      "outputs": []
    },
    {
      "cell_type": "code",
      "source": [
        "kor_eng"
      ],
      "metadata": {
        "colab": {
          "base_uri": "https://localhost:8080/"
        },
        "id": "VwMWD9C_ncrr",
        "outputId": "e59eb81a-1ca7-47a6-bf4e-51df199fd6a6"
      },
      "execution_count": null,
      "outputs": [
        {
          "output_type": "execute_result",
          "data": {
            "text/plain": [
              "[('수성', 'mercy'),\n",
              " ('금성', 'venus'),\n",
              " ('화성', 'mars'),\n",
              " ('목성', 'jupiter'),\n",
              " ('토성', 'saturn'),\n",
              " ('천왕성', 'uranus'),\n",
              " ('해왕성', 'neptune')]"
            ]
          },
          "metadata": {},
          "execution_count": 124
        }
      ]
    },
    {
      "cell_type": "markdown",
      "source": [
        "3"
      ],
      "metadata": {
        "id": "P1Q0JQeIneFE"
      }
    },
    {
      "cell_type": "code",
      "source": [
        "# dict_ex = dict([[x, y] for x, y in zip(solar_kor, solar_eng)])\n",
        "# dict_ex['명왕성'] = 'pluto'\n",
        "# for i in list(dict_ex.keys()):\n",
        "#   if not i.endswith('성'):\n",
        "#     dict_ex.pop(i)\n",
        "# sorted(dict_ex)\n",
        "\n",
        "system = dict()\n",
        "for k, v in zip(solar_kor, solar_eng):\n",
        "  system[k] = v\n",
        "\n",
        "system"
      ],
      "metadata": {
        "colab": {
          "base_uri": "https://localhost:8080/"
        },
        "id": "cIu5IT3Snl4g",
        "outputId": "a31cc915-8bbd-4f3e-edba-9fa177743560"
      },
      "execution_count": null,
      "outputs": [
        {
          "output_type": "execute_result",
          "data": {
            "text/plain": [
              "{'금성': 'venus',\n",
              " '목성': 'jupiter',\n",
              " '수성': 'mercy',\n",
              " '지구': 'earth',\n",
              " '천왕성': 'uranus',\n",
              " '태양': 'sun',\n",
              " '토성': 'saturn',\n",
              " '해왕성': 'neptune',\n",
              " '화성': 'mars'}"
            ]
          },
          "metadata": {},
          "execution_count": 16
        }
      ]
    },
    {
      "cell_type": "code",
      "source": [
        "system['명왕성'] = 'pluto'\n",
        "system"
      ],
      "metadata": {
        "colab": {
          "base_uri": "https://localhost:8080/"
        },
        "id": "7f_OGT1YYizV",
        "outputId": "0647a081-2250-45ca-a71e-9fd1b8c5d6b4"
      },
      "execution_count": null,
      "outputs": [
        {
          "output_type": "execute_result",
          "data": {
            "text/plain": [
              "{'금성': 'venus',\n",
              " '명왕성': 'pluto',\n",
              " '목성': 'jupiter',\n",
              " '수성': 'mercy',\n",
              " '지구': 'earth',\n",
              " '천왕성': 'uranus',\n",
              " '태양': 'sun',\n",
              " '토성': 'saturn',\n",
              " '해왕성': 'neptune',\n",
              " '화성': 'mars'}"
            ]
          },
          "metadata": {},
          "execution_count": 3
        }
      ]
    },
    {
      "cell_type": "code",
      "source": [
        "dict([(k, system[k]) for k in system if k.endswith('성')])"
      ],
      "metadata": {
        "colab": {
          "base_uri": "https://localhost:8080/"
        },
        "id": "OPXRXcWBYuoT",
        "outputId": "49975f08-a7fc-4477-8597-0ec0d529cac5"
      },
      "execution_count": null,
      "outputs": [
        {
          "output_type": "execute_result",
          "data": {
            "text/plain": [
              "{'금성': 'venus',\n",
              " '목성': 'jupiter',\n",
              " '수성': 'mercy',\n",
              " '천왕성': 'uranus',\n",
              " '토성': 'saturn',\n",
              " '해왕성': 'neptune',\n",
              " '화성': 'mars'}"
            ]
          },
          "metadata": {},
          "execution_count": 7
        }
      ]
    },
    {
      "cell_type": "code",
      "source": [
        "dict([(k, v) for k, v in system.items() if k.endswith('성')])"
      ],
      "metadata": {
        "colab": {
          "base_uri": "https://localhost:8080/"
        },
        "id": "6Wr-2P0pZJjs",
        "outputId": "451164e9-f19c-44b6-ed28-77f3d63dba03"
      },
      "execution_count": null,
      "outputs": [
        {
          "output_type": "execute_result",
          "data": {
            "text/plain": [
              "{'금성': 'venus',\n",
              " '목성': 'jupiter',\n",
              " '수성': 'mercy',\n",
              " '천왕성': 'uranus',\n",
              " '토성': 'saturn',\n",
              " '해왕성': 'neptune',\n",
              " '화성': 'mars'}"
            ]
          },
          "metadata": {},
          "execution_count": 8
        }
      ]
    },
    {
      "cell_type": "code",
      "source": [
        "import operator\n",
        "dict_sorted = sorted(system.items(), key=operator.itemgetter(1),reverse=True)"
      ],
      "metadata": {
        "id": "P-FIwBpwd1II"
      },
      "execution_count": null,
      "outputs": []
    },
    {
      "cell_type": "code",
      "source": [
        "dict(dict_sorted)\n",
        "# dictionary = {}\n",
        "# for value, key in dict_sorted:\n",
        "#   dictionary[value] = key"
      ],
      "metadata": {
        "colab": {
          "base_uri": "https://localhost:8080/"
        },
        "id": "C8t4bo4Hd0-a",
        "outputId": "2624b729-c035-49d9-f7cb-fddc71bc172e"
      },
      "execution_count": null,
      "outputs": [
        {
          "output_type": "execute_result",
          "data": {
            "text/plain": [
              "{'금성': 'venus',\n",
              " '목성': 'jupiter',\n",
              " '수성': 'mercy',\n",
              " '지구': 'earth',\n",
              " '천왕성': 'uranus',\n",
              " '태양': 'sun',\n",
              " '토성': 'saturn',\n",
              " '해왕성': 'neptune',\n",
              " '화성': 'mars'}"
            ]
          },
          "metadata": {},
          "execution_count": 12
        }
      ]
    },
    {
      "cell_type": "markdown",
      "source": [
        "### 컴프리헨션"
      ],
      "metadata": {
        "id": "ZAGEwhL-olCZ"
      }
    },
    {
      "cell_type": "code",
      "source": [
        "letter = 'apple'\n",
        "# a: 1, p: 2\n",
        "{ch: letter.count(ch) for ch in letter}"
      ],
      "metadata": {
        "colab": {
          "base_uri": "https://localhost:8080/"
        },
        "id": "h2ykjqiwo25v",
        "outputId": "64890592-27db-449c-f4e6-924943a9472e"
      },
      "execution_count": null,
      "outputs": [
        {
          "output_type": "execute_result",
          "data": {
            "text/plain": [
              "{'a': 1, 'e': 1, 'l': 1, 'p': 2}"
            ]
          },
          "metadata": {},
          "execution_count": 8
        }
      ]
    },
    {
      "cell_type": "code",
      "source": [
        "# 단어의 모음세기\n",
        "vowels = 'aeiou'\n",
        "word = 'onomatopoeia'\n",
        "\n",
        "# word 순회\n",
        "# vowels 순회"
      ],
      "metadata": {
        "id": "gDMhllOSZ-I6"
      },
      "execution_count": null,
      "outputs": []
    },
    {
      "cell_type": "code",
      "source": [
        "{w:word.count(w) for w in word if w in vowels} #1"
      ],
      "metadata": {
        "colab": {
          "base_uri": "https://localhost:8080/"
        },
        "id": "QQr2IUVMacnO",
        "outputId": "874a156e-f13f-4a40-a5d1-c2f6021a8815"
      },
      "execution_count": null,
      "outputs": [
        {
          "output_type": "execute_result",
          "data": {
            "text/plain": [
              "{'a': 2, 'e': 1, 'i': 1, 'o': 4}"
            ]
          },
          "metadata": {},
          "execution_count": 14
        }
      ]
    },
    {
      "cell_type": "code",
      "source": [
        "{ch:word.count(ch) for ch in vowels if ch in word} #2"
      ],
      "metadata": {
        "colab": {
          "base_uri": "https://localhost:8080/"
        },
        "id": "89bPFAGDbHkG",
        "outputId": "4344571d-c1db-4d6a-ce1e-9c6dd3112ada"
      },
      "execution_count": null,
      "outputs": [
        {
          "output_type": "execute_result",
          "data": {
            "text/plain": [
              "{'a': 2, 'e': 1, 'i': 1, 'o': 4}"
            ]
          },
          "metadata": {},
          "execution_count": 15
        }
      ]
    },
    {
      "cell_type": "code",
      "source": [
        "#set\n",
        "{w for w in word}"
      ],
      "metadata": {
        "colab": {
          "base_uri": "https://localhost:8080/"
        },
        "id": "cGYYVoIZbpou",
        "outputId": "4f8e6551-be83-4ccf-ef91-0c0a09208b0a"
      },
      "execution_count": null,
      "outputs": [
        {
          "output_type": "execute_result",
          "data": {
            "text/plain": [
              "{'a', 'e', 'i', 'm', 'n', 'o', 'p', 't'}"
            ]
          },
          "metadata": {},
          "execution_count": 16
        }
      ]
    },
    {
      "cell_type": "code",
      "source": [
        "{w: word.count(w) for w in set(word)} # set(word) **"
      ],
      "metadata": {
        "colab": {
          "base_uri": "https://localhost:8080/"
        },
        "id": "Q_rHU4FSb6tt",
        "outputId": "7eb2a087-6bbc-4cf3-9150-c898ed9cd544"
      },
      "execution_count": null,
      "outputs": [
        {
          "output_type": "execute_result",
          "data": {
            "text/plain": [
              "{'a': 2, 'e': 1, 'i': 1, 'm': 1, 'n': 1, 'o': 4, 'p': 1, 't': 1}"
            ]
          },
          "metadata": {},
          "execution_count": 18
        }
      ]
    },
    {
      "cell_type": "code",
      "source": [
        "{w: word.count(w) for w in set(word) if w in vowels} #2-2"
      ],
      "metadata": {
        "colab": {
          "base_uri": "https://localhost:8080/"
        },
        "id": "hYUFIeV6cToq",
        "outputId": "0f4a283a-de94-484c-d613-d291f09f82cf"
      },
      "execution_count": null,
      "outputs": [
        {
          "output_type": "execute_result",
          "data": {
            "text/plain": [
              "{'a': 2, 'e': 1, 'i': 1, 'o': 4}"
            ]
          },
          "metadata": {},
          "execution_count": 19
        }
      ]
    },
    {
      "cell_type": "code",
      "source": [
        "{k: v for k, v in system.items()}"
      ],
      "metadata": {
        "colab": {
          "base_uri": "https://localhost:8080/"
        },
        "id": "Ps31yBBZcpCH",
        "outputId": "3b6dec30-2573-4f23-9f7e-e4a7d3d2f0b6"
      },
      "execution_count": null,
      "outputs": [
        {
          "output_type": "execute_result",
          "data": {
            "text/plain": [
              "{'금성': 'venus',\n",
              " '목성': 'jupiter',\n",
              " '수성': 'mercy',\n",
              " '지구': 'earth',\n",
              " '천왕성': 'uranus',\n",
              " '태양': 'sun',\n",
              " '토성': 'saturn',\n",
              " '해왕성': 'neptune',\n",
              " '화성': 'mars'}"
            ]
          },
          "metadata": {},
          "execution_count": 18
        }
      ]
    },
    {
      "cell_type": "markdown",
      "source": [
        "sorting"
      ],
      "metadata": {
        "id": "5mDSoxC1dE3N"
      }
    },
    {
      "cell_type": "code",
      "source": [
        "sorted(system.items(), key=fx)"
      ],
      "metadata": {
        "colab": {
          "base_uri": "https://localhost:8080/"
        },
        "id": "Fg2UAiV_dMw3",
        "outputId": "3d3fc02e-19f5-4464-bb81-a2a76633a4b9"
      },
      "execution_count": null,
      "outputs": [
        {
          "output_type": "execute_result",
          "data": {
            "text/plain": [
              "[('지구', 'earth'),\n",
              " ('목성', 'jupiter'),\n",
              " ('화성', 'mars'),\n",
              " ('수성', 'mercy'),\n",
              " ('해왕성', 'neptune'),\n",
              " ('토성', 'saturn'),\n",
              " ('태양', 'sun'),\n",
              " ('천왕성', 'uranus'),\n",
              " ('금성', 'venus')]"
            ]
          },
          "metadata": {},
          "execution_count": 23
        }
      ]
    },
    {
      "cell_type": "code",
      "source": [
        "def fx(x):\n",
        "  return x[1]"
      ],
      "metadata": {
        "id": "imkueqtjdSVu"
      },
      "execution_count": null,
      "outputs": []
    },
    {
      "cell_type": "code",
      "source": [
        "sorted(system.items(), key=lambda x: x[1])"
      ],
      "metadata": {
        "colab": {
          "base_uri": "https://localhost:8080/"
        },
        "id": "Ni0jZVkWexlR",
        "outputId": "fdabedf7-a631-47bf-89c2-776efa30d62e"
      },
      "execution_count": null,
      "outputs": [
        {
          "output_type": "execute_result",
          "data": {
            "text/plain": [
              "[('지구', 'earth'),\n",
              " ('목성', 'jupiter'),\n",
              " ('화성', 'mars'),\n",
              " ('수성', 'mercy'),\n",
              " ('해왕성', 'neptune'),\n",
              " ('토성', 'saturn'),\n",
              " ('태양', 'sun'),\n",
              " ('천왕성', 'uranus'),\n",
              " ('금성', 'venus')]"
            ]
          },
          "metadata": {},
          "execution_count": 25
        }
      ]
    },
    {
      "cell_type": "markdown",
      "source": [
        "## Set\n",
        "- dictionary에서 key만 있는 것 -> \"중복이 없다\"\n",
        "- 집합 -> 교집합, 합집합, 차집합, ..\n",
        "  - 이용해야 할 일이 있을때\n",
        "- bag, 인덱싱도 없다. (순서, 중복 X)"
      ],
      "metadata": {
        "id": "xG-ZjmdGfHxc"
      }
    },
    {
      "cell_type": "code",
      "source": [
        "# 초기화\n",
        "empty = set()\n",
        "empty"
      ],
      "metadata": {
        "colab": {
          "base_uri": "https://localhost:8080/"
        },
        "id": "r94HeO24gBZX",
        "outputId": "b3fa25f5-833a-4896-9d90-e20459a76e75"
      },
      "execution_count": null,
      "outputs": [
        {
          "output_type": "execute_result",
          "data": {
            "text/plain": [
              "set()"
            ]
          },
          "metadata": {},
          "execution_count": 26
        }
      ]
    },
    {
      "cell_type": "code",
      "source": [
        "# 값이 있을때\n",
        "a = {1, 2, 3}\n",
        "a"
      ],
      "metadata": {
        "colab": {
          "base_uri": "https://localhost:8080/"
        },
        "id": "vF0JWZyRgF_8",
        "outputId": "4b21bb29-c778-4185-ff3c-4504efc169d9"
      },
      "execution_count": null,
      "outputs": [
        {
          "output_type": "execute_result",
          "data": {
            "text/plain": [
              "{1, 2, 3}"
            ]
          },
          "metadata": {},
          "execution_count": 27
        }
      ]
    },
    {
      "cell_type": "code",
      "source": [
        "# 선언이자 형변환\n",
        "a = set((1, 2, 3))\n",
        "a"
      ],
      "metadata": {
        "colab": {
          "base_uri": "https://localhost:8080/"
        },
        "id": "lInUBcU1gLXR",
        "outputId": "4f2a4210-d621-4d9b-d796-a74a109f5e8b"
      },
      "execution_count": null,
      "outputs": [
        {
          "output_type": "execute_result",
          "data": {
            "text/plain": [
              "{1, 2, 3}"
            ]
          },
          "metadata": {},
          "execution_count": 29
        }
      ]
    },
    {
      "cell_type": "code",
      "source": [
        "#오류 a = set(1,2,3) -> 안이 시퀀스이기 때문에 리스트나, 튜플로 묶어줘야 함"
      ],
      "metadata": {
        "id": "5BnX7593gWPf"
      },
      "execution_count": null,
      "outputs": []
    },
    {
      "cell_type": "code",
      "source": [
        "#추가\n",
        "a.add(4)\n",
        "a"
      ],
      "metadata": {
        "colab": {
          "base_uri": "https://localhost:8080/"
        },
        "id": "u_PtOjvDgZmM",
        "outputId": "dda658b3-b63b-4d1f-aaeb-2c40967be184"
      },
      "execution_count": null,
      "outputs": [
        {
          "output_type": "execute_result",
          "data": {
            "text/plain": [
              "{1, 2, 3, 4}"
            ]
          },
          "metadata": {},
          "execution_count": 35
        }
      ]
    },
    {
      "cell_type": "code",
      "source": [
        "#삭제\n",
        "a.remove(4)\n",
        "a"
      ],
      "metadata": {
        "colab": {
          "base_uri": "https://localhost:8080/"
        },
        "id": "vgbC90vKg2rE",
        "outputId": "4d4a4ee2-d97f-4f83-b39b-cf81e857ebe5"
      },
      "execution_count": null,
      "outputs": [
        {
          "output_type": "execute_result",
          "data": {
            "text/plain": [
              "{1, 2, 3}"
            ]
          },
          "metadata": {},
          "execution_count": 36
        }
      ]
    },
    {
      "cell_type": "code",
      "source": [
        "drinks = {\n",
        "    'martini': {'vodka', 'vermouth'},\n",
        "    'black russian': {'vodka', 'kahlua'},\n",
        "    'white russian': {'cream', 'kahlua', 'vodka'},\n",
        "    'manhatten': {'rye', 'vermouth', 'bitters'},\n",
        "    'screwdriver': {'orange juice', 'vodka'}\n",
        "}\n",
        "type(drinks)"
      ],
      "metadata": {
        "colab": {
          "base_uri": "https://localhost:8080/"
        },
        "id": "r_BHRtLYg6vf",
        "outputId": "d8ea60dc-ece3-40f3-a01f-2858c9085c68"
      },
      "execution_count": null,
      "outputs": [
        {
          "output_type": "execute_result",
          "data": {
            "text/plain": [
              "dict"
            ]
          },
          "metadata": {},
          "execution_count": 130
        }
      ]
    },
    {
      "cell_type": "markdown",
      "source": [
        "- in membership\n",
        "  - vodka가 포함된 술 출력하기\n",
        "  - vodka는 있지만 cream, vermouth 없는 술 출력하기"
      ],
      "metadata": {
        "id": "wGSjTXV7iMW8"
      }
    },
    {
      "cell_type": "code",
      "source": [
        "def func(x):\n",
        "  return list(x[1])"
      ],
      "metadata": {
        "id": "eqGO7DookLsG"
      },
      "execution_count": null,
      "outputs": []
    },
    {
      "cell_type": "code",
      "source": [
        "drinks = {w[0]:func(w) for w in drinks.items()}\n",
        "drinks"
      ],
      "metadata": {
        "colab": {
          "base_uri": "https://localhost:8080/"
        },
        "id": "rjkZC2wrkwRm",
        "outputId": "d3b01a96-8f4f-4f12-d37d-3ade2d977ee6"
      },
      "execution_count": null,
      "outputs": [
        {
          "output_type": "execute_result",
          "data": {
            "text/plain": [
              "{'black russian': ['kahlua', 'vodka'],\n",
              " 'manhatten': ['rye', 'bitters', 'vermouth'],\n",
              " 'martini': ['vodka', 'vermouth'],\n",
              " 'screwdriver': ['vodka', 'orange juice'],\n",
              " 'white russian': ['kahlua', 'cream', 'vodka']}"
            ]
          },
          "metadata": {},
          "execution_count": 119
        }
      ]
    },
    {
      "cell_type": "markdown",
      "source": [
        "1"
      ],
      "metadata": {
        "id": "5KnzVGt7nM63"
      }
    },
    {
      "cell_type": "code",
      "source": [
        "# {k for k in drinks.items()} 오류 []랑 달리\n",
        "# {k:v for k, v in drinks.items()}\n",
        "[k[0] for k in drinks.items() if 'vodka' in k[1]]"
      ],
      "metadata": {
        "colab": {
          "base_uri": "https://localhost:8080/"
        },
        "id": "95VjsUY7lPQ6",
        "outputId": "4faf0b3c-11a0-4142-fde8-c7406b501cad"
      },
      "execution_count": null,
      "outputs": [
        {
          "output_type": "execute_result",
          "data": {
            "text/plain": [
              "['martini', 'black russian', 'white russian', 'screwdriver']"
            ]
          },
          "metadata": {},
          "execution_count": 120
        }
      ]
    },
    {
      "cell_type": "markdown",
      "source": [
        "2"
      ],
      "metadata": {
        "id": "oS6ChoNWnO_G"
      }
    },
    {
      "cell_type": "code",
      "source": [
        "def f(e):\n",
        "  return e[0]"
      ],
      "metadata": {
        "id": "xuL54wkq6KS2"
      },
      "execution_count": null,
      "outputs": []
    },
    {
      "cell_type": "code",
      "source": [
        "element = {'cream', 'vermouth'}"
      ],
      "metadata": {
        "id": "MIF--VxOmADV"
      },
      "execution_count": null,
      "outputs": []
    },
    {
      "cell_type": "code",
      "source": [
        "[k[0] for k in drinks.items() if not k[1] & element and 'vodka' in k[1]]"
      ],
      "metadata": {
        "colab": {
          "base_uri": "https://localhost:8080/"
        },
        "id": "JYFAp2B6ZFLE",
        "outputId": "af639c84-001d-43d4-b34d-0ab61815aa89"
      },
      "execution_count": null,
      "outputs": [
        {
          "output_type": "execute_result",
          "data": {
            "text/plain": [
              "['black russian', 'screwdriver']"
            ]
          },
          "metadata": {},
          "execution_count": 134
        }
      ]
    },
    {
      "cell_type": "code",
      "source": [
        "# [k[0] for k in drinks.items() if 'vodka' in k[1] and not ('cream').union('vermouth') in v]"
      ],
      "metadata": {
        "id": "iOIEC3lUl5cO"
      },
      "execution_count": null,
      "outputs": []
    },
    {
      "cell_type": "code",
      "source": [
        "# set을 활용해서 바꾸기 (set의 특성)\n",
        "for k, v in drinks.items():\n",
        "  if 'vodka' in v and not ('cream' in v) | ('vermouth' in v):\n",
        "    print(k)"
      ],
      "metadata": {
        "colab": {
          "base_uri": "https://localhost:8080/"
        },
        "id": "Kpn6Tqrl6M3I",
        "outputId": "fcef8e70-ae7c-4a4c-ece1-2dc7736c676d"
      },
      "execution_count": null,
      "outputs": [
        {
          "output_type": "stream",
          "name": "stdout",
          "text": [
            "black russian\n",
            "screwdriver\n"
          ]
        }
      ]
    },
    {
      "cell_type": "code",
      "source": [
        "[k[0] for k in drinks.items() if 'vodka' in k[1] and not ('cream' in k[1]) | ('vermouth' in k[1])]"
      ],
      "metadata": {
        "colab": {
          "base_uri": "https://localhost:8080/"
        },
        "id": "t5qwSj9m_Lhb",
        "outputId": "bd6a71ae-ef7b-458e-d4b8-a17719dc01cb"
      },
      "execution_count": null,
      "outputs": [
        {
          "output_type": "execute_result",
          "data": {
            "text/plain": [
              "['black russian', 'screwdriver']"
            ]
          },
          "metadata": {},
          "execution_count": 124
        }
      ]
    },
    {
      "cell_type": "markdown",
      "source": [
        "set의 특성\n",
        "- 기호로, 문자로\n",
        "  - difference\n",
        "  - union\n",
        "  - intersection"
      ],
      "metadata": {
        "id": "U4Wxeq4j9vm0"
      }
    },
    {
      "cell_type": "code",
      "source": [
        "a = {1, 2, 3}\n",
        "b = {2, 3, 4}\n",
        "\n",
        "# 교집합 | intersection\n",
        "a.intersection(b)\n",
        "a & b\n",
        "# 합집합 | union\n",
        "a.union(b)\n",
        "a | b\n",
        "# 차집합 | difference\n",
        "a.difference(b)\n",
        "a - b, b - a #방향존재, 결과값다름"
      ],
      "metadata": {
        "colab": {
          "base_uri": "https://localhost:8080/"
        },
        "id": "5CjnlfjN8Uxz",
        "outputId": "6cb99312-8a51-4a4f-ac8a-098185cf17ee"
      },
      "execution_count": null,
      "outputs": [
        {
          "output_type": "execute_result",
          "data": {
            "text/plain": [
              "({1}, {4})"
            ]
          },
          "metadata": {},
          "execution_count": 108
        }
      ]
    },
    {
      "cell_type": "code",
      "source": [
        "for k, v in drinks.items():\n",
        "  if v & {'vodka'} and not v & {'cream', 'vermouth'}:\n",
        "    print(k)"
      ],
      "metadata": {
        "colab": {
          "base_uri": "https://localhost:8080/"
        },
        "id": "DHLU_v4QYity",
        "outputId": "ff8919c9-0421-4f9d-8884-15848617ff6b"
      },
      "execution_count": null,
      "outputs": [
        {
          "output_type": "stream",
          "name": "stdout",
          "text": [
            "black russian\n",
            "screwdriver\n"
          ]
        }
      ]
    },
    {
      "cell_type": "code",
      "source": [
        "for k, v in drinks.items():\n",
        "  if 'vodka' in v and not v & {'cream', 'vermouth'}:\n",
        "    print(k)"
      ],
      "metadata": {
        "colab": {
          "base_uri": "https://localhost:8080/"
        },
        "id": "IAJBJlAHY8yn",
        "outputId": "49c556eb-acdb-4944-8363-6e671a228ddb"
      },
      "execution_count": null,
      "outputs": [
        {
          "output_type": "stream",
          "name": "stdout",
          "text": [
            "black russian\n",
            "screwdriver\n"
          ]
        }
      ]
    },
    {
      "cell_type": "code",
      "source": [
        "for k, v in drinks.items():\n",
        "  if 'vodka' in v and not v.intersection(element):\n",
        "    print(k)"
      ],
      "metadata": {
        "colab": {
          "base_uri": "https://localhost:8080/"
        },
        "id": "f9vgTaCtacEe",
        "outputId": "9298fa4e-7cc1-4d75-ef4e-8afb66094424"
      },
      "execution_count": null,
      "outputs": [
        {
          "output_type": "stream",
          "name": "stdout",
          "text": [
            "black russian\n",
            "screwdriver\n"
          ]
        }
      ]
    },
    {
      "cell_type": "code",
      "source": [
        "#issubset"
      ],
      "metadata": {
        "id": "_Syqd4IDa3am"
      },
      "execution_count": null,
      "outputs": []
    },
    {
      "cell_type": "markdown",
      "source": [
        "set comprehension"
      ],
      "metadata": {
        "id": "gfMLKU3JbIQ6"
      }
    },
    {
      "cell_type": "code",
      "source": [
        "{s for s in range(5)} # -> 여기에 value를 넣으면 딕셔너리 컴프리헨션 !!"
      ],
      "metadata": {
        "colab": {
          "base_uri": "https://localhost:8080/"
        },
        "id": "pSpMrGYSbPtt",
        "outputId": "874dfeaf-1d35-46cb-d245-f5a819c43914"
      },
      "execution_count": null,
      "outputs": [
        {
          "output_type": "execute_result",
          "data": {
            "text/plain": [
              "{0, 1, 2, 3, 4}"
            ]
          },
          "metadata": {},
          "execution_count": 2
        }
      ]
    },
    {
      "cell_type": "code",
      "source": [
        "# frozenset: 가변객체 -> 불변\n",
        "set([1, 2])\n",
        "frozenset([1,2])"
      ],
      "metadata": {
        "colab": {
          "base_uri": "https://localhost:8080/"
        },
        "id": "KJutaKUQbUDh",
        "outputId": "c1bad2ae-2351-47df-a200-554b8efa7a74"
      },
      "execution_count": null,
      "outputs": [
        {
          "output_type": "execute_result",
          "data": {
            "text/plain": [
              "frozenset({1, 2})"
            ]
          },
          "metadata": {},
          "execution_count": 4
        }
      ]
    }
  ]
}