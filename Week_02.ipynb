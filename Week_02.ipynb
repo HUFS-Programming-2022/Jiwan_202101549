{
  "nbformat": 4,
  "nbformat_minor": 0,
  "metadata": {
    "colab": {
      "name": "Week 02.ipynb",
      "provenance": [],
      "collapsed_sections": []
    },
    "kernelspec": {
      "name": "python3",
      "display_name": "Python 3"
    },
    "language_info": {
      "name": "python"
    }
  },
  "cells": [
    {
      "cell_type": "code",
      "execution_count": null,
      "metadata": {
        "colab": {
          "base_uri": "https://localhost:8080/"
        },
        "id": "Dkho-WuiWAYy",
        "outputId": "6652cb2e-1572-4b1d-dd59-47c99f705b4a"
      },
      "outputs": [
        {
          "output_type": "execute_result",
          "data": {
            "text/plain": [
              "2"
            ]
          },
          "metadata": {},
          "execution_count": 1
        }
      ],
      "source": [
        "# 여러이름 동시에 할당\n",
        "two = deux = dos = 2 # dos -> deux ->two (순서)\n",
        "two"
      ]
    },
    {
      "cell_type": "code",
      "source": [
        "# integer은 불변객체이므로\n",
        "two = 4\n",
        "print(two, deux)"
      ],
      "metadata": {
        "colab": {
          "base_uri": "https://localhost:8080/"
        },
        "id": "nkqDZyhdWStM",
        "outputId": "8ee6f416-b088-4195-eee3-e554f1575397"
      },
      "execution_count": null,
      "outputs": [
        {
          "output_type": "stream",
          "name": "stdout",
          "text": [
            "4 2\n"
          ]
        }
      ]
    },
    {
      "cell_type": "code",
      "source": [
        "# 저장하는 공간 (주소)\n",
        "id(two), id(deux)"
      ],
      "metadata": {
        "colab": {
          "base_uri": "https://localhost:8080/"
        },
        "id": "8U8jonfyWzvM",
        "outputId": "902e67ed-7272-4a16-eb30-2be137d7e8ca"
      },
      "execution_count": null,
      "outputs": [
        {
          "output_type": "execute_result",
          "data": {
            "text/plain": [
              "(94856980736608, 94856980736544)"
            ]
          },
          "metadata": {},
          "execution_count": 3
        }
      ]
    },
    {
      "cell_type": "code",
      "source": [
        "# 리스트는 가변객체이므로\n",
        "p = [1,2,3]\n",
        "q = p\n",
        "p,q"
      ],
      "metadata": {
        "colab": {
          "base_uri": "https://localhost:8080/"
        },
        "id": "ViVYEcn1W7Eg",
        "outputId": "aa62433d-e56f-4dc6-806f-99abbfa77d1f"
      },
      "execution_count": null,
      "outputs": [
        {
          "output_type": "execute_result",
          "data": {
            "text/plain": [
              "([1, 2, 3], [1, 2, 3])"
            ]
          },
          "metadata": {},
          "execution_count": 4
        }
      ]
    },
    {
      "cell_type": "code",
      "source": [
        "id(p), id(q)"
      ],
      "metadata": {
        "colab": {
          "base_uri": "https://localhost:8080/"
        },
        "id": "s9HhhoXOXNEO",
        "outputId": "df889df1-ec86-4d2d-a19c-5760874dbbf8"
      },
      "execution_count": null,
      "outputs": [
        {
          "output_type": "execute_result",
          "data": {
            "text/plain": [
              "(140346545704864, 140346545704864)"
            ]
          },
          "metadata": {},
          "execution_count": 5
        }
      ]
    },
    {
      "cell_type": "code",
      "source": [
        "p[0]=9\n",
        "p, q"
      ],
      "metadata": {
        "colab": {
          "base_uri": "https://localhost:8080/"
        },
        "id": "G4YcT9S-XaKG",
        "outputId": "9452e363-7ca1-46b5-a25d-67db156b77cb"
      },
      "execution_count": null,
      "outputs": [
        {
          "output_type": "execute_result",
          "data": {
            "text/plain": [
              "([9, 2, 3], [9, 2, 3])"
            ]
          },
          "metadata": {},
          "execution_count": 6
        }
      ]
    },
    {
      "cell_type": "code",
      "source": [
        "id(p), id(q) # id는 그대로"
      ],
      "metadata": {
        "colab": {
          "base_uri": "https://localhost:8080/"
        },
        "id": "eAwoej43XzoV",
        "outputId": "7f56dec5-1800-4554-87b4-17a179d2f029"
      },
      "execution_count": null,
      "outputs": [
        {
          "output_type": "execute_result",
          "data": {
            "text/plain": [
              "(140346545704864, 140346545704864)"
            ]
          },
          "metadata": {},
          "execution_count": 7
        }
      ]
    },
    {
      "cell_type": "markdown",
      "source": [
        "###좋은 변수명\n",
        "- 간결하고 명확한 이름\n",
        "- 의미가 담겨야 함. \n",
        "a, b, c, ..\n",
        "- 코드에는 의미가 담기고 주석에는 의도가 담긴다.\n",
        "  - 예: the number of students\n",
        "    n< the_number_of_students < num_students\n",
        "    - 카멜 표기법: numStudents"
      ],
      "metadata": {
        "id": "NStqJAmiZ3RM"
      }
    },
    {
      "cell_type": "markdown",
      "source": [
        "###자료형 변환, 형 변환\n",
        "- str(<변환할 값>), int(), float(), bool()"
      ],
      "metadata": {
        "id": "AYdozCgealQp"
      }
    },
    {
      "cell_type": "code",
      "source": [
        "a = 10\n",
        "# str()\n",
        "str(a)\n",
        "\n",
        "# float\n",
        "float(a)\n",
        "\n",
        "# bool\n",
        "bool(a) # 어떤 값이 False로 변환이 되는지만 주의"
      ],
      "metadata": {
        "colab": {
          "base_uri": "https://localhost:8080/"
        },
        "id": "fMWL4tExa14-",
        "outputId": "2b4c8d01-5be7-4dd7-effa-9f2f6da45a1b"
      },
      "execution_count": null,
      "outputs": [
        {
          "output_type": "execute_result",
          "data": {
            "text/plain": [
              "True"
            ]
          },
          "metadata": {},
          "execution_count": 13
        }
      ]
    },
    {
      "cell_type": "markdown",
      "source": [
        "주의할 점1: float -> int"
      ],
      "metadata": {
        "id": "7yyCHCqlbEpF"
      }
    },
    {
      "cell_type": "code",
      "source": [
        "x = 10.7 # 소수점 버림\n",
        "int(x)"
      ],
      "metadata": {
        "colab": {
          "base_uri": "https://localhost:8080/"
        },
        "id": "tDwsxfC-jQbd",
        "outputId": "e836e17b-41ec-4219-bac2-4c25ade35060"
      },
      "execution_count": null,
      "outputs": [
        {
          "output_type": "execute_result",
          "data": {
            "text/plain": [
              "10"
            ]
          },
          "metadata": {},
          "execution_count": 9
        }
      ]
    },
    {
      "cell_type": "code",
      "source": [
        "y = 19.8\n",
        "# 결과가 다를 수 있다는 점 주의\n",
        "print(int(x + y))\n",
        "print(int(x) + int(y))"
      ],
      "metadata": {
        "colab": {
          "base_uri": "https://localhost:8080/"
        },
        "id": "2DEtHhEcjUZV",
        "outputId": "6f6aaa23-02d8-4691-d8c7-13ec8975fd19"
      },
      "execution_count": null,
      "outputs": [
        {
          "output_type": "stream",
          "name": "stdout",
          "text": [
            "30\n",
            "29\n"
          ]
        }
      ]
    },
    {
      "cell_type": "markdown",
      "source": [
        "주의할 점2: str -> int/float"
      ],
      "metadata": {
        "id": "i9s8Wp04jhb3"
      }
    },
    {
      "cell_type": "code",
      "source": [
        "i = '10'\n",
        "int(i), float(i)"
      ],
      "metadata": {
        "colab": {
          "base_uri": "https://localhost:8080/"
        },
        "id": "5pa6haAqj1tH",
        "outputId": "b01dccdb-fb90-44c7-e2f6-264ac7a54d59"
      },
      "execution_count": null,
      "outputs": [
        {
          "output_type": "execute_result",
          "data": {
            "text/plain": [
              "(10, 10.0)"
            ]
          },
          "metadata": {},
          "execution_count": 11
        }
      ]
    },
    {
      "cell_type": "code",
      "source": [
        "j= '10,7' # float로 바뀔 것이라고 예상되는 변수를 바꾸면 에러\n",
        "int(j)"
      ],
      "metadata": {
        "id": "nPg7sYSHj7AC"
      },
      "execution_count": null,
      "outputs": []
    },
    {
      "cell_type": "markdown",
      "source": [
        "### 꿀팁 print()\n"
      ],
      "metadata": {
        "id": "eqEWtV8Ij9dt"
      }
    },
    {
      "cell_type": "code",
      "source": [
        "dog = 'dog'\n",
        "cat = 'cat'\n",
        "lion = 'lion'\n",
        "\n",
        "print(dog + cat + lion) # space X, |n\n",
        "print(dog, cat, lion) # space 0,|n"
      ],
      "metadata": {
        "colab": {
          "base_uri": "https://localhost:8080/"
        },
        "id": "_ZI8PCPMpMdj",
        "outputId": "5f32e5a7-6481-4cf2-ef75-50c779866a7c"
      },
      "execution_count": null,
      "outputs": [
        {
          "output_type": "stream",
          "name": "stdout",
          "text": [
            "dogcatlion\n",
            "dog cat lion\n"
          ]
        }
      ]
    },
    {
      "cell_type": "code",
      "source": [
        "print(dog, cat, lion, sep=' ', end='\\n') # default\n",
        "print(dog, cat, lion, sep = '/', end='\\n\\n')\n",
        "print('EOL')"
      ],
      "metadata": {
        "id": "otu0BCdpp33X",
        "colab": {
          "base_uri": "https://localhost:8080/"
        },
        "outputId": "e9d25266-c92a-414c-a99b-111ceb6fab2d"
      },
      "execution_count": null,
      "outputs": [
        {
          "output_type": "stream",
          "name": "stdout",
          "text": [
            "dog cat lion\n",
            "dog/cat/lion\n",
            "\n",
            "EOL\n"
          ]
        }
      ]
    },
    {
      "cell_type": "code",
      "source": [
        "#1\n",
        "print(\"My favorite animal is\", dog)\n",
        "\n",
        "#2\n",
        "print(f\"My favorite animal is {dog}.\")"
      ],
      "metadata": {
        "colab": {
          "base_uri": "https://localhost:8080/"
        },
        "id": "QXlySASlqpkV",
        "outputId": "a58dacae-7593-492d-a470-f082bbe91994"
      },
      "execution_count": null,
      "outputs": [
        {
          "output_type": "stream",
          "name": "stdout",
          "text": [
            "My favorite animal is dog\n",
            "My favorite animal is dog.\n"
          ]
        }
      ]
    },
    {
      "cell_type": "markdown",
      "source": [
        "코드 줄이 짧을 때 ;(semicolon)을 이용해 한 줄로 쓸 수 있다. "
      ],
      "metadata": {
        "id": "NKLXIzEGrc31"
      }
    },
    {
      "cell_type": "code",
      "source": [
        "dog = 'dog' ; cat = 'cat'; lion = 'lion'\n",
        "print(dog)"
      ],
      "metadata": {
        "colab": {
          "base_uri": "https://localhost:8080/"
        },
        "id": "dfpvEx4Rr4yB",
        "outputId": "ab238f6e-ed4a-461d-ec3d-0dd47f15c5d8"
      },
      "execution_count": null,
      "outputs": [
        {
          "output_type": "stream",
          "name": "stdout",
          "text": [
            "dog\n"
          ]
        }
      ]
    },
    {
      "cell_type": "markdown",
      "source": [
        "## Ch02. Variable\n",
        "- string\n",
        "- float\n",
        "- integer\n",
        "- boolean"
      ],
      "metadata": {
        "id": "MrgLU6SaVhlA"
      }
    },
    {
      "cell_type": "code",
      "execution_count": null,
      "metadata": {
        "colab": {
          "base_uri": "https://localhost:8080/"
        },
        "id": "yUmMLpFgDWHa",
        "outputId": "b58092f4-2f81-48b2-b432-6a31a27f7d9d"
      },
      "outputs": [
        {
          "output_type": "stream",
          "name": "stdout",
          "text": [
            "섭씨를 입력해주세요: 23\n",
            "화씨는 73.4입니다.\n"
          ]
        }
      ],
      "source": [
        "celsius = float(input(\"섭씨를 입력해주세요: \"))\n",
        "fahrenheit = celsius * 1.8 + 32\n",
        "print(f\"화씨는 {fahrenheit}입니다.\")"
      ]
    },
    {
      "cell_type": "code",
      "source": [
        "name = input(\"이름을 입력해주세요: \")\n",
        "address = input(\"주소를 입력해주세요: \")\n",
        "weight = float(input(\"물건 무게을 입력해주세요: \"))\n",
        "price = weight * 5\n",
        "sum = 3000 + price\n",
        "\n",
        "print(\"==택배 정보==\", f\"수취인 성명: <{name}>\", f\"수취인 주소:<{address}>\", \"배송비: 3000원\", f\"물건비용:<{price}>원\", f\"총 합계:<{sum}>원\" , sep = '\\n')"
      ],
      "metadata": {
        "colab": {
          "base_uri": "https://localhost:8080/"
        },
        "id": "qWICm6AnECWB",
        "outputId": "ba39a02c-0786-4455-e1a3-dc620bc5ba88"
      },
      "execution_count": null,
      "outputs": [
        {
          "output_type": "stream",
          "name": "stdout",
          "text": [
            "이름을 입력해주세요: 박지완\n",
            "주소를 입력해주세요: 서울\n",
            "물건 무게을 입력해주세요: 100\n",
            "==택배 정보==\n",
            "수취인 성명: <박지완>\n",
            "수취인 주소:<서울>\n",
            "배송비: 3000원\n",
            "물건비용:<500.0>원\n",
            "총 합계:<3500.0>원\n"
          ]
        }
      ]
    },
    {
      "cell_type": "markdown",
      "source": [
        "#### 지수표현\n",
        "- e, E 둘다 가능하다.\n",
        "- 앞부분은 float, int\n",
        "- 뒷부분은 int만 온다.\n",
        "  - 양수면 0 앞으로 \n",
        "  - 음수면 0 뒤로 (소수점)"
      ],
      "metadata": {
        "id": "uej-J0wWV7sM"
      }
    },
    {
      "cell_type": "code",
      "source": [
        "1.0e6 # float"
      ],
      "metadata": {
        "colab": {
          "base_uri": "https://localhost:8080/"
        },
        "id": "-ZHCV3Klrf-s",
        "outputId": "fa825482-d729-4a30-cef5-1a046f21e285"
      },
      "execution_count": null,
      "outputs": [
        {
          "output_type": "execute_result",
          "data": {
            "text/plain": [
              "1000000.0"
            ]
          },
          "metadata": {},
          "execution_count": 1
        }
      ]
    },
    {
      "cell_type": "code",
      "source": [
        "# 0.000789 -> 지수표현\n",
        "7.89e-4\n",
        "789e-6"
      ],
      "metadata": {
        "colab": {
          "base_uri": "https://localhost:8080/"
        },
        "id": "yazgm_EHr5Tc",
        "outputId": "815cb4a3-be5c-4756-9e35-ef14f835f593"
      },
      "execution_count": null,
      "outputs": [
        {
          "output_type": "execute_result",
          "data": {
            "text/plain": [
              "0.000789"
            ]
          },
          "metadata": {},
          "execution_count": 3
        }
      ]
    },
    {
      "cell_type": "markdown",
      "source": [
        "### 'input()' 함수\n",
        "- console에서 사용자가 입력하는 값을 받을 수 있는 함수\n",
        "- 입력 받는 값은 문자열로 인식이 된다. \n",
        "- 입력 받은 값을 변수에 담아서 사용한다. 안그러면 사라짐.\n",
        "- 숫자일 경우 형 변환한다. "
      ],
      "metadata": {
        "id": "S8sWhizdKxhI"
      }
    },
    {
      "cell_type": "code",
      "source": [
        "input(\"Hello\") # 문자열로 인식"
      ],
      "metadata": {
        "colab": {
          "base_uri": "https://localhost:8080/",
          "height": 55
        },
        "id": "fGvD6A6uLNTf",
        "outputId": "59ea11f1-2b47-4316-9400-95b62825a6bf"
      },
      "execution_count": null,
      "outputs": [
        {
          "name": "stdout",
          "output_type": "stream",
          "text": [
            "Hellohi\n"
          ]
        },
        {
          "output_type": "execute_result",
          "data": {
            "text/plain": [
              "'hi'"
            ],
            "application/vnd.google.colaboratory.intrinsic+json": {
              "type": "string"
            }
          },
          "metadata": {},
          "execution_count": 4
        }
      ]
    },
    {
      "cell_type": "code",
      "source": [
        "int(input('나이가 어떻게 되세요? ')) # 형 변환"
      ],
      "metadata": {
        "colab": {
          "base_uri": "https://localhost:8080/"
        },
        "id": "Ay-TqVlUMVjt",
        "outputId": "41bfcd67-b9c4-4695-d896-686ac8af0a42"
      },
      "execution_count": null,
      "outputs": [
        {
          "name": "stdout",
          "output_type": "stream",
          "text": [
            "나이가 어떻게 되세요? 55\n"
          ]
        },
        {
          "output_type": "execute_result",
          "data": {
            "text/plain": [
              "55"
            ]
          },
          "metadata": {},
          "execution_count": 5
        }
      ]
    },
    {
      "cell_type": "markdown",
      "source": [
        "- 변수에 할달하는 방법"
      ],
      "metadata": {
        "id": "yqAHXRF8MgrG"
      }
    },
    {
      "cell_type": "code",
      "source": [
        "#1. \n",
        "age = input('나이가 어떻게 되세요? ')"
      ],
      "metadata": {
        "colab": {
          "base_uri": "https://localhost:8080/"
        },
        "id": "2I9rAmJ2MtDR",
        "outputId": "3e322f9d-6baa-403d-f7a2-0ededb380852"
      },
      "execution_count": null,
      "outputs": [
        {
          "name": "stdout",
          "output_type": "stream",
          "text": [
            "나이가 어떻게 되세요? 55\n"
          ]
        }
      ]
    },
    {
      "cell_type": "code",
      "source": [
        "#2.\n",
        "print(\"나이가? \")\n",
        "age = input()"
      ],
      "metadata": {
        "colab": {
          "base_uri": "https://localhost:8080/"
        },
        "id": "pNGfZ9k5M1lY",
        "outputId": "4dac7475-08d0-4130-f4e9-8108b5381cba"
      },
      "execution_count": null,
      "outputs": [
        {
          "name": "stdout",
          "output_type": "stream",
          "text": [
            "나이가? \n",
            "22\n"
          ]
        }
      ]
    },
    {
      "cell_type": "markdown",
      "source": [
        "#### Quiz (1)\n",
        " - 섭씨를 입력받아서 화씨로 변환하기\n",
        " - \"섭씨*1.8 + 32 = 화씨\"\n",
        " "
      ],
      "metadata": {
        "id": "f3VguFSXNAdI"
      }
    },
    {
      "cell_type": "code",
      "execution_count": null,
      "metadata": {
        "colab": {
          "base_uri": "https://localhost:8080/"
        },
        "outputId": "b58092f4-2f81-48b2-b432-6a31a27f7d9d",
        "id": "ulK3udKrFSDn"
      },
      "outputs": [
        {
          "output_type": "stream",
          "name": "stdout",
          "text": [
            "섭씨를 입력해주세요: 23\n",
            "화씨는 73.4입니다.\n"
          ]
        }
      ],
      "source": [
        "celsius = float(input(\"섭씨를 입력해주세요: \"))\n",
        "fahrenheit = celsius * 1.8 + 32\n",
        "print(f\"화씨는 {fahrenheit}입니다.\")"
      ]
    },
    {
      "cell_type": "code",
      "source": [
        "name = input(\"이름을 입력해주세요: \")\n",
        "address = input(\"주소를 입력해주세요: \")\n",
        "weight = float(input(\"물건 무게을 입력해주세요: \"))\n",
        "price = weight * 5\n",
        "sum = 3000 + price\n",
        "\n",
        "print(\"==택배 정보==\", f\"수취인 성명: <{name}>\", f\"수취인 주소:<{address}>\", \"배송비: 3000원\", f\"물건비용:<{price}>원\", f\"총 합계:<{sum}>원\" , sep = '\\n')"
      ],
      "metadata": {
        "colab": {
          "base_uri": "https://localhost:8080/"
        },
        "outputId": "ba39a02c-0786-4455-e1a3-dc620bc5ba88",
        "id": "UjIrbMnwFSDn"
      },
      "execution_count": null,
      "outputs": [
        {
          "output_type": "stream",
          "name": "stdout",
          "text": [
            "이름을 입력해주세요: 박지완\n",
            "주소를 입력해주세요: 서울\n",
            "물건 무게을 입력해주세요: 100\n",
            "==택배 정보==\n",
            "수취인 성명: <박지완>\n",
            "수취인 주소:<서울>\n",
            "배송비: 3000원\n",
            "물건비용:<500.0>원\n",
            "총 합계:<3500.0>원\n"
          ]
        }
      ]
    },
    {
      "cell_type": "markdown",
      "source": [
        "##Cn03. Numbers"
      ],
      "metadata": {
        "id": "oMMY2nfhNWuB"
      }
    },
    {
      "cell_type": "markdown",
      "source": [
        "### boolean \n",
        "- 형 변환할 때 True, False인지 기억하라\n",
        "  - '', None, 0, ..\n",
        "- 조건식에서 많이 쓴다.예) 만역 이 조건이 True라면, .."
      ],
      "metadata": {
        "id": "BDHyaiZSORA9"
      }
    },
    {
      "cell_type": "code",
      "source": [
        "bool(1)"
      ],
      "metadata": {
        "colab": {
          "base_uri": "https://localhost:8080/"
        },
        "id": "Qyn_3ucGOlv2",
        "outputId": "852291be-93cd-4a75-b3cd-6f88f0d2e596"
      },
      "execution_count": null,
      "outputs": [
        {
          "output_type": "execute_result",
          "data": {
            "text/plain": [
              "True"
            ]
          },
          "metadata": {},
          "execution_count": 10
        }
      ]
    },
    {
      "cell_type": "code",
      "source": [
        "bool('')"
      ],
      "metadata": {
        "colab": {
          "base_uri": "https://localhost:8080/"
        },
        "id": "r4ukvkMCOuiK",
        "outputId": "caf64e28-7b97-426c-a73c-9ec4bd27febc"
      },
      "execution_count": null,
      "outputs": [
        {
          "output_type": "execute_result",
          "data": {
            "text/plain": [
              "False"
            ]
          },
          "metadata": {},
          "execution_count": 11
        }
      ]
    },
    {
      "cell_type": "markdown",
      "source": [
        "### integer\n",
        "- 소수점 없음\n",
        "- default 양수, 음수는 앞에 -를 붙인다. \n",
        "- 숫자 앞에는 0을 붙일 수 없다. 예) 05\n",
        "  - 예외적으로 0bxxx, => 다른 진수 표현법\n",
        "- 리터럴: 4\n",
        "- 공백이 많아도 무시가 된다. \n",
        "- _ 는 숫자 사이에 있어도 무시가 된다. \n",
        "    -예: 10,000 -> 10, 000 두개로 인식 / 10_000"
      ],
      "metadata": {
        "id": "h-kCKwUWOwg1"
      }
    },
    {
      "cell_type": "code",
      "source": [
        "a = -9\n",
        "8 + a"
      ],
      "metadata": {
        "colab": {
          "base_uri": "https://localhost:8080/"
        },
        "id": "QKVKdF6FPmYD",
        "outputId": "1bb2fd1a-9825-49b8-8039-62e3a435b663"
      },
      "execution_count": null,
      "outputs": [
        {
          "output_type": "execute_result",
          "data": {
            "text/plain": [
              "-1"
            ]
          },
          "metadata": {},
          "execution_count": 12
        }
      ]
    },
    {
      "cell_type": "code",
      "source": [
        "a = 09"
      ],
      "metadata": {
        "id": "lFF7WJ9rPqP-"
      },
      "execution_count": null,
      "outputs": []
    },
    {
      "cell_type": "code",
      "source": [
        "a = 10_000\n",
        "print(a)"
      ],
      "metadata": {
        "colab": {
          "base_uri": "https://localhost:8080/"
        },
        "id": "UVbMJNa8Pr7T",
        "outputId": "265c8d7d-f1c5-4341-fa7f-be7ba8977ccf"
      },
      "execution_count": null,
      "outputs": [
        {
          "output_type": "stream",
          "name": "stdout",
          "text": [
            "10000\n"
          ]
        }
      ]
    },
    {
      "cell_type": "markdown",
      "source": [
        "#### 연산\n",
        "- 연산자 |operator : +, -, ..\n",
        "- 피연산자 |oprand : 4,5, ..\n",
        "- 수식 | expression"
      ],
      "metadata": {
        "id": "wUS6511AQZ4m"
      }
    },
    {
      "cell_type": "code",
      "source": [
        "x = 4\n",
        "y = 9\n",
        "\n",
        "x + y\n",
        "x - y\n",
        "x * y\n",
        "x / y\n",
        "\n",
        "# 거듭제곱 |exponential\n",
        " x ** y"
      ],
      "metadata": {
        "id": "OSG0dn0hQ0DD"
      },
      "execution_count": null,
      "outputs": []
    },
    {
      "cell_type": "markdown",
      "source": [
        " 나눗셈에서 주의할 사항"
      ],
      "metadata": {
        "id": "as-C9SM0RJBf"
      }
    },
    {
      "cell_type": "code",
      "source": [
        "#1. division by zero -> 주의 (y != 0)\n",
        "#2. 몫, 나머지\n",
        "x = 4\n",
        "y = 9\n",
        "x // y, x % y, x / y"
      ],
      "metadata": {
        "colab": {
          "base_uri": "https://localhost:8080/"
        },
        "id": "qZIDFn8fRk51",
        "outputId": "ab217095-c94b-46f0-ca24-6e934c8dcd4f"
      },
      "execution_count": null,
      "outputs": [
        {
          "output_type": "execute_result",
          "data": {
            "text/plain": [
              "(0, 4, 0.4444444444444444)"
            ]
          },
          "metadata": {},
          "execution_count": 20
        }
      ]
    },
    {
      "cell_type": "code",
      "source": [
        "divmod(x,y)"
      ],
      "metadata": {
        "colab": {
          "base_uri": "https://localhost:8080/"
        },
        "id": "lvLzH9t6RxZB",
        "outputId": "27cb87ec-6754-4b64-f68b-3a472f3cfbf7"
      },
      "execution_count": null,
      "outputs": [
        {
          "output_type": "execute_result",
          "data": {
            "text/plain": [
              "(0, 4)"
            ]
          },
          "metadata": {},
          "execution_count": 19
        }
      ]
    },
    {
      "cell_type": "markdown",
      "source": [
        "#### 복합 대입연산자| compound assignment operator"
      ],
      "metadata": {
        "id": "CbnmgSGjR2aB"
      }
    },
    {
      "cell_type": "code",
      "source": [
        "a = 5\n",
        "a - 3\n",
        "print(a)"
      ],
      "metadata": {
        "colab": {
          "base_uri": "https://localhost:8080/"
        },
        "id": "xIjM9V9CSTpW",
        "outputId": "444670ca-4896-4595-90fe-2759905623dc"
      },
      "execution_count": null,
      "outputs": [
        {
          "output_type": "stream",
          "name": "stdout",
          "text": [
            "5\n"
          ]
        }
      ]
    },
    {
      "cell_type": "code",
      "source": [
        "a = a - 3\n",
        "#1. a-3 계산\n",
        "#2. 임시변수 temp = a - 3\n",
        "#3. a = a - 3\n",
        "a -= 3"
      ],
      "metadata": {
        "id": "zKBVgz8-SWm4"
      },
      "execution_count": null,
      "outputs": []
    },
    {
      "cell_type": "code",
      "source": [
        "a += 3\n",
        "a -= 3\n",
        "a *= 3\n",
        "a /= 3"
      ],
      "metadata": {
        "id": "WeW_1rf5Sru8"
      },
      "execution_count": null,
      "outputs": []
    },
    {
      "cell_type": "code",
      "source": [
        "u = u + 1 # u의 값 초기화할 것 주의"
      ],
      "metadata": {
        "id": "LxlYClaonuG9"
      },
      "execution_count": null,
      "outputs": []
    },
    {
      "cell_type": "markdown",
      "source": [
        "### Quiz(2). \n",
        "- 정수를 입력받고 3의 배수인지 확인하세요.\n",
        "- =홀수인지 확인하세요."
      ],
      "metadata": {
        "id": "z0eyZHAJoDZX"
      }
    },
    {
      "cell_type": "code",
      "source": [
        "num = int(input())\n",
        "num % 3 == 0"
      ],
      "metadata": {
        "colab": {
          "base_uri": "https://localhost:8080/"
        },
        "outputId": "38a9f691-b534-4899-f0ea-c1b7f3d31c69",
        "id": "qez3b-SxFGMF"
      },
      "execution_count": null,
      "outputs": [
        {
          "name": "stdout",
          "output_type": "stream",
          "text": [
            "50\n"
          ]
        },
        {
          "output_type": "execute_result",
          "data": {
            "text/plain": [
              "False"
            ]
          },
          "metadata": {},
          "execution_count": 9
        }
      ]
    },
    {
      "cell_type": "code",
      "source": [
        "num % 2 == 0"
      ],
      "metadata": {
        "colab": {
          "base_uri": "https://localhost:8080/"
        },
        "outputId": "103bae18-8bdc-4f5b-852b-788883358d38",
        "id": "QGrpv8dNFGMF"
      },
      "execution_count": null,
      "outputs": [
        {
          "output_type": "execute_result",
          "data": {
            "text/plain": [
              "True"
            ]
          },
          "metadata": {},
          "execution_count": 10
        }
      ]
    },
    {
      "cell_type": "markdown",
      "source": [
        "###조건문, if\n",
        "- code structure"
      ],
      "metadata": {
        "id": "Ymbab5tCs_k8"
      }
    },
    {
      "cell_type": "markdown",
      "source": [
        "### 코드 짜는 룰\n",
        "- 주석 다는 법\n",
        "  - 설명하는 부분\n",
        "  - 목적: 의도를 표현한다.\n",
        "  - '#' hash, sharp, ...\n",
        "  - 시작된 부분부터 그 라인에 끝까지가 주석이 된다.\n",
        "  - 문자열 안에 들어있는 해시는 문자열로 인식\n",
        "  - \"\"\"<주석>\"\"\"\n",
        "- 라인 유지하기\n",
        "  - 들여쓰기, 공백 4개, 탭 1개\n",
        "  - 한 줄에 최대 80자 넘지 않게\n",
        "  - 백슬래시로 끊어준다. (\\)"
      ],
      "metadata": {
        "id": "J9Y6L0YwtO9B"
      }
    },
    {
      "cell_type": "code",
      "source": [
        "a = 3 #여기서 라인 끝\n",
        "b = 2"
      ],
      "metadata": {
        "id": "bCgluxEHtiKH"
      },
      "execution_count": null,
      "outputs": []
    },
    {
      "cell_type": "code",
      "source": [
        "example = 'hey ###'\n",
        "print(example)\n",
        "# 코드에는 영향을 끼치지 않음\n",
        "\"\"\"\n",
        "주석1\n",
        "주석2\n",
        "주석3\n",
        "\"\"\""
      ],
      "metadata": {
        "colab": {
          "base_uri": "https://localhost:8080/",
          "height": 55
        },
        "id": "jy_rMEwTtyXp",
        "outputId": "fd93d519-f4c7-44a1-e83d-b872862d7532"
      },
      "execution_count": null,
      "outputs": [
        {
          "output_type": "stream",
          "name": "stdout",
          "text": [
            "hey ###\n"
          ]
        },
        {
          "output_type": "execute_result",
          "data": {
            "text/plain": [
              "'\\n주석1\\n주석2\\n주석3\\n'"
            ],
            "application/vnd.google.colaboratory.intrinsic+json": {
              "type": "string"
            }
          },
          "metadata": {},
          "execution_count": 2
        }
      ]
    },
    {
      "cell_type": "markdown",
      "source": [
        "- 조건 1개\n",
        "if <조건식>:\n",
        "  <실행할 코드>"
      ],
      "metadata": {
        "id": "hhyFOBy2vHzx"
      }
    },
    {
      "cell_type": "code",
      "source": [
        "if 4 == 9:\n",
        "  print('Yaay!')"
      ],
      "metadata": {
        "id": "_C9-OOVyv2V_"
      },
      "execution_count": null,
      "outputs": []
    },
    {
      "cell_type": "markdown",
      "source": [
        "- 조건 2개:\n",
        "  if <조건식1>:\n",
        "    <실행할 코드>\n",
        "  else:\n",
        "    <실행할 코드>"
      ],
      "metadata": {
        "id": "k7mMFKSXv7Jx"
      }
    },
    {
      "cell_type": "code",
      "source": [
        "if 4 == 9:\n",
        "  print('Yaay!')\n",
        "else:\n",
        "  print('Hey!')"
      ],
      "metadata": {
        "colab": {
          "base_uri": "https://localhost:8080/"
        },
        "id": "PkcQFQ3PwOL8",
        "outputId": "c53dda73-ca5e-42dd-d194-104e26dda681"
      },
      "execution_count": null,
      "outputs": [
        {
          "output_type": "stream",
          "name": "stdout",
          "text": [
            "Hey!\n"
          ]
        }
      ]
    },
    {
      "cell_type": "markdown",
      "source": [
        "- 조건 3개 이상:\n",
        "  if <조건식1>:\n",
        "    <실행할 코드>\n",
        "  elif <조건식2>:\n",
        "    <실행할 코드2>\n",
        "  . . . \n",
        "  else:\n",
        "    <실행할 코드3>"
      ],
      "metadata": {
        "id": "yWbgxI06wVtX"
      }
    },
    {
      "cell_type": "markdown",
      "source": [
        "#### 비교연산자\n",
        "- x < y, x <= y\n",
        "- x > y, x >= y\n",
        "- x == y (값)\n",
        "- x != y (값)\n",
        "- x is y (값, 메모리 주소)\n",
        "- x is not y"
      ],
      "metadata": {
        "id": "Mh64qjZ3w5bG"
      }
    },
    {
      "cell_type": "markdown",
      "source": [
        "### Quiz1.\n",
        "- 학점 부여하기\n",
        "- 학점을 입력 받아서\n",
        "  - 90점 이상이면 A\n",
        "  - 80점 이상이면 B\n",
        "  - 70점 이상이면 C\n",
        "  - 그외는 D\n",
        "   "
      ],
      "metadata": {
        "id": "F0a8fuJoyP-l"
      }
    },
    {
      "cell_type": "code",
      "source": [
        "grade = int(input())\n",
        "if grade >= 90:\n",
        "  print(\"A\")\n",
        "elif 80 <= grade < 90:\n",
        "  print(\"B\")\n",
        "elif 70 <= grade < 80:\n",
        "  print(\"C\")\n",
        "else:\n",
        "  print(\"D\")"
      ],
      "metadata": {
        "colab": {
          "base_uri": "https://localhost:8080/"
        },
        "outputId": "27d5193d-9aa7-4657-e3ef-0a0d4d7ec867",
        "id": "5rw8eDh4Fhp9"
      },
      "execution_count": null,
      "outputs": [
        {
          "output_type": "stream",
          "name": "stdout",
          "text": [
            "59\n",
            "D\n"
          ]
        }
      ]
    },
    {
      "cell_type": "markdown",
      "source": [
        "## Quiz 2.\n",
        "- 아이디와 비번을 입력받아서 둘다 일치하면 로그인하기\n",
        "- 아이디, 비번 각자 정해놓기\n",
        "- 일치하지 않을 때에는 창의적으로 어떤 걸로 반환하기"
      ],
      "metadata": {
        "id": "plKQoXOAZHxS"
      }
    },
    {
      "cell_type": "code",
      "source": [
        "id = 'jiwan'\n",
        "pw = 1234\n",
        "\n",
        "try_id = input()\n",
        "try_pw = int(input())\n",
        "\n",
        "if (id == try_id) and (pw == try_pw):\n",
        "  print(\"로그인되었습니다.\")\n",
        "else:\n",
        "  print(\"잘못 입력하였습니다.\\n다시 시도해주세요.\")"
      ],
      "metadata": {
        "colab": {
          "base_uri": "https://localhost:8080/"
        },
        "id": "hsqVhOcfZZlV",
        "outputId": "f4cfe969-a6c3-4175-ef48-3d9c3bee64f1"
      },
      "execution_count": null,
      "outputs": [
        {
          "output_type": "stream",
          "name": "stdout",
          "text": [
            "jiwan\n",
            "1234\n",
            "로그인되었습니다.\n"
          ]
        }
      ]
    },
    {
      "cell_type": "code",
      "source": [
        "id = 'jiwan'\n",
        "pw = 1234\n",
        "\n",
        "try_id = input(\"ID를 입력하세요: \")\n",
        "try_pw = int(input(\"PW를 입력하세요: \"))\n",
        "absent = int(input(\"결석횟수를 입력하세요: \"))\n",
        "\n",
        "if (id == try_id) and (pw == try_pw):\n",
        "  print(\"로그인됐습니다.\")\n",
        "else: \n",
        "  print(\"잘못입력했습니다.\")"
      ],
      "metadata": {
        "colab": {
          "base_uri": "https://localhost:8080/"
        },
        "outputId": "2913453b-0b98-433b-add9-649b8665fb3b",
        "id": "PiSPlZA_F0gU"
      },
      "execution_count": null,
      "outputs": [
        {
          "output_type": "stream",
          "name": "stdout",
          "text": [
            "ID를 입력하세요: jiwan\n",
            "PW를 입력하세요: 1234\n",
            "결석횟수를 입력하세요: 5\n",
            "로그인됐습니다.\n"
          ]
        }
      ]
    },
    {
      "cell_type": "markdown",
      "source": [
        "#### 논리연산자\n",
        "- 여러 조건식을 비교할 때\n",
        "- 예: 10 < x < 20\n",
        "  - 파이썬에서만 가능한 표현\n",
        "   - x > 10 혹은 x < 20\n",
        "\n",
        "- and, & : 둘다 참일 때 True\n",
        "- or, \\ : 둘 중 하나만 참이여도 True\n",
        "- not : 참 -> False, 거짓 -> True\n"
      ],
      "metadata": {
        "id": "v59ETSPmaWVd"
      }
    },
    {
      "cell_type": "markdown",
      "source": [
        "### Quiz 3. \n",
        "- quiz1 의 확장판\n",
        "- 결석 횟수를 입력 받아서 점수가 80점 이상인데 결석이 2번 이상이면 F , 나머지는 점수대로"
      ],
      "metadata": {
        "id": "0KPX2k9Nfs4O"
      }
    },
    {
      "cell_type": "code",
      "source": [
        "absent = int(input())\n",
        "grade = int(input())\n",
        "if grade >= 90:\n",
        "  if absent >=2:\n",
        "    score = 'F'\n",
        "  else:\n",
        "    score = 'A'\n",
        "if grade >= 80:\n",
        "  if absent >= 2:\n",
        "    score = 'F'\n",
        "  else:\n",
        "    score = 'B'\n",
        "elif grade >= 70:\n",
        "  score = 'C'\n",
        "elif grade >= 60:\n",
        "  score = 'D'\n",
        "\n",
        "print(f\"당신의 학점은 {score}입니다.\")"
      ],
      "metadata": {
        "colab": {
          "base_uri": "https://localhost:8080/"
        },
        "id": "1fpcEUywg1_B",
        "outputId": "1b966e41-a45b-4ff0-8154-ca3528553aa4"
      },
      "execution_count": null,
      "outputs": [
        {
          "output_type": "stream",
          "name": "stdout",
          "text": [
            "1\n",
            "87\n",
            "당신의 학점은 B입니다.\n"
          ]
        }
      ]
    },
    {
      "cell_type": "code",
      "source": [
        "grade = int(input(\"점수를 입력하세요: \"))\n",
        "absent = int(input(\"결석횟수를 입력하세요: \"))\n",
        "\n",
        "if grade >= 80:\n",
        "  if absent >= 2:\n",
        "    print(\"F\")\n",
        "  else:\n",
        "    if grade >= 90:\n",
        "      print(\"A\")\n",
        "    else: \n",
        "      print(\"B\")\n",
        "elif 80 <= grade < 90:\n",
        "  print(\"B\")\n",
        "elif 70 <= grade < 80:\n",
        "  print(\"C\")\n",
        "else:\n",
        "  print(\"D\")"
      ],
      "metadata": {
        "colab": {
          "base_uri": "https://localhost:8080/"
        },
        "id": "-1-XkalPFrAE",
        "outputId": "7604b2c0-c2ac-4852-ef0c-403a22847bb1"
      },
      "execution_count": null,
      "outputs": [
        {
          "output_type": "stream",
          "name": "stdout",
          "text": [
            "점수를 입력하세요: 82\n",
            "결석횟수를 입력하세요: 3\n",
            "F\n"
          ]
        }
      ]
    }
  ]
}