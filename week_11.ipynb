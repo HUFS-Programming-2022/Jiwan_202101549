{
  "nbformat": 4,
  "nbformat_minor": 0,
  "metadata": {
    "colab": {
      "name": "week_11.ipynb",
      "provenance": [],
      "collapsed_sections": []
    },
    "kernelspec": {
      "name": "python3",
      "display_name": "Python 3"
    },
    "language_info": {
      "name": "python"
    }
  },
  "cells": [
    {
      "cell_type": "code",
      "execution_count": null,
      "metadata": {
        "id": "D4l0yvXeonjU"
      },
      "outputs": [],
      "source": [
        "class Notebook:\n",
        "  def __init__(self, title, memo=None, page=0):\n",
        "    self.__title = title\n",
        "    self.page = page\n",
        "    self.memo = memo\n",
        "\n",
        "  @property\n",
        "  def title(self):\n",
        "    return selt.__title\n",
        "  \n",
        "  def add_note(self, note):\n",
        "    self.page += 1\n",
        "\n",
        "  def delete_note(self, note):\n",
        "    self.page -= 1\n",
        "\n",
        "  def check_page(self):\n",
        "    return self.page\n",
        "\n",
        "\n",
        "class Note:\n",
        "  def __init__(self, memo):\n",
        "    self.memo = []\n",
        "  \n",
        "  def write(self, sent):\n",
        "    self.memo.append(self.sent)\n",
        "\n",
        "  def erase(self, sent):\n",
        "    self.memo.remove(self.sent)\n",
        "\n",
        "# 사용\n",
        "line1 = '우리 모두 스스로가 원하는 리더가 됩시다.'\n",
        "line2 = '모두가 함께 앞으로 나아가면 성공은 저절로 따라옵니다.'\n",
        "line3 = '혼자서는 작은 한 방울이지만 함께 모이면 바다를 이룹니다.'\n",
        "\n"
      ]
    },
    {
      "cell_type": "markdown",
      "source": [
        "### 객체 II\n",
        "- 상속 (inheritance)\n",
        "- 재사용할 때, A vs. B\n",
        "  - \"A의 대부분을 쓰고, 나머지를 추가, 변경하고 싶다\"\n",
        "  - 부모의 모든 속성을 그대로 가져와서 쓰겠다.\n",
        "  - B를 정의하면서 A도 복사\n",
        "- 반복되는 부분을 쓰지 않고 가져오겠다. 물려받겠다.\n",
        "- A <- B (B가 A를 물려받았다)\n",
        "  - A: \"부모, 슈퍼, 베이스\" 클래스\n",
        "  - B: \"자식, 서브, derived\" class\n",
        "- 자식 클래스는 부모 클래스를 구체화한다.\n",
        "- is -a 관계: Car is -a Vechicle (포함된다)\n"
      ],
      "metadata": {
        "id": "KwKZYvvDcG3B"
      }
    },
    {
      "cell_type": "code",
      "source": [
        "# parent, super\n",
        "class Vehicle:\n",
        "  def __init__(self, speed):\n",
        "    self.speed = speed\n",
        "  \n",
        "  def go(self):\n",
        "    print(f'{self.speed}의 속도로 달린다.')\n",
        "  \n",
        "#child, sub\n",
        "class Car(Vehicle):\n",
        "  pass"
      ],
      "metadata": {
        "id": "1z0oMlVpedy8"
      },
      "execution_count": null,
      "outputs": []
    },
    {
      "cell_type": "code",
      "source": [
        "car = Car('20km/h')"
      ],
      "metadata": {
        "id": "OXUJG_lhfI-0"
      },
      "execution_count": null,
      "outputs": []
    },
    {
      "cell_type": "code",
      "source": [
        "car.go() #부모의 메서드를 타고, 제대로 상속함"
      ],
      "metadata": {
        "colab": {
          "base_uri": "https://localhost:8080/"
        },
        "id": "gQTRgXyFfgsC",
        "outputId": "91b6e043-a371-434a-a404-7e2269c90dc7"
      },
      "execution_count": null,
      "outputs": [
        {
          "output_type": "stream",
          "name": "stdout",
          "text": [
            "20km/h의 속도로 달린다.\n"
          ]
        }
      ]
    },
    {
      "cell_type": "markdown",
      "source": [
        "### 변수 추가, 변경"
      ],
      "metadata": {
        "id": "gUZzqmazfmvU"
      }
    },
    {
      "cell_type": "code",
      "source": [
        "class Car(Vehicle):\n",
        "  def __init__(self, speed, brand):\n",
        "    # speed == 부모\n",
        "    super().__init__(speed) #Vehicle().speed\n",
        "    # brand == 자식\n",
        "    self.brand = brand # 나의 고유한 특성"
      ],
      "metadata": {
        "id": "JSUAdK9_n6Qx"
      },
      "execution_count": null,
      "outputs": []
    },
    {
      "cell_type": "code",
      "source": [
        "# car2 = Vehicle('30km/h')\n",
        "car2 = Car('20km/h', 'kia')\n",
        "car2.brand\n",
        "car2.speed"
      ],
      "metadata": {
        "colab": {
          "base_uri": "https://localhost:8080/",
          "height": 36
        },
        "id": "MbujvFHsoa22",
        "outputId": "ce970ba2-bfda-43ff-c897-026e8c5c5e47"
      },
      "execution_count": null,
      "outputs": [
        {
          "output_type": "execute_result",
          "data": {
            "text/plain": [
              "'20km/h'"
            ],
            "application/vnd.google.colaboratory.intrinsic+json": {
              "type": "string"
            }
          },
          "metadata": {},
          "execution_count": 52
        }
      ]
    },
    {
      "cell_type": "code",
      "source": [
        "v = Vehicle('33')\n",
        "# v.brand"
      ],
      "metadata": {
        "id": "cCl2hxCQof39"
      },
      "execution_count": null,
      "outputs": []
    },
    {
      "cell_type": "markdown",
      "source": [
        "### 메소드 추가, 변경\n",
        "- override 하면 부모의 메서드가 잊힌다."
      ],
      "metadata": {
        "id": "8XPHsQQhpB-2"
      }
    },
    {
      "cell_type": "code",
      "source": [
        "class Car(Vehicle):\n",
        "  def __init__(self, speed, brand):\n",
        "    super().__init__(speed)\n",
        "    self.brand = brand # 나의 고유한 특성이 된다.\n",
        "\n",
        "    # 오버라이드(override): 재정의\n",
        "    def go(self):\n",
        "      # 부모의 go도 함께 가져가고 싶다면?\n",
        "      super().go()\n",
        "      print(f'차종 {self.brand}의 속도 {self.speed}')\n",
        "\n",
        "    #메소드 추가\n",
        "    def stop(self):\n",
        "      pass"
      ],
      "metadata": {
        "id": "cpVRDbqMpICl"
      },
      "execution_count": null,
      "outputs": []
    },
    {
      "cell_type": "code",
      "source": [
        "car3 = Car('33km/h', 'mini')\n",
        "car3.go()"
      ],
      "metadata": {
        "colab": {
          "base_uri": "https://localhost:8080/"
        },
        "id": "jHan6K_opqEu",
        "outputId": "2ed570ca-8e0a-443f-d091-38948717676a"
      },
      "execution_count": null,
      "outputs": [
        {
          "output_type": "stream",
          "name": "stdout",
          "text": [
            "33km/h의 속도로 달린다.\n"
          ]
        }
      ]
    },
    {
      "cell_type": "markdown",
      "source": [
        "### 실습"
      ],
      "metadata": {
        "id": "qtHNKkxup1cM"
      }
    },
    {
      "cell_type": "markdown",
      "source": [
        "1\n",
        " 메서드를 통해 print -> nope"
      ],
      "metadata": {
        "id": "0qa7JVJ9vx2b"
      }
    },
    {
      "cell_type": "code",
      "source": [
        "class Person:\n",
        "  def __init__(self, name):\n",
        "    self.name = name\n",
        "\n",
        "#---- (sub)\n",
        "class Doctor(Person):\n",
        "  def __init__(self, name):\n",
        "    super().__init__(name)\n",
        "\n",
        "  def info(self, name):\n",
        "    print(f'Dr.{self.name}')\n",
        "\n",
        "\n",
        "class Male(Person):\n",
        "  def __init__(self, name):\n",
        "    super().__init__(name)\n",
        "    \n",
        "  def info(self):\n",
        "    print(f'Mr.{self.name}')\n",
        "\n",
        "\n",
        "class Female(Person):\n",
        "  def __init__(self, name):\n",
        "    super().__init__(name)\n",
        "\n",
        "  def info(self):\n",
        "    print(f'Mrs.{self.name}')"
      ],
      "metadata": {
        "id": "_oyQyQpGrwle"
      },
      "execution_count": null,
      "outputs": []
    },
    {
      "cell_type": "code",
      "source": [
        "person1 = Person('pablo')"
      ],
      "metadata": {
        "id": "--cDzYuAtKqU"
      },
      "execution_count": null,
      "outputs": []
    },
    {
      "cell_type": "code",
      "source": [
        "person1.name"
      ],
      "metadata": {
        "colab": {
          "base_uri": "https://localhost:8080/",
          "height": 36
        },
        "id": "Idw493wgtUVf",
        "outputId": "b95194c2-6123-4dfa-c634-e09768fe17bd"
      },
      "execution_count": null,
      "outputs": [
        {
          "output_type": "execute_result",
          "data": {
            "text/plain": [
              "'pablo'"
            ],
            "application/vnd.google.colaboratory.intrinsic+json": {
              "type": "string"
            }
          },
          "metadata": {},
          "execution_count": 65
        }
      ]
    },
    {
      "cell_type": "code",
      "source": [
        "doctor1 = Doctor('Pablo')\n",
        "male1 = Male('Pablo')\n",
        "female1 =Female('Pablo')"
      ],
      "metadata": {
        "id": "rNOpN7sVtWOB"
      },
      "execution_count": null,
      "outputs": []
    },
    {
      "cell_type": "markdown",
      "source": [
        "2 : 아예 변경"
      ],
      "metadata": {
        "id": "SQs9B743tg5g"
      }
    },
    {
      "cell_type": "code",
      "source": [
        "class Person:\n",
        "  def __init__(self, name):\n",
        "    self.name = name\n",
        "\n",
        "class Doctor(Person):\n",
        "  def __init__(self, name):\n",
        "    super().__init__(name)\n",
        "    self.name = 'Dr.' + name"
      ],
      "metadata": {
        "id": "2tiajkoez5Ub"
      },
      "execution_count": null,
      "outputs": []
    },
    {
      "cell_type": "code",
      "source": [
        "# class Person:\n",
        "#   def __init__(self, name):\n",
        "#     self.__name = name\n",
        "\n",
        "#   @property\n",
        "#   def name(self):\n",
        "#     return self.__name\n",
        "\n",
        "# class Doctor(Person):\n",
        "#   def __init__(self, name):\n",
        "#     super().__init__(name)\n",
        "  \n",
        "#   @property\n",
        "#   def name(self):\n",
        "#     self.name = 'Dr.' + self.name\n",
        "#     return 'Dr.' + self.name\n",
        "\n",
        "# class Male(Person):\n",
        "#   def __init__(self, name):\n",
        "#     super().__init__(name)\n",
        "\n",
        "# class Female(Person):\n",
        "#   def __init__(self, name):\n",
        "#     super().__init__(name)"
      ],
      "metadata": {
        "id": "wMvTsJ1Kv0Aw"
      },
      "execution_count": null,
      "outputs": []
    },
    {
      "cell_type": "code",
      "source": [
        "p1 = Person('pablo')\n",
        "p1.name\n",
        "p2 = Doctor('pablo')\n",
        "p2.name"
      ],
      "metadata": {
        "colab": {
          "base_uri": "https://localhost:8080/",
          "height": 36
        },
        "id": "bLKADo4AxgNx",
        "outputId": "8003eba7-2989-4450-d848-8cf78f03a23d"
      },
      "execution_count": null,
      "outputs": [
        {
          "output_type": "execute_result",
          "data": {
            "text/plain": [
              "'Dr.pablo'"
            ],
            "application/vnd.google.colaboratory.intrinsic+json": {
              "type": "string"
            }
          },
          "metadata": {},
          "execution_count": 94
        }
      ]
    },
    {
      "cell_type": "code",
      "source": [
        "class Doctor(Person):\n",
        "  def __init__(self, name):\n",
        "    super().__init__('Dr.' + name) # f-string 으로 해도 상관없음"
      ],
      "metadata": {
        "id": "1oi_pzUDxjJh"
      },
      "execution_count": null,
      "outputs": []
    },
    {
      "cell_type": "code",
      "source": [
        "p3 = Doctor('John')\n",
        "p3.name"
      ],
      "metadata": {
        "colab": {
          "base_uri": "https://localhost:8080/",
          "height": 36
        },
        "id": "Xf8nDL9H0hDE",
        "outputId": "c2022ecd-5f1c-4096-8286-cc7e857f7049"
      },
      "execution_count": null,
      "outputs": [
        {
          "output_type": "execute_result",
          "data": {
            "text/plain": [
              "'Dr.John'"
            ],
            "application/vnd.google.colaboratory.intrinsic+json": {
              "type": "string"
            }
          },
          "metadata": {},
          "execution_count": 99
        }
      ]
    },
    {
      "cell_type": "markdown",
      "source": [
        "### 다중상속\n",
        "- override 할때 누구걸 가져올까\n",
        "- method resolution order (MRO)\n",
        "- Animal <- Horse\n",
        "    <- Donkey\n",
        "          <- Mule (Donkey > Horse)\n",
        "          <- Hinny (Horse > Donkey)"
      ],
      "metadata": {
        "id": "VGjv6uyp0kNM"
      }
    },
    {
      "cell_type": "markdown",
      "source": [
        "구현"
      ],
      "metadata": {
        "id": "T9BEHGLg1_8Z"
      }
    },
    {
      "cell_type": "code",
      "source": [
        "class Animal:\n",
        "  def says(self): # 속성없이 메서드만\n",
        "    return '동물이 운다'\n",
        "\n",
        "#--- 자식\n",
        "class Horse(Animal):\n",
        "  def says(self): # override\n",
        "    return '히히힝'\n",
        "\n",
        "class Donkey(Animal):\n",
        "  def says(self):\n",
        "    return '히이호'\n",
        "\n",
        "#-- 손주\n",
        "class Mule(Donkey, Horse):\n",
        "  pass\n",
        "\n",
        "class Hinny(Horse, Donkey):\n",
        "  pass"
      ],
      "metadata": {
        "id": "o9dQg78e1TRJ"
      },
      "execution_count": null,
      "outputs": []
    },
    {
      "cell_type": "code",
      "source": [
        "m = Mule()\n",
        "m.says()"
      ],
      "metadata": {
        "colab": {
          "base_uri": "https://localhost:8080/",
          "height": 36
        },
        "id": "mwnwiERo2d2f",
        "outputId": "1f4ea728-46d0-40a7-bae9-95eedd63b7ff"
      },
      "execution_count": null,
      "outputs": [
        {
          "output_type": "execute_result",
          "data": {
            "text/plain": [
              "'히이호'"
            ],
            "application/vnd.google.colaboratory.intrinsic+json": {
              "type": "string"
            }
          },
          "metadata": {},
          "execution_count": 102
        }
      ]
    },
    {
      "cell_type": "code",
      "source": [
        "Hinny().says()"
      ],
      "metadata": {
        "colab": {
          "base_uri": "https://localhost:8080/",
          "height": 36
        },
        "id": "BGd8kAJF2gdm",
        "outputId": "68cc7376-ccf7-478a-a69f-0a3665143cf6"
      },
      "execution_count": null,
      "outputs": [
        {
          "output_type": "execute_result",
          "data": {
            "text/plain": [
              "'히히힝'"
            ],
            "application/vnd.google.colaboratory.intrinsic+json": {
              "type": "string"
            }
          },
          "metadata": {},
          "execution_count": 103
        }
      ]
    },
    {
      "cell_type": "code",
      "source": [
        "Mule.mro() #order"
      ],
      "metadata": {
        "colab": {
          "base_uri": "https://localhost:8080/"
        },
        "id": "LcRpB_Z12mBW",
        "outputId": "f993bd45-e3ea-4366-b65d-4d73b2f399ed"
      },
      "execution_count": null,
      "outputs": [
        {
          "output_type": "execute_result",
          "data": {
            "text/plain": [
              "[__main__.Mule, __main__.Donkey, __main__.Horse, __main__.Animal, object]"
            ]
          },
          "metadata": {},
          "execution_count": 105
        }
      ]
    },
    {
      "cell_type": "markdown",
      "source": [
        "### 다형성\n",
        "- 형태는 다르지만 기능은 같다.\n",
        "- 객체가 다른데도 같은 메서드를 가지고 있으면 같은 기능 수행할 수 있다."
      ],
      "metadata": {
        "id": "ndytXB5w2raX"
      }
    },
    {
      "cell_type": "code",
      "source": [
        "for animal in [Mule(), Donkey(), Animal()]:\n",
        "  print(animal.says())"
      ],
      "metadata": {
        "colab": {
          "base_uri": "https://localhost:8080/"
        },
        "id": "sF5RFcxJ2yvT",
        "outputId": "d2704816-3c20-4bd3-d71f-22173b82764d"
      },
      "execution_count": null,
      "outputs": [
        {
          "output_type": "stream",
          "name": "stdout",
          "text": [
            "히이호\n",
            "히이호\n",
            "동물이 운다\n"
          ]
        }
      ]
    },
    {
      "cell_type": "markdown",
      "source": [
        "### method type\n",
        "- 인스턴스 메서드\n",
        "  - self가 1번 인자\n",
        "  - 객체 생성 -> 사용 가능\n",
        "- 클래스 메서드\n",
        "  - 객체 생성하지 않아도 사용 가능\n",
        "  - 변수에서 클래스 접근\n",
        "  - `클래스에 접근하는 메서드`\n",
        "  - decorater\n",
        "    - @classmethod\n",
        "  - 예약어 : cls\n",
        "  - 함수(cls)가 첫 인자\n",
        "  - class Person, cls == Person 자체, 틀\n",
        "- 정적 메서드\n",
        "  - 객체 생성하지 않고 접근 가능\n",
        "  - 클래스랑 전혀 상관이 없기 때문에 접근 가능한 것\n",
        "  - 내용, 기능이 비슷해서 클래스 내에 묶어준것\n",
        "- 추상 메서드\n",
        "  - 추상 클래스: abstract 이름만 존재하는 클래스\n",
        "  - 설계도 역할: \n",
        "  - 상속하는 자식클래스 => 반드시 구현해야 하는 메소드를 정의한다.\n",
        "  - obligation을 주는 역할"
      ],
      "metadata": {
        "id": "10vUcttF3M0n"
      }
    },
    {
      "cell_type": "code",
      "source": [
        "a = Mule() # 객체 생성후\n",
        "a.says() # 사용가능"
      ],
      "metadata": {
        "colab": {
          "base_uri": "https://localhost:8080/",
          "height": 36
        },
        "id": "j_eHO8Ga3w4L",
        "outputId": "f8cfc056-42e0-4753-ca93-ab0150beb419"
      },
      "execution_count": null,
      "outputs": [
        {
          "output_type": "execute_result",
          "data": {
            "text/plain": [
              "'히이호'"
            ],
            "application/vnd.google.colaboratory.intrinsic+json": {
              "type": "string"
            }
          },
          "metadata": {},
          "execution_count": 107
        }
      ]
    },
    {
      "cell_type": "code",
      "source": [
        "# Mule.says() -> error"
      ],
      "metadata": {
        "id": "y4AlXyDL3-N9"
      },
      "execution_count": null,
      "outputs": []
    },
    {
      "cell_type": "code",
      "source": [
        "class A:\n",
        "  cnt = 0\n",
        "\n",
        "  @classmethod\n",
        "  def move(cls):\n",
        "    return cls.cnt\n",
        "  # cnt는 instance 변수, 객체 변수가 아니므로 self.cnt X\n",
        "  # self가 아니라 (instance)가 아닌, clas에 접근하므로 !\n",
        "  # cls는 A를 대변"
      ],
      "metadata": {
        "id": "P1MAYru44O9_"
      },
      "execution_count": null,
      "outputs": []
    },
    {
      "cell_type": "code",
      "source": [
        "A().move()"
      ],
      "metadata": {
        "colab": {
          "base_uri": "https://localhost:8080/"
        },
        "id": "c_H_Auq24ZNJ",
        "outputId": "d8b6c515-5d46-4b7d-bc03-af1ff3d197b4"
      },
      "execution_count": null,
      "outputs": [
        {
          "output_type": "execute_result",
          "data": {
            "text/plain": [
              "0"
            ]
          },
          "metadata": {},
          "execution_count": 115
        }
      ]
    },
    {
      "cell_type": "code",
      "source": [
        "A.move()"
      ],
      "metadata": {
        "colab": {
          "base_uri": "https://localhost:8080/"
        },
        "id": "1HYpv7diJGhx",
        "outputId": "d6301e97-a710-42e5-f603-15d3704ed65f"
      },
      "execution_count": null,
      "outputs": [
        {
          "output_type": "execute_result",
          "data": {
            "text/plain": [
              "0"
            ]
          },
          "metadata": {},
          "execution_count": 116
        }
      ]
    },
    {
      "cell_type": "markdown",
      "source": [
        "Person.tuple_object() 객체 생성\n",
        "- 객체 생성 방식을 다시 정의"
      ],
      "metadata": {
        "id": "c8VzuMEILf7j"
      }
    },
    {
      "cell_type": "code",
      "source": [
        "class Person:\n",
        "  def __init__(self, name, age):\n",
        "    self.name = name\n",
        "    self.age = age\n",
        "\n",
        "  def tuple_object():\n",
        "    pass\n",
        "\n",
        "name = 'kim'\n",
        "age = 24\n",
        "p = Person(name, age)\n",
        "\n",
        "# info = name, age\n",
        "# Person.tuple_object(info) #p객체 생성하게"
      ],
      "metadata": {
        "id": "9kGb7-AF4baK"
      },
      "execution_count": null,
      "outputs": []
    },
    {
      "cell_type": "code",
      "source": [
        "p.name"
      ],
      "metadata": {
        "colab": {
          "base_uri": "https://localhost:8080/",
          "height": 36
        },
        "id": "GjVRrQg9Jk6J",
        "outputId": "c39dfa8a-7221-4654-eb0c-1cebe45f96d5"
      },
      "execution_count": null,
      "outputs": [
        {
          "output_type": "execute_result",
          "data": {
            "text/plain": [
              "'kim'"
            ],
            "application/vnd.google.colaboratory.intrinsic+json": {
              "type": "string"
            }
          },
          "metadata": {},
          "execution_count": 119
        }
      ]
    },
    {
      "cell_type": "code",
      "source": [
        "p.age"
      ],
      "metadata": {
        "colab": {
          "base_uri": "https://localhost:8080/"
        },
        "id": "a4IonfKzJm3Y",
        "outputId": "99a474d1-b4ac-4bfa-f12d-6f1efe7675e7"
      },
      "execution_count": null,
      "outputs": [
        {
          "output_type": "execute_result",
          "data": {
            "text/plain": [
              "24"
            ]
          },
          "metadata": {},
          "execution_count": 120
        }
      ]
    },
    {
      "cell_type": "code",
      "source": [
        "class Person:\n",
        "  name = 0\n",
        "  age = 0\n",
        "  def __init__(self, name, age):\n",
        "    self.__name = name\n",
        "    self.__age = age\n",
        "\n",
        "  @classmethod\n",
        "  def tuple_object(cls, input):\n",
        "    cls.name, cls.age = input\n",
        "\n",
        "  @property\n",
        "  def name(self):\n",
        "    self.name = name\n",
        "  \n",
        "  @property\n",
        "  def age(self):\n",
        "    self.age = age\n",
        "\n",
        "\n",
        "\n",
        "name = 'kim'\n",
        "age = 24\n",
        "# p = Person(name, age)\n",
        "\n",
        "info = name, age\n",
        "q = Person.tuple_object(info)\n",
        "Person.name\n",
        "Person.age\n",
        "# q.age"
      ],
      "metadata": {
        "colab": {
          "base_uri": "https://localhost:8080/"
        },
        "id": "TUvigU0TJn4h",
        "outputId": "7a0f5e26-64e1-47d4-bb57-94c6930d9c70"
      },
      "execution_count": null,
      "outputs": [
        {
          "output_type": "execute_result",
          "data": {
            "text/plain": [
              "24"
            ]
          },
          "metadata": {},
          "execution_count": 148
        }
      ]
    },
    {
      "cell_type": "code",
      "source": [
        "p.name"
      ],
      "metadata": {
        "colab": {
          "base_uri": "https://localhost:8080/",
          "height": 36
        },
        "id": "we6qNe4aJ_EG",
        "outputId": "4a426da6-2a07-4bf1-fda0-68db9549b27d"
      },
      "execution_count": null,
      "outputs": [
        {
          "output_type": "execute_result",
          "data": {
            "text/plain": [
              "'kim'"
            ],
            "application/vnd.google.colaboratory.intrinsic+json": {
              "type": "string"
            }
          },
          "metadata": {},
          "execution_count": 123
        }
      ]
    },
    {
      "cell_type": "markdown",
      "source": [
        "정답"
      ],
      "metadata": {
        "id": "hNSOVkDVR145"
      }
    },
    {
      "cell_type": "code",
      "source": [
        "class Person:\n",
        "  def __init__(self, name, age):\n",
        "    self.name = name\n",
        "    self.age = age\n",
        "\n",
        "  @classmethod\n",
        "  def tuple_object(cls, args):\n",
        "    return cls(args[0], args[1]) # Person()\n",
        "\n",
        "name = 'kim'\n",
        "age = 24\n",
        "p = Person(name, age)\n",
        "\n",
        "info = name, age\n",
        "p = Person.tuple_object(info) #p객체 생성하게"
      ],
      "metadata": {
        "id": "a8eASJR1Oang"
      },
      "execution_count": null,
      "outputs": []
    },
    {
      "cell_type": "markdown",
      "source": [
        "class 에 접근하는 cls\n",
        "- 객체를 아무리 만들어도 변하지 않는 것"
      ],
      "metadata": {
        "id": "31jOjqrUQUHG"
      }
    },
    {
      "cell_type": "code",
      "source": [
        "class A:\n",
        "  # 붕어빵 몇개? (객체 몇개 생성?)\n",
        "  cnt = 0\n",
        "\n",
        "  def __init__(self):\n",
        "    A.cnt += 1\n",
        "\n",
        "  @classmethod\n",
        "  def count(cls):\n",
        "    return f'객체수: {cls.cnt}'\n",
        "  \n",
        "\n",
        "A()\n",
        "A()\n",
        "A()\n",
        "A.count() #4"
      ],
      "metadata": {
        "colab": {
          "base_uri": "https://localhost:8080/",
          "height": 36
        },
        "id": "Hs2GPby0OuFT",
        "outputId": "3e94c20c-d5cb-4791-9419-18e2e5eaf9ea"
      },
      "execution_count": null,
      "outputs": [
        {
          "output_type": "execute_result",
          "data": {
            "text/plain": [
              "'객체수: 3'"
            ],
            "application/vnd.google.colaboratory.intrinsic+json": {
              "type": "string"
            }
          },
          "metadata": {},
          "execution_count": 147
        }
      ]
    },
    {
      "cell_type": "markdown",
      "source": [
        "정적 `메서드`"
      ],
      "metadata": {
        "id": "Xur2oS3dSo41"
      }
    },
    {
      "cell_type": "code",
      "source": [
        "class Coyote:\n",
        "  @staticmethod\n",
        "  def says(): # self없음.(객체와 상관x) 딕셔너리에 변수 저장하는 것과 비슷\n",
        "    print('hi')"
      ],
      "metadata": {
        "id": "5iy6pRTZSsL7"
      },
      "execution_count": null,
      "outputs": []
    },
    {
      "cell_type": "code",
      "source": [
        "Coyote.says()"
      ],
      "metadata": {
        "colab": {
          "base_uri": "https://localhost:8080/"
        },
        "id": "zNV1-epsTAPF",
        "outputId": "b0d4bb98-f075-4f2c-f4bc-319b7b2e690e"
      },
      "execution_count": null,
      "outputs": [
        {
          "output_type": "stream",
          "name": "stdout",
          "text": [
            "hi\n"
          ]
        }
      ]
    },
    {
      "cell_type": "markdown",
      "source": [
        "추상 클래스"
      ],
      "metadata": {
        "id": "uLusnEmeTDOn"
      }
    },
    {
      "cell_type": "code",
      "source": [
        "from abc import *\n",
        "\n",
        "class Vehicle(metaclass=ABCMeta):\n",
        "  # 추상클래스 설정\n",
        "  speed = '속도'\n",
        "\n",
        "  @abstractmethod\n",
        "  def go(self):\n",
        "    print('탈 것이 간다.')\n",
        "\n",
        "  '''\n",
        "  def stop(self):\n",
        "    pass \n",
        "  '''\n",
        "\n",
        "class Car(Vehicle):\n",
        "  def go(self):\n",
        "    print(\"\")\n",
        "\n",
        "Car()"
      ],
      "metadata": {
        "colab": {
          "base_uri": "https://localhost:8080/"
        },
        "id": "X2TXaOS_T2Dj",
        "outputId": "ba15eae8-6633-451c-f05d-e0901ac124e4"
      },
      "execution_count": null,
      "outputs": [
        {
          "output_type": "execute_result",
          "data": {
            "text/plain": [
              "<__main__.Car at 0x7fa6e3b26b50>"
            ]
          },
          "metadata": {},
          "execution_count": 157
        }
      ]
    }
  ]
}