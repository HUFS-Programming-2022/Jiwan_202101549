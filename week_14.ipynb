{
  "nbformat": 4,
  "nbformat_minor": 0,
  "metadata": {
    "colab": {
      "name": "week_14.ipynb",
      "provenance": [],
      "collapsed_sections": []
    },
    "kernelspec": {
      "name": "python3",
      "display_name": "Python 3"
    },
    "language_info": {
      "name": "python"
    }
  },
  "cells": [
    {
      "cell_type": "code",
      "source": [
        "\"\"\"\n",
        "Person\n",
        "Customer -> Person (잔액)\n",
        "\n",
        "Product(이름, 수량, 원가, 소비자가, 수입, 이벤트가격, 변경하려고 하는 가격)\n",
        "\n",
        "Worker -> Person (직원)\n",
        "이름, 전화번호, 일한시간 -> 수입계산 / pay\n",
        "\n",
        "Store(추상클래스) 가게에 대한 정보\n",
        "존재하는 상품인지 확인\n",
        "새로운 상품 등록\n",
        "존재하는 고객\n",
        "새로운 고객 등록\n",
        "존재하는 직원 확인\n",
        "새로운 직원 등록\n",
        "짇원의 근무\n",
        "\"\"\""
      ],
      "metadata": {
        "id": "iHSzQkuqSqxq"
      },
      "execution_count": null,
      "outputs": []
    },
    {
      "cell_type": "code",
      "source": [
        "from collections import namedtuple\n",
        "from collections import defaulrdict\n",
        "from abc import ABCMeta, abstractmethod\n",
        "\n",
        "class Store(metaclass=ABCMeta):\n",
        "  store_name = '점포명'\n",
        "  asset = '자산'\n",
        "  profit = '수익'\n",
        "  products = '상품명'\n",
        "  consumers = '고객명을 받습니다'\n",
        "  events = '이벤즈 품목 입력'\n",
        "\n",
        "  @abstractmethod\n",
        "  def append_product(self, product, stock=1):\n",
        "    print()\n",
        "\n",
        "  @abstractmethod\n",
        "  def append_consumer(self, name, phone_number):\n",
        "    print()\n",
        "\n",
        "  def start_event(self, product, discount):\n",
        "    print()\n",
        "\n",
        "  def get_profit(self):\n",
        "    print()"
      ],
      "metadata": {
        "id": "gKTAu_7OV175"
      },
      "execution_count": null,
      "outputs": []
    },
    {
      "cell_type": "markdown",
      "source": [
        "### 함수 II\n",
        "- 일급 객체\n",
        "- 중첩 함수\n",
        "- 익명 함수\n",
        "- 제네레이터\n",
        "- 재귀 함수"
      ],
      "metadata": {
        "id": "6GirIMkTYyZo"
      }
    },
    {
      "cell_type": "markdown",
      "source": [
        "#### 일급 객체\n",
        "- first class object, first class citizen\n",
        "- 파이썬에서는 `함수`도 `일급 객체`다.\n",
        "- 일급 객체의 조건\n",
        "  - 함수의 인자로 전달된다.\n",
        "      def fx(func):\n",
        "  - 함수의 반환값이 된다.\n",
        "      def fx(func):\n",
        "          return func\n",
        "  - 수정, 할당이 된다.\n",
        "      var = fx()\n"
      ],
      "metadata": {
        "id": "GjZ9lsEwaoLd"
      }
    },
    {
      "cell_type": "markdown",
      "source": [
        "함수가 `매개변수`"
      ],
      "metadata": {
        "id": "Ace7WyzFgEot"
      }
    },
    {
      "cell_type": "code",
      "source": [
        "def answer():\n",
        "    print(42)\n",
        "\n",
        "def run_sth(func):\n",
        "    func() # func vs. func()\n",
        "\n",
        "run_sth(answer)"
      ],
      "metadata": {
        "colab": {
          "base_uri": "https://localhost:8080/"
        },
        "id": "OHYGnHCEbj5l",
        "outputId": "171d69b3-ca46-4159-9b57-ae17a9cd809e"
      },
      "execution_count": null,
      "outputs": [
        {
          "output_type": "stream",
          "name": "stdout",
          "text": [
            "42\n"
          ]
        }
      ]
    },
    {
      "cell_type": "code",
      "source": [
        "# func, args\n",
        "def add_args(arg1, arg2): #*args\n",
        "  print(arg1 + arg2)#sum\n",
        "\n",
        "def run_sth2(func, *args):\n",
        "  func(*args)\n",
        "\n",
        "run_sth2(add_args, 3, 5)"
      ],
      "metadata": {
        "colab": {
          "base_uri": "https://localhost:8080/"
        },
        "id": "GjL0H5tKb-Q9",
        "outputId": "538156de-d571-4d5e-88dc-2931958b821a"
      },
      "execution_count": null,
      "outputs": [
        {
          "output_type": "stream",
          "name": "stdout",
          "text": [
            "8\n"
          ]
        }
      ]
    },
    {
      "cell_type": "markdown",
      "source": [
        "#### 중첩함수\n",
        "- 함수 내에서 또 다른 함수를 정의하는 것(선언 안에서 선언)\n",
        "- 내부함수 캡슐화\n",
        "  - 메모리 절약 (outer를 지워도 inner돌아가게 할 수 있음)\n",
        "  - 변수가 섞여서 불필요하게 충돌하는 것을 방지함 (inner에 있는 변수/ 내용에 맞게 boundary 제공)\n",
        "  - 목적에 맞게 변수를 그룹화 할 수 있음, 관리, 책임 명확히"
      ],
      "metadata": {
        "id": "WbCgK5iQcX-N"
      }
    },
    {
      "cell_type": "code",
      "source": [
        "def outer(a, b): #외부함수\n",
        "    def inner(c, d): #내부함수\n",
        "      return c+d\n",
        "    return inner(a, b)\n",
        "\n",
        "outer(1, 1)"
      ],
      "metadata": {
        "colab": {
          "base_uri": "https://localhost:8080/"
        },
        "id": "n0gdU-x9dHMf",
        "outputId": "0596448d-7fd4-4b9f-e9ed-3b4abcad892b"
      },
      "execution_count": null,
      "outputs": [
        {
          "output_type": "execute_result",
          "data": {
            "text/plain": [
              "2"
            ]
          },
          "metadata": {},
          "execution_count": 3
        }
      ]
    },
    {
      "cell_type": "code",
      "source": [
        "inner(1,1) #내부함수는 밖에서 호출할 수 없음"
      ],
      "metadata": {
        "colab": {
          "base_uri": "https://localhost:8080/",
          "height": 176
        },
        "id": "DNwGj0LQdZ2A",
        "outputId": "d6ca6a7b-dad4-43c5-f082-dd16da36652a"
      },
      "execution_count": null,
      "outputs": [
        {
          "output_type": "error",
          "ename": "NameError",
          "evalue": "ignored",
          "traceback": [
            "\u001b[0;31m---------------------------------------------------------------------------\u001b[0m",
            "\u001b[0;31mNameError\u001b[0m                                 Traceback (most recent call last)",
            "\u001b[0;32m<ipython-input-4-280dc56071d1>\u001b[0m in \u001b[0;36m<module>\u001b[0;34m()\u001b[0m\n\u001b[0;32m----> 1\u001b[0;31m \u001b[0minner\u001b[0m\u001b[0;34m(\u001b[0m\u001b[0;36m1\u001b[0m\u001b[0;34m,\u001b[0m\u001b[0;36m1\u001b[0m\u001b[0;34m)\u001b[0m\u001b[0;34m\u001b[0m\u001b[0;34m\u001b[0m\u001b[0m\n\u001b[0m",
            "\u001b[0;31mNameError\u001b[0m: name 'inner' is not defined"
          ]
        }
      ]
    },
    {
      "cell_type": "code",
      "source": [
        "c"
      ],
      "metadata": {
        "colab": {
          "base_uri": "https://localhost:8080/",
          "height": 176
        },
        "id": "iznsG7jidbCx",
        "outputId": "573a629a-ee0f-4080-db5e-44186f168212"
      },
      "execution_count": null,
      "outputs": [
        {
          "output_type": "error",
          "ename": "NameError",
          "evalue": "ignored",
          "traceback": [
            "\u001b[0;31m---------------------------------------------------------------------------\u001b[0m",
            "\u001b[0;31mNameError\u001b[0m                                 Traceback (most recent call last)",
            "\u001b[0;32m<ipython-input-6-2b66fd261ee5>\u001b[0m in \u001b[0;36m<module>\u001b[0;34m()\u001b[0m\n\u001b[0;32m----> 1\u001b[0;31m \u001b[0mc\u001b[0m\u001b[0;34m\u001b[0m\u001b[0;34m\u001b[0m\u001b[0m\n\u001b[0m",
            "\u001b[0;31mNameError\u001b[0m: name 'c' is not defined"
          ]
        }
      ]
    },
    {
      "cell_type": "markdown",
      "source": [
        "함수를 `반환`"
      ],
      "metadata": {
        "id": "BEPK1CIwf7ai"
      }
    },
    {
      "cell_type": "code",
      "source": [
        "def knight(saying):\n",
        "  def inner():\n",
        "    return f'We are the knights who say: {saying}'\n",
        "  return inner\n",
        "\n",
        "a = knight('hi')\n",
        "b = knight('안녕')"
      ],
      "metadata": {
        "id": "_JeW-5SVezBb"
      },
      "execution_count": null,
      "outputs": []
    },
    {
      "cell_type": "markdown",
      "source": [
        "함수를 `할당`"
      ],
      "metadata": {
        "id": "4I0-_4L1f2_t"
      }
    },
    {
      "cell_type": "code",
      "source": [
        "a() # a는 함수, function 자체"
      ],
      "metadata": {
        "colab": {
          "base_uri": "https://localhost:8080/",
          "height": 36
        },
        "id": "49nG6ucAfWEk",
        "outputId": "73317504-1c9a-4608-9d51-e1b97f4b7f16"
      },
      "execution_count": null,
      "outputs": [
        {
          "output_type": "execute_result",
          "data": {
            "text/plain": [
              "'We are the knights who say: hi'"
            ],
            "application/vnd.google.colaboratory.intrinsic+json": {
              "type": "string"
            }
          },
          "metadata": {},
          "execution_count": 12
        }
      ]
    },
    {
      "cell_type": "code",
      "source": [
        "b()"
      ],
      "metadata": {
        "colab": {
          "base_uri": "https://localhost:8080/",
          "height": 36
        },
        "id": "exOQwXDofWh2",
        "outputId": "5759e019-4dfb-4b34-ca61-b496a97d4159"
      },
      "execution_count": null,
      "outputs": [
        {
          "output_type": "execute_result",
          "data": {
            "text/plain": [
              "'We are the knights who say: 안녕'"
            ],
            "application/vnd.google.colaboratory.intrinsic+json": {
              "type": "string"
            }
          },
          "metadata": {},
          "execution_count": 13
        }
      ]
    },
    {
      "cell_type": "markdown",
      "source": [
        "- 외부함수의 인자를 '`참조`'할 수 있다.\n",
        "- `수정/활용`은 안됨"
      ],
      "metadata": {
        "id": "OyuY-LPNgp-q"
      }
    },
    {
      "cell_type": "code",
      "source": [
        "def knight(saying):\n",
        "  def inner():\n",
        "    return f'We are the knights who say: {saying}'\n",
        "    #listA.append(saying)\n",
        "  return inner\n",
        "\n",
        "a = knight('hi')\n",
        "b = knight('안녕')"
      ],
      "metadata": {
        "id": "Suyb5MwChBxf"
      },
      "execution_count": null,
      "outputs": []
    },
    {
      "cell_type": "code",
      "source": [
        "# inner 함수에 외부함수의 인자 saying이 변수 {saying}으로 쓰임\n",
        "def inner():\n",
        "    return f'We are the knight who say: {saying}'"
      ],
      "metadata": {
        "id": "jAeYM5XnfXAD"
      },
      "execution_count": null,
      "outputs": []
    },
    {
      "cell_type": "code",
      "source": [
        "inner() # saying이 없으니 -> 호출시 오류 발생"
      ],
      "metadata": {
        "colab": {
          "base_uri": "https://localhost:8080/",
          "height": 269
        },
        "id": "AfRZ96yngbTt",
        "outputId": "122f4d04-6029-4a2f-9f43-2111af843297"
      },
      "execution_count": null,
      "outputs": [
        {
          "output_type": "error",
          "ename": "NameError",
          "evalue": "ignored",
          "traceback": [
            "\u001b[0;31m---------------------------------------------------------------------------\u001b[0m",
            "\u001b[0;31mNameError\u001b[0m                                 Traceback (most recent call last)",
            "\u001b[0;32m<ipython-input-17-bc10f1654870>\u001b[0m in \u001b[0;36m<module>\u001b[0;34m()\u001b[0m\n\u001b[0;32m----> 1\u001b[0;31m \u001b[0minner\u001b[0m\u001b[0;34m(\u001b[0m\u001b[0;34m)\u001b[0m\u001b[0;34m\u001b[0m\u001b[0;34m\u001b[0m\u001b[0m\n\u001b[0m",
            "\u001b[0;32m<ipython-input-16-fe6b9536554b>\u001b[0m in \u001b[0;36minner\u001b[0;34m()\u001b[0m\n\u001b[1;32m      1\u001b[0m \u001b[0;31m# inner 함수에 변수 saying이 {saying}으로 쓰임\u001b[0m\u001b[0;34m\u001b[0m\u001b[0;34m\u001b[0m\u001b[0;34m\u001b[0m\u001b[0m\n\u001b[1;32m      2\u001b[0m \u001b[0;32mdef\u001b[0m \u001b[0minner\u001b[0m\u001b[0;34m(\u001b[0m\u001b[0;34m)\u001b[0m\u001b[0;34m:\u001b[0m\u001b[0;34m\u001b[0m\u001b[0;34m\u001b[0m\u001b[0m\n\u001b[0;32m----> 3\u001b[0;31m     \u001b[0;32mreturn\u001b[0m \u001b[0;34mf'We are the knight who say: {saying}'\u001b[0m\u001b[0;34m\u001b[0m\u001b[0;34m\u001b[0m\u001b[0m\n\u001b[0m",
            "\u001b[0;31mNameError\u001b[0m: name 'saying' is not defined"
          ]
        }
      ]
    },
    {
      "cell_type": "markdown",
      "source": [
        "#### 클로저 | 중첩함수의 일부분 | closure\n",
        "- 조건\n",
        "  1. 중첩함수일 것\n",
        "  2. 내부함수가 외부함수의 상태값을 `참조`할 것\n",
        "  3. 외부함수의 `리턴값`이 내부함수일 것\n",
        "- 외부함수의 상태값을 기억하는 함수(호출 시 사용 가능)"
      ],
      "metadata": {
        "id": "C76KTh-zgcsh"
      }
    },
    {
      "cell_type": "code",
      "source": [
        "def multiply(x):\n",
        "  def inner(y): #1\n",
        "    return x * y #2\n",
        "  return inner #3"
      ],
      "metadata": {
        "id": "jf05VAwFiHbC"
      },
      "execution_count": null,
      "outputs": []
    },
    {
      "cell_type": "code",
      "source": [
        "m = multiply(5) #여기 인자는 외부함수 매개변수 x\n",
        "n = multiply(6) #var 로 받았지만 객체처럼 활용 -> 재활용의 느낌"
      ],
      "metadata": {
        "id": "mqeYtPfsiQG8"
      },
      "execution_count": null,
      "outputs": []
    },
    {
      "cell_type": "code",
      "source": [
        "m, n"
      ],
      "metadata": {
        "colab": {
          "base_uri": "https://localhost:8080/"
        },
        "id": "72Rc0zUGiY4e",
        "outputId": "fb915663-842f-4518-841f-9ad91e9aa735"
      },
      "execution_count": null,
      "outputs": [
        {
          "output_type": "execute_result",
          "data": {
            "text/plain": [
              "(<function __main__.multiply.<locals>.inner>,\n",
              " <function __main__.multiply.<locals>.inner>)"
            ]
          },
          "metadata": {},
          "execution_count": 4
        }
      ]
    },
    {
      "cell_type": "code",
      "source": [
        "m(10) #여기 인자는 내부함수 인자 y"
      ],
      "metadata": {
        "colab": {
          "base_uri": "https://localhost:8080/"
        },
        "id": "OCRhiWTEibg0",
        "outputId": "6120d01a-0c0e-468e-dee5-879e0b5ad629"
      },
      "execution_count": null,
      "outputs": [
        {
          "output_type": "execute_result",
          "data": {
            "text/plain": [
              "50"
            ]
          },
          "metadata": {},
          "execution_count": 5
        }
      ]
    },
    {
      "cell_type": "code",
      "source": [
        "del(multiply)"
      ],
      "metadata": {
        "id": "-wFnjU8sicir"
      },
      "execution_count": null,
      "outputs": []
    },
    {
      "cell_type": "code",
      "source": [
        "multiply"
      ],
      "metadata": {
        "colab": {
          "base_uri": "https://localhost:8080/",
          "height": 176
        },
        "id": "-LBbyN8052x4",
        "outputId": "445f3c50-6fca-4294-f0bc-73dead95daa0"
      },
      "execution_count": null,
      "outputs": [
        {
          "output_type": "error",
          "ename": "NameError",
          "evalue": "ignored",
          "traceback": [
            "\u001b[0;31m---------------------------------------------------------------------------\u001b[0m",
            "\u001b[0;31mNameError\u001b[0m                                 Traceback (most recent call last)",
            "\u001b[0;32m<ipython-input-8-d8ca8d133468>\u001b[0m in \u001b[0;36m<module>\u001b[0;34m()\u001b[0m\n\u001b[0;32m----> 1\u001b[0;31m \u001b[0mmultiply\u001b[0m\u001b[0;34m\u001b[0m\u001b[0;34m\u001b[0m\u001b[0m\n\u001b[0m",
            "\u001b[0;31mNameError\u001b[0m: name 'multiply' is not defined"
          ]
        }
      ]
    },
    {
      "cell_type": "code",
      "source": [
        "m(10) #외부함수인 multiply를 지워도 할당된 일급객체는 지워지지 않는다"
      ],
      "metadata": {
        "colab": {
          "base_uri": "https://localhost:8080/"
        },
        "id": "QD9BUa996B0M",
        "outputId": "2ea2c186-ab33-4ff6-9d33-2c32e5533060"
      },
      "execution_count": null,
      "outputs": [
        {
          "output_type": "execute_result",
          "data": {
            "text/plain": [
              "50"
            ]
          },
          "metadata": {},
          "execution_count": 9
        }
      ]
    },
    {
      "cell_type": "code",
      "source": [
        "n(10) #->그래서 메모리를 효율적으로 사용하는 것이 가능"
      ],
      "metadata": {
        "colab": {
          "base_uri": "https://localhost:8080/"
        },
        "id": "2lzmQ9xN6DKh",
        "outputId": "d48f83ee-3311-4b5c-d9f0-7d48900b12fb"
      },
      "execution_count": null,
      "outputs": [
        {
          "output_type": "execute_result",
          "data": {
            "text/plain": [
              "60"
            ]
          },
          "metadata": {},
          "execution_count": 10
        }
      ]
    },
    {
      "cell_type": "code",
      "source": [
        "def add(a, b):\n",
        "    return sum(a + b)\n",
        "\n",
        "#리턴값 * 리턴값 (8 * 8)\n",
        "#closure function\n",
        "def square(x):\n",
        "    def inner(x):\n",
        "        return x * x\n",
        "    return inner\n",
        "\n",
        "k = square(8)\n",
        "k(8)"
      ],
      "metadata": {
        "colab": {
          "base_uri": "https://localhost:8080/"
        },
        "id": "RVH9RR0y6eaz",
        "outputId": "af98825c-326d-4c9f-a737-935458c05e10"
      },
      "execution_count": null,
      "outputs": [
        {
          "output_type": "execute_result",
          "data": {
            "text/plain": [
              "64"
            ]
          },
          "metadata": {},
          "execution_count": 11
        }
      ]
    },
    {
      "cell_type": "code",
      "source": [
        "def add(a, b): #4, 5\n",
        "    return a + b\n",
        "\n",
        "# def add(*args):\n",
        "#   return sum(*args)\n",
        "\n",
        "#리턴값 * 리턴값 (9 * 9)\n",
        "#closure function\n",
        "def square(func, *args):\n",
        "    x = func(*args)\n",
        "    def inner(x):\n",
        "        return x * x\n",
        "    return inner\n",
        "\n",
        "k = square(add, 4, 5)\n",
        "k(8)"
      ],
      "metadata": {
        "colab": {
          "base_uri": "https://localhost:8080/"
        },
        "id": "X4OaueLI88nN",
        "outputId": "d1fb4b43-dbc9-4313-b5fc-1f423bef7d49"
      },
      "execution_count": null,
      "outputs": [
        {
          "output_type": "execute_result",
          "data": {
            "text/plain": [
              "64"
            ]
          },
          "metadata": {},
          "execution_count": 21
        }
      ]
    },
    {
      "cell_type": "code",
      "source": [
        "def add(a, b):\n",
        "  return a + b\n",
        "\n",
        "def square(func):\n",
        "  def inner(a, b):\n",
        "    x = func(a, b)\n",
        "    return x * x\n",
        "  return inner"
      ],
      "metadata": {
        "id": "AP8_XcAO-o63"
      },
      "execution_count": null,
      "outputs": []
    },
    {
      "cell_type": "code",
      "source": [
        "k = square(add)\n",
        "k(4, 5)"
      ],
      "metadata": {
        "colab": {
          "base_uri": "https://localhost:8080/"
        },
        "id": "TCzvCZWtXYC0",
        "outputId": "eea1c0e1-a8f2-4a85-89c0-0da6f41e8b1c"
      },
      "execution_count": null,
      "outputs": [
        {
          "output_type": "execute_result",
          "data": {
            "text/plain": [
              "81"
            ]
          },
          "metadata": {},
          "execution_count": 4
        }
      ]
    },
    {
      "cell_type": "code",
      "source": [
        "fx = square(add)\n",
        "fx(3, 3)"
      ],
      "metadata": {
        "colab": {
          "base_uri": "https://localhost:8080/"
        },
        "id": "3WB5GTdzXuk6",
        "outputId": "919c30f5-14fa-41c4-a8fb-ec1c014deb0d"
      },
      "execution_count": null,
      "outputs": [
        {
          "output_type": "execute_result",
          "data": {
            "text/plain": [
              "36"
            ]
          },
          "metadata": {},
          "execution_count": 5
        }
      ]
    },
    {
      "cell_type": "markdown",
      "source": [
        "#### 데코레이터\n",
        "- 메인 함수에 또 다른 함수를 취해 반환할 수 있게 함.\n",
        "- 재활용성 높음\n",
        "- 가독성, 직관성이 높다"
      ],
      "metadata": {
        "id": "rKRuhTVhYQYx"
      }
    },
    {
      "cell_type": "code",
      "source": [
        "#클로저 함수는 데코레이터로 가능함 (내가 정의한)\n",
        "@square\n",
        "def plus(a, b):\n",
        "  return a + b"
      ],
      "metadata": {
        "id": "3ob-WnPSYieD"
      },
      "execution_count": null,
      "outputs": []
    },
    {
      "cell_type": "code",
      "source": [
        "plus(4, 5)  #데코레이터가 있으면, 클로저 함수를 탄다. (inner 내부 함수만 돌려도 외부함수를 탐)\n",
        "# outer 함수를 지워도 inner 함수가 지워지지 않는 것과 비슷?"
      ],
      "metadata": {
        "colab": {
          "base_uri": "https://localhost:8080/"
        },
        "id": "T9sFnaMhYrx3",
        "outputId": "b4ed206c-9da0-4e69-90d0-d7791b9a34e3"
      },
      "execution_count": null,
      "outputs": [
        {
          "output_type": "execute_result",
          "data": {
            "text/plain": [
              "81"
            ]
          },
          "metadata": {},
          "execution_count": 7
        }
      ]
    },
    {
      "cell_type": "markdown",
      "source": [
        "#### scope | 범위\n",
        "- 전역: global\n",
        "- 지역: local\n",
        "- `nonlocal`"
      ],
      "metadata": {
        "id": "PK_0Fy1NYtZs"
      }
    },
    {
      "cell_type": "code",
      "source": [
        "a = 1 #global\n",
        "def f(a, b):\n",
        "  x = 2 #local\n",
        "  return a + b\n",
        "\n",
        "def square(func):\n",
        "  #local -> 변수는 참조만 가능\n",
        "  def inner(a, b): #nonlocal *\n",
        "    result = func(a, b)\n",
        "    return result * result\n",
        "  return inner\n",
        "\n",
        "# local에 있는 변수를 활용하고 싶다면 ? -> nonlocal 활용"
      ],
      "metadata": {
        "id": "9f8ccZlvYtWI"
      },
      "execution_count": null,
      "outputs": []
    },
    {
      "cell_type": "code",
      "source": [
        "a = 3 #global\n",
        "\n",
        "def outer(c):\n",
        "  b = 5 #local\n",
        "  def inner():\n",
        "    # c= 9\n",
        "    #c = 999 #nonlocal\n",
        "    c += 1 # 참조, 읽기는 되지만 쓰기는 안됨\n",
        "    return c\n",
        "  return inner()\n",
        "\n",
        "outer(9)"
      ],
      "metadata": {
        "colab": {
          "base_uri": "https://localhost:8080/",
          "height": 368
        },
        "id": "b-VYVikCYtTG",
        "outputId": "c5a26b39-a28f-424b-a923-c64824259f6d"
      },
      "execution_count": null,
      "outputs": [
        {
          "output_type": "error",
          "ename": "UnboundLocalError",
          "evalue": "ignored",
          "traceback": [
            "\u001b[0;31m---------------------------------------------------------------------------\u001b[0m",
            "\u001b[0;31mUnboundLocalError\u001b[0m                         Traceback (most recent call last)",
            "\u001b[0;32m<ipython-input-11-4bcc2f6f9548>\u001b[0m in \u001b[0;36m<module>\u001b[0;34m()\u001b[0m\n\u001b[1;32m     10\u001b[0m   \u001b[0;32mreturn\u001b[0m \u001b[0minner\u001b[0m\u001b[0;34m(\u001b[0m\u001b[0;34m)\u001b[0m\u001b[0;34m\u001b[0m\u001b[0;34m\u001b[0m\u001b[0m\n\u001b[1;32m     11\u001b[0m \u001b[0;34m\u001b[0m\u001b[0m\n\u001b[0;32m---> 12\u001b[0;31m \u001b[0mouter\u001b[0m\u001b[0;34m(\u001b[0m\u001b[0;36m9\u001b[0m\u001b[0;34m)\u001b[0m\u001b[0;34m\u001b[0m\u001b[0;34m\u001b[0m\u001b[0m\n\u001b[0m",
            "\u001b[0;32m<ipython-input-11-4bcc2f6f9548>\u001b[0m in \u001b[0;36mouter\u001b[0;34m(c)\u001b[0m\n\u001b[1;32m      8\u001b[0m     \u001b[0mc\u001b[0m \u001b[0;34m+=\u001b[0m \u001b[0;36m1\u001b[0m\u001b[0;34m\u001b[0m\u001b[0;34m\u001b[0m\u001b[0m\n\u001b[1;32m      9\u001b[0m     \u001b[0;32mreturn\u001b[0m \u001b[0mc\u001b[0m\u001b[0;34m\u001b[0m\u001b[0;34m\u001b[0m\u001b[0m\n\u001b[0;32m---> 10\u001b[0;31m   \u001b[0;32mreturn\u001b[0m \u001b[0minner\u001b[0m\u001b[0;34m(\u001b[0m\u001b[0;34m)\u001b[0m\u001b[0;34m\u001b[0m\u001b[0;34m\u001b[0m\u001b[0m\n\u001b[0m\u001b[1;32m     11\u001b[0m \u001b[0;34m\u001b[0m\u001b[0m\n\u001b[1;32m     12\u001b[0m \u001b[0mouter\u001b[0m\u001b[0;34m(\u001b[0m\u001b[0;36m9\u001b[0m\u001b[0;34m)\u001b[0m\u001b[0;34m\u001b[0m\u001b[0;34m\u001b[0m\u001b[0m\n",
            "\u001b[0;32m<ipython-input-11-4bcc2f6f9548>\u001b[0m in \u001b[0;36minner\u001b[0;34m()\u001b[0m\n\u001b[1;32m      6\u001b[0m     \u001b[0;31m# c= 9\u001b[0m\u001b[0;34m\u001b[0m\u001b[0;34m\u001b[0m\u001b[0;34m\u001b[0m\u001b[0m\n\u001b[1;32m      7\u001b[0m     \u001b[0;31m#c = 999 #nonlocal\u001b[0m\u001b[0;34m\u001b[0m\u001b[0;34m\u001b[0m\u001b[0;34m\u001b[0m\u001b[0m\n\u001b[0;32m----> 8\u001b[0;31m     \u001b[0mc\u001b[0m \u001b[0;34m+=\u001b[0m \u001b[0;36m1\u001b[0m\u001b[0;34m\u001b[0m\u001b[0;34m\u001b[0m\u001b[0m\n\u001b[0m\u001b[1;32m      9\u001b[0m     \u001b[0;32mreturn\u001b[0m \u001b[0mc\u001b[0m\u001b[0;34m\u001b[0m\u001b[0;34m\u001b[0m\u001b[0m\n\u001b[1;32m     10\u001b[0m   \u001b[0;32mreturn\u001b[0m \u001b[0minner\u001b[0m\u001b[0;34m(\u001b[0m\u001b[0;34m)\u001b[0m\u001b[0;34m\u001b[0m\u001b[0;34m\u001b[0m\u001b[0m\n",
            "\u001b[0;31mUnboundLocalError\u001b[0m: local variable 'c' referenced before assignment"
          ]
        }
      ]
    },
    {
      "cell_type": "markdown",
      "source": [
        "nonlocal 활용 - scope 범위를 바꿔주기"
      ],
      "metadata": {
        "id": "bzPrCLldczLw"
      }
    },
    {
      "cell_type": "code",
      "source": [
        "a = 3 #global\n",
        "\n",
        "def outer(c):\n",
        "  b = 5 #local\n",
        "  def inner():\n",
        "    nonlocal c\n",
        "    c += 1\n",
        "    return c\n",
        "  return inner()\n",
        "\n",
        "outer(9)"
      ],
      "metadata": {
        "colab": {
          "base_uri": "https://localhost:8080/"
        },
        "id": "zHRqnbz3bx5Z",
        "outputId": "46a60183-a174-414a-b430-00cdfaf3093c"
      },
      "execution_count": null,
      "outputs": [
        {
          "output_type": "execute_result",
          "data": {
            "text/plain": [
              "10"
            ]
          },
          "metadata": {},
          "execution_count": 13
        }
      ]
    },
    {
      "cell_type": "markdown",
      "source": [
        "#### 실습\n",
        "- fx1 : speed, limit 내 속도가 제한 속도를 위반하는지 T/F\n",
        "- fx2: 클로저, 초과할 경우 얼마나 초과하는지 프린트하는 함수\n",
        "- 실행은 데코레이터로 !"
      ],
      "metadata": {
        "id": "GLT-Mudkc8L2"
      }
    },
    {
      "cell_type": "code",
      "source": [
        "#closure\n",
        "def outer(func):\n",
        "  def inner(a, b):\n",
        "    result = func(a, b)\n",
        "    if not result:\n",
        "      print(f'{a - b}km/h 만큼 속도를 위반하셨습니다.')\n",
        "    return\n",
        "  return inner\n",
        "\n",
        "@outer\n",
        "def check(speed, limit):\n",
        "  if speed > limit:\n",
        "    return False\n",
        "  return True"
      ],
      "metadata": {
        "id": "JmCE-3LQdHzM"
      },
      "execution_count": null,
      "outputs": []
    },
    {
      "cell_type": "code",
      "source": [
        "check(300, 200)"
      ],
      "metadata": {
        "colab": {
          "base_uri": "https://localhost:8080/"
        },
        "id": "sR2i4bwchpj5",
        "outputId": "e3d9bf3b-92b1-4d72-c0b2-873a22f417e6"
      },
      "execution_count": null,
      "outputs": [
        {
          "output_type": "stream",
          "name": "stdout",
          "text": [
            "100km/h 만큼 속도를 위반하셨습니다.\n"
          ]
        }
      ]
    },
    {
      "cell_type": "markdown",
      "source": [
        "#### 익명함수 | lambda\n",
        "- 이름이 없다.\n",
        "- 예약어가 없다.\n",
        "def is_speeding():\n",
        "  return\n",
        "  - def, return\n",
        "  - is_speeding\n",
        "- 함수의 꽃은 `재사용`\n",
        "- 재사용이 아닌 `빠른` 연산만 필요할때-> 직관적이지 못함\n",
        "- 단순한 용도의 함수가 필요할 경우 사용\n",
        "- 잦은 사용은 권하지 않음\n",
        "- lambda x: <x를 요리할 코드> <- 형식 (인자 x)"
      ],
      "metadata": {
        "id": "Q_Q5x5V6iMs3"
      }
    },
    {
      "cell_type": "code",
      "source": [
        "(lambda x: x + 1)(2)"
      ],
      "metadata": {
        "colab": {
          "base_uri": "https://localhost:8080/"
        },
        "id": "L3KVhxKqi2OK",
        "outputId": "f5a60dc6-9bc7-4ba4-aebc-ed454588e241"
      },
      "execution_count": null,
      "outputs": [
        {
          "output_type": "execute_result",
          "data": {
            "text/plain": [
              "3"
            ]
          },
          "metadata": {},
          "execution_count": 19
        }
      ]
    },
    {
      "cell_type": "code",
      "source": [
        "def add_one(x):\n",
        "  return x + 1\n",
        "\n",
        "add_one(2)\n",
        "# 직관적이지 않지만 단순"
      ],
      "metadata": {
        "id": "PxQFIoSdkd29"
      },
      "execution_count": null,
      "outputs": []
    },
    {
      "cell_type": "code",
      "source": [
        "f = lambda x: x + 1\n",
        "f(3)"
      ],
      "metadata": {
        "colab": {
          "base_uri": "https://localhost:8080/"
        },
        "id": "XoEfhDh4khSi",
        "outputId": "931545ef-ac76-4acb-ad50-bf3826397f6e"
      },
      "execution_count": null,
      "outputs": [
        {
          "output_type": "execute_result",
          "data": {
            "text/plain": [
              "4"
            ]
          },
          "metadata": {},
          "execution_count": 21
        }
      ]
    },
    {
      "cell_type": "code",
      "source": [
        "# 변수 여러개 쓰고 싶다면,\n",
        "f = lambda x, y: x + y\n",
        "f(5, 4)"
      ],
      "metadata": {
        "colab": {
          "base_uri": "https://localhost:8080/"
        },
        "id": "WVTHr3NLkuyc",
        "outputId": "53d2836c-f450-4a60-a596-78ddf03b6016"
      },
      "execution_count": null,
      "outputs": [
        {
          "output_type": "execute_result",
          "data": {
            "text/plain": [
              "9"
            ]
          },
          "metadata": {},
          "execution_count": 23
        }
      ]
    },
    {
      "cell_type": "markdown",
      "source": [
        "#### 실습\n",
        "- 단어가 들어왔을 때 첫글자 대문자로 바꾸고 단어 끝에 !를 붙이도록 람다를 만들자.\n",
        "- 예: hello -> Hello!"
      ],
      "metadata": {
        "id": "-xcPIFPAlAmY"
      }
    },
    {
      "cell_type": "code",
      "source": [
        "# def word_capital_exclaim():\n",
        "#   return\n",
        "\n",
        "(lambda x: x[0].upper() +x[1::] + '!')('hello')"
      ],
      "metadata": {
        "colab": {
          "base_uri": "https://localhost:8080/",
          "height": 36
        },
        "id": "MiurLP9QlS-8",
        "outputId": "2f28759e-c8ae-4ce2-fc38-9b4ca67f49a1"
      },
      "execution_count": null,
      "outputs": [
        {
          "output_type": "execute_result",
          "data": {
            "text/plain": [
              "'Hello!'"
            ],
            "application/vnd.google.colaboratory.intrinsic+json": {
              "type": "string"
            }
          },
          "metadata": {},
          "execution_count": 27
        }
      ]
    },
    {
      "cell_type": "code",
      "source": [
        "f = lambda x: x.capitalize() + '!'\n",
        "f('hello')"
      ],
      "metadata": {
        "colab": {
          "base_uri": "https://localhost:8080/",
          "height": 36
        },
        "id": "e74xKecDl60D",
        "outputId": "b3960f5c-89ef-4ba8-cc79-b5e0f4ca21ba"
      },
      "execution_count": null,
      "outputs": [
        {
          "output_type": "execute_result",
          "data": {
            "text/plain": [
              "'Hello!'"
            ],
            "application/vnd.google.colaboratory.intrinsic+json": {
              "type": "string"
            }
          },
          "metadata": {},
          "execution_count": 28
        }
      ]
    },
    {
      "cell_type": "markdown",
      "source": [
        "#### 제너레이터\n",
        "- return -> yield\n",
        "- 시퀀스를 순회할 때 `시퀀스`를 생성하는 객체\n",
        "- 한번 사용되고 `사라짐` => 메모리 효율이 좋음"
      ],
      "metadata": {
        "id": "X6tKJrZZmM32"
      }
    },
    {
      "cell_type": "code",
      "source": [
        "# def :\n",
        "#   yield "
      ],
      "metadata": {
        "id": "ZjK4n9eGmbH-"
      },
      "execution_count": null,
      "outputs": []
    },
    {
      "cell_type": "code",
      "source": [
        "a = [1, 2, 3] #list -> 1. 2. 3 하나씩 꺼내줌 / return은 list자체 반환"
      ],
      "metadata": {
        "id": "B3MHz_MpmeUH"
      },
      "execution_count": null,
      "outputs": []
    },
    {
      "cell_type": "code",
      "source": [
        "def print_number(num):\n",
        "    for i in range(num):\n",
        "        yield i"
      ],
      "metadata": {
        "id": "vL9IbrlXmp9Q"
      },
      "execution_count": null,
      "outputs": []
    },
    {
      "cell_type": "code",
      "source": [
        "print_number(a) #-> generator 형성, 제너레이터는 하나의 object"
      ],
      "metadata": {
        "colab": {
          "base_uri": "https://localhost:8080/"
        },
        "id": "FO0DoaFImwv9",
        "outputId": "db9e129b-1cbf-4e7c-a69a-02e86f33831f"
      },
      "execution_count": null,
      "outputs": [
        {
          "output_type": "execute_result",
          "data": {
            "text/plain": [
              "<generator object print_number at 0x7f4d5627dc50>"
            ]
          },
          "metadata": {},
          "execution_count": 32
        }
      ]
    },
    {
      "cell_type": "code",
      "source": [
        "fx = print_number(10) #시퀀스 객체이므로 순회를 해야 출력이 된다.\n",
        "for i in fx:\n",
        "  print(i)"
      ],
      "metadata": {
        "colab": {
          "base_uri": "https://localhost:8080/"
        },
        "id": "7nB0Cf1_mxld",
        "outputId": "f969209a-6ccf-488d-d8bc-8faa0d1ed74c"
      },
      "execution_count": null,
      "outputs": [
        {
          "output_type": "stream",
          "name": "stdout",
          "text": [
            "0\n",
            "1\n",
            "2\n",
            "3\n",
            "4\n",
            "5\n",
            "6\n",
            "7\n",
            "8\n",
            "9\n"
          ]
        }
      ]
    },
    {
      "cell_type": "code",
      "source": [
        "# but 두 번 돌리는 것은 안됨, 이미 메모리에서 사라짐 !\n",
        "for i in fx:\n",
        "  print(i) #-> 아무것도 출력되지 않음"
      ],
      "metadata": {
        "id": "R-2gukMMnkhS"
      },
      "execution_count": null,
      "outputs": []
    },
    {
      "cell_type": "markdown",
      "source": [
        "제너레이터는 반복자와 같은 루프의 작용을 컨트롤하기 위해 쓰여지는 함수 또는 시퀀스"
      ],
      "metadata": {
        "id": "Fzk7sd0SE9aF"
      }
    },
    {
      "cell_type": "code",
      "source": [
        "def square_numbers(nums):\n",
        "    result = []\n",
        "    for i in nums:\n",
        "        result.append(i * i)\n",
        "    return result\n",
        "\n",
        "my_nums = square_numbers([1, 2, 3, 4, 5])\n",
        "print(my_nums)"
      ],
      "metadata": {
        "colab": {
          "base_uri": "https://localhost:8080/"
        },
        "id": "Ld_VHcH2FgbZ",
        "outputId": "123b8c13-ed18-4a7a-bc11-bf78acc6bf5c"
      },
      "execution_count": null,
      "outputs": [
        {
          "output_type": "stream",
          "name": "stdout",
          "text": [
            "[1, 4, 9, 16, 25]\n"
          ]
        }
      ]
    },
    {
      "cell_type": "code",
      "source": [
        "def square_numbers(nums):\n",
        "  for i in nums:\n",
        "    yield i * i\n",
        "\n",
        "my_nums = square_numbers([1,2,3,4,5])\n",
        "print(my_nums)\n",
        "for i in my_nums:\n",
        "  print(i)"
      ],
      "metadata": {
        "colab": {
          "base_uri": "https://localhost:8080/"
        },
        "id": "_JFW340WFgX4",
        "outputId": "dff9c0b2-67ac-4572-cce7-c1ceaa7f3b47"
      },
      "execution_count": null,
      "outputs": [
        {
          "output_type": "stream",
          "name": "stdout",
          "text": [
            "<generator object square_numbers at 0x7f3b66c59cd0>\n",
            "1\n",
            "4\n",
            "9\n",
            "16\n",
            "25\n"
          ]
        }
      ]
    },
    {
      "cell_type": "code",
      "source": [
        "my_nums = (x*x for x in [1,2,3,4,5]) #list comprihension-> generator 형성\n",
        "\n",
        "print(my_nums)\n",
        "for num in my_nums:\n",
        "  print(num)"
      ],
      "metadata": {
        "colab": {
          "base_uri": "https://localhost:8080/"
        },
        "id": "DjezNcLtFgVU",
        "outputId": "877b102d-51e8-42df-a5be-94e4fccb5df0"
      },
      "execution_count": null,
      "outputs": [
        {
          "output_type": "stream",
          "name": "stdout",
          "text": [
            "<generator object <genexpr> at 0x7f3b6ebea450>\n",
            "1\n",
            "4\n",
            "9\n",
            "16\n",
            "25\n"
          ]
        }
      ]
    },
    {
      "cell_type": "markdown",
      "source": [
        "#### 실습\n",
        "range() 구현하기\n",
        "- 제너레이터 사용\n",
        "- def my_range(start, end, step):\n",
        "    yield\n",
        "\n",
        "ranger = my_range(a, b, c)"
      ],
      "metadata": {
        "id": "VLer6uwZn3qJ"
      }
    },
    {
      "cell_type": "code",
      "source": [
        "# def my_range(start, end, step):\n",
        "#     result = []\n",
        "#     def inner(start):\n",
        "#       start += 1\n",
        "#     return inner(start+step)\n",
        "# f = my_range()"
      ],
      "metadata": {
        "id": "dC2zzZ3CoT6H"
      },
      "execution_count": null,
      "outputs": []
    },
    {
      "cell_type": "code",
      "source": [
        "def my_range(start, end, step=1):\n",
        "  i = start\n",
        "  while i < end:\n",
        "    yield i\n",
        "    i += step\n",
        "\n",
        "ranger = my_range(4, 11)\n",
        "for i in ranger:\n",
        "  print(i)"
      ],
      "metadata": {
        "colab": {
          "base_uri": "https://localhost:8080/"
        },
        "id": "LsKe9nchKS9z",
        "outputId": "a463c90b-90ac-40ea-9010-9d57783b70b5"
      },
      "execution_count": null,
      "outputs": [
        {
          "output_type": "stream",
          "name": "stdout",
          "text": [
            "4\n",
            "5\n",
            "6\n",
            "7\n",
            "8\n",
            "9\n",
            "10\n"
          ]
        }
      ]
    },
    {
      "cell_type": "code",
      "source": [
        "def my_range(end, start=None, step=1):\n",
        "  if start is None:\n",
        "    start = 0\n",
        "  else:\n",
        "    end, start = start, end\n",
        "\n",
        "  i = start\n",
        "  while i < end:\n",
        "    yield i\n",
        "    i += step"
      ],
      "metadata": {
        "id": "j9SxEbStKS6c"
      },
      "execution_count": null,
      "outputs": []
    },
    {
      "cell_type": "code",
      "source": [
        "ranger = my_range(10)\n",
        "for i in ranger:\n",
        "  print(i)"
      ],
      "metadata": {
        "colab": {
          "base_uri": "https://localhost:8080/"
        },
        "id": "btmnk2YxKS3y",
        "outputId": "d8f55c3d-b312-4500-a675-107ee328c908"
      },
      "execution_count": null,
      "outputs": [
        {
          "output_type": "stream",
          "name": "stdout",
          "text": [
            "0\n",
            "1\n",
            "2\n",
            "3\n",
            "4\n",
            "5\n",
            "6\n",
            "7\n",
            "8\n",
            "9\n"
          ]
        }
      ]
    },
    {
      "cell_type": "code",
      "source": [
        "# list comp\n",
        "[i for i in range(5)]"
      ],
      "metadata": {
        "colab": {
          "base_uri": "https://localhost:8080/"
        },
        "id": "hnHxPz97Krx4",
        "outputId": "b13f1495-b780-401d-e19f-3bae6e186d61"
      },
      "execution_count": null,
      "outputs": [
        {
          "output_type": "execute_result",
          "data": {
            "text/plain": [
              "[0, 1, 2, 3, 4]"
            ]
          },
          "metadata": {},
          "execution_count": 44
        }
      ]
    },
    {
      "cell_type": "code",
      "source": [
        "ranger = (i for i in range(5)) #type -> generator\n",
        "\n",
        "for i in ranger:\n",
        "  print(i)"
      ],
      "metadata": {
        "colab": {
          "base_uri": "https://localhost:8080/"
        },
        "id": "-5Dx8rl6Kwt_",
        "outputId": "f16f2870-28e1-423b-b736-6bb5a5f7e39b"
      },
      "execution_count": null,
      "outputs": [
        {
          "output_type": "stream",
          "name": "stdout",
          "text": [
            "0\n",
            "1\n",
            "2\n",
            "3\n",
            "4\n"
          ]
        }
      ]
    },
    {
      "cell_type": "code",
      "source": [
        "ranger = my_range(1, 10, 1)"
      ],
      "metadata": {
        "id": "AlrUWRtKK7Rc"
      },
      "execution_count": null,
      "outputs": []
    },
    {
      "cell_type": "code",
      "source": [
        "for i in ranger:\n",
        "  print(i)"
      ],
      "metadata": {
        "colab": {
          "base_uri": "https://localhost:8080/"
        },
        "id": "yd4nxlVsAErJ",
        "outputId": "1777023a-e1a2-4b4f-d980-2f6c3c9b6fd0"
      },
      "execution_count": null,
      "outputs": [
        {
          "output_type": "stream",
          "name": "stdout",
          "text": [
            "[1, 2, 3, 4, 5, 6, 7, 8, 9]\n",
            "None\n"
          ]
        }
      ]
    },
    {
      "cell_type": "markdown",
      "source": [
        "#### 재귀함수\n",
        "- while loop를 위해서 쓰지는 않음 -> 너무 깊으면 런타임에러\n",
        "- 너무 깊으면 예외 발색 => 주의\n",
        "- 자기 자신을 호출하는 경우\n",
        "- [[1, 2, 3],[[[1,1]],4,5]] -> [1,2,3,1,1,4,5]\n"
      ],
      "metadata": {
        "id": "GuoT24wGAW7m"
      }
    },
    {
      "cell_type": "code",
      "source": [
        "def flatten(sent):\n",
        "    for word in sent:\n",
        "        if isinstance(word, list):\n",
        "            #true\n",
        "            for sub_word in flatten(word):\n",
        "              yield sub_word\n",
        "        else:\n",
        "            #false\n",
        "            yield word"
      ],
      "metadata": {
        "id": "W8vvxKmLA9y_"
      },
      "execution_count": null,
      "outputs": []
    },
    {
      "cell_type": "code",
      "source": [
        "isinstance('h', int)"
      ],
      "metadata": {
        "colab": {
          "base_uri": "https://localhost:8080/"
        },
        "id": "W1XLmpE5BJbK",
        "outputId": "ee0a5900-47fc-48ed-d452-a52bc09b8863"
      },
      "execution_count": null,
      "outputs": [
        {
          "output_type": "execute_result",
          "data": {
            "text/plain": [
              "False"
            ]
          },
          "metadata": {},
          "execution_count": 8
        }
      ]
    },
    {
      "cell_type": "code",
      "source": [
        "a = [[1,2,3], [[[1, 1]], 4, 5]]\n",
        "flatten(a)"
      ],
      "metadata": {
        "colab": {
          "base_uri": "https://localhost:8080/"
        },
        "id": "PKjC4YMWBMJ9",
        "outputId": "f791903d-64bb-4ec2-e50d-5b0c80c9f444"
      },
      "execution_count": null,
      "outputs": [
        {
          "output_type": "execute_result",
          "data": {
            "text/plain": [
              "<generator object flatten at 0x7f3b6ebb4550>"
            ]
          },
          "metadata": {},
          "execution_count": 9
        }
      ]
    },
    {
      "cell_type": "code",
      "source": [
        "for i in flatten(a):\n",
        "  print(i)"
      ],
      "metadata": {
        "colab": {
          "base_uri": "https://localhost:8080/"
        },
        "id": "CBnZYIH5CS7P",
        "outputId": "1477578c-4721-47f4-f54e-d3d6599f86e9"
      },
      "execution_count": null,
      "outputs": [
        {
          "output_type": "stream",
          "name": "stdout",
          "text": [
            "1\n",
            "2\n",
            "3\n",
            "1\n",
            "1\n",
            "4\n",
            "5\n"
          ]
        }
      ]
    },
    {
      "cell_type": "markdown",
      "source": [
        "### 예외 처리 | exception handling\n",
        "- 목적: 프로그램 정상 종료\n",
        "- 예외 발생 시, 사용자에게 알리고 조치 취함\n",
        "- 소프트랜딩"
      ],
      "metadata": {
        "id": "jRO-QLPwCYk7"
      }
    },
    {
      "cell_type": "code",
      "source": [
        "# \n",
        "10 / 0"
      ],
      "metadata": {
        "colab": {
          "base_uri": "https://localhost:8080/",
          "height": 176
        },
        "id": "bifn1ylODZax",
        "outputId": "84eb26f0-27fc-4266-afe8-a02bc3548e2e"
      },
      "execution_count": null,
      "outputs": [
        {
          "output_type": "error",
          "ename": "ZeroDivisionError",
          "evalue": "ignored",
          "traceback": [
            "\u001b[0;31m---------------------------------------------------------------------------\u001b[0m",
            "\u001b[0;31mZeroDivisionError\u001b[0m                         Traceback (most recent call last)",
            "\u001b[0;32m<ipython-input-11-cd759d3fcf39>\u001b[0m in \u001b[0;36m<module>\u001b[0;34m()\u001b[0m\n\u001b[0;32m----> 1\u001b[0;31m \u001b[0;36m10\u001b[0m \u001b[0;34m/\u001b[0m \u001b[0;36m0\u001b[0m\u001b[0;34m\u001b[0m\u001b[0;34m\u001b[0m\u001b[0m\n\u001b[0m",
            "\u001b[0;31mZeroDivisionError\u001b[0m: division by zero"
          ]
        }
      ]
    },
    {
      "cell_type": "code",
      "source": [
        "# \n",
        "int('ssssss')"
      ],
      "metadata": {
        "colab": {
          "base_uri": "https://localhost:8080/",
          "height": 176
        },
        "id": "0MTK5XCpDahc",
        "outputId": "63c1c86e-7101-4326-c1d8-6967ff53912e"
      },
      "execution_count": null,
      "outputs": [
        {
          "output_type": "error",
          "ename": "ValueError",
          "evalue": "ignored",
          "traceback": [
            "\u001b[0;31m---------------------------------------------------------------------------\u001b[0m",
            "\u001b[0;31mValueError\u001b[0m                                Traceback (most recent call last)",
            "\u001b[0;32m<ipython-input-12-a7a2efc19506>\u001b[0m in \u001b[0;36m<module>\u001b[0;34m()\u001b[0m\n\u001b[0;32m----> 1\u001b[0;31m \u001b[0mint\u001b[0m\u001b[0;34m(\u001b[0m\u001b[0;34m'ssssss'\u001b[0m\u001b[0;34m)\u001b[0m\u001b[0;34m\u001b[0m\u001b[0;34m\u001b[0m\u001b[0m\n\u001b[0m",
            "\u001b[0;31mValueError\u001b[0m: invalid literal for int() with base 10: 'ssssss'"
          ]
        }
      ]
    },
    {
      "cell_type": "code",
      "source": [
        "# 선언되지 않은 변수 에러\n",
        "hello"
      ],
      "metadata": {
        "colab": {
          "base_uri": "https://localhost:8080/",
          "height": 176
        },
        "id": "omsZazruDdFp",
        "outputId": "9464c394-225a-493b-85fe-34f198284ed7"
      },
      "execution_count": null,
      "outputs": [
        {
          "output_type": "error",
          "ename": "NameError",
          "evalue": "ignored",
          "traceback": [
            "\u001b[0;31m---------------------------------------------------------------------------\u001b[0m",
            "\u001b[0;31mNameError\u001b[0m                                 Traceback (most recent call last)",
            "\u001b[0;32m<ipython-input-13-f572d396fae9>\u001b[0m in \u001b[0;36m<module>\u001b[0;34m()\u001b[0m\n\u001b[0;32m----> 1\u001b[0;31m \u001b[0mhello\u001b[0m\u001b[0;34m\u001b[0m\u001b[0;34m\u001b[0m\u001b[0m\n\u001b[0m",
            "\u001b[0;31mNameError\u001b[0m: name 'hello' is not defined"
          ]
        }
      ]
    },
    {
      "cell_type": "code",
      "source": [
        "# out of index\n",
        "'ssssss'[10]"
      ],
      "metadata": {
        "colab": {
          "base_uri": "https://localhost:8080/",
          "height": 176
        },
        "id": "cwUB3VClDeJU",
        "outputId": "72d4011c-e8dc-4dec-97d6-304c8bc18bc7"
      },
      "execution_count": null,
      "outputs": [
        {
          "output_type": "error",
          "ename": "IndexError",
          "evalue": "ignored",
          "traceback": [
            "\u001b[0;31m---------------------------------------------------------------------------\u001b[0m",
            "\u001b[0;31mIndexError\u001b[0m                                Traceback (most recent call last)",
            "\u001b[0;32m<ipython-input-14-cb30238a7cc7>\u001b[0m in \u001b[0;36m<module>\u001b[0;34m()\u001b[0m\n\u001b[0;32m----> 1\u001b[0;31m \u001b[0;34m'ssssss'\u001b[0m\u001b[0;34m[\u001b[0m\u001b[0;36m10\u001b[0m\u001b[0;34m]\u001b[0m\u001b[0;34m\u001b[0m\u001b[0;34m\u001b[0m\u001b[0m\n\u001b[0m",
            "\u001b[0;31mIndexError\u001b[0m: string index out of range"
          ]
        }
      ]
    },
    {
      "cell_type": "code",
      "source": [
        "try:\n",
        "  #<에러 발생될 법한 코드 블럭>\n",
        "  10 / 0\n",
        "except ZeroDivisionError:#<에러타입>\n",
        "  #<처리할 방법>\n",
        "  print('0으로 나눌 수 없음')"
      ],
      "metadata": {
        "colab": {
          "base_uri": "https://localhost:8080/"
        },
        "id": "rBF9Pc3SDj04",
        "outputId": "9e1bc478-4452-4e7c-dc84-795e9aa20dcf"
      },
      "execution_count": null,
      "outputs": [
        {
          "output_type": "stream",
          "name": "stdout",
          "text": [
            "0으로 나눌 수 없음\n"
          ]
        }
      ]
    },
    {
      "cell_type": "code",
      "source": [
        ""
      ],
      "metadata": {
        "id": "woul-MmiEMDT"
      },
      "execution_count": null,
      "outputs": []
    }
  ]
}