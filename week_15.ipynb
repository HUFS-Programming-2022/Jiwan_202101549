{
  "nbformat": 4,
  "nbformat_minor": 0,
  "metadata": {
    "colab": {
      "name": "week_15.ipynb",
      "provenance": [],
      "collapsed_sections": []
    },
    "kernelspec": {
      "name": "python3",
      "display_name": "Python 3"
    },
    "language_info": {
      "name": "python"
    }
  },
  "cells": [
    {
      "cell_type": "markdown",
      "source": [
        "### 파일과 디렉터리\n",
        "- 디렉터리: 폴더의 다른말 (폴더는 아이콘, 디렉터리가 실이름), 파일이 논리적으로 묶인 단위 (비슷한 것 끼리)\n",
        "- 파일: 컴퓨터를 실행하는 기본 단위\n",
        "    - 파일명 + 확장자\n",
        "    - 확장자: 파일의 쓰임을 구분하는 글자\n",
        "      - .pdf, .xlsx, .txt, ..\n",
        "    - 종류: 바이러니 파일, 텍스트 파일\n",
        "      - 바이러니: 이진 정보로 저장됨\n",
        "        - 내용을 확인 못함.\n",
        "        - 해당 확장자를 열 수 있는 프로그램이 필요함.\n",
        "      - 텍스트: 사람이 이해할 수 있는 문자열로 저장됨.\n",
        "        - 메모장, html, py\n",
        "        - 변경 기준: 아스키코드, 유니코드\n",
        "        - 인코딩 (encoding)\n",
        "        - utf-8\n",
        "        - cp494"
      ],
      "metadata": {
        "id": "vUMQMPXuclJd"
      }
    },
    {
      "cell_type": "markdown",
      "source": [
        "#### 파일 열기\n",
        "- open(파일명, 모드)\n",
        "- 모드\n",
        "  - r: read\n",
        "  - w: write - 파일이 있으면, 덮어쓰고, 없으면 생성\n",
        "  - x: 파일이 없을 때만 생성\n",
        "  - a: 있을 때 마지막 라인에 추가\n",
        "\n",
        "  추가모드\n",
        "  - b: binary\n",
        "  - t: text (default)\n",
        "  "
      ],
      "metadata": {
        "id": "QXbMeqQZz-So"
      }
    },
    {
      "cell_type": "code",
      "source": [
        "# 같은 폴더 안에\n",
        "# 파일 열기\n",
        "file = 'test.txt'\n",
        "f = open(file, 'r')"
      ],
      "metadata": {
        "colab": {
          "base_uri": "https://localhost:8080/",
          "height": 213
        },
        "id": "32SN7G900NUe",
        "outputId": "386a0f3b-afd3-47c6-862f-f03af38227bc"
      },
      "execution_count": null,
      "outputs": [
        {
          "output_type": "error",
          "ename": "FileNotFoundError",
          "evalue": "ignored",
          "traceback": [
            "\u001b[0;31m---------------------------------------------------------------------------\u001b[0m",
            "\u001b[0;31mFileNotFoundError\u001b[0m                         Traceback (most recent call last)",
            "\u001b[0;32m<ipython-input-1-ed7e693ee617>\u001b[0m in \u001b[0;36m<module>\u001b[0;34m()\u001b[0m\n\u001b[1;32m      1\u001b[0m \u001b[0;31m# 같은 폴더 안에\u001b[0m\u001b[0;34m\u001b[0m\u001b[0;34m\u001b[0m\u001b[0;34m\u001b[0m\u001b[0m\n\u001b[1;32m      2\u001b[0m \u001b[0mfile\u001b[0m \u001b[0;34m=\u001b[0m \u001b[0;34m'test.txt'\u001b[0m\u001b[0;34m\u001b[0m\u001b[0;34m\u001b[0m\u001b[0m\n\u001b[0;32m----> 3\u001b[0;31m \u001b[0mf\u001b[0m \u001b[0;34m=\u001b[0m \u001b[0mopen\u001b[0m\u001b[0;34m(\u001b[0m\u001b[0mfile\u001b[0m\u001b[0;34m,\u001b[0m \u001b[0;34m'r'\u001b[0m\u001b[0;34m)\u001b[0m\u001b[0;34m\u001b[0m\u001b[0;34m\u001b[0m\u001b[0m\n\u001b[0m",
            "\u001b[0;31mFileNotFoundError\u001b[0m: [Errno 2] No such file or directory: 'test.txt'"
          ]
        }
      ]
    },
    {
      "cell_type": "code",
      "source": [
        "# 파일 읽기\n",
        "f.read()"
      ],
      "metadata": {
        "colab": {
          "base_uri": "https://localhost:8080/",
          "height": 194
        },
        "id": "TGa5J_T-07wh",
        "outputId": "dc4cd8aa-11f1-4a56-a9ec-3c81ac03b461"
      },
      "execution_count": null,
      "outputs": [
        {
          "output_type": "error",
          "ename": "NameError",
          "evalue": "ignored",
          "traceback": [
            "\u001b[0;31m---------------------------------------------------------------------------\u001b[0m",
            "\u001b[0;31mNameError\u001b[0m                                 Traceback (most recent call last)",
            "\u001b[0;32m<ipython-input-2-9c3e89548254>\u001b[0m in \u001b[0;36m<module>\u001b[0;34m()\u001b[0m\n\u001b[1;32m      1\u001b[0m \u001b[0;31m# 파일 읽기\u001b[0m\u001b[0;34m\u001b[0m\u001b[0;34m\u001b[0m\u001b[0;34m\u001b[0m\u001b[0m\n\u001b[0;32m----> 2\u001b[0;31m \u001b[0mf\u001b[0m\u001b[0;34m.\u001b[0m\u001b[0mread\u001b[0m\u001b[0;34m(\u001b[0m\u001b[0;34m)\u001b[0m\u001b[0;34m\u001b[0m\u001b[0;34m\u001b[0m\u001b[0m\n\u001b[0m",
            "\u001b[0;31mNameError\u001b[0m: name 'f' is not defined"
          ]
        }
      ]
    },
    {
      "cell_type": "markdown",
      "source": [
        "#### 파일 읽기\n",
        "- read(): 전체를 하나의 str\n",
        "  - 포인터\n",
        "- readline(): 한줄만 str\n",
        "- readlines(): 전체를 list, 각 줄이 한 str"
      ],
      "metadata": {
        "id": "24P7wuRE082J"
      }
    },
    {
      "cell_type": "code",
      "source": [
        "# 파일 읽기\n",
        "f.read(12)"
      ],
      "metadata": {
        "id": "LALCZfSl1VDn"
      },
      "execution_count": null,
      "outputs": []
    },
    {
      "cell_type": "code",
      "source": [
        "f.close()"
      ],
      "metadata": {
        "id": "8fXakJhUDUI_"
      },
      "execution_count": null,
      "outputs": []
    },
    {
      "cell_type": "code",
      "source": [
        "file = 'text.txt'\n",
        "f = open(file, 'r')\n",
        "f.readline()"
      ],
      "metadata": {
        "id": "DT9qbBxsDUFk"
      },
      "execution_count": null,
      "outputs": []
    },
    {
      "cell_type": "code",
      "source": [
        "f.close()"
      ],
      "metadata": {
        "id": "PJV0L9b5DUDS"
      },
      "execution_count": null,
      "outputs": []
    },
    {
      "cell_type": "code",
      "source": [
        "file = 'text.txt'\n",
        "f = open(file, 'r')\n",
        "f.readlines()"
      ],
      "metadata": {
        "id": "ZtSKWclGDUBI"
      },
      "execution_count": null,
      "outputs": []
    },
    {
      "cell_type": "code",
      "source": [
        "f.close()"
      ],
      "metadata": {
        "id": "6ODUkzb5DcpS"
      },
      "execution_count": null,
      "outputs": []
    },
    {
      "cell_type": "code",
      "source": [
        "f = open(file, 'r')\n",
        "sents = f.readlines()\n",
        "sents = [s.strip() for s in sents] # 텍스트 정재\n",
        "f.close()"
      ],
      "metadata": {
        "id": "niGFugO_Dcl2"
      },
      "execution_count": null,
      "outputs": []
    },
    {
      "cell_type": "markdown",
      "source": [
        "#### 파일 닫기\n",
        "- 파일 여는 즉시 닫기\n",
        "- 자원 해제\n",
        "- 여는 것보다 닫는 것을 더 신경써야 함\n",
        "- 메모리 절약, 에러 가능성"
      ],
      "metadata": {
        "id": "aIRDjwA51VWm"
      }
    },
    {
      "cell_type": "code",
      "source": [
        "with open(file, 'r') as f:\n",
        "  content = f.read()\n",
        "# 파일이 자동으로 닫힘"
      ],
      "metadata": {
        "id": "PNWgIhXa1VMV"
      },
      "execution_count": null,
      "outputs": []
    },
    {
      "cell_type": "code",
      "source": [
        "content"
      ],
      "metadata": {
        "id": "rzYPdn0E1VI0"
      },
      "execution_count": null,
      "outputs": []
    },
    {
      "cell_type": "markdown",
      "source": [
        "실습1\n",
        "- readline 파일 읽는데, whole 사용해서 한줄씩 읽고 strip()해서 리스트에 반환하는 함수 만들기"
      ],
      "metadata": {
        "id": "jSNpXuITDtI1"
      }
    },
    {
      "cell_type": "code",
      "source": [
        "def make_readline(file):\n",
        "  sents = []\n",
        "  with open(file, 'r') as f:\n",
        "    while True:\n",
        "      line = f.readline()\n",
        "      if not line:\n",
        "        break\n",
        "      sent = line.strip()\n",
        "      sents.append(sent)\n",
        "    return sents\n",
        "\n",
        "\n",
        "make_readline('text.txt')"
      ],
      "metadata": {
        "id": "QFraGWz-DtFY"
      },
      "execution_count": null,
      "outputs": []
    },
    {
      "cell_type": "markdown",
      "source": [
        "경로가 달라질때\n",
        "- .: 현재 경로\n",
        "- ..: 상위 경로\n"
      ],
      "metadata": {
        "id": "Yy4iSDy7ER1m"
      }
    },
    {
      "cell_type": "code",
      "source": [
        "file = './folder/text.txt'\n",
        "with open(file) as f:\n",
        "    print(f.read())"
      ],
      "metadata": {
        "id": "zxPTVrUHERx_"
      },
      "execution_count": null,
      "outputs": []
    },
    {
      "cell_type": "markdown",
      "source": [
        "#### 쓰기\n",
        "- 인코딩 유의"
      ],
      "metadata": {
        "id": "B1dLZimDERu9"
      }
    },
    {
      "cell_type": "code",
      "source": [
        "data = list(range(10))\n",
        "with open('text2.txt', 'w', encoding='utf-8') as f:\n",
        "    for i in range(10):\n",
        "        data = f'{i}번째 줄입니다.\\n'\n",
        "        f.write(data)"
      ],
      "metadata": {
        "id": "SRMcHDPGEjvf"
      },
      "execution_count": null,
      "outputs": []
    },
    {
      "cell_type": "code",
      "source": [
        "# print()\n",
        "file_out = open('text2.txt', 'a', encoding='utf-8')\n",
        "print('한 줄 추가했습니다', file=file_out)\n",
        "file_out.close()"
      ],
      "metadata": {
        "id": "d3SRRgWrEsnI"
      },
      "execution_count": null,
      "outputs": []
    },
    {
      "cell_type": "code",
      "source": [
        "# folder 만들어서 추가하는 방법\n",
        "# 1.폴더 만들어야 함\n",
        "# 2. 접근\n",
        "\n",
        "import os\n",
        "os.mkdir('folder2')\n",
        "\n",
        "with open('./folder2/text2.txt', 'w', encoding='utf-8') as f:\n",
        "    for i in range(10):\n",
        "        data = f'{i}번째 줄입니다.\\n'\n",
        "        f.write(data)"
      ],
      "metadata": {
        "id": "W13sG-QQEsjr"
      },
      "execution_count": null,
      "outputs": []
    },
    {
      "cell_type": "code",
      "source": [
        "path = 'folder2'\n",
        "\n",
        "# 있는지 확인하기\n",
        "if not os.path.isdir(path):\n",
        "    os.mkdir(path)\n",
        "    \n",
        "# dir_name = './abc/test2.txt'\n",
        "dir_name = os.path.join(path, 'text2.txt')\n",
        "\n",
        "# 재확인\n",
        "if not os.path.exists(dir_name):\n",
        "    with open(dir_name, 'w') as f: # 덮어쓸 가능성 배제\n",
        "        f.write('한 줄 추가.')"
      ],
      "metadata": {
        "id": "HClfTdLlEshK"
      },
      "execution_count": null,
      "outputs": []
    },
    {
      "cell_type": "markdown",
      "source": [
        "지우기\n",
        "- os\n",
        "  - 파일 지우기 remove\n",
        "  - 폴더 지우기 rmdir\n",
        "- shutil\n",
        "  - 폴더에 있어도 강제 삭제"
      ],
      "metadata": {
        "id": "0ChD99ymEywQ"
      }
    },
    {
      "cell_type": "code",
      "source": [
        "os.remove('text.txt')"
      ],
      "metadata": {
        "id": "hFAVONZiEysu"
      },
      "execution_count": null,
      "outputs": []
    },
    {
      "cell_type": "code",
      "source": [
        "os.rmdir('folder2') # 폴더 안에 파일이 있으면 삭제 못함"
      ],
      "metadata": {
        "id": "lwlL8I-jEyqT"
      },
      "execution_count": null,
      "outputs": []
    },
    {
      "cell_type": "code",
      "source": [
        "import shutil\n",
        "shutil.rmtree('folder2') # 강제로 전부 삭제"
      ],
      "metadata": {
        "id": "SbH_UJlXFHPs"
      },
      "execution_count": null,
      "outputs": []
    },
    {
      "cell_type": "markdown",
      "source": [
        "실습 2\n",
        "- folder 새로 만들어서 파일에 내용 쓰고 파일 열기"
      ],
      "metadata": {
        "id": "MiSc_zEvFJAL"
      }
    },
    {
      "cell_type": "code",
      "source": [
        "path = 'haneul'\n",
        "if not os.path.isdir(path):\n",
        "    os.mkdir(path)\n",
        "    \n",
        "myfile = os.path.join(path, 'myfile.txt')\n",
        "with open(myfile, 'w', encoding = 'utf-8') as f:\n",
        "    while True:\n",
        "        sent = input('텍스트 입력, 종료시 exit입력')\n",
        "        if sent == 'exit':\n",
        "            break\n",
        "        else:\n",
        "            f.write(sent + '\\n')\n",
        "            \n",
        "with open(myfile, 'r', encoding='utf-8') as f:\n",
        "    thisfile = f.read()\n",
        "    \n",
        "print(thisfile)"
      ],
      "metadata": {
        "id": "JThr8SQRFI8w"
      },
      "execution_count": null,
      "outputs": []
    },
    {
      "cell_type": "markdown",
      "source": [
        "os 기능"
      ],
      "metadata": {
        "id": "aRwXwcxrFI6I"
      }
    },
    {
      "cell_type": "code",
      "source": [
        "os.getcwd() # 내가 있는 경로"
      ],
      "metadata": {
        "id": "LXhy1zAJFd8D"
      },
      "execution_count": null,
      "outputs": []
    },
    {
      "cell_type": "code",
      "source": [
        "os.chdir('..') # 상위로 올라가기"
      ],
      "metadata": {
        "id": "HESqO_NjFhPZ"
      },
      "execution_count": null,
      "outputs": []
    },
    {
      "cell_type": "code",
      "source": [
        "os.getcwd()"
      ],
      "metadata": {
        "id": "yBd06o24FhMA"
      },
      "execution_count": null,
      "outputs": []
    },
    {
      "cell_type": "markdown",
      "source": [
        "pickle\n",
        "- 객체를 파일로 저장하는 기능 제공\n",
        "  - 리스트, 클래스등\n",
        "- 작업을 많이 했을때 중간에 사용했던 변수 저장해서 쓸때\n",
        "- 확장자: pickle\n",
        "- 바이너리로 써야함 (wb, rb)\n",
        "- 예약어\n",
        "  - dump: 넘길때\n",
        "  - load: 읽을 때"
      ],
      "metadata": {
        "id": "7pDKomMpFkxt"
      }
    },
    {
      "cell_type": "code",
      "source": [
        "import pickle\n",
        "haneul_file = thisfile.split('\\n')"
      ],
      "metadata": {
        "id": "xzXcoQ-OGLwm"
      },
      "execution_count": null,
      "outputs": []
    },
    {
      "cell_type": "code",
      "source": [
        "with open('text.pickle', 'wb') as f:\n",
        "          pickle.dump(haneul_file, f)"
      ],
      "metadata": {
        "id": "fBdgL88lFkli"
      },
      "execution_count": null,
      "outputs": []
    },
    {
      "cell_type": "code",
      "source": [
        "with open('text.pickle', 'rb') as f:\n",
        "    test_pickle = pickle.load(f)"
      ],
      "metadata": {
        "id": "K1UkKwXoGICw"
      },
      "execution_count": null,
      "outputs": []
    },
    {
      "cell_type": "code",
      "source": [
        "test_pickle"
      ],
      "metadata": {
        "id": "d7VDv1zyGH_c"
      },
      "execution_count": null,
      "outputs": []
    }
  ]
}