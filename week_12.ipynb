{
  "nbformat": 4,
  "nbformat_minor": 0,
  "metadata": {
    "colab": {
      "name": "week_12.ipynb",
      "provenance": [],
      "collapsed_sections": []
    },
    "kernelspec": {
      "name": "python3",
      "display_name": "Python 3"
    },
    "language_info": {
      "name": "python"
    }
  },
  "cells": [
    {
      "cell_type": "code",
      "source": [
        "# 상속관계: is - a 관계\n",
        "class Person:\n",
        "  def greeting(self):\n",
        "    print('안녕하세요')\n",
        "\n",
        "class Student(Person):\n",
        "  def study(self):\n",
        "    print('공부하기')"
      ],
      "metadata": {
        "id": "FKkK-RhmNfBr"
      },
      "execution_count": 1,
      "outputs": []
    },
    {
      "cell_type": "code",
      "source": [
        "# 포함관계 : has -a 관계\n",
        "class Person:\n",
        "  def greeting(self):\n",
        "    print('안녕하세요')\n",
        "\n",
        "class PersonList:\n",
        "  def __init__(self):\n",
        "    self.person_list = []\n",
        "  \n",
        "  def append_person(self, person):\n",
        "    self.person_list.append(person)"
      ],
      "metadata": {
        "id": "-f1KHr-8Ne-M"
      },
      "execution_count": 3,
      "outputs": []
    },
    {
      "cell_type": "code",
      "execution_count": 2,
      "metadata": {
        "id": "UZqZwTgZ5oBJ"
      },
      "outputs": [],
      "source": [
        "class Customer(Person):\n",
        "  pass\n",
        "\n",
        "class Store:\n",
        "  def __init__(self, customer, item, item_list):\n",
        "    self.customer = customer\n",
        "    self.item = item\n",
        "    self. item_list = (self.item.name, self.item.price)\n",
        "\n",
        "\n",
        "class Item:\n",
        "  def __init__(self, name, cnt, price):\n",
        "    self.name = name\n",
        "    self.cnt = cnt\n",
        "    self.price = price\n",
        "\n",
        "class Seller:\n",
        "  pass"
      ]
    },
    {
      "cell_type": "code",
      "source": [
        "class Inventory:\n",
        "  def __init__(self):\n",
        "    self.opend = False\n",
        "    self.item_space = []\n",
        "\n",
        "  def open(self):\n",
        "    self.opend = True\n",
        "    print('inventory are now opend. You can put sth else')\n",
        "  \n",
        "  def put(self, something):\n",
        "    if self.opend == True:\n",
        "      self.item_space.append(something)\n",
        "      print('you put item inventory')\n",
        "    else:\n",
        "      print('please open inventory first')\n",
        "\n",
        "  def close(self):\n",
        "    self.opend= False\n",
        "    print('close the inventory')\n",
        "\n",
        "\n",
        "class Weapone:\n",
        "  pass\n",
        "\n",
        "sword = Weapone()\n",
        "item_bag = Inventory()\n",
        "item_bag.open()\n",
        "\n",
        "item_bag.put(sword)\n",
        "\n",
        "print('item inside the inventory:', item_bag.item_space)\n",
        "\n",
        "item_bag.close()"
      ],
      "metadata": {
        "colab": {
          "base_uri": "https://localhost:8080/"
        },
        "id": "UFfWFp-eSWhj",
        "outputId": "10359f26-cad2-41bf-ae7e-75aa0872fd17"
      },
      "execution_count": 4,
      "outputs": [
        {
          "output_type": "stream",
          "name": "stdout",
          "text": [
            "inventory are now opend. You can put sth else\n",
            "you put item inventory\n",
            "item inside the inventory: [<__main__.Weapone object at 0x7f7acc79ef10>]\n",
            "close the inventory\n"
          ]
        }
      ]
    },
    {
      "cell_type": "markdown",
      "source": [
        "### 매직 메소드 \n",
        "- special method\n",
        "- __<name>__\n",
        "- str, repr"
      ],
      "metadata": {
        "id": "0M8UNa-T6jov"
      }
    },
    {
      "cell_type": "code",
      "source": [
        "class Customer(object):\n",
        "  def __init__(self, name):\n",
        "    self.name = name\n",
        "\n",
        "  def __str__(self): # 오버라이딩 (object 상속)\n",
        "    # print() 함수로 나온 출력값을 변경하는 것\n",
        "    return self.name\n",
        "\n",
        "  def __repr__(self): #객체에 대한 표현\n",
        "    # 설정을 안하면 __str__과 동일함\n",
        "    # 인스턴트를 출력하는 방식 -> 사용자가 이해하는 객체의 모습을 표현\n",
        "    return f'Customer({self.name})'\n",
        "\n",
        "c = Customer('Kim')"
      ],
      "metadata": {
        "id": "Bkn-PCY-6sHR"
      },
      "execution_count": 5,
      "outputs": []
    },
    {
      "cell_type": "code",
      "source": [
        "c\n",
        "# type, 메모리 주소 -> repr -> 객체정보 직관적"
      ],
      "metadata": {
        "colab": {
          "base_uri": "https://localhost:8080/"
        },
        "id": "zmfteNrO6-XV",
        "outputId": "515b6211-cfef-4b86-bcbb-4aa708890af3"
      },
      "execution_count": 6,
      "outputs": [
        {
          "output_type": "execute_result",
          "data": {
            "text/plain": [
              "Customer(Kim)"
            ]
          },
          "metadata": {},
          "execution_count": 6
        }
      ]
    },
    {
      "cell_type": "code",
      "source": [
        "print(c)"
      ],
      "metadata": {
        "colab": {
          "base_uri": "https://localhost:8080/"
        },
        "id": "NAlB3vBU6_Vv",
        "outputId": "972c1ad6-b3a2-4678-e01d-d29167e005f1"
      },
      "execution_count": 7,
      "outputs": [
        {
          "output_type": "stream",
          "name": "stdout",
          "text": [
            "Kim\n"
          ]
        }
      ]
    },
    {
      "cell_type": "code",
      "source": [
        "repr(c)"
      ],
      "metadata": {
        "colab": {
          "base_uri": "https://localhost:8080/",
          "height": 36
        },
        "id": "JzZFb47RYXb7",
        "outputId": "f591ab59-c691-4aad-e5c1-26ad97b04acb"
      },
      "execution_count": 8,
      "outputs": [
        {
          "output_type": "execute_result",
          "data": {
            "text/plain": [
              "'Customer(Kim)'"
            ],
            "application/vnd.google.colaboratory.intrinsic+json": {
              "type": "string"
            }
          },
          "metadata": {},
          "execution_count": 8
        }
      ]
    },
    {
      "cell_type": "code",
      "source": [
        "str(c)"
      ],
      "metadata": {
        "colab": {
          "base_uri": "https://localhost:8080/",
          "height": 36
        },
        "id": "9ymlZmmrYZ4G",
        "outputId": "4c6a3efd-b1fd-4eee-9be6-d671da57f2dd"
      },
      "execution_count": 9,
      "outputs": [
        {
          "output_type": "execute_result",
          "data": {
            "text/plain": [
              "'Kim'"
            ],
            "application/vnd.google.colaboratory.intrinsic+json": {
              "type": "string"
            }
          },
          "metadata": {},
          "execution_count": 9
        }
      ]
    },
    {
      "cell_type": "code",
      "source": [
        "class Customer:\n",
        "  def __init__(self, name):\n",
        "    self.name = name\n",
        "\n",
        "  def __str__(self):\n",
        "    return self.name\n",
        "\n",
        "  def __repr__(self):\n",
        "    return f'Customer({self.name})'\n",
        "\n",
        "c = Customer('Lee')"
      ],
      "metadata": {
        "id": "gMEAJtVK7C2D"
      },
      "execution_count": null,
      "outputs": []
    },
    {
      "cell_type": "code",
      "source": [
        "c"
      ],
      "metadata": {
        "colab": {
          "base_uri": "https://localhost:8080/"
        },
        "id": "AiveQCJU7vyt",
        "outputId": "340cd69e-a92a-418d-b060-2755026d7a4e"
      },
      "execution_count": null,
      "outputs": [
        {
          "output_type": "execute_result",
          "data": {
            "text/plain": [
              "Customer(Lee)"
            ]
          },
          "metadata": {},
          "execution_count": 19
        }
      ]
    },
    {
      "cell_type": "code",
      "source": [
        "print(c)"
      ],
      "metadata": {
        "colab": {
          "base_uri": "https://localhost:8080/"
        },
        "id": "jp3WaihZ7wvW",
        "outputId": "63019b53-fb4d-42fe-fb9f-ff14b6132af7"
      },
      "execution_count": null,
      "outputs": [
        {
          "output_type": "stream",
          "name": "stdout",
          "text": [
            "Lee\n"
          ]
        }
      ]
    },
    {
      "cell_type": "markdown",
      "source": [
        "### NamedTuple, DataClass\n",
        "- 객체보다 효율적임(간단한 속성만 가진 클래스인 경우 활용)\n",
        "- 딕셔너리의 키처럼 사용이 가능함\n",
        "- 불변 객체임"
      ],
      "metadata": {
        "id": "ERTZ25Uu7yd7"
      }
    },
    {
      "cell_type": "code",
      "source": [
        "from collections import namedtuple"
      ],
      "metadata": {
        "id": "ONjF87917-vX"
      },
      "execution_count": null,
      "outputs": []
    },
    {
      "cell_type": "code",
      "source": [
        "Customer = namedtuple('Customer', 'name age')\n",
        "a = Customer('lee', 44)\n",
        "a.name, a.age"
      ],
      "metadata": {
        "colab": {
          "base_uri": "https://localhost:8080/"
        },
        "id": "gv4K5glo8FVo",
        "outputId": "218bd0ab-7f62-433e-fbae-8b3caa9c480c"
      },
      "execution_count": null,
      "outputs": [
        {
          "output_type": "execute_result",
          "data": {
            "text/plain": [
              "('lee', 44)"
            ]
          },
          "metadata": {},
          "execution_count": 22
        }
      ]
    },
    {
      "cell_type": "code",
      "source": [
        "from dataclasses import dataclass\n",
        "# 3.7 이상에서만"
      ],
      "metadata": {
        "id": "cnexhk358bkL"
      },
      "execution_count": null,
      "outputs": []
    },
    {
      "cell_type": "code",
      "source": [
        "@dataclass\n",
        "class Customer2:\n",
        "  name:str\n",
        "  age:int\n",
        "\n",
        "b =Customer2('hong', 55)"
      ],
      "metadata": {
        "id": "S7bfpnCc8hVo"
      },
      "execution_count": null,
      "outputs": []
    },
    {
      "cell_type": "code",
      "source": [
        "b.name, b.age"
      ],
      "metadata": {
        "colab": {
          "base_uri": "https://localhost:8080/"
        },
        "id": "z2OBM8868tRe",
        "outputId": "dee74aa0-ea06-4076-d6e7-20c2b6ac82f5"
      },
      "execution_count": null,
      "outputs": [
        {
          "output_type": "execute_result",
          "data": {
            "text/plain": [
              "('hong', 55)"
            ]
          },
          "metadata": {},
          "execution_count": 25
        }
      ]
    },
    {
      "cell_type": "markdown",
      "source": [
        "### 함수 \n",
        "- *, **\n",
        "- 일급객체\n",
        "- 내부함수, 클로저\n",
        "- 익명함수\n",
        "- 제너레이터\n",
        "- 재귀함수"
      ],
      "metadata": {
        "id": "CDUazyvg8wva"
      }
    },
    {
      "cell_type": "markdown",
      "source": [
        "asterisk: *"
      ],
      "metadata": {
        "id": "iFjgbcq186y7"
      }
    },
    {
      "cell_type": "code",
      "source": [
        "def print_arg(*args): # 여러개의 인자 => 패킹\n",
        "  print(args)\n",
        "\n",
        "print_arg(1, 2, 3, 4, 5, 6)"
      ],
      "metadata": {
        "colab": {
          "base_uri": "https://localhost:8080/"
        },
        "id": "6XVDM5IQ9A91",
        "outputId": "75a74595-2fd5-4832-c550-d37e6ac52c74"
      },
      "execution_count": 10,
      "outputs": [
        {
          "output_type": "stream",
          "name": "stdout",
          "text": [
            "(1, 2, 3, 4, 5, 6)\n"
          ]
        }
      ]
    },
    {
      "cell_type": "code",
      "source": [
        "def print_arg(*args): # 1. 여러개의 인자 => packing\n",
        "  print(*args) #2. unpacking\n",
        "\n",
        "print_arg(1, 2, 3, 4, 5, 6)"
      ],
      "metadata": {
        "colab": {
          "base_uri": "https://localhost:8080/"
        },
        "id": "EO_38pKi9RQO",
        "outputId": "729c1792-c885-4aed-82c8-5c28b88f2222"
      },
      "execution_count": null,
      "outputs": [
        {
          "output_type": "stream",
          "name": "stdout",
          "text": [
            "1 2 3 4 5 6\n"
          ]
        }
      ]
    },
    {
      "cell_type": "code",
      "source": [
        "def print_more(num1, num2, *args):\n",
        "  print(num1, num2)\n",
        "  print(*args, 'optional')\n",
        "\n",
        "print_more(1, 3)"
      ],
      "metadata": {
        "colab": {
          "base_uri": "https://localhost:8080/"
        },
        "id": "IFJEVTWH9VdY",
        "outputId": "9dd595df-acfb-477b-c6f5-5685c95bb84e"
      },
      "execution_count": null,
      "outputs": [
        {
          "output_type": "stream",
          "name": "stdout",
          "text": [
            "1 3\n",
            "optional\n"
          ]
        }
      ]
    },
    {
      "cell_type": "code",
      "source": [
        "empty = list(range(10))\n",
        "print(*empty)"
      ],
      "metadata": {
        "colab": {
          "base_uri": "https://localhost:8080/"
        },
        "id": "QLB46ndO9rda",
        "outputId": "0094ff2b-2d55-4cab-eed6-7c6ebe463529"
      },
      "execution_count": null,
      "outputs": [
        {
          "output_type": "stream",
          "name": "stdout",
          "text": [
            "0 1 2 3 4 5 6 7 8 9\n"
          ]
        }
      ]
    },
    {
      "cell_type": "code",
      "source": [
        "# 행렬, 테이블 데이터\n",
        "matrix = [\n",
        "          [1, 2],\n",
        "          [3, 4],\n",
        "          [5, 6]\n",
        "]\n",
        "\n",
        "for item in zip(*matrix):\n",
        "  print(item)"
      ],
      "metadata": {
        "colab": {
          "base_uri": "https://localhost:8080/"
        },
        "id": "Ye6bt06p9zYz",
        "outputId": "f48e0e21-0971-4baf-bd5d-6157e854a65d"
      },
      "execution_count": null,
      "outputs": [
        {
          "output_type": "stream",
          "name": "stdout",
          "text": [
            "(1, 3, 5)\n",
            "(2, 4, 6)\n"
          ]
        }
      ]
    },
    {
      "cell_type": "code",
      "source": [
        "for item in zip([1,2], [3,4], [5,6]):\n",
        "  print(item)"
      ],
      "metadata": {
        "colab": {
          "base_uri": "https://localhost:8080/"
        },
        "id": "sc0EbMLk-KnZ",
        "outputId": "801d2c11-7f35-4cc4-abf5-9201647adaae"
      },
      "execution_count": null,
      "outputs": [
        {
          "output_type": "stream",
          "name": "stdout",
          "text": [
            "(1, 3, 5)\n",
            "(2, 4, 6)\n"
          ]
        }
      ]
    },
    {
      "cell_type": "code",
      "source": [
        "# 키워드 전용 함수 선언시 사용\n",
        "def print_data(data, *, start, end):\n",
        "  for item in data[start:end]:\n",
        "    print(item)\n",
        "\n",
        "# key_word argument\n",
        "print_data(empty, start=0, end=4)\n",
        "\n",
        "#positional argument\n",
        "print_data(empty, 0, 4)"
      ],
      "metadata": {
        "colab": {
          "base_uri": "https://localhost:8080/"
        },
        "id": "Y5rq1Hwp-V2q",
        "outputId": "a5423203-2978-4ab0-8e2a-9b75db70aefc"
      },
      "execution_count": null,
      "outputs": [
        {
          "output_type": "stream",
          "name": "stdout",
          "text": [
            "0\n",
            "1\n",
            "2\n",
            "3\n"
          ]
        }
      ]
    },
    {
      "cell_type": "markdown",
      "source": [
        "#### kargs: **\n",
        "- key argument에서 혼란이 오는 경우 때문"
      ],
      "metadata": {
        "id": "1xEfjUCJb2vu"
      }
    },
    {
      "cell_type": "code",
      "source": [
        "# kargs: **\n",
        "def print_kargs(**kargs): # key:value => dictionary로 반환\n",
        "  kargs['wine'] = 'crianza'\n",
        "  print(kargs)\n",
        "  #print(**kargs) => unpacking 기능은 없음\n",
        "\n",
        "print_kargs(white='crianza', drink='water')"
      ],
      "metadata": {
        "colab": {
          "base_uri": "https://localhost:8080/"
        },
        "id": "PH-F3zmW-qdt",
        "outputId": "3b6e2104-a45d-4f55-a2f1-b503d62705b4"
      },
      "execution_count": null,
      "outputs": [
        {
          "output_type": "stream",
          "name": "stdout",
          "text": [
            "{'white': 'crianza', 'drink': 'water'}\n"
          ]
        }
      ]
    },
    {
      "cell_type": "code",
      "source": [
        "for wine in ['abernet', 'crianza', 'shiraz']:\n",
        "  print_kargs(wine=wine, drink='water')"
      ],
      "metadata": {
        "colab": {
          "base_uri": "https://localhost:8080/"
        },
        "id": "NOVrIPqp--WB",
        "outputId": "54824ed5-5374-4d84-a6d6-4f031c96aff8"
      },
      "execution_count": null,
      "outputs": [
        {
          "output_type": "stream",
          "name": "stdout",
          "text": [
            "{'wine': 'abernet', 'drink': 'water'}\n",
            "{'wine': 'crianza', 'drink': 'water'}\n",
            "{'wine': 'shiraz', 'drink': 'water'}\n"
          ]
        }
      ]
    },
    {
      "cell_type": "code",
      "source": [
        "def print_all(num1, num2, *args, **kargs):\n",
        "  print(num1, num2)\n",
        "  print(sum(args))\n",
        "  print(kargs)\n",
        "\n",
        "print_all(1, 2, 3, 4, 5, 6, num=4)"
      ],
      "metadata": {
        "colab": {
          "base_uri": "https://localhost:8080/"
        },
        "id": "F_XD-DzK_XuS",
        "outputId": "7bc0e6b0-cce4-4313-c7fd-372a8d7ab84a"
      },
      "execution_count": null,
      "outputs": [
        {
          "output_type": "stream",
          "name": "stdout",
          "text": [
            "1 2\n",
            "18\n",
            "{'num': 4}\n"
          ]
        }
      ]
    },
    {
      "cell_type": "code",
      "source": [
        "# keyword 전용 인수가 있는 이유\n",
        "def print_all(num1, num2, *args, **kargs):\n",
        "  print(num1, num2)\n",
        "  print(sum(args))\n",
        "  print(kargs)\n",
        "\n",
        "print_all(1, 2, 3, 4, 5, 6, num1=4, num2=5)"
      ],
      "metadata": {
        "colab": {
          "base_uri": "https://localhost:8080/",
          "height": 213
        },
        "id": "tEgdKP3-c1MM",
        "outputId": "0c2b3103-835b-474c-8181-85d880378dae"
      },
      "execution_count": 11,
      "outputs": [
        {
          "output_type": "error",
          "ename": "TypeError",
          "evalue": "ignored",
          "traceback": [
            "\u001b[0;31m---------------------------------------------------------------------------\u001b[0m",
            "\u001b[0;31mTypeError\u001b[0m                                 Traceback (most recent call last)",
            "\u001b[0;32m<ipython-input-11-513634dcbd60>\u001b[0m in \u001b[0;36m<module>\u001b[0;34m()\u001b[0m\n\u001b[1;32m      5\u001b[0m   \u001b[0mprint\u001b[0m\u001b[0;34m(\u001b[0m\u001b[0mkargs\u001b[0m\u001b[0;34m)\u001b[0m\u001b[0;34m\u001b[0m\u001b[0;34m\u001b[0m\u001b[0m\n\u001b[1;32m      6\u001b[0m \u001b[0;34m\u001b[0m\u001b[0m\n\u001b[0;32m----> 7\u001b[0;31m \u001b[0mprint_all\u001b[0m\u001b[0;34m(\u001b[0m\u001b[0;36m1\u001b[0m\u001b[0;34m,\u001b[0m \u001b[0;36m2\u001b[0m\u001b[0;34m,\u001b[0m \u001b[0;36m3\u001b[0m\u001b[0;34m,\u001b[0m \u001b[0;36m4\u001b[0m\u001b[0;34m,\u001b[0m \u001b[0;36m5\u001b[0m\u001b[0;34m,\u001b[0m \u001b[0;36m6\u001b[0m\u001b[0;34m,\u001b[0m \u001b[0mnum1\u001b[0m\u001b[0;34m=\u001b[0m\u001b[0;36m4\u001b[0m\u001b[0;34m,\u001b[0m \u001b[0mnum2\u001b[0m\u001b[0;34m=\u001b[0m\u001b[0;36m5\u001b[0m\u001b[0;34m)\u001b[0m\u001b[0;34m\u001b[0m\u001b[0;34m\u001b[0m\u001b[0m\n\u001b[0m",
            "\u001b[0;31mTypeError\u001b[0m: print_all() got multiple values for argument 'num1'"
          ]
        }
      ]
    },
    {
      "cell_type": "code",
      "source": [
        "# key dictionary\n",
        "# dictionary join\n",
        "a = {1: 'a', 2:'b'}\n",
        "b = {2: 'c', 3:'d'}\n",
        "c = {**a, **b}"
      ],
      "metadata": {
        "id": "JVFAX9Dv_t3V"
      },
      "execution_count": 12,
      "outputs": []
    },
    {
      "cell_type": "code",
      "source": [
        "c"
      ],
      "metadata": {
        "colab": {
          "base_uri": "https://localhost:8080/"
        },
        "id": "jzERvJbDAE5H",
        "outputId": "c5d783c3-9f05-42a9-aca4-d9565804e193"
      },
      "execution_count": 13,
      "outputs": [
        {
          "output_type": "execute_result",
          "data": {
            "text/plain": [
              "{1: 'a', 2: 'c', 3: 'd'}"
            ]
          },
          "metadata": {},
          "execution_count": 13
        }
      ]
    }
  ]
}