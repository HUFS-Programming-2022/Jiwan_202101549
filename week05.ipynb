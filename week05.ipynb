{
  "nbformat": 4,
  "nbformat_minor": 0,
  "metadata": {
    "colab": {
      "name": "week05.ipynb",
      "provenance": [],
      "collapsed_sections": []
    },
    "kernelspec": {
      "name": "python3",
      "display_name": "Python 3"
    },
    "language_info": {
      "name": "python"
    }
  },
  "cells": [
    {
      "cell_type": "code",
      "source": [
        "import nltk\n",
        "nltk.download('book', quiet=True)\n",
        "from nltk.book import *\n",
        "nltk.download('book', quiet=True)\n",
        "from nltk.corpus import gutenberg\n",
        "nltk.download(['brown', 'gutenberg', 'inaugural'])"
      ],
      "metadata": {
        "colab": {
          "base_uri": "https://localhost:8080/"
        },
        "outputId": "f4cf8fc8-90a9-4289-d66a-301dc3fe19d2",
        "id": "hn5GFuU3Txhr"
      },
      "execution_count": 5,
      "outputs": [
        {
          "output_type": "stream",
          "name": "stdout",
          "text": [
            "*** Introductory Examples for the NLTK Book ***\n",
            "Loading text1, ..., text9 and sent1, ..., sent9\n",
            "Type the name of the text or sentence to view it.\n",
            "Type: 'texts()' or 'sents()' to list the materials.\n",
            "text1: Moby Dick by Herman Melville 1851\n",
            "text2: Sense and Sensibility by Jane Austen 1811\n",
            "text3: The Book of Genesis\n",
            "text4: Inaugural Address Corpus\n",
            "text5: Chat Corpus\n",
            "text6: Monty Python and the Holy Grail\n",
            "text7: Wall Street Journal\n",
            "text8: Personals Corpus\n",
            "text9: The Man Who Was Thursday by G . K . Chesterton 1908\n",
            "[nltk_data] Downloading package brown to /root/nltk_data...\n",
            "[nltk_data]   Package brown is already up-to-date!\n",
            "[nltk_data] Downloading package gutenberg to /root/nltk_data...\n",
            "[nltk_data]   Package gutenberg is already up-to-date!\n",
            "[nltk_data] Downloading package inaugural to /root/nltk_data...\n",
            "[nltk_data]   Package inaugural is already up-to-date!\n"
          ]
        },
        {
          "output_type": "execute_result",
          "data": {
            "text/plain": [
              "True"
            ]
          },
          "metadata": {},
          "execution_count": 5
        }
      ]
    },
    {
      "cell_type": "markdown",
      "source": [
        "### 반복문\n",
        "- while , for loop\n",
        "\n",
        "#### while loop\n",
        "- 어떤 `조건`이 만족하는 동안 명령 블록을 수행한다.\n",
        "- `if + for loop`\n",
        "- 해당 조건이 거짓이면 멈춘다. -> 언제 `멈추는지` 그 시점을 정확히 파악해야 함. \n",
        "\n",
        "#### for vs. while\n",
        "- for: 반복범위 즉 횟수가 정해짐, 정확함. 변하지 않음\n",
        "  - 예: 성적 산출 \n",
        "- while: 횟수 정해지지 않음. (중요하지 않다) 어떤 `조건`을 만족시킬때 빠져나오게 하는 것이 중요할때 사용함.\n",
        "  - while True: -> if\n",
        "  - while 조건 \n",
        "  - or break 문\n",
        "    - 예: 가위바위보\n",
        "- 좋고 나쁜 것은 없지만 더 좋은 것을 선택하는 것이 중요"
      ],
      "metadata": {
        "id": "1EgJV4ZgLSWl"
      }
    },
    {
      "cell_type": "code",
      "source": [
        "for i in range(5):\n",
        "  print(i)"
      ],
      "metadata": {
        "colab": {
          "base_uri": "https://localhost:8080/"
        },
        "id": "rO595Q48NYp7",
        "outputId": "17ca0d67-952b-4157-f64b-13b27611d967"
      },
      "execution_count": null,
      "outputs": [
        {
          "output_type": "stream",
          "name": "stdout",
          "text": [
            "0\n",
            "1\n",
            "2\n",
            "3\n",
            "4\n"
          ]
        }
      ]
    },
    {
      "cell_type": "code",
      "source": [
        "# 윗 코드와 동일하지만 다른점에 주목\n",
        "j = 0 # 초기화 블록\n",
        "while j < 5:\n",
        "  print(j)\n",
        "  j += 1 # 변화블록"
      ],
      "metadata": {
        "colab": {
          "base_uri": "https://localhost:8080/"
        },
        "id": "Zm7Db2uKNbuH",
        "outputId": "45238f05-5ae7-4a1e-f3ab-910e01287260"
      },
      "execution_count": null,
      "outputs": [
        {
          "output_type": "stream",
          "name": "stdout",
          "text": [
            "0\n",
            "1\n",
            "2\n",
            "3\n",
            "4\n"
          ]
        }
      ]
    },
    {
      "cell_type": "code",
      "source": [
        "# 다른점에 주목\n",
        "j = 0\n",
        "while j < 5:\n",
        "  j += 1 # 변화블록\n",
        "  print(j)"
      ],
      "metadata": {
        "colab": {
          "base_uri": "https://localhost:8080/"
        },
        "id": "jyIzjvQoNnIL",
        "outputId": "1fd25613-d675-4578-a84e-b37dd58f93dc"
      },
      "execution_count": null,
      "outputs": [
        {
          "output_type": "stream",
          "name": "stdout",
          "text": [
            "1\n",
            "2\n",
            "3\n",
            "4\n",
            "5\n"
          ]
        }
      ]
    },
    {
      "cell_type": "code",
      "source": [
        "# while과 for의 다른점은 조건 + 변화블록인지 변화블록을 얼마나 반복시킬지 인지 // 변화블록의 위치\n",
        "# for_문의 용도"
      ],
      "metadata": {
        "id": "imlgSITdONMw"
      },
      "execution_count": null,
      "outputs": []
    },
    {
      "cell_type": "code",
      "source": [
        "# character = 글자\n",
        "# for문\n",
        "abcd = ['a', 'b', 'c', 'd']\n",
        "for ch in abcd:\n",
        "  print(ch)"
      ],
      "metadata": {
        "colab": {
          "base_uri": "https://localhost:8080/"
        },
        "id": "J2r-tYX1OLIc",
        "outputId": "86598f3d-1f5e-4d6b-9eaa-6866b4f74194"
      },
      "execution_count": 1,
      "outputs": [
        {
          "output_type": "stream",
          "name": "stdout",
          "text": [
            "a\n",
            "b\n",
            "c\n",
            "d\n"
          ]
        }
      ]
    },
    {
      "cell_type": "code",
      "source": [
        "# while문\n",
        "abcd = ['a', 'b', 'c', 'd']\n",
        "i = 0\n",
        "while i < len(abcd):\n",
        "  print(abcd[i], end =\" \")\n",
        "  i += 1"
      ],
      "metadata": {
        "colab": {
          "base_uri": "https://localhost:8080/"
        },
        "id": "1pYoBCmNSAHZ",
        "outputId": "af229471-3713-4f13-b059-842afa86f216"
      },
      "execution_count": 4,
      "outputs": [
        {
          "output_type": "stream",
          "name": "stdout",
          "text": [
            "a b c d "
          ]
        }
      ]
    },
    {
      "cell_type": "code",
      "source": [
        "i = 0\n",
        "while i < len(abcd):\n",
        "  print(abcd[i])\n",
        "  i += 1"
      ],
      "metadata": {
        "colab": {
          "base_uri": "https://localhost:8080/"
        },
        "id": "pwjEWOW_O541",
        "outputId": "870856fb-eda9-4fde-946b-648e11cf6477"
      },
      "execution_count": null,
      "outputs": [
        {
          "output_type": "stream",
          "name": "stdout",
          "text": [
            "a\n",
            "b\n",
            "c\n",
            "d\n"
          ]
        }
      ]
    },
    {
      "cell_type": "markdown",
      "source": [
        "### 반복문 **제어**\n",
        "- 되도로 사용하지 않는다. 의도치 않은 오류를 위해 (꼭 사용해야 할 상황이 있을 수 있음)\n",
        "\n",
        "- break: 논리적으로 반복을 종료시킬때\n",
        "- else : 어떤 조건이 완전히 끝났을 때 한번 더 실행함. break시에 실행 안됨. -> 어느 지점에서 종료되었는지 확인할 때\n",
        "- continue : 특정 조건을 건너뛰고 다음 조건 실행"
      ],
      "metadata": {
        "id": "PPDeEjkuPKgz"
      }
    },
    {
      "cell_type": "code",
      "source": [
        "j = 0\n",
        "while j < 10:\n",
        "  print(j)\n",
        "  if j == 16: break\n",
        "  j += 1\n",
        "else:\n",
        "  print('ended') # 어느 지점에서 종료되었는지 확인할 때 사용"
      ],
      "metadata": {
        "colab": {
          "base_uri": "https://localhost:8080/"
        },
        "id": "HebR-9s2UMfx",
        "outputId": "f9bb01e9-2996-4edd-ac8b-dca3702b1d10"
      },
      "execution_count": 12,
      "outputs": [
        {
          "output_type": "stream",
          "name": "stdout",
          "text": [
            "0\n",
            "1\n",
            "2\n",
            "3\n",
            "4\n",
            "5\n",
            "6\n",
            "7\n",
            "8\n",
            "9\n",
            "ended\n"
          ]
        }
      ]
    },
    {
      "cell_type": "code",
      "source": [
        "j = 0\n",
        "while j < 10:\n",
        "  print(j)\n",
        "  if j == 6: break\n",
        "  j += 1\n",
        "else:\n",
        "  print('ended')"
      ],
      "metadata": {
        "colab": {
          "base_uri": "https://localhost:8080/"
        },
        "id": "777ZEb4UUjTy",
        "outputId": "ce940876-ea51-4590-f46c-8794aac1bb51"
      },
      "execution_count": 13,
      "outputs": [
        {
          "output_type": "stream",
          "name": "stdout",
          "text": [
            "0\n",
            "1\n",
            "2\n",
            "3\n",
            "4\n",
            "5\n",
            "6\n"
          ]
        }
      ]
    },
    {
      "cell_type": "code",
      "source": [
        "for i in range(10):\n",
        "  if i == 6: break\n",
        "  print(i) # 6 출력안함"
      ],
      "metadata": {
        "colab": {
          "base_uri": "https://localhost:8080/"
        },
        "id": "5o6UtAXAPres",
        "outputId": "ea15a878-ff3a-488e-ba19-2f9a6dd91ea0"
      },
      "execution_count": null,
      "outputs": [
        {
          "output_type": "stream",
          "name": "stdout",
          "text": [
            "0\n",
            "1\n",
            "2\n",
            "3\n",
            "4\n",
            "5\n"
          ]
        }
      ]
    },
    {
      "cell_type": "code",
      "source": [
        "i"
      ],
      "metadata": {
        "colab": {
          "base_uri": "https://localhost:8080/"
        },
        "id": "2xZebq_AP6s7",
        "outputId": "1d714211-34c9-4d73-a9da-3a468abbcaa5"
      },
      "execution_count": null,
      "outputs": [
        {
          "output_type": "execute_result",
          "data": {
            "text/plain": [
              "6"
            ]
          },
          "metadata": {},
          "execution_count": 10
        }
      ]
    },
    {
      "cell_type": "code",
      "source": [
        "for i in range(10):\n",
        "  if i == 6: continue\n",
        "  print(i, end=\" \")\n",
        "  \n",
        "# j = 0\n",
        "# while j < 5:\n",
        "#   print(j, end=\"\")\n",
        "#   if j == 4: continue\n",
        "#   j += 1\n",
        "# print(\"ended\")"
      ],
      "metadata": {
        "id": "Qk0xcO39P-Qt",
        "colab": {
          "base_uri": "https://localhost:8080/"
        },
        "outputId": "4f88083e-a8cc-4a2b-cc85-5f999902ff3e"
      },
      "execution_count": 16,
      "outputs": [
        {
          "output_type": "stream",
          "name": "stdout",
          "text": [
            "0 1 2 3 4 5 7 8 9 "
          ]
        }
      ]
    },
    {
      "cell_type": "markdown",
      "source": [
        "### gugudan \n",
        "변수는 입력을 받아서 사용함.\n",
        "- 1. n단 출력\n",
        "- 2. 1 - n단까지 출력\n",
        "- 3. n, m 모두 입력 받아서 출력\n",
        "- 4. 프로그램으로 만듦.\n",
        "    - 메뉴 : 1) n, 2) 1 - n, 3) n - m 단"
      ],
      "metadata": {
        "id": "uBjvtxjzRcnk"
      }
    },
    {
      "cell_type": "code",
      "source": [
        "# n, m = map(int, input(\"출력하고 싶은 단을 두개 입력해주세요: \").split())\n",
        "n = int(input(\"start단: \"))\n",
        "m = int(input(\"end단: \"))\n",
        "print(f\"#1. {n}단을 출력합니다. \\n#2. 1- {n}단 까지 출력합니다. \\n#3. {n}단부터 {m}단을 출력합니다.\\n\")\n",
        "\n",
        "a = int(input(\"원하는 메뉴얼을 고르세요. \"))\n",
        "\n",
        "if a == 1:\n",
        "  print()\n",
        "  for i in range(1, 10):\n",
        "    print(f\"{n} * {i} = {i * n}\")\n",
        "elif a == 2:\n",
        "  print()\n",
        "  for i in range(1, n +1):\n",
        "    for k in range(1, 10):\n",
        "      print(f\"{i} * {k} = {i * k}\")\n",
        "elif a == 3:\n",
        "  print()\n",
        "  for i in range(n, m + 1):\n",
        "    for k in range(1, 10):\n",
        "      print(f\"{i} * {k} = {i * k}\")\n",
        "else:\n",
        "  print(\"없는 메뉴얼입니다.\")"
      ],
      "metadata": {
        "colab": {
          "base_uri": "https://localhost:8080/"
        },
        "id": "I52OlXvrXb02",
        "outputId": "c2533aca-fe58-4d84-d164-35768fc43456"
      },
      "execution_count": 18,
      "outputs": [
        {
          "output_type": "stream",
          "name": "stdout",
          "text": [
            "출력하고 싶은 단을 두개 입력해주세요: 5 7\n",
            "#1. 5단을 출력합니다. \n",
            "#2. 1- 5단 까지 출력합니다. \n",
            "#3. 5단부터 7단을 출력합니다.\n",
            "\n",
            "원하는 메뉴얼을 고르세요. 3\n",
            "\n",
            "5 * 1 = 5\n",
            "5 * 2 = 10\n",
            "5 * 3 = 15\n",
            "5 * 4 = 20\n",
            "5 * 5 = 25\n",
            "5 * 6 = 30\n",
            "5 * 7 = 35\n",
            "5 * 8 = 40\n",
            "5 * 9 = 45\n",
            "6 * 1 = 6\n",
            "6 * 2 = 12\n",
            "6 * 3 = 18\n",
            "6 * 4 = 24\n",
            "6 * 5 = 30\n",
            "6 * 6 = 36\n",
            "6 * 7 = 42\n",
            "6 * 8 = 48\n",
            "6 * 9 = 54\n",
            "7 * 1 = 7\n",
            "7 * 2 = 14\n",
            "7 * 3 = 21\n",
            "7 * 4 = 28\n",
            "7 * 5 = 35\n",
            "7 * 6 = 42\n",
            "7 * 7 = 49\n",
            "7 * 8 = 56\n",
            "7 * 9 = 63\n"
          ]
        }
      ]
    },
    {
      "cell_type": "markdown",
      "source": [
        "#### nltk book"
      ],
      "metadata": {
        "id": "5jwYV206r6hK"
      }
    },
    {
      "cell_type": "code",
      "source": [
        "import nltk\n",
        "nltk.download('book', quiet=True)\n",
        "from nltk.book import *\n",
        "nltk.download('book', quiet=True)\n",
        "from nltk.corpus import gutenberg\n",
        "nltk.download(['brown', 'gutenberg', 'inaugural'])"
      ],
      "metadata": {
        "colab": {
          "base_uri": "https://localhost:8080/"
        },
        "id": "jbbBSGErV__m",
        "outputId": "fe1f9736-b891-419a-dbdd-1f1b287aa5e0"
      },
      "execution_count": 19,
      "outputs": [
        {
          "output_type": "stream",
          "name": "stdout",
          "text": [
            "[nltk_data] Downloading package brown to /root/nltk_data...\n",
            "[nltk_data]   Package brown is already up-to-date!\n",
            "[nltk_data] Downloading package gutenberg to /root/nltk_data...\n",
            "[nltk_data]   Package gutenberg is already up-to-date!\n",
            "[nltk_data] Downloading package inaugural to /root/nltk_data...\n",
            "[nltk_data]   Package inaugural is already up-to-date!\n"
          ]
        },
        {
          "output_type": "execute_result",
          "data": {
            "text/plain": [
              "True"
            ]
          },
          "metadata": {},
          "execution_count": 19
        }
      ]
    },
    {
      "cell_type": "code",
      "source": [
        "# text1 - 9\n",
        "  # text1 vs. 'text1'\n",
        "  # 변수 vs. string\n",
        "  # text1 - 9 string 가져오기\n",
        "  # string -> fx"
      ],
      "metadata": {
        "id": "dyDGDRStqN5O"
      },
      "execution_count": null,
      "outputs": []
    },
    {
      "cell_type": "code",
      "source": [
        "texts = [text1, text2, text3, ..., text9]"
      ],
      "metadata": {
        "id": "fMHOyvHzqo9I"
      },
      "execution_count": 20,
      "outputs": []
    },
    {
      "cell_type": "code",
      "source": [
        "text1, 'text1'"
      ],
      "metadata": {
        "id": "XpAfVRr8qpun"
      },
      "execution_count": null,
      "outputs": []
    },
    {
      "cell_type": "code",
      "source": [
        "#1. string -> fx (문자열을 기능을 가진 아이로 바꾸기): getattr(library, 'string_name')\n",
        "texts = [getattr(nltk.book, f'text{i}') for i in range(1, 10)]\n",
        "texts"
      ],
      "metadata": {
        "colab": {
          "base_uri": "https://localhost:8080/"
        },
        "id": "_YtLro_aq3fc",
        "outputId": "d8521bdc-abbd-43fc-f903-4e0e7c67d369"
      },
      "execution_count": 22,
      "outputs": [
        {
          "output_type": "execute_result",
          "data": {
            "text/plain": [
              "[<Text: Moby Dick by Herman Melville 1851>,\n",
              " <Text: Sense and Sensibility by Jane Austen 1811>,\n",
              " <Text: The Book of Genesis>,\n",
              " <Text: Inaugural Address Corpus>,\n",
              " <Text: Chat Corpus>,\n",
              " <Text: Monty Python and the Holy Grail>,\n",
              " <Text: Wall Street Journal>,\n",
              " <Text: Personals Corpus>,\n",
              " <Text: The Man Who Was Thursday by G . K . Chesterton 1908>]"
            ]
          },
          "metadata": {},
          "execution_count": 22
        }
      ]
    },
    {
      "cell_type": "markdown",
      "source": [
        "### NLTK corpus\n",
        "- (nltk book)이랑 조금 다른데, \n",
        "- 코퍼스 + 테마\n",
        "- 종류 \n",
        "  - brown \n",
        "  - gutenberg # 저작권이 만료된 소설을 모아둔 코퍼스\n",
        "  - inaugural\n",
        "- methods\n",
        "  -cf. text1.tokens\n",
        "  - words() # tokens\n",
        "  - sents()\n",
        "  - raw() # str로 만들어줌"
      ],
      "metadata": {
        "id": "0FWUidFwry7u"
      }
    },
    {
      "cell_type": "code",
      "source": [
        "# import 방법\n",
        "#1. from nltk.corpus import gutenberg\n",
        "#2. gutenberg = nltk.corpus.gutenberg"
      ],
      "metadata": {
        "id": "56Ry0Aq1sToQ"
      },
      "execution_count": null,
      "outputs": []
    },
    {
      "cell_type": "code",
      "source": [
        "gutenberg #nltk.corpus.gutenberg"
      ],
      "metadata": {
        "colab": {
          "base_uri": "https://localhost:8080/"
        },
        "id": "nAmWgmICd2Ie",
        "outputId": "e6490b5b-162d-4567-99da-70b8efe5effa"
      },
      "execution_count": 23,
      "outputs": [
        {
          "output_type": "execute_result",
          "data": {
            "text/plain": [
              "<PlaintextCorpusReader in '/root/nltk_data/corpora/gutenberg'>"
            ]
          },
          "metadata": {},
          "execution_count": 23
        }
      ]
    },
    {
      "cell_type": "code",
      "source": [
        "gutenberg.fileids()"
      ],
      "metadata": {
        "colab": {
          "base_uri": "https://localhost:8080/"
        },
        "id": "D4pDGKZ6tCsC",
        "outputId": "6b9e5176-b4b4-4f81-c000-6f8e1727be60"
      },
      "execution_count": 31,
      "outputs": [
        {
          "output_type": "execute_result",
          "data": {
            "text/plain": [
              "['austen-emma.txt',\n",
              " 'austen-persuasion.txt',\n",
              " 'austen-sense.txt',\n",
              " 'bible-kjv.txt',\n",
              " 'blake-poems.txt',\n",
              " 'bryant-stories.txt',\n",
              " 'burgess-busterbrown.txt',\n",
              " 'carroll-alice.txt',\n",
              " 'chesterton-ball.txt',\n",
              " 'chesterton-brown.txt',\n",
              " 'chesterton-thursday.txt',\n",
              " 'edgeworth-parents.txt',\n",
              " 'melville-moby_dick.txt',\n",
              " 'milton-paradise.txt',\n",
              " 'shakespeare-caesar.txt',\n",
              " 'shakespeare-hamlet.txt',\n",
              " 'shakespeare-macbeth.txt',\n",
              " 'whitman-leaves.txt']"
            ]
          },
          "metadata": {},
          "execution_count": 31
        }
      ]
    },
    {
      "cell_type": "code",
      "source": [
        "# 파일에 접근\n",
        "gutenberg.words(fileids = ['carroll-alice.txt', 'austen-sense.txt'])"
      ],
      "metadata": {
        "colab": {
          "base_uri": "https://localhost:8080/"
        },
        "id": "RJU_-jUxtjzv",
        "outputId": "db35b442-2de8-4326-9e43-7de9bf24abf3"
      },
      "execution_count": 26,
      "outputs": [
        {
          "output_type": "execute_result",
          "data": {
            "text/plain": [
              "['[', 'Alice', \"'\", 's', 'Adventures', 'in', ...]"
            ]
          },
          "metadata": {},
          "execution_count": 26
        }
      ]
    },
    {
      "cell_type": "code",
      "source": [
        "# 각 파일마다 word, character, sents 개수 출력하기\n",
        "for txt in gutenberg.fileids():\n",
        "  txt_word = len(gutenberg.words(fileids=txt))\n",
        "  txt_sents = len(gutenberg.sents(fileids=txt))\n",
        "  txt_character = len(gutenberg.raw(fileids=txt))\n",
        "  \n",
        "  print(f\"{txt[:-4:]} | 글자수={txt_word}개, 단어수={txt_character}개, 문장수={txt_sents}개\")"
      ],
      "metadata": {
        "colab": {
          "base_uri": "https://localhost:8080/"
        },
        "id": "lpGGEe8Gd8Bo",
        "outputId": "116614f9-d81f-43a2-bca3-5dc74588be4e"
      },
      "execution_count": 33,
      "outputs": [
        {
          "output_type": "stream",
          "name": "stdout",
          "text": [
            "austen-emma | 글자수=192427개, 단어수=887071개, 문장수=7752개\n",
            "austen-persuasion | 글자수=98171개, 단어수=466292개, 문장수=3747개\n",
            "austen-sense | 글자수=141576개, 단어수=673022개, 문장수=4999개\n",
            "bible-kjv | 글자수=1010654개, 단어수=4332554개, 문장수=30103개\n",
            "blake-poems | 글자수=8354개, 단어수=38153개, 문장수=438개\n",
            "bryant-stories | 글자수=55563개, 단어수=249439개, 문장수=2863개\n",
            "burgess-busterbrown | 글자수=18963개, 단어수=84663개, 문장수=1054개\n",
            "carroll-alice | 글자수=34110개, 단어수=144395개, 문장수=1703개\n",
            "chesterton-ball | 글자수=96996개, 단어수=457450개, 문장수=4779개\n",
            "chesterton-brown | 글자수=86063개, 단어수=406629개, 문장수=3806개\n",
            "chesterton-thursday | 글자수=69213개, 단어수=320525개, 문장수=3742개\n",
            "edgeworth-parents | 글자수=210663개, 단어수=935158개, 문장수=10230개\n",
            "melville-moby_dick | 글자수=260819개, 단어수=1242990개, 문장수=10059개\n",
            "milton-paradise | 글자수=96825개, 단어수=468220개, 문장수=1851개\n",
            "shakespeare-caesar | 글자수=25833개, 단어수=112310개, 문장수=2163개\n",
            "shakespeare-hamlet | 글자수=37360개, 단어수=162881개, 문장수=3106개\n",
            "shakespeare-macbeth | 글자수=23140개, 단어수=100351개, 문장수=1907개\n",
            "whitman-leaves | 글자수=154883개, 단어수=711215개, 문장수=4250개\n"
          ]
        }
      ]
    },
    {
      "cell_type": "code",
      "source": [
        "for file in gutenberg.fileids():\n",
        "  words = gutenberg.words(file)\n",
        "  sents = gutenberg.sents(file)\n",
        "  characters = gutenberg.raw(file)\n",
        "  \n",
        "  print('{0}|단어수 = {1}개, 문장수는 {2}개, 글자수는 {3}개'.format(file[:-4]), len(words), len(sents), len(characters))"
      ],
      "metadata": {
        "id": "JZjqRqj18XOk"
      },
      "execution_count": null,
      "outputs": []
    },
    {
      "cell_type": "markdown",
      "source": [
        "### Gutenberg ex\n",
        "- 1. shakespeare-caesar.txt의 중복된 단어를 거르고 각 단어의 길이를 출력하시오.\n",
        "- 2. chesterton-thursday에서 길이가 4자 이하인 알파벳 중 'ie'를 포함하는 단어를 소문자로 출력하고 , 갯수를 세어라.\n",
        "- 3. bryant-stories에서 ch로 끝나는 단어를 출력하는데, 중복없이, 첫글자(모두 소문자)와 끝 ch만 남기고 가운데 글자들은 모두 -로 가려라, e.g, m-ch"
      ],
      "metadata": {
        "id": "7aqFshI1-kni"
      }
    },
    {
      "cell_type": "code",
      "source": [
        "#1. \n",
        "[len(word) for word in set(gutenberg.words('shakespeare-caesar.txt'))][:10]"
      ],
      "metadata": {
        "colab": {
          "base_uri": "https://localhost:8080/"
        },
        "id": "Il3fydYSAMM1",
        "outputId": "7f7f89be-ecb0-4c72-c950-6916ba0beb24"
      },
      "execution_count": 42,
      "outputs": [
        {
          "output_type": "execute_result",
          "data": {
            "text/plain": [
              "[5, 9, 9, 9, 8, 7, 4, 6, 7, 9]"
            ]
          },
          "metadata": {},
          "execution_count": 42
        }
      ]
    },
    {
      "cell_type": "code",
      "source": [
        "#2.\n",
        "len([word.lower() for word in gutenberg.words('chesterton-thursday.txt') if len(word) <= 4 and 'ie' in word])"
      ],
      "metadata": {
        "colab": {
          "base_uri": "https://localhost:8080/"
        },
        "id": "5J56xkxxAMjK",
        "outputId": "38f486a9-a0ae-438a-b523-edd34633de0f"
      },
      "execution_count": 43,
      "outputs": [
        {
          "output_type": "execute_result",
          "data": {
            "text/plain": [
              "37"
            ]
          },
          "metadata": {},
          "execution_count": 43
        }
      ]
    },
    {
      "cell_type": "code",
      "source": [
        "# [len(word) for word in set((gutenberg.words('shakespeare-caesar.txt')))]\n",
        "# len([word.lower() for word in (gutenberg.words('chesterton-thursday.txt')) if word <= 4 and 'ie' in word])\n",
        "#3.\n",
        "[word.lower()[0] + '-'*(len(word) -3) + 'ch' for word in set(gutenberg.words('bryant-stories.txt')) if word.endswith('ch')]"
      ],
      "metadata": {
        "colab": {
          "base_uri": "https://localhost:8080/"
        },
        "id": "BQKyBi8keV10",
        "outputId": "4d7dd252-b420-4f9b-82d6-1cfdaf2b5a95"
      },
      "execution_count": 44,
      "outputs": [
        {
          "output_type": "execute_result",
          "data": {
            "text/plain": [
              "['s-ch',\n",
              " 'b--ch',\n",
              " 's----ch',\n",
              " 'b--ch',\n",
              " 'c--ch',\n",
              " 'p--ch',\n",
              " 'w--ch',\n",
              " 's----ch',\n",
              " 't--ch',\n",
              " 'f--ch',\n",
              " 'p--ch',\n",
              " 'f---ch',\n",
              " 't--ch',\n",
              " 's-ch',\n",
              " 'r-ch',\n",
              " 'a-ch',\n",
              " 'l--ch',\n",
              " 't--ch',\n",
              " 'c--ch',\n",
              " 'b--ch',\n",
              " 'p--ch',\n",
              " 'c---ch',\n",
              " 's---ch',\n",
              " 'p--ch',\n",
              " 'e-ch',\n",
              " 's----ch',\n",
              " 's---ch',\n",
              " 's----ch',\n",
              " 'p--ch',\n",
              " 'w--ch',\n",
              " 'm-ch',\n",
              " 'e-ch',\n",
              " 't---ch',\n",
              " 'r--ch',\n",
              " 'b---ch']"
            ]
          },
          "metadata": {},
          "execution_count": 44
        }
      ]
    },
    {
      "cell_type": "code",
      "source": [
        "# ch_list = [word.lower() for word in set(gutenberg.words('bryant-stories.txt')) if word [:-2] == 'ch']"
      ],
      "metadata": {
        "id": "NPAinMthk79j"
      },
      "execution_count": 45,
      "outputs": []
    },
    {
      "cell_type": "markdown",
      "source": [
        "### Brown\n",
        "- categories\n",
        "-cf) nltk.corpus -> txts(file)-> brown -> categories "
      ],
      "metadata": {
        "id": "E3Hmlu_LDVxD"
      }
    },
    {
      "cell_type": "code",
      "source": [
        "brown = nltk.corpus.brown # import"
      ],
      "metadata": {
        "id": "CBEOZTyDDbGl"
      },
      "execution_count": 48,
      "outputs": []
    },
    {
      "cell_type": "code",
      "source": [
        "brown.categories()"
      ],
      "metadata": {
        "colab": {
          "base_uri": "https://localhost:8080/"
        },
        "id": "iiwHiZJADfQw",
        "outputId": "117a3ac1-af32-45a4-eb86-183363de10c1"
      },
      "execution_count": 49,
      "outputs": [
        {
          "output_type": "execute_result",
          "data": {
            "text/plain": [
              "['adventure',\n",
              " 'belles_lettres',\n",
              " 'editorial',\n",
              " 'fiction',\n",
              " 'government',\n",
              " 'hobbies',\n",
              " 'humor',\n",
              " 'learned',\n",
              " 'lore',\n",
              " 'mystery',\n",
              " 'news',\n",
              " 'religion',\n",
              " 'reviews',\n",
              " 'romance',\n",
              " 'science_fiction']"
            ]
          },
          "metadata": {},
          "execution_count": 49
        }
      ]
    },
    {
      "cell_type": "code",
      "source": [
        "fdist = nltk.FreqDist([w.lower() for w in brown.words(categories='adventure')])"
      ],
      "metadata": {
        "id": "_TOKE7dCDoBl"
      },
      "execution_count": 50,
      "outputs": []
    },
    {
      "cell_type": "code",
      "source": [
        "# modal verbs\n",
        "modals = ['can', 'could', 'will', 'would', 'may', 'might']\n",
        "\n",
        "for verb in modals:\n",
        "  print(verb, fdist[verb]) # distribution"
      ],
      "metadata": {
        "colab": {
          "base_uri": "https://localhost:8080/"
        },
        "id": "FMvKm5GDUjfB",
        "outputId": "602b2d29-7188-4385-cb4e-c6d3c7d4d3ac"
      },
      "execution_count": 51,
      "outputs": [
        {
          "output_type": "stream",
          "name": "stdout",
          "text": [
            "can 48\n",
            "could 154\n",
            "will 51\n",
            "would 194\n",
            "may 7\n",
            "might 59\n"
          ]
        }
      ]
    },
    {
      "cell_type": "markdown",
      "source": [
        "### conditional frequency distribution\n",
        "- **조건에 따른 fdist**"
      ],
      "metadata": {
        "id": "QVYvkZDeVxmF"
      }
    },
    {
      "cell_type": "code",
      "source": [
        "cfd = nltk.ConditionalFreqDist(\n",
        "    # 각 장르에 따른 frequency distribution을 만든다. !!\n",
        "    (genre, word)\n",
        "    for genre in brown.categories()\n",
        "    for word in brown.words(categories=genre)\n",
        ") # list comprehension -> for문 + for문 가능\n",
        "# cf. nltk book: fdist1 = FreqDist(text1)"
      ],
      "metadata": {
        "id": "TrYaP4eGWDkc"
      },
      "execution_count": 52,
      "outputs": []
    },
    {
      "cell_type": "code",
      "source": [
        "texts = [getattr(nltk.book, f\"text{i}\") for _ in range(1, 10)]\n",
        "cfd2 = nltk.FreqDist(\n",
        "    text\n",
        "    for text in texts\n",
        ")"
      ],
      "metadata": {
        "id": "3hukznPfXi97"
      },
      "execution_count": 55,
      "outputs": []
    },
    {
      "cell_type": "code",
      "source": [
        "cfd2"
      ],
      "metadata": {
        "colab": {
          "base_uri": "https://localhost:8080/"
        },
        "id": "XfBiatFeZXAZ",
        "outputId": "90d16cd2-6059-4e09-ada2-9b5fed037f45"
      },
      "execution_count": 56,
      "outputs": [
        {
          "output_type": "execute_result",
          "data": {
            "text/plain": [
              "FreqDist({<Text: Wall Street Journal>: 9})"
            ]
          },
          "metadata": {},
          "execution_count": 56
        }
      ]
    },
    {
      "cell_type": "code",
      "source": [
        "# nltk.book -> fdist1(객체).most_common(10)\n",
        "# cfd2[text2].most_common(10)\n",
        "cfd['romance'].most_common(10)\n",
        "#객체(리스트처럼)[categories].실행하고자 하는 함수()"
      ],
      "metadata": {
        "colab": {
          "base_uri": "https://localhost:8080/"
        },
        "id": "aJAgPtc7ZlhD",
        "outputId": "4abe5044-a35e-44ff-adfc-d5ef083e922f"
      },
      "execution_count": 62,
      "outputs": [
        {
          "output_type": "execute_result",
          "data": {
            "text/plain": [
              "[(',', 3899),\n",
              " ('.', 3736),\n",
              " ('the', 2758),\n",
              " ('and', 1776),\n",
              " ('to', 1502),\n",
              " ('a', 1335),\n",
              " ('of', 1186),\n",
              " ('``', 1045),\n",
              " (\"''\", 1044),\n",
              " ('was', 993)]"
            ]
          },
          "metadata": {},
          "execution_count": 62
        }
      ]
    },
    {
      "cell_type": "code",
      "source": [
        "cfd['romance']['love'] # 빈도수"
      ],
      "metadata": {
        "colab": {
          "base_uri": "https://localhost:8080/"
        },
        "id": "53dBHCHeZskM",
        "outputId": "b7dd4fbe-edf2-4ba1-e5ea-272ae2d4eada"
      },
      "execution_count": 59,
      "outputs": [
        {
          "output_type": "execute_result",
          "data": {
            "text/plain": [
              "32"
            ]
          },
          "metadata": {},
          "execution_count": 59
        }
      ]
    },
    {
      "cell_type": "code",
      "source": [
        "# gutenberg에서도 fdist, FreqDist 사용해보기\n",
        "cfd3 = nltk.FreqDist(\n",
        "    (file, word)\n",
        "    for file in gutenberg.fileids()\n",
        "    for word in gutenberg.words(fileids=file)\n",
        ")"
      ],
      "metadata": {
        "id": "_SqKwttFZ1T5"
      },
      "execution_count": 71,
      "outputs": []
    },
    {
      "cell_type": "code",
      "source": [
        "# cfd3['shakespeare-caesar.txt'].most_common(10)"
      ],
      "metadata": {
        "id": "w-771GQCb-Jt"
      },
      "execution_count": 67,
      "outputs": []
    },
    {
      "cell_type": "code",
      "source": [
        "fdist1 = nltk.FreqDist([w.lower() for w in gutenberg.words('shakespeare-caesar.txt')])"
      ],
      "metadata": {
        "id": "tAufDWBOcG1G"
      },
      "execution_count": 68,
      "outputs": []
    },
    {
      "cell_type": "code",
      "source": [
        "# Auxiliary verb in gutenberg\n",
        "Auxiliary = ['can', 'could', 'will', 'would', 'may', 'might']\n",
        "\n",
        "for verb in Auxiliary:\n",
        "  print(verb, fdist1[verb], \"/\", end =\" \")"
      ],
      "metadata": {
        "colab": {
          "base_uri": "https://localhost:8080/"
        },
        "id": "gLwNZgIgc_5H",
        "outputId": "2f490703-5f43-4cac-b0bb-816b8bdd158d"
      },
      "execution_count": 70,
      "outputs": [
        {
          "output_type": "stream",
          "name": "stdout",
          "text": [
            "can 19 / could 18 / will 163 / would 44 / may 38 / might 13 / "
          ]
        }
      ]
    }
  ]
}