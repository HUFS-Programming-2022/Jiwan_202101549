{
  "nbformat": 4,
  "nbformat_minor": 0,
  "metadata": {
    "colab": {
      "name": "week_10.ipynb",
      "provenance": [],
      "collapsed_sections": []
    },
    "kernelspec": {
      "name": "python3",
      "display_name": "Python 3"
    },
    "language_info": {
      "name": "python"
    }
  },
  "cells": [
    {
      "cell_type": "markdown",
      "source": [
        "### 10. 객체와 클래스\n",
        "- object (객체)\n",
        "  - 클래스는 객체를 만들기 위한 도구\n",
        "- 객체지향프로그램\n",
        "- 속성과 행동을 가지는 개념, 실존하는 물체?\n",
        "  - 예: 자동차, 강아지, 꽃, ... thing\n",
        "  - 속성: 브랜드, 색, 속도, 엔진, 모델, ..\n",
        "    - 이름, 종, 색, 무게, ..\n",
        "  - 행동: 가다, 서다, 회던, 주차, ..\n",
        "    - 뛰다, 짖다, 자다, 핥다, ..\n",
        "  - -> 속성이 있고 행동이 있으면 객체\n",
        "\n",
        "- 편의점=> \"고객이 편의점에서 과자를 샀다.\"\n",
        "    - => 고객-> 사람, 편의점, 과자-> 물건\n",
        "      - 이름, 돈\n",
        "      - 물건 사다, 돈내다\n",
        "-> 상호작용으로 코드를 구성하는 것\n",
        "변수로 , methond로 "
      ],
      "metadata": {
        "id": "-WwDDOpufXLT"
      }
    },
    {
      "cell_type": "markdown",
      "source": [
        "- 첫글자 대문자\n",
        "- nice car -> Nice_car (x)\n",
        "- NiceCar(o)"
      ],
      "metadata": {
        "id": "xdr-AtQNhOT_"
      }
    },
    {
      "cell_type": "code",
      "source": [
        "class Car: #\n",
        "  pass\n",
        "\n",
        "my_car = Car()\n",
        "my_car #instance"
      ],
      "metadata": {
        "colab": {
          "base_uri": "https://localhost:8080/"
        },
        "id": "kGzj2_-rhFWf",
        "outputId": "ad23ce49-c4fd-4d80-ec11-0bc0510b65a6"
      },
      "execution_count": null,
      "outputs": [
        {
          "output_type": "execute_result",
          "data": {
            "text/plain": [
              "<__main__.Car at 0x7fef812c9690>"
            ]
          },
          "metadata": {},
          "execution_count": 2
        }
      ]
    },
    {
      "cell_type": "code",
      "source": [
        "my_car.name = 'bmw'\n",
        "my_car.color = 'white'"
      ],
      "metadata": {
        "id": "jd5jU8IFhlIG"
      },
      "execution_count": null,
      "outputs": []
    },
    {
      "cell_type": "code",
      "source": [
        "class Car:\n",
        "  name = 'KIA'"
      ],
      "metadata": {
        "id": "CIsF0XkDiDju"
      },
      "execution_count": null,
      "outputs": []
    },
    {
      "cell_type": "code",
      "source": [
        "your_car = Car()"
      ],
      "metadata": {
        "id": "ezoqKBoiiJP1"
      },
      "execution_count": null,
      "outputs": []
    },
    {
      "cell_type": "code",
      "source": [
        "your_car.name"
      ],
      "metadata": {
        "colab": {
          "base_uri": "https://localhost:8080/",
          "height": 36
        },
        "id": "76fsQ_6qiPhf",
        "outputId": "17913f8b-ee8c-4eae-e2a5-6544fa122035"
      },
      "execution_count": null,
      "outputs": [
        {
          "output_type": "execute_result",
          "data": {
            "text/plain": [
              "'KIA'"
            ],
            "application/vnd.google.colaboratory.intrinsic+json": {
              "type": "string"
            }
          },
          "metadata": {},
          "execution_count": 9
        }
      ]
    },
    {
      "cell_type": "code",
      "source": [
        "class Car:\n",
        "  def __init__(self, name, model, color = 'black'):\n",
        "    self.name = name\n",
        "    self.model = model\n",
        "    self.color = color\n",
        "  \n",
        "  def drive(self):\n",
        "    print(f'{self.name}가 출발합니다.')\n",
        "\n",
        "  def stop(self):\n",
        "    print('차가 섭니다')\n",
        "\n",
        "  def change_color(self):\n",
        "    self.color = 'gray'\n",
        "\n",
        "car1 = Car('KIA', 'Carnival', 'Black')\n",
        "car1.name\n",
        "car1.model\n",
        "car1.color"
      ],
      "metadata": {
        "id": "Kdy5piiljW5v",
        "colab": {
          "base_uri": "https://localhost:8080/",
          "height": 36
        },
        "outputId": "a5159cb6-57e1-4b71-f792-4583b7dfe22e"
      },
      "execution_count": null,
      "outputs": [
        {
          "output_type": "execute_result",
          "data": {
            "text/plain": [
              "'Black'"
            ],
            "application/vnd.google.colaboratory.intrinsic+json": {
              "type": "string"
            }
          },
          "metadata": {},
          "execution_count": 42
        }
      ]
    },
    {
      "cell_type": "code",
      "source": [
        "car1.name"
      ],
      "metadata": {
        "colab": {
          "base_uri": "https://localhost:8080/",
          "height": 36
        },
        "id": "rnyz9X2DkQyD",
        "outputId": "04a1e1a1-7a61-4c42-91a3-4a0134f2bba1"
      },
      "execution_count": null,
      "outputs": [
        {
          "output_type": "execute_result",
          "data": {
            "text/plain": [
              "'KIA'"
            ],
            "application/vnd.google.colaboratory.intrinsic+json": {
              "type": "string"
            }
          },
          "metadata": {},
          "execution_count": 31
        }
      ]
    },
    {
      "cell_type": "code",
      "source": [
        "car1.drive()"
      ],
      "metadata": {
        "colab": {
          "base_uri": "https://localhost:8080/"
        },
        "id": "7aScRF-wkS1S",
        "outputId": "be63d3a0-bd92-44dd-cf61-40ea8c181f7c"
      },
      "execution_count": null,
      "outputs": [
        {
          "output_type": "stream",
          "name": "stdout",
          "text": [
            "KIA가 출발합니다.\n"
          ]
        }
      ]
    },
    {
      "cell_type": "code",
      "source": [
        "car1.stop()"
      ],
      "metadata": {
        "colab": {
          "base_uri": "https://localhost:8080/"
        },
        "id": "jDNn_tRZlLVN",
        "outputId": "a60ca160-d5ce-4b8b-f78a-88dea7af352e"
      },
      "execution_count": null,
      "outputs": [
        {
          "output_type": "stream",
          "name": "stdout",
          "text": [
            "차가 섭니다\n"
          ]
        }
      ]
    },
    {
      "cell_type": "code",
      "source": [
        "car1.change_color()\n",
        "car1.color"
      ],
      "metadata": {
        "colab": {
          "base_uri": "https://localhost:8080/",
          "height": 36
        },
        "id": "VF4OLriAlRH8",
        "outputId": "c530b220-2d79-47f5-ddda-c3cfc910a9e5"
      },
      "execution_count": null,
      "outputs": [
        {
          "output_type": "execute_result",
          "data": {
            "text/plain": [
              "'gray'"
            ],
            "application/vnd.google.colaboratory.intrinsic+json": {
              "type": "string"
            }
          },
          "metadata": {},
          "execution_count": 43
        }
      ]
    },
    {
      "cell_type": "code",
      "source": [
        "class Car:\n",
        "  def __init__(self, name, model, color = 'black'):\n",
        "    self.name = name\n",
        "    self.model = model\n",
        "    self.color = color\n",
        "  \n",
        "  def drive(self):\n",
        "    print(f'{self.name}가 출발합니다.')\n",
        "\n",
        "  def stop(self):\n",
        "    print('차가 섭니다')\n",
        "\n",
        "  def change_color(self):\n",
        "    color_change = input()\n",
        "    self.color = color_change\n",
        "\n",
        "car1 = Car('KIA', 'Carnival')\n",
        "car1.name\n",
        "car1.model\n",
        "car1.color\n",
        "\n",
        "# car1.change_color()\n",
        "# car1.color"
      ],
      "metadata": {
        "colab": {
          "base_uri": "https://localhost:8080/",
          "height": 36
        },
        "id": "npb2jukBnTc6",
        "outputId": "60cc6141-8546-41ed-f955-b5ce229ed65c"
      },
      "execution_count": null,
      "outputs": [
        {
          "output_type": "execute_result",
          "data": {
            "text/plain": [
              "'black'"
            ],
            "application/vnd.google.colaboratory.intrinsic+json": {
              "type": "string"
            }
          },
          "metadata": {},
          "execution_count": 49
        }
      ]
    },
    {
      "cell_type": "code",
      "source": [
        "car1.change_color()"
      ],
      "metadata": {
        "colab": {
          "base_uri": "https://localhost:8080/"
        },
        "id": "Wa02bGSBoRZD",
        "outputId": "5d5e452b-e8be-418d-c4a5-82ee3df4a3ba"
      },
      "execution_count": null,
      "outputs": [
        {
          "name": "stdout",
          "output_type": "stream",
          "text": [
            "gray\n"
          ]
        }
      ]
    },
    {
      "cell_type": "code",
      "source": [
        "car1.color"
      ],
      "metadata": {
        "colab": {
          "base_uri": "https://localhost:8080/",
          "height": 36
        },
        "id": "9A8teB58oVc6",
        "outputId": "0d1a7d23-4de2-4698-df81-3d92c65dedf1"
      },
      "execution_count": null,
      "outputs": [
        {
          "output_type": "execute_result",
          "data": {
            "text/plain": [
              "'gray'"
            ],
            "application/vnd.google.colaboratory.intrinsic+json": {
              "type": "string"
            }
          },
          "metadata": {},
          "execution_count": 47
        }
      ]
    },
    {
      "cell_type": "markdown",
      "source": [
        "5\n",
        "model를 생성할때 안넣어도 되게 설정하기"
      ],
      "metadata": {
        "id": "3Z6r4vHos8Qw"
      }
    },
    {
      "cell_type": "code",
      "source": [
        "class Car:\n",
        "  def __init__(self, name, model=None, color='black'):\n",
        "    self.name = name\n",
        "    self.model = model\n",
        "    self.color = color\n",
        "  \n",
        "  def drive(self):\n",
        "    print(f'{self.name}가 출발합니다.')\n",
        "\n",
        "  def stop(self):\n",
        "    print('차가 섭니다')\n",
        "\n",
        "  def change_color(self, color):\n",
        "    self.color = color\n",
        "\n",
        "car1 = Car('KIA', 'Carnival')\n",
        "print(car1.color)\n",
        "car1.change_color('gray')\n",
        "print(car1.color)"
      ],
      "metadata": {
        "colab": {
          "base_uri": "https://localhost:8080/"
        },
        "id": "Ert0k7Fas63q",
        "outputId": "606d6d15-9e77-4bbb-86cc-4dbb8f2ccb9b"
      },
      "execution_count": null,
      "outputs": [
        {
          "output_type": "stream",
          "name": "stdout",
          "text": [
            "black\n",
            "gray\n"
          ]
        }
      ]
    },
    {
      "cell_type": "markdown",
      "source": [
        "## 캡슐화, 정보 은닉\n",
        " - public -> private\n",
        " - getter, setter"
      ],
      "metadata": {
        "id": "KnxdVPCmuPYQ"
      }
    },
    {
      "cell_type": "code",
      "source": [
        "class Fruit:\n",
        "  color ='red'\n",
        "\n",
        "kiwi = Fruit()\n",
        "kiwi.color"
      ],
      "metadata": {
        "colab": {
          "base_uri": "https://localhost:8080/",
          "height": 36
        },
        "id": "g7LlUx8YucKT",
        "outputId": "56ebeeb3-84b2-4578-d784-dd50284cd1f8"
      },
      "execution_count": null,
      "outputs": [
        {
          "output_type": "execute_result",
          "data": {
            "text/plain": [
              "'red'"
            ],
            "application/vnd.google.colaboratory.intrinsic+json": {
              "type": "string"
            }
          },
          "metadata": {},
          "execution_count": 54
        }
      ]
    },
    {
      "cell_type": "markdown",
      "source": [
        "#### 1 get, set\n",
        "- getter: 클래스 내 객체 변수 반환 `반환`\n",
        "- setter: == 변수설정 `설정`"
      ],
      "metadata": {
        "id": "UMeVTHXGur4o"
      }
    },
    {
      "cell_type": "code",
      "source": [
        "class Car:\n",
        "  def __init__(self, input_name):\n",
        "    self.name = input_name\n",
        "\n",
        "  def get_name(self):\n",
        "    # class 변수 반환-> return\n",
        "    return self.name\n",
        "\n",
        "  def set_name(self, input_name):\n",
        "    # 설정\n",
        "    self.name = input_name\n",
        "\n",
        "c = Car('name1')\n",
        "c.name"
      ],
      "metadata": {
        "colab": {
          "base_uri": "https://localhost:8080/",
          "height": 36
        },
        "id": "wfhYjEmnu--A",
        "outputId": "75f29cce-167f-4f3f-a6fe-97f697836a63"
      },
      "execution_count": null,
      "outputs": [
        {
          "output_type": "execute_result",
          "data": {
            "text/plain": [
              "'name1'"
            ],
            "application/vnd.google.colaboratory.intrinsic+json": {
              "type": "string"
            }
          },
          "metadata": {},
          "execution_count": 70
        }
      ]
    },
    {
      "cell_type": "code",
      "source": [
        "c.get_name()"
      ],
      "metadata": {
        "colab": {
          "base_uri": "https://localhost:8080/",
          "height": 36
        },
        "id": "MJ8T4TgNvc6e",
        "outputId": "4a888c63-ca4c-4861-8391-9b35745b4f98"
      },
      "execution_count": null,
      "outputs": [
        {
          "output_type": "execute_result",
          "data": {
            "text/plain": [
              "'name1'"
            ],
            "application/vnd.google.colaboratory.intrinsic+json": {
              "type": "string"
            }
          },
          "metadata": {},
          "execution_count": 61
        }
      ]
    },
    {
      "cell_type": "code",
      "source": [
        "c.set_name('name2')\n",
        "c.name"
      ],
      "metadata": {
        "colab": {
          "base_uri": "https://localhost:8080/",
          "height": 36
        },
        "id": "EeFTk6Qo7rkw",
        "outputId": "94cfa390-0b8f-4593-b39d-66fa341da775"
      },
      "execution_count": null,
      "outputs": [
        {
          "output_type": "execute_result",
          "data": {
            "text/plain": [
              "'name2'"
            ],
            "application/vnd.google.colaboratory.intrinsic+json": {
              "type": "string"
            }
          },
          "metadata": {},
          "execution_count": 71
        }
      ]
    },
    {
      "cell_type": "code",
      "source": [
        "c.name = 'name3'\n",
        "c.name"
      ],
      "metadata": {
        "colab": {
          "base_uri": "https://localhost:8080/",
          "height": 36
        },
        "id": "WulFXtH-7yGy",
        "outputId": "28bdc791-b7bf-4cd0-90ef-aad91afdd0ef"
      },
      "execution_count": null,
      "outputs": [
        {
          "output_type": "execute_result",
          "data": {
            "text/plain": [
              "'name3'"
            ],
            "application/vnd.google.colaboratory.intrinsic+json": {
              "type": "string"
            }
          },
          "metadata": {},
          "execution_count": 73
        }
      ]
    },
    {
      "cell_type": "markdown",
      "source": [
        "#### 2"
      ],
      "metadata": {
        "id": "nXU9ZQ6Svg9D"
      }
    },
    {
      "cell_type": "code",
      "source": [
        "class Car:\n",
        "  def __init__(self, input_name):\n",
        "    self.hidden_name = input_name\n",
        "\n",
        "  def get_name(self):\n",
        "    return self.hidden_name\n",
        "  \n",
        "  def set_name(self, input_name):\n",
        "    self.hidden_name = input_name\n",
        "\n",
        "  name = property(get_name, set_name)\n",
        "\n",
        "d = Car('name1')\n",
        "d.name = 'name2'"
      ],
      "metadata": {
        "id": "607xcWpVvyGt"
      },
      "execution_count": null,
      "outputs": []
    },
    {
      "cell_type": "markdown",
      "source": [
        "#### 3"
      ],
      "metadata": {
        "id": "uQjYj7VswMEG"
      }
    },
    {
      "cell_type": "code",
      "source": [
        "class Car:\n",
        "  def __init__(self, input_name):\n",
        "    self.hidden_name = input_name\n",
        "  #decorater\n",
        "  @property\n",
        "  def name(self):\n",
        "    return self.hidden_name\n",
        "  \n",
        "  @name.setter\n",
        "  def name(self, input_name):\n",
        "    self.hidden_name = input_name"
      ],
      "metadata": {
        "id": "FToOj0mqwRSp"
      },
      "execution_count": null,
      "outputs": []
    },
    {
      "cell_type": "code",
      "source": [
        "e = Car('name a')\n",
        "e.name"
      ],
      "metadata": {
        "colab": {
          "base_uri": "https://localhost:8080/",
          "height": 36
        },
        "id": "8JqwuE5I_HJ4",
        "outputId": "4920723b-ae04-43e3-b0b9-6736293eb1a6"
      },
      "execution_count": null,
      "outputs": [
        {
          "output_type": "execute_result",
          "data": {
            "text/plain": [
              "'name a'"
            ],
            "application/vnd.google.colaboratory.intrinsic+json": {
              "type": "string"
            }
          },
          "metadata": {},
          "execution_count": 78
        }
      ]
    },
    {
      "cell_type": "markdown",
      "source": [
        "#### 4"
      ],
      "metadata": {
        "id": "C8vbok8N_bsv"
      }
    },
    {
      "cell_type": "code",
      "source": [
        "class Car:\n",
        "  def __init__(self, input_name):\n",
        "    self.__name = input_name\n",
        "\n",
        "  @property\n",
        "  def name(self):\n",
        "    return self.__name\n",
        "\n",
        "  @name.setter\n",
        "  def name(self, input_name):\n",
        "    self.__name = input_name"
      ],
      "metadata": {
        "id": "Lj9hhRAQ_gRS"
      },
      "execution_count": null,
      "outputs": []
    },
    {
      "cell_type": "code",
      "source": [
        "f= Car('name b')\n",
        "# f.__name # 접근이 불가함\n",
        "f.name('name1') #수정\n",
        "f.name = 'hello'\n",
        "f.name #접근이 가능 왜냐면 __name은 은닉, name에 속성을 부여"
      ],
      "metadata": {
        "colab": {
          "base_uri": "https://localhost:8080/",
          "height": 36
        },
        "id": "6ss1IU-8_gNv",
        "outputId": "96491fcc-7ecb-4224-bc5f-ac7089c2aa50"
      },
      "execution_count": null,
      "outputs": [
        {
          "output_type": "execute_result",
          "data": {
            "text/plain": [
              "'hello'"
            ],
            "application/vnd.google.colaboratory.intrinsic+json": {
              "type": "string"
            }
          },
          "metadata": {},
          "execution_count": 92
        }
      ]
    },
    {
      "cell_type": "markdown",
      "source": [
        "property"
      ],
      "metadata": {
        "id": "DHrtyUExA8CR"
      }
    },
    {
      "cell_type": "code",
      "source": [
        "class Circule:\n",
        "  def __init__(self, radius):\n",
        "    self.radius = radius\n",
        "\n",
        "  @property\n",
        "  def parameter(self):\n",
        "    return self.radius * 2\n",
        "\n",
        "ex = Circule(5)\n",
        "ex.parameter"
      ],
      "metadata": {
        "colab": {
          "base_uri": "https://localhost:8080/"
        },
        "id": "1kUNizfHw1-T",
        "outputId": "c5fce16d-7192-430e-ef2a-9e13eeb74b36"
      },
      "execution_count": null,
      "outputs": [
        {
          "output_type": "execute_result",
          "data": {
            "text/plain": [
              "10"
            ]
          },
          "metadata": {},
          "execution_count": 82
        }
      ]
    },
    {
      "cell_type": "code",
      "source": [
        "ex.radius = 19\n",
        "ex.parameter # 속성이 되었기 때문에 접근이 가능"
      ],
      "metadata": {
        "colab": {
          "base_uri": "https://localhost:8080/"
        },
        "id": "cWzsKK5lxNOT",
        "outputId": "6c254b41-a94f-4da9-ebba-be82b5f4f7f2"
      },
      "execution_count": null,
      "outputs": [
        {
          "output_type": "execute_result",
          "data": {
            "text/plain": [
              "38"
            ]
          },
          "metadata": {},
          "execution_count": 83
        }
      ]
    },
    {
      "cell_type": "markdown",
      "source": [
        "#### 실습\n",
        "- 메모장, 메모 구현하기 (두개의 객체)\n",
        "- 메모장\n",
        "  - 속성: 제목, 페이지 번호, 메모\n",
        "  - 행동: 메모 추가하다, 메모 삭제하다, 페이지 번호 확인하다.\n",
        "-메모\n",
        "  - 속성: 글귀\n",
        "  - 행동: 쓰다, 지우다\n",
        "\n",
        "- 사용:\n",
        "  - 메모 쓴다\n",
        "  - 메모장에 추가\n",
        "  - 페이지 번호가 늘어난다\n",
        "  - 메모 삭제\n",
        "  - 페이지 번호 줄어든다\n",
        "  - 메모장> 제목만 은닉시키다"
      ],
      "metadata": {
        "id": "VpNlonRKxZhP"
      }
    },
    {
      "cell_type": "code",
      "source": [
        "class Notebook:\n",
        "  def __init__(self, title, page_num=0, memo=None):\n",
        "    self.__title = title\n",
        "    self.page_num = page_num\n",
        "    self.memo = []\n",
        "  \n",
        "  @property\n",
        "  def title(self):\n",
        "    return self.__title\n",
        "  \n",
        "  def add_memo(self, memo):\n",
        "    self.page_num += 1\n",
        "    self.memo.append(memo)\n",
        "\n",
        "  def del_memo(self, memo):\n",
        "    self.page_num -= 1\n",
        "    self.memo.remove(memo)\n",
        "\n",
        "  def check_page_num(self):\n",
        "    return self.page_num\n",
        "\n",
        "\n",
        "class Note:\n",
        "  def __init__(self, memo=''):\n",
        "    self.memo = memo\n",
        "    \n",
        "  def write(self, sent):\n",
        "    self.memo = self.memo + ' ' + sent\n",
        "  \n",
        "  def erase(self, sent):\n",
        "    self.memo = self.memo.replace(sent,'')\n",
        "\n",
        "line1 = '우리 모두 스스로가 원하는 리더가 됩시다'\n",
        "line2 = '모두가 함께 앞으로 나아가면 성공은 저절로 따라옵니다'\n",
        "line3 = '혼자서는 작은 한방울이지만 함께 모이면 바다를 이룹니다'\n",
        "\n",
        "# 메모추가\n",
        "my_note = Note()\n",
        "my_note.write(line1)\n",
        "my_note.write(line2)\n",
        "my_note.write(line3)\n",
        "\n",
        "\n",
        "# 메모장에 추가\n",
        "my_book = Notebook('오늘의 일기')\n",
        "my_book.add_memo(my_note.memo)\n",
        "\n",
        "# 페이지 삭제하기\n",
        "# 패이지 번호 확인하기\n",
        "\n",
        "my_book.memo"
      ],
      "metadata": {
        "colab": {
          "base_uri": "https://localhost:8080/"
        },
        "id": "dMMip7HesI_C",
        "outputId": "88569a45-802e-4a2d-eced-55e109b46473"
      },
      "execution_count": null,
      "outputs": [
        {
          "output_type": "execute_result",
          "data": {
            "text/plain": [
              "[' 우리 모두 스스로가 원하는 리더가 됩시다 모두가 함께 앞으로 나아가면 성공은 저절로 따라옵니다 혼자서는 작은 한방울이지만 함께 모이면 바다를 이룹니다']"
            ]
          },
          "metadata": {},
          "execution_count": 5
        }
      ]
    },
    {
      "cell_type": "code",
      "source": [
        "class Notebook:\n",
        "  def __init__(self, input_title, page_num, line):\n",
        "    self.__title = input_title\n",
        "    self.page_num = page_num\n",
        "    self.line = line\n",
        "\n",
        "  def check_page_num(self):\n",
        "    return self.page_num\n",
        "\n",
        "  def add_line(self, input_line):\n",
        "    self.line = self.line + input_line\n",
        "\n",
        "  def remove_line(self, input_line):\n",
        "    self.line = self.line.replace(input_line, '')\n",
        "\n",
        "\n",
        "\n",
        "\n",
        "class Note:\n",
        "  def __init__(self, line):\n",
        "    self.line\n",
        "\n",
        "  def write(self, input_line):\n",
        "    self.line = self.line + input_line\n",
        "\n",
        "  def add_note(self, input_line):\n",
        "    self.line = self.line"
      ],
      "metadata": {
        "id": "JDV6YfbXEzgy"
      },
      "execution_count": null,
      "outputs": []
    },
    {
      "cell_type": "code",
      "source": [
        "line1 = '우리 모두 스스로가 원하는 리더가 됩시다'\n",
        "line2 = '모두가 함께 앞으로 나아가면 성공은 저절로 따라옵니다'\n",
        "line3 = '혼자서는 작은 한방울이지만 함께 모이면 바다를 이룹니다'\n",
        "\n",
        "# 메모추가\n",
        "my_note = Note()\n",
        "my_note.write(line1)\n",
        "my_note.write(line2)\n",
        "my_note.write(line3)\n",
        "\n",
        "\n",
        "# 메모장에 추가\n",
        "my_book = Note()\n",
        "my_book.add_note(my_note)\n",
        "\n",
        "my_book.get_page_num()\n",
        "# 페이지 삭제하기\n",
        "# 패이지 번호 확인하기"
      ],
      "metadata": {
        "id": "ZoX0Zyn42BEB"
      },
      "execution_count": null,
      "outputs": []
    },
    {
      "cell_type": "code",
      "source": [
        "class Notebook:\n",
        "  def __init__(self, title, page_num: int, memo=None):\n",
        "    self.title = title\n",
        "    self.page_num = page_num\n",
        "    self.memo = memo\n",
        "\n",
        "  def add_note(self):\n",
        "    pass\n",
        "  \n",
        "  def remove_note(self):\n",
        "    pass\n",
        "\n",
        "  def check_pagenum(self):\n",
        "    pass\n",
        "\n",
        "class Note:\n",
        "  def __init__(self, string=None):\n",
        "    self.string = string\n",
        "\n",
        "  def writing(self):\n",
        "    pass\n",
        "\n",
        "  def remove(self):\n",
        "    pass\n",
        "\n",
        "\n",
        "nb = Notebook('HarryPotter', '5679', 'i like it')\n",
        "n = Note()"
      ],
      "metadata": {
        "id": "D5G6z8-mqSke"
      },
      "execution_count": null,
      "outputs": []
    }
  ]
}