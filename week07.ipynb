{
  "nbformat": 4,
  "nbformat_minor": 0,
  "metadata": {
    "colab": {
      "name": "week07.ipynb",
      "provenance": [],
      "collapsed_sections": []
    },
    "kernelspec": {
      "name": "python3",
      "display_name": "Python 3"
    },
    "language_info": {
      "name": "python"
    }
  },
  "cells": [
    {
      "cell_type": "code",
      "execution_count": 1,
      "metadata": {
        "colab": {
          "base_uri": "https://localhost:8080/"
        },
        "id": "sNYOLqFtn0Jo",
        "outputId": "3974e4a0-7cde-4f15-c8cb-8e9ed8ac708e"
      },
      "outputs": [
        {
          "output_type": "stream",
          "name": "stdout",
          "text": [
            "hoowh!\n"
          ]
        }
      ],
      "source": [
        "# 1. 둘 다 없는 경우\n",
        "\n",
        "def make_a_sound():\n",
        "    print('hoowh!')\n",
        "    \n",
        "make_a_sound()"
      ]
    },
    {
      "cell_type": "code",
      "source": [
        "# 2. 둘 다 있는 경우\n",
        "\n",
        "# y = x + 1 # x는 매개변수, y는 반환값 x+1 수행문\n",
        "\n",
        "def ex(x):\n",
        "    # y = x + 1\n",
        "    # return y\n",
        "    return x + 1\n",
        "\n",
        "ex(4)"
      ],
      "metadata": {
        "colab": {
          "base_uri": "https://localhost:8080/"
        },
        "id": "i9rXqQ2eoFuq",
        "outputId": "6ad2eded-6fb3-493f-f8a9-5783e38f8576"
      },
      "execution_count": 2,
      "outputs": [
        {
          "output_type": "execute_result",
          "data": {
            "text/plain": [
              "5"
            ]
          },
          "metadata": {},
          "execution_count": 2
        }
      ]
    },
    {
      "cell_type": "code",
      "source": [
        "# 3. 매개변수만 있는 경우\n",
        "\n",
        "def make_a_sound(sound): # sound = 매개변수\n",
        "    print(sound)\n",
        "\n",
        "yay = 'yay' # yay = 변수\n",
        "make_a_sound(yay)"
      ],
      "metadata": {
        "colab": {
          "base_uri": "https://localhost:8080/"
        },
        "id": "xSwZJFCyoHLf",
        "outputId": "8d0f2299-bb4c-43aa-b89d-342dc5ec0ece"
      },
      "execution_count": 3,
      "outputs": [
        {
          "output_type": "stream",
          "name": "stdout",
          "text": [
            "yay\n"
          ]
        }
      ]
    },
    {
      "cell_type": "code",
      "source": [
        "# 4. 반환값만 있는 경우\n",
        "\n",
        "def agree():\n",
        "    return True\n",
        "\n",
        "if agree():\n",
        "    print('Splendid')\n",
        "else:\n",
        "    print('unexpected!')"
      ],
      "metadata": {
        "colab": {
          "base_uri": "https://localhost:8080/"
        },
        "id": "geVQQ2qSoJsT",
        "outputId": "2b1f0da0-3187-4c71-8790-17e4c982cc86"
      },
      "execution_count": 4,
      "outputs": [
        {
          "output_type": "stream",
          "name": "stdout",
          "text": [
            "Splendid\n"
          ]
        }
      ]
    },
    {
      "cell_type": "markdown",
      "source": [
        "-함수 이름 짓기\n",
        "  - 소문자만 사용\n",
        "  - ex) split_word\n",
        "-동작과 관련되어 있기 때문에 \"동사+명사\"의 형태 주로 씀\n",
        "  - i.e., 클래스는 명사. 함수는 명사로만 쓰지 않는게 좋음 def split_word():\n",
        "  - 줄임말 쓰지 말 것(calculate -> calc 이런건 OK). 명료하게 짓는다."
      ],
      "metadata": {
        "id": "GyhRQ4BLoLYQ"
      }
    },
    {
      "cell_type": "markdown",
      "source": [
        "### 2.인수\n",
        "-매개변수 vs. 인수\n",
        "  - 매개변수: 함수 내(\"인터페이스\")에서 유효한 변수\n",
        "  - 인수: 실제 매개변수에 대입되는 변수\n",
        "  - 호출 시에 인수가 매개변수에 복제된다\n",
        "- 위치 인수\n",
        "  - positional argument\n",
        "  - 매개변수를 값에 순서에 상응하게 복제함\n",
        "- 키워드 인수\n",
        "  - keyword argument\n",
        "  - 매개변수 키워드에 맞는 인수로 지정. => 위치 달라도 됨\n",
        "-디폴트 인수\n",
        "  - default argument\n",
        "  - 매개변수를 정의할 때 값을 미리 지정해놓는 것\n",
        "  - 호출 시에 값이 입력되지 않으면 기본 값 적용\n",
        "  - 디폴트 값은 non-deafault 값 뒤에\n",
        "  - return에 별다른 값 입력 안하면 None이 기본 설정"
      ],
      "metadata": {
        "id": "mCRRfPGzoaPf"
      }
    },
    {
      "cell_type": "code",
      "source": [
        "def commentary(color):\n",
        "  if color == 'g':\n",
        "    return 'green'\n",
        "  else:\n",
        "    return 'black'\n",
        "\n",
        "color = 'white'\n",
        "#함수 호출하여 g가 아니므로 black이 출력\n",
        "commentary(color)"
      ],
      "metadata": {
        "colab": {
          "base_uri": "https://localhost:8080/",
          "height": 36
        },
        "id": "7Z5JAkAzotZ_",
        "outputId": "5df7265d-4ef8-4fbf-da2b-1495d335d96c"
      },
      "execution_count": 5,
      "outputs": [
        {
          "output_type": "execute_result",
          "data": {
            "text/plain": [
              "'black'"
            ],
            "application/vnd.google.colaboratory.intrinsic+json": {
              "type": "string"
            }
          },
          "metadata": {},
          "execution_count": 5
        }
      ]
    },
    {
      "cell_type": "code",
      "source": [
        "# 리스트 순회하면서 값 출력 가능\n",
        "colors = ['g','b','t']\n",
        "\n",
        "for color in colors:\n",
        "  print(commentary(color))"
      ],
      "metadata": {
        "colab": {
          "base_uri": "https://localhost:8080/"
        },
        "id": "MxSLQHs_otp5",
        "outputId": "462d6f82-9268-4980-b9c2-22ce938f5efd"
      },
      "execution_count": 6,
      "outputs": [
        {
          "output_type": "stream",
          "name": "stdout",
          "text": [
            "green\n",
            "black\n",
            "black\n"
          ]
        }
      ]
    },
    {
      "cell_type": "code",
      "source": [
        "#키워드 인수, 디폴트 값 인수\n",
        "\n",
        "def menu(wine ,entree, dessert):\n",
        "    return{'wine':wine, 'entree': entree, 'dessert': dessert}\n",
        "\n",
        "menu('rioja', 'cake','egg')"
      ],
      "metadata": {
        "colab": {
          "base_uri": "https://localhost:8080/"
        },
        "id": "n4io5cK3oyOP",
        "outputId": "246a5130-6177-40c8-aecd-275fce9ff64a"
      },
      "execution_count": 7,
      "outputs": [
        {
          "output_type": "execute_result",
          "data": {
            "text/plain": [
              "{'dessert': 'egg', 'entree': 'cake', 'wine': 'rioja'}"
            ]
          },
          "metadata": {},
          "execution_count": 7
        }
      ]
    },
    {
      "cell_type": "code",
      "source": [
        "#키워드 인수: 위치가 바뀌어도 답이 잘 들어감\n",
        "menu(entree = 'egg', wine = 'rioja', dessert = 'pancake')"
      ],
      "metadata": {
        "colab": {
          "base_uri": "https://localhost:8080/"
        },
        "id": "J4CaVby0oylD",
        "outputId": "8b06bb85-e663-4076-c7cc-8e6c8a0d3c17"
      },
      "execution_count": 8,
      "outputs": [
        {
          "output_type": "execute_result",
          "data": {
            "text/plain": [
              "{'dessert': 'pancake', 'entree': 'egg', 'wine': 'rioja'}"
            ]
          },
          "metadata": {},
          "execution_count": 8
        }
      ]
    },
    {
      "cell_type": "code",
      "source": [
        "# 디폴트 인수\n",
        "def menu2(wine = 'redwine' ,entree =  'salad', dessert = 'icecream'):\n",
        "    return{'wine':wine, 'entree': entree, 'dessert': dessert}\n",
        "\n",
        "\n",
        "print(menu2('rioja','cake','egg'))\n",
        "#디폴트 값 출력\n",
        "print(menu2())"
      ],
      "metadata": {
        "colab": {
          "base_uri": "https://localhost:8080/"
        },
        "id": "nqF6WDZso0oN",
        "outputId": "e4251fea-3f37-4285-c6a3-867b7168d6ab"
      },
      "execution_count": 9,
      "outputs": [
        {
          "output_type": "stream",
          "name": "stdout",
          "text": [
            "{'wine': 'rioja', 'entree': 'cake', 'dessert': 'egg'}\n",
            "{'wine': 'redwine', 'entree': 'salad', 'dessert': 'icecream'}\n"
          ]
        }
      ]
    },
    {
      "cell_type": "markdown",
      "source": [
        "### 3. 호출방식\n",
        "- 정의 부분은 호출 시 시행된다.\n",
        "-메모리에 저장되어 있다가 호출 시에\n",
        "- 매개변수 vs. 인수\n",
        "- 참조에 의한 호출(call by reference)\n",
        "- \"매개변수 = 인수\" copy 되기 떄문에 나타나는 문제점\n",
        "- 리스트처럼 가변 객체일 때 주소값을 공유하므로 값이 변함"
      ],
      "metadata": {
        "id": "AmD_0kcyo2d5"
      }
    },
    {
      "cell_type": "code",
      "source": [
        "# 호출 순서 보기\n",
        "def multiply(x,y):\n",
        "  print('1')\n",
        "  return x*y\n",
        "\n",
        "print('2')\n",
        "i = 3\n",
        "j = 4\n",
        "\n",
        "print('3')\n",
        "multiply(i, j)\n",
        "\n",
        "print('4')"
      ],
      "metadata": {
        "colab": {
          "base_uri": "https://localhost:8080/"
        },
        "id": "GdZWNmDNo-3d",
        "outputId": "d0c90cdd-0373-44ec-edad-a35c056e6320"
      },
      "execution_count": 10,
      "outputs": [
        {
          "output_type": "stream",
          "name": "stdout",
          "text": [
            "2\n",
            "3\n",
            "1\n",
            "4\n"
          ]
        }
      ]
    },
    {
      "cell_type": "code",
      "source": [
        "# 참조에 의한 호출\n",
        "def buggy(arg, result=[]):\n",
        "  result = []\n",
        "  result.append(arg)\n",
        "  print(result)\n",
        "\n",
        "a, b = 'a', 'b'\n",
        "buggy(a)\n",
        "buggy(b)"
      ],
      "metadata": {
        "colab": {
          "base_uri": "https://localhost:8080/"
        },
        "id": "jbAF9vAMo_Ro",
        "outputId": "95fe43a5-b02b-4f69-c6b3-a1725c89a54a"
      },
      "execution_count": 11,
      "outputs": [
        {
          "output_type": "stream",
          "name": "stdout",
          "text": [
            "['a']\n",
            "['b']\n"
          ]
        }
      ]
    },
    {
      "cell_type": "code",
      "source": [
        "def buggy(arg, result=[]):\n",
        "    result = [] # 빈 객체로 초기화\n",
        "    result.append(arg)\n",
        "    print(result)\n",
        "\n",
        "a, b = 'a', 'b'\n",
        "buggy(a) # ['a']\n",
        "buggy(b) # ['b'] -> 쌓이지 않음"
      ],
      "metadata": {
        "colab": {
          "base_uri": "https://localhost:8080/"
        },
        "id": "eiFtcturpBkw",
        "outputId": "f7bf9335-8bb4-46e2-f8a8-aa37aad6a432"
      },
      "execution_count": 12,
      "outputs": [
        {
          "output_type": "stream",
          "name": "stdout",
          "text": [
            "['a']\n",
            "['b']\n"
          ]
        }
      ]
    },
    {
      "cell_type": "code",
      "source": [
        "# 둘다 조건식으로 포함하는 함수로 변경하기\n",
        "#리스트 없으면 빈 리스트 생성하고 있으면 그거 써라\n",
        "def nonbuggy(arg, result=[]):\n",
        "  if result is None:\n",
        "    result = []\n",
        "  result.append(arg)\n",
        "  print(result)\n",
        "\n",
        "a, b = 'a', 'b'\n",
        "empty = ['c']\n",
        "nonbuggy(a) # 리스트 없으면 쌓이지 않음\n",
        "nonbuggy(b, empty) # 리스트 있으면 쌓임"
      ],
      "metadata": {
        "colab": {
          "base_uri": "https://localhost:8080/"
        },
        "id": "SJVFULPIpDgr",
        "outputId": "6d33e594-b4eb-47df-f31b-161fbc43c96d"
      },
      "execution_count": 13,
      "outputs": [
        {
          "output_type": "stream",
          "name": "stdout",
          "text": [
            "['a']\n",
            "['c', 'b']\n"
          ]
        }
      ]
    },
    {
      "cell_type": "code",
      "source": [
        "# 없는 값 None -> T/F 둘 다 아님\n",
        "thing = None\n",
        "\n",
        "if thing: #True\n",
        "    print('True')\n",
        "elif thing == False:\n",
        "    print('False')\n",
        "else: print('None')"
      ],
      "metadata": {
        "colab": {
          "base_uri": "https://localhost:8080/"
        },
        "id": "GFNysWrZpFrd",
        "outputId": "2dc4ec3d-74e4-4b20-ed80-caf2de2d0df6"
      },
      "execution_count": 14,
      "outputs": [
        {
          "output_type": "stream",
          "name": "stdout",
          "text": [
            "None\n"
          ]
        }
      ]
    },
    {
      "cell_type": "code",
      "source": [
        "# 함수 내의 변수는 지역변수\n",
        "def fx():\n",
        "    city = 'london' # 지역 변수는 함수 내에서만 유효\n",
        "    print(city)\n",
        "    \n",
        "city = 'paris'\n",
        "fx() # london\n",
        "print(city) #paris"
      ],
      "metadata": {
        "colab": {
          "base_uri": "https://localhost:8080/"
        },
        "id": "-WBWsITupIMI",
        "outputId": "21beb77e-366f-4cdc-c5ae-f89c640b03ab"
      },
      "execution_count": 15,
      "outputs": [
        {
          "output_type": "stream",
          "name": "stdout",
          "text": [
            "london\n",
            "paris\n"
          ]
        }
      ]
    },
    {
      "cell_type": "code",
      "source": [
        "def fx():\n",
        "    global city # 전역 변수 선언\n",
        "    city = 'london' \n",
        "    print(city)\n",
        "    \n",
        "city = 'paris'\n",
        "fx() # london\n",
        "print(city) #london"
      ],
      "metadata": {
        "colab": {
          "base_uri": "https://localhost:8080/"
        },
        "id": "rhRLjbP5pKOv",
        "outputId": "c83850cb-2742-4b44-fb1a-fb54774cebe8"
      },
      "execution_count": 16,
      "outputs": [
        {
          "output_type": "stream",
          "name": "stdout",
          "text": [
            "london\n",
            "london\n"
          ]
        }
      ]
    },
    {
      "cell_type": "code",
      "source": [
        "city = 'seoul' # 다시 바꾸면 바뀜\n",
        "city"
      ],
      "metadata": {
        "colab": {
          "base_uri": "https://localhost:8080/",
          "height": 36
        },
        "id": "ZBA37u10pMg6",
        "outputId": "9cd8fbd0-da6f-48b7-df8c-b5b726360b69"
      },
      "execution_count": 17,
      "outputs": [
        {
          "output_type": "execute_result",
          "data": {
            "text/plain": [
              "'seoul'"
            ],
            "application/vnd.google.colaboratory.intrinsic+json": {
              "type": "string"
            }
          },
          "metadata": {},
          "execution_count": 17
        }
      ]
    },
    {
      "cell_type": "markdown",
      "source": [
        "- doc string\n",
        "  - 함수 설명\n",
        "  - 매개변수 타입, 의미, 함수 기능\n",
        "  - \"\"\"이 안에 넣음\"\"\"\n",
        "  - help(함수명) 으로 호출"
      ],
      "metadata": {
        "id": "NzAACNRzpPQh"
      }
    },
    {
      "cell_type": "code",
      "source": [
        "def buggy(arg, result=[]):\n",
        "    \"\"\"\n",
        "    arg: str, 꽃 이름\n",
        "    result: list, xxxxx\n",
        "    꽃 이름을 리스트에 추가한다.\n",
        "    \"\"\"\n",
        "    result = []\n",
        "    result.append(arg)\n",
        "    print(result)"
      ],
      "metadata": {
        "id": "qLbxb-yRpWxB"
      },
      "execution_count": 18,
      "outputs": []
    },
    {
      "cell_type": "code",
      "source": [
        "# 독스트링 확인\n",
        "help(buggy)"
      ],
      "metadata": {
        "colab": {
          "base_uri": "https://localhost:8080/"
        },
        "id": "kCy78MTwpYxM",
        "outputId": "ebe66038-232c-49b4-f5ea-485a6c886367"
      },
      "execution_count": 19,
      "outputs": [
        {
          "output_type": "stream",
          "name": "stdout",
          "text": [
            "Help on function buggy in module __main__:\n",
            "\n",
            "buggy(arg, result=[])\n",
            "    arg: str, 꽃 이름\n",
            "    result: list, xxxxx\n",
            "    꽃 이름을 리스트에 추가한다.\n",
            "\n"
          ]
        }
      ]
    },
    {
      "cell_type": "markdown",
      "source": [
        "#### QUIZ\n",
        "- 나이 -> 연도\n",
        "- 함수: 입력값=나이, 반환=연도\n",
        "- 나이 = input 받기"
      ],
      "metadata": {
        "id": "kTeUgQEApauH"
      }
    },
    {
      "cell_type": "code",
      "source": [
        "def birthyear(age):\n",
        "  year = 2022 - age + 1\n",
        "  return year\n",
        "birthyear(int(input(\"나이를 입력하세요: \")))"
      ],
      "metadata": {
        "colab": {
          "base_uri": "https://localhost:8080/"
        },
        "id": "XjK6TOXephB-",
        "outputId": "dd1ed85f-9318-4d18-ad72-28884bb809bf"
      },
      "execution_count": 20,
      "outputs": [
        {
          "name": "stdout",
          "output_type": "stream",
          "text": [
            "나이를 입력하세요: 10\n"
          ]
        },
        {
          "output_type": "execute_result",
          "data": {
            "text/plain": [
              "2013"
            ]
          },
          "metadata": {},
          "execution_count": 20
        }
      ]
    },
    {
      "cell_type": "code",
      "source": [
        "import string\n",
        "import nltk\n",
        "\n",
        "nltk.download('brown')\n",
        "brown = nltk.corpus.brown\n",
        "romance = brown.raw(categories='romance')[:5000]"
      ],
      "metadata": {
        "colab": {
          "base_uri": "https://localhost:8080/"
        },
        "id": "8R99IoPepiq2",
        "outputId": "0ff9acf6-e8c8-4511-f73b-4892dd525f15"
      },
      "execution_count": 21,
      "outputs": [
        {
          "output_type": "stream",
          "name": "stdout",
          "text": [
            "[nltk_data] Downloading package brown to /root/nltk_data...\n",
            "[nltk_data]   Unzipping corpora/brown.zip.\n"
          ]
        }
      ]
    },
    {
      "cell_type": "markdown",
      "source": [
        "#### 문장분절"
      ],
      "metadata": {
        "id": "ouvMbX-upp4Q"
      }
    },
    {
      "cell_type": "code",
      "source": [
        "# ./. /. \\n\n",
        "sentence = [sent.strip() for sent in romance.split('/.')]\n",
        "sentence[:2]"
      ],
      "metadata": {
        "colab": {
          "base_uri": "https://localhost:8080/"
        },
        "id": "_FZVETr8pk-S",
        "outputId": "e31f6539-25c6-4078-bd66-d2b593ce3b42"
      },
      "execution_count": 22,
      "outputs": [
        {
          "output_type": "execute_result",
          "data": {
            "text/plain": [
              "['They/ppss neither/cc liked/vbd nor/cc disliked/vbd the/at Old/jj-tl Man/nn-tl .',\n",
              " 'To/in them/ppo he/pps could/md have/hv been/ben the/at broken/vbn bell/nn in/in the/at church/nn tower/nn which/wdt rang/vbd before/in and/cc after/in Mass/nn-tl ,/, and/cc at/in noon/nn ,/, and/cc at/in six/cd each/dt evening/nn --/-- its/pp$ tone/nn ,/, repetitive/jj ,/, monotonous/jj ,/, never/rb breaking/vbg the/at boredom/nn of/in the/at streets/nns .']"
            ]
          },
          "metadata": {},
          "execution_count": 22
        }
      ]
    },
    {
      "cell_type": "code",
      "source": [
        "sentence = [s for s in sentence if s != '!']"
      ],
      "metadata": {
        "id": "zwOekFUCpnY4"
      },
      "execution_count": 23,
      "outputs": []
    },
    {
      "cell_type": "markdown",
      "source": [
        "#### 단어분절"
      ],
      "metadata": {
        "id": "reta5BbNppUq"
      }
    },
    {
      "cell_type": "code",
      "source": [
        "example = sentence[0]\n",
        "[word[:word.find('/')] if word[:word.find('/')] else word for word in example.split()]"
      ],
      "metadata": {
        "colab": {
          "base_uri": "https://localhost:8080/"
        },
        "id": "4gSDZw_rpue0",
        "outputId": "3fc915ca-5155-4f96-9804-42978d1868cf"
      },
      "execution_count": 25,
      "outputs": [
        {
          "output_type": "execute_result",
          "data": {
            "text/plain": [
              "['They', 'neither', 'liked', 'nor', 'disliked', 'the', 'Old', 'Man', '.']"
            ]
          },
          "metadata": {},
          "execution_count": 25
        }
      ]
    },
    {
      "cell_type": "code",
      "source": [
        "# 전체문장에 적용\n",
        "sent_tokens = [[word[:word.find('/')] \\\n",
        "     if word[:word.find('/')] else word # punct에 있으면 버리기\n",
        "         for word in example.split()] for example in sentence]"
      ],
      "metadata": {
        "id": "DDCwmDj8pwiF"
      },
      "execution_count": 26,
      "outputs": []
    },
    {
      "cell_type": "markdown",
      "source": [
        "#### PUNCTUATION"
      ],
      "metadata": {
        "id": "pTT7baxZp7nu"
      }
    },
    {
      "cell_type": "code",
      "source": [
        "punct = list(string.punctuation)"
      ],
      "metadata": {
        "id": "rgHXUdhcpyFZ"
      },
      "execution_count": 27,
      "outputs": []
    },
    {
      "cell_type": "code",
      "source": [
        "# 제거\n",
        "clean_sent_tokens = [[word for word in sent if word not in punct] for sent in sent_tokens]"
      ],
      "metadata": {
        "id": "o6oWvvvvpz79"
      },
      "execution_count": 28,
      "outputs": []
    },
    {
      "cell_type": "code",
      "source": [
        "# 남은 문장부호\n",
        "my_punct = set([word for sent in sent_tokens for word in sent if not word[0].isalnum() and word not in punct])\n",
        "punct.extend(list(my_punct))"
      ],
      "metadata": {
        "id": "ga_CHFA0p1Zp"
      },
      "execution_count": 29,
      "outputs": []
    },
    {
      "cell_type": "code",
      "source": [
        "# 하이픈\n",
        "'fur-piece'.split('-') #extend\n",
        "# 's\n",
        "word = \"she's\"\n",
        "index = word.find(\"'\")\n",
        "word[:index], word[index:]"
      ],
      "metadata": {
        "colab": {
          "base_uri": "https://localhost:8080/"
        },
        "id": "Ljcqiscjp2yk",
        "outputId": "b3a210d9-4d60-4553-d267-0689b21cf83b"
      },
      "execution_count": 30,
      "outputs": [
        {
          "output_type": "execute_result",
          "data": {
            "text/plain": [
              "('she', \"'s\")"
            ]
          },
          "metadata": {},
          "execution_count": 30
        }
      ]
    },
    {
      "cell_type": "code",
      "source": [
        "# 함수로: 문장이 들어왔을 때 POS 제거하고, punct 제거하고, 토큰리스트로 반환한다.\n",
        "sentence = [sent.strip() for sent in romance.split('/.')]\n",
        "def tokenize_word(text):\n",
        "    token_list = text\n",
        "    return [word[:word.find('/')] for word in token_list.split() if '/' in word and word not in punct]\n",
        "tokenize_word(sentence[0])"
      ],
      "metadata": {
        "colab": {
          "base_uri": "https://localhost:8080/"
        },
        "id": "hoR7Yr6kp4OK",
        "outputId": "5ca54e5a-d512-46fe-93aa-dbbb3e5fcbed"
      },
      "execution_count": 31,
      "outputs": [
        {
          "output_type": "execute_result",
          "data": {
            "text/plain": [
              "['They', 'neither', 'liked', 'nor', 'disliked', 'the', 'Old', 'Man']"
            ]
          },
          "metadata": {},
          "execution_count": 31
        }
      ]
    },
    {
      "cell_type": "code",
      "source": [
        ""
      ],
      "metadata": {
        "id": "lUxm46qEp5xl"
      },
      "execution_count": null,
      "outputs": []
    }
  ]
}