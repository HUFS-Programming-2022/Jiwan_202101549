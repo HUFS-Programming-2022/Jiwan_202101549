{
  "nbformat": 4,
  "nbformat_minor": 0,
  "metadata": {
    "colab": {
      "name": "Week04.ipynb",
      "provenance": [],
      "collapsed_sections": []
    },
    "kernelspec": {
      "name": "python3",
      "display_name": "Python 3"
    },
    "language_info": {
      "name": "python"
    }
  },
  "cells": [
    {
      "cell_type": "code",
      "source": [
        "#!pip install nltk"
      ],
      "metadata": {
        "colab": {
          "base_uri": "https://localhost:8080/"
        },
        "id": "hghG2elA4yUw",
        "outputId": "3f0fa345-ca98-49a9-d5b0-77a320ae3c6b"
      },
      "execution_count": null,
      "outputs": [
        {
          "output_type": "stream",
          "name": "stdout",
          "text": [
            "Requirement already satisfied: nltk in /usr/local/lib/python3.7/dist-packages (3.2.5)\n",
            "Requirement already satisfied: six in /usr/local/lib/python3.7/dist-packages (from nltk) (1.15.0)\n"
          ]
        }
      ]
    },
    {
      "cell_type": "code",
      "source": [
        "import nltk\n",
        "from nltk.book import *\n",
        "nltk.download('book', quiet=True)"
      ],
      "metadata": {
        "colab": {
          "base_uri": "https://localhost:8080/"
        },
        "id": "YoFsHidr6HXx",
        "outputId": "8506713f-290b-4bb3-b891-4b2f909ca13d"
      },
      "execution_count": null,
      "outputs": [
        {
          "output_type": "execute_result",
          "data": {
            "text/plain": [
              "True"
            ]
          },
          "metadata": {},
          "execution_count": 3
        }
      ]
    },
    {
      "cell_type": "markdown",
      "source": [
        "#### 파이썬 `string` 내장함수\n",
        "- `string1`.method(string2)\n",
        "- `list`.method(string)\n",
        "\n",
        "-`list`.count(`string`) : string이 나타나는 개수\n",
        "- `str`.replace(): A -> B 변경하는\n",
        "- `str`.strip(): 공백 등등(\\t포함) 을 제거하는 기능\n",
        "  - lstrip(), rstrip()\n",
        "- find(`string`) : 위치, 오프셋을 반환\n",
        "  - lfind, rfind\n",
        "  - 공백도 포함\n",
        "  - 1번째 값의 인덱스\n",
        "  - 만족하는 값이 없는 경우 -1 반환\n",
        "- index(`string`)\n",
        "  - 존재하지 않는 경우 에러발생"
      ],
      "metadata": {
        "id": "zL4sBXEd62ha"
      }
    },
    {
      "cell_type": "code",
      "source": [
        "text1.count('he')"
      ],
      "metadata": {
        "colab": {
          "base_uri": "https://localhost:8080/"
        },
        "id": "5ij_aypK6WgZ",
        "outputId": "7962ead6-d6ef-4344-c8e0-4c43c41b3c33"
      },
      "execution_count": null,
      "outputs": [
        {
          "output_type": "execute_result",
          "data": {
            "text/plain": [
              "1661"
            ]
          },
          "metadata": {},
          "execution_count": 11
        }
      ]
    },
    {
      "cell_type": "code",
      "source": [
        "'word'.replace('w', \"W\")"
      ],
      "metadata": {
        "colab": {
          "base_uri": "https://localhost:8080/",
          "height": 36
        },
        "id": "sMpfFmxu6YbR",
        "outputId": "a3ba4f3b-f192-433b-8202-f5e91a1d9262"
      },
      "execution_count": null,
      "outputs": [
        {
          "output_type": "execute_result",
          "data": {
            "text/plain": [
              "'Word'"
            ],
            "application/vnd.google.colaboratory.intrinsic+json": {
              "type": "string"
            }
          },
          "metadata": {},
          "execution_count": 12
        }
      ]
    },
    {
      "cell_type": "code",
      "source": [
        "'      \\t    word'.lstrip()"
      ],
      "metadata": {
        "colab": {
          "base_uri": "https://localhost:8080/",
          "height": 36
        },
        "id": "esrAmtk97pLv",
        "outputId": "4006dba9-eb54-498d-834b-5a08fae117b3"
      },
      "execution_count": null,
      "outputs": [
        {
          "output_type": "execute_result",
          "data": {
            "text/plain": [
              "'word'"
            ],
            "application/vnd.google.colaboratory.intrinsic+json": {
              "type": "string"
            }
          },
          "metadata": {},
          "execution_count": 13
        }
      ]
    },
    {
      "cell_type": "code",
      "source": [
        "word = '    \\t   word'\n",
        "word.replace('w', 'ch').strip().replace('d', 'D') # 앞에서 행해지는 결과의 자료형이 모두 string이기 때문임"
      ],
      "metadata": {
        "colab": {
          "base_uri": "https://localhost:8080/",
          "height": 36
        },
        "id": "UG4MWcjZ7u7Z",
        "outputId": "c24c477c-19dc-47ff-84e2-2783cf211786"
      },
      "execution_count": null,
      "outputs": [
        {
          "output_type": "execute_result",
          "data": {
            "text/plain": [
              "'chorD'"
            ],
            "application/vnd.google.colaboratory.intrinsic+json": {
              "type": "string"
            }
          },
          "metadata": {},
          "execution_count": 15
        }
      ]
    },
    {
      "cell_type": "code",
      "source": [
        "word # 만약 word 자체를 바꾸고 싶다면 다시 할당을 해주는 방법이 있음"
      ],
      "metadata": {
        "colab": {
          "base_uri": "https://localhost:8080/",
          "height": 36
        },
        "id": "w5L_Nm0TDevA",
        "outputId": "4a115919-ea08-46e4-8e96-df95efbc7013"
      },
      "execution_count": null,
      "outputs": [
        {
          "output_type": "execute_result",
          "data": {
            "text/plain": [
              "'    \\t   word'"
            ],
            "application/vnd.google.colaboratory.intrinsic+json": {
              "type": "string"
            }
          },
          "metadata": {},
          "execution_count": 16
        }
      ]
    },
    {
      "cell_type": "code",
      "source": [
        "word2 = '    \\t   wordwwww' # 첫번째 인덱스를 세기 때문에 rfind(), lfind()존재\n",
        "word2.find('w') # 공백도 셈"
      ],
      "metadata": {
        "colab": {
          "base_uri": "https://localhost:8080/"
        },
        "id": "Y7PMwKhRD3U0",
        "outputId": "4bd08c44-05f1-4cc1-f32d-61a654a02cb3"
      },
      "execution_count": null,
      "outputs": [
        {
          "output_type": "execute_result",
          "data": {
            "text/plain": [
              "8"
            ]
          },
          "metadata": {},
          "execution_count": 17
        }
      ]
    },
    {
      "cell_type": "code",
      "source": [
        "word2.index('w')"
      ],
      "metadata": {
        "colab": {
          "base_uri": "https://localhost:8080/"
        },
        "id": "6zDs8IZbFdCz",
        "outputId": "a5d8f0fe-e329-4e68-db1e-ad6e33627703"
      },
      "execution_count": null,
      "outputs": [
        {
          "output_type": "execute_result",
          "data": {
            "text/plain": [
              "8"
            ]
          },
          "metadata": {},
          "execution_count": 18
        }
      ]
    },
    {
      "cell_type": "code",
      "source": [
        "word2.find('c') # index()함수와 find()함수의 차이"
      ],
      "metadata": {
        "colab": {
          "base_uri": "https://localhost:8080/"
        },
        "id": "zb5if7sgGGqH",
        "outputId": "4f4f903a-e794-4fa7-ff27-caad187bb756"
      },
      "execution_count": null,
      "outputs": [
        {
          "output_type": "execute_result",
          "data": {
            "text/plain": [
              "-1"
            ]
          },
          "metadata": {},
          "execution_count": 19
        }
      ]
    },
    {
      "cell_type": "code",
      "source": [
        "word2.index('c')"
      ],
      "metadata": {
        "id": "hsEQ2pT4HFWz"
      },
      "execution_count": null,
      "outputs": []
    },
    {
      "cell_type": "markdown",
      "source": [
        "** 자료형에 대한 이해는 필수 **"
      ],
      "metadata": {
        "id": "yZ4jIBcNHG6d"
      }
    },
    {
      "cell_type": "markdown",
      "source": [
        "#### nltk 내장 함수 (패키지 전용)\n",
        "- `list`.method(var)\n",
        "- 자연어처리와 관련된 함수들\n",
        "\n",
        "- condordance(`string`) : string의 앞뒤 문맥을 알 수 있음\n",
        "- similar(`string`) : 문맥이 비슷한 단어들\n",
        "- common_contexts(`list`) : 주어진 스트링이 어떤 문맥을 공유하는지 \n",
        "- dispersion_plot(`list`) : 주어진 스트링이 텍스트에서 출현하는 위치를 이미지로 "
      ],
      "metadata": {
        "id": "elLD_SpvHQUY"
      }
    },
    {
      "cell_type": "markdown",
      "source": [
        "(어떤 책 등에서 그 속에 사용된 어휘들을 알파벳순으로 정리한) 용어 색인\n",
        "*어떤 함수를 사용해야 할지 정도*\n",
        "*자료형- 리스트인지 스트링을 적어야 하는지 파악*"
      ],
      "metadata": {
        "id": "XwGuyJ_FJlZ3"
      }
    },
    {
      "cell_type": "code",
      "source": [
        "text1.concordance('whale')"
      ],
      "metadata": {
        "colab": {
          "base_uri": "https://localhost:8080/"
        },
        "id": "V4voLgG0IKUR",
        "outputId": "bee0ddc5-c043-4c97-ce05-7d5f343d8b6c"
      },
      "execution_count": null,
      "outputs": [
        {
          "output_type": "stream",
          "name": "stdout",
          "text": [
            "Displaying 25 of 1226 matches:\n",
            "s , and to teach them by what name a whale - fish is to be called in our tongue\n",
            "t which is not true .\" -- HACKLUYT \" WHALE . ... Sw . and Dan . HVAL . This ani\n",
            "ulted .\" -- WEBSTER ' S DICTIONARY \" WHALE . ... It is more immediately from th\n",
            "ISH . WAL , DUTCH . HWAL , SWEDISH . WHALE , ICELANDIC . WHALE , ENGLISH . BALE\n",
            "HWAL , SWEDISH . WHALE , ICELANDIC . WHALE , ENGLISH . BALEINE , FRENCH . BALLE\n",
            "least , take the higgledy - piggledy whale statements , however authentic , in \n",
            " dreadful gulf of this monster ' s ( whale ' s ) mouth , are immediately lost a\n",
            " patient Job .\" -- RABELAIS . \" This whale ' s liver was two cartloads .\" -- ST\n",
            " Touching that monstrous bulk of the whale or ork we have received nothing cert\n",
            " of oil will be extracted out of one whale .\" -- IBID . \" HISTORY OF LIFE AND D\n",
            "ise .\" -- KING HENRY . \" Very like a whale .\" -- HAMLET . \" Which to secure , n\n",
            "restless paine , Like as the wounded whale to shore flies thro ' the maine .\" -\n",
            ". OF SPERMA CETI AND THE SPERMA CETI WHALE . VIDE HIS V . E . \" Like Spencer ' \n",
            "t had been a sprat in the mouth of a whale .\" -- PILGRIM ' S PROGRESS . \" That \n",
            "EN ' S ANNUS MIRABILIS . \" While the whale is floating at the stern of the ship\n",
            "e ship called The Jonas - in - the - Whale . ... Some say the whale can ' t ope\n",
            " in - the - Whale . ... Some say the whale can ' t open his mouth , but that is\n",
            " masts to see whether they can see a whale , for the first discoverer has a duc\n",
            " for his pains . ... I was told of a whale taken near Shetland , that had above\n",
            "oneers told me that he caught once a whale in Spitzbergen that was white all ov\n",
            "2 , one eighty feet in length of the whale - bone kind came in , which ( as I w\n",
            "n master and kill this Sperma - ceti whale , for I could never hear of any of t\n",
            " . 1729 . \"... and the breath of the whale is frequendy attended with such an i\n",
            "ed with hoops and armed with ribs of whale .\" -- RAPE OF THE LOCK . \" If we com\n",
            "contemptible in the comparison . The whale is doubtless the largest animal in c\n"
          ]
        }
      ]
    },
    {
      "cell_type": "code",
      "source": [
        "text1.similar('whale')"
      ],
      "metadata": {
        "colab": {
          "base_uri": "https://localhost:8080/"
        },
        "id": "9KOiofYaIXfb",
        "outputId": "523e4b67-12de-493e-8273-3f8a0b93f82f"
      },
      "execution_count": null,
      "outputs": [
        {
          "output_type": "stream",
          "name": "stdout",
          "text": [
            "ship boat sea time captain world man deck pequod other whales air\n",
            "water head crew line thing side way body\n"
          ]
        }
      ]
    },
    {
      "cell_type": "code",
      "source": [
        "text2.common_contexts(['monstrous', 'very'])"
      ],
      "metadata": {
        "colab": {
          "base_uri": "https://localhost:8080/"
        },
        "id": "GqyelyOSJCFk",
        "outputId": "77fab348-82e1-4d91-ec4e-07baf53ad308"
      },
      "execution_count": null,
      "outputs": [
        {
          "output_type": "stream",
          "name": "stdout",
          "text": [
            "a_pretty am_glad a_lucky is_pretty be_glad\n"
          ]
        }
      ]
    },
    {
      "cell_type": "code",
      "source": [
        "text4.dispersion_plot(['citizens', 'America', 'freedom'])# text에서 어느 위치에 있는지 그림으로 보여줌"
      ],
      "metadata": {
        "colab": {
          "base_uri": "https://localhost:8080/",
          "height": 295
        },
        "id": "G62L1_SfOHWj",
        "outputId": "618301b1-b146-442a-c862-cac5feb2865f"
      },
      "execution_count": null,
      "outputs": [
        {
          "output_type": "display_data",
          "data": {
            "text/plain": [
              "<Figure size 432x288 with 1 Axes>"
            ],
            "image/png": "[encoded data removed]"
          },
          "metadata": {
            "needs_background": "light"
          }
        }
      ]
    },
    {
      "cell_type": "code",
      "source": [
        "#!pip install matplotlib"
      ],
      "metadata": {
        "id": "UvDLcA5vOk9z"
      },
      "execution_count": null,
      "outputs": []
    },
    {
      "cell_type": "markdown",
      "source": [
        "### Frequency Distribution\n",
        "- **단어의 빈도수**를 활용할 수 있는 많은 메소드 제공\n",
        "- 인간의 언어 -> 컴퓨터가 인식 : 자연어처리\n",
        "  - (텍스트의 특징을 뽑아낼때)\n",
        "  - 전체 단어 수\n",
        "  - 특정 단어의 빈도수 \n",
        "  - 컴퓨터에 대한 이야기를 한다면 컴퓨터와 이와 비슷한 단어들을 많이 쓸것"
      ],
      "metadata": {
        "id": "GvTwM4LyO900"
      }
    },
    {
      "cell_type": "code",
      "source": [
        "# 클래스 _ 활용할 수 있는 많은 메소드 실행\n",
        "fdist = FreqDist(text1)\n",
        "fdist #dictionary = key:value 의 데이터 타입\n",
        "# 단어 : 단어의 빈도수(value)"
      ],
      "metadata": {
        "id": "Hn8KUthfSGzl"
      },
      "execution_count": null,
      "outputs": []
    },
    {
      "cell_type": "markdown",
      "source": [
        "**FreqDist(`list`)**\n",
        "**fdist[`str`]**"
      ],
      "metadata": {
        "id": "2ScUMJRgSAzI"
      }
    },
    {
      "cell_type": "code",
      "source": [
        "fdist.most_common(10) # 제일 많이 쓰는 (단어,빈도수)"
      ],
      "metadata": {
        "colab": {
          "base_uri": "https://localhost:8080/"
        },
        "id": "VR8SCbvBSTx5",
        "outputId": "9ad3e0fc-da85-40e0-e7fc-a4c3fa917975"
      },
      "execution_count": null,
      "outputs": [
        {
          "output_type": "execute_result",
          "data": {
            "text/plain": [
              "[(',', 18713),\n",
              " ('the', 13721),\n",
              " ('.', 6862),\n",
              " ('of', 6536),\n",
              " ('and', 6024),\n",
              " ('a', 4569),\n",
              " ('to', 4542),\n",
              " (';', 4072),\n",
              " ('in', 3916),\n",
              " ('that', 2982)]"
            ]
          },
          "metadata": {},
          "execution_count": 31
        }
      ]
    },
    {
      "cell_type": "code",
      "source": [
        "# 특정 단어의 빈도수\n",
        "fdist['whale'], text1.count('whale') # 값이 (value)가 튜플 형식으로 반환"
      ],
      "metadata": {
        "colab": {
          "base_uri": "https://localhost:8080/"
        },
        "id": "u7yguBiZT-bO",
        "outputId": "7db07c35-d295-4c6e-e7bd-2fcbd210126b"
      },
      "execution_count": null,
      "outputs": [
        {
          "output_type": "execute_result",
          "data": {
            "text/plain": [
              "(906, 906)"
            ]
          },
          "metadata": {},
          "execution_count": 33
        }
      ]
    },
    {
      "cell_type": "code",
      "source": [
        "fdist.freq('whale') # 비율/ 나누고 만들 필요 없이"
      ],
      "metadata": {
        "colab": {
          "base_uri": "https://localhost:8080/"
        },
        "id": "e_JYznibUjSv",
        "outputId": "bb207492-b32f-4c71-a09f-b542f87f4963"
      },
      "execution_count": null,
      "outputs": [
        {
          "output_type": "execute_result",
          "data": {
            "text/plain": [
              "0.003473673313677301"
            ]
          },
          "metadata": {},
          "execution_count": 36
        }
      ]
    },
    {
      "cell_type": "code",
      "source": [
        "fdist.plot(50, cumulative = False)"
      ],
      "metadata": {
        "colab": {
          "base_uri": "https://localhost:8080/",
          "height": 299
        },
        "id": "LYMBkrXmWcOp",
        "outputId": "7c782a5b-a76f-453e-c0c2-ce2e4b963e2f"
      },
      "execution_count": null,
      "outputs": [
        {
          "output_type": "display_data",
          "data": {
            "text/plain": [
              "<Figure size 432x288 with 1 Axes>"
            ],
            "image/png": "[encoded data removed]"
          },
          "metadata": {
            "needs_background": "light"
          }
        }
      ]
    },
    {
      "cell_type": "code",
      "source": [
        "fdist.plot(30, cumulative = True) # 빈도수 높은 아이들 30개 축척시킨 그림, 완만할 수록 덜 빈도"
      ],
      "metadata": {
        "colab": {
          "base_uri": "https://localhost:8080/",
          "height": 291
        },
        "id": "lpyHI1I3W8_H",
        "outputId": "62f68f27-2818-473c-cb56-eb27f476d3d7"
      },
      "execution_count": null,
      "outputs": [
        {
          "output_type": "display_data",
          "data": {
            "text/plain": [
              "<Figure size 432x288 with 1 Axes>"
            ],
            "image/png": "[encoded data removed]"
          },
          "metadata": {
            "needs_background": "light"
          }
        }
      ]
    },
    {
      "cell_type": "code",
      "source": [
        "# 1번 나타나는 단어들\n",
        "len(fdist.hapaxes()) # 중복은 안됨, 대소문자는 구분됨"
      ],
      "metadata": {
        "colab": {
          "base_uri": "https://localhost:8080/"
        },
        "id": "JD0brGgOWu1s",
        "outputId": "6f04072f-cc95-4211-ee4b-0a002a56ba31"
      },
      "execution_count": null,
      "outputs": [
        {
          "output_type": "execute_result",
          "data": {
            "text/plain": [
              "9002"
            ]
          },
          "metadata": {},
          "execution_count": 38
        }
      ]
    },
    {
      "cell_type": "markdown",
      "source": [
        "텍스트에서 원하는 조건을 만족시키는 단어들을 찾기"
      ],
      "metadata": {
        "id": "6wQqnCMtW3Fx"
      }
    },
    {
      "cell_type": "markdown",
      "source": [
        "### 리스트 & 리스트 컴프리핸션\n",
        "- 리스트 : 프로그래밍 - 배열(array), 파이썬 - 리스트(list)\n",
        "- 하나의 변수에 여러 값을 할당하는 자료형\n",
        "  - a = [1, 2, 3, 4]\n",
        "- 대괄호로 선언 []\n",
        "- 내부 요소들은 자료형이 달라도 됨\n",
        "  - a = [1, True, 'hello']\n",
        "- 순서다 있다 -> 인덱싱, 슬라이싱이 가능\n",
        "- **빈리스트 선언은 list(), []** *선언해야하는 이유*"
      ],
      "metadata": {
        "id": "Jth03quFYb4-"
      }
    },
    {
      "cell_type": "code",
      "source": [
        "a = [1, True, 'hello']\n",
        "a[0]\n",
        "a[::-1]"
      ],
      "metadata": {
        "colab": {
          "base_uri": "https://localhost:8080/"
        },
        "id": "zZgtbwzpZMpM",
        "outputId": "dd5ca50d-c482-4902-824b-ec53a67e0e59"
      },
      "execution_count": null,
      "outputs": [
        {
          "output_type": "execute_result",
          "data": {
            "text/plain": [
              "['hello', True, 1]"
            ]
          },
          "metadata": {},
          "execution_count": 43
        }
      ]
    },
    {
      "cell_type": "code",
      "source": [
        "b = []\n",
        "b = list()"
      ],
      "metadata": {
        "id": "hsYNh3OcaP4H"
      },
      "execution_count": null,
      "outputs": []
    },
    {
      "cell_type": "code",
      "source": [
        "drinks = ['rum', 'mojito', 'soju']\n",
        "drinks[1]"
      ],
      "metadata": {
        "colab": {
          "base_uri": "https://localhost:8080/",
          "height": 36
        },
        "id": "iuFpG5VmaluM",
        "outputId": "a982d385-2000-4716-f375-8191e4911f6c"
      },
      "execution_count": null,
      "outputs": [
        {
          "output_type": "execute_result",
          "data": {
            "text/plain": [
              "'mojito'"
            ],
            "application/vnd.google.colaboratory.intrinsic+json": {
              "type": "string"
            }
          },
          "metadata": {},
          "execution_count": 46
        }
      ]
    },
    {
      "cell_type": "code",
      "source": [
        "# drinks에서 'soju'의 위치를 알고 싶을때\n",
        "drinks.index('soju')\n",
        "#drinks.find('soju') # list객체는 find()함수 제공하지 않음 -> 오류"
      ],
      "metadata": {
        "colab": {
          "base_uri": "https://localhost:8080/"
        },
        "id": "YJaTCqy7aun5",
        "outputId": "d48bd40d-1c62-4bf8-ffd5-f94878b6712d"
      },
      "execution_count": null,
      "outputs": [
        {
          "output_type": "execute_result",
          "data": {
            "text/plain": [
              "2"
            ]
          },
          "metadata": {},
          "execution_count": 50
        }
      ]
    },
    {
      "cell_type": "markdown",
      "source": [
        "#### list comprehension\n",
        "- 지능형 리스트\n",
        "- 주어진 리스트를 포함하는 새로운 리스트를 형성하는 것\n",
        "- list + for_loop 한줄로 해결하는 방식\n",
        "- [A for A' in B]\n",
        "  - B에 있는 A'에서 A를 가진 리스트를 반환\n",
        "  - B: 기존의 리스트\n",
        "  - A' : B의 자료형태 \n",
        "  - A : 새로운 리스트의 요소\n",
        "\n",
        "\n",
        "-`조건+` : **[A for A' in B if <조건식>]**\n",
        "   - 조건이 두개 이상이라면, 논리 연산자 이용: `[A for A' in B if <조건식> and <조건식>, ...]`"
      ],
      "metadata": {
        "id": "plXkmPuCa6ge"
      }
    },
    {
      "cell_type": "code",
      "source": [
        "[elem * 2 for elem in drinks]"
      ],
      "metadata": {
        "colab": {
          "base_uri": "https://localhost:8080/"
        },
        "id": "TdfP9ohfbt29",
        "outputId": "87e16523-4463-41aa-ae7c-d96e987e0739"
      },
      "execution_count": null,
      "outputs": [
        {
          "output_type": "execute_result",
          "data": {
            "text/plain": [
              "['rumrum', 'mojitomojito', 'sojusoju']"
            ]
          },
          "metadata": {},
          "execution_count": 51
        }
      ]
    },
    {
      "cell_type": "code",
      "source": [
        "arr = [d for d in drinks] # 새로운 리스트 선언"
      ],
      "metadata": {
        "id": "LAp3yPGKcIqO"
      },
      "execution_count": null,
      "outputs": []
    },
    {
      "cell_type": "code",
      "source": [
        "arr # 기본형식"
      ],
      "metadata": {
        "colab": {
          "base_uri": "https://localhost:8080/"
        },
        "id": "MTnaKzhccM4Y",
        "outputId": "a76dc154-0827-47f3-8f40-5be9ba8185e3"
      },
      "execution_count": null,
      "outputs": [
        {
          "output_type": "execute_result",
          "data": {
            "text/plain": [
              "['rum', 'mojito', 'soju']"
            ]
          },
          "metadata": {},
          "execution_count": 54
        }
      ]
    },
    {
      "cell_type": "code",
      "source": [
        "# arr = []\n",
        "arr = [d[0] for d in drinks]\n",
        "arr"
      ],
      "metadata": {
        "colab": {
          "base_uri": "https://localhost:8080/"
        },
        "id": "w4l9mDDAcQGr",
        "outputId": "fd736da3-4376-43b4-ab32-8802552e6a35"
      },
      "execution_count": null,
      "outputs": [
        {
          "output_type": "execute_result",
          "data": {
            "text/plain": [
              "['r', 'm', 's']"
            ]
          },
          "metadata": {},
          "execution_count": 56
        }
      ]
    },
    {
      "cell_type": "code",
      "source": [
        "arr = [0 for _ in range (10)]\n",
        "arr"
      ],
      "metadata": {
        "colab": {
          "base_uri": "https://localhost:8080/"
        },
        "id": "v4ZH4VFAclQL",
        "outputId": "9d386437-f505-41bc-a830-dee9053f3887"
      },
      "execution_count": null,
      "outputs": [
        {
          "output_type": "execute_result",
          "data": {
            "text/plain": [
              "[0, 0, 0, 0, 0, 0, 0, 0, 0, 0]"
            ]
          },
          "metadata": {},
          "execution_count": 58
        }
      ]
    },
    {
      "cell_type": "code",
      "source": [
        "for elem in arr:\n",
        "  print(elem, end = ' ')"
      ],
      "metadata": {
        "colab": {
          "base_uri": "https://localhost:8080/"
        },
        "id": "Oqe3tbtSdgCx",
        "outputId": "dcc224b0-92c3-49c3-b98e-b66a98a6f11e"
      },
      "execution_count": null,
      "outputs": [
        {
          "output_type": "stream",
          "name": "stdout",
          "text": [
            "0 0 0 0 0 0 0 0 0 0 "
          ]
        }
      ]
    },
    {
      "cell_type": "code",
      "source": [
        "# text1에서 알파벳 수가 10이상인 단어\n",
        "arr1 = [elem for elem in text1 if len(elem) >= 20]\n",
        "arr1"
      ],
      "metadata": {
        "colab": {
          "base_uri": "https://localhost:8080/"
        },
        "id": "DtzB847BdpLt",
        "outputId": "23d7a6a6-5dc8-4d15-f24e-8fb34469e51b"
      },
      "execution_count": null,
      "outputs": [
        {
          "output_type": "execute_result",
          "data": {
            "text/plain": [
              "['uninterpenetratingly']"
            ]
          },
          "metadata": {},
          "execution_count": 64
        }
      ]
    },
    {
      "cell_type": "code",
      "source": [
        "arr2 = [word for word in text1 if len(word) == 10]\n",
        "arr2[:10]"
      ],
      "metadata": {
        "colab": {
          "base_uri": "https://localhost:8080/"
        },
        "id": "YokdjHsOe5-L",
        "outputId": "59fa5a26-fb85-4df4-b051-d90e306a5348"
      },
      "execution_count": null,
      "outputs": [
        {
          "output_type": "execute_result",
          "data": {
            "text/plain": [
              "['threadbare',\n",
              " 'DICTIONARY',\n",
              " 'RICHARDSON',\n",
              " 'DICTIONARY',\n",
              " 'whatsoever',\n",
              " 'statements',\n",
              " 'altogether',\n",
              " 'unpleasant',\n",
              " 'splintered',\n",
              " 'bottomless']"
            ]
          },
          "metadata": {},
          "execution_count": 67
        }
      ]
    },
    {
      "cell_type": "code",
      "source": [
        "# text4에서 'gnt'를 포함하는 단어 반환\n",
        "arr3 = [set(word for word in text4 if 'gnt' in word)]\n",
        "arr3"
      ],
      "metadata": {
        "colab": {
          "base_uri": "https://localhost:8080/"
        },
        "id": "7PgtBJenkCJ2",
        "outputId": "a092636f-997a-4965-e9c8-926374f16c10"
      },
      "execution_count": null,
      "outputs": [
        {
          "output_type": "execute_result",
          "data": {
            "text/plain": [
              "[{'Sovereignty', 'sovereignties', 'sovereignty'}]"
            ]
          },
          "metadata": {},
          "execution_count": 70
        }
      ]
    },
    {
      "cell_type": "code",
      "source": [
        "# word.find('gnt')\n",
        "# if word == 'gnt\n",
        "# if word.find('gnt') > 0\n",
        "# -> 둘다 워드 자체가 gnt인것을 반환"
      ],
      "metadata": {
        "id": "suMe3DWVkto0"
      },
      "execution_count": null,
      "outputs": []
    },
    {
      "cell_type": "code",
      "source": [
        "[word for word in text4 if word.find('gnt')] # 조건식이 아니고 word를 반환해주는 것도 아니니 잘못된 결괏값"
      ],
      "metadata": {
        "id": "ffGdHdBtqhv-"
      },
      "execution_count": null,
      "outputs": []
    },
    {
      "cell_type": "code",
      "source": [
        "'gnt' in 'sovereignty'\n",
        "# a = True\n",
        "# if a:"
      ],
      "metadata": {
        "colab": {
          "base_uri": "https://localhost:8080/"
        },
        "id": "cjC-LA6amOef",
        "outputId": "40998754-ff64-427c-b1c4-35d7a37e7c4c"
      },
      "execution_count": null,
      "outputs": [
        {
          "output_type": "execute_result",
          "data": {
            "text/plain": [
              "True"
            ]
          },
          "metadata": {},
          "execution_count": 76
        }
      ]
    },
    {
      "cell_type": "code",
      "source": [
        "arr4 = [word for word in text4 if 'gnt' in word]\n",
        "arr4[:10]"
      ],
      "metadata": {
        "colab": {
          "base_uri": "https://localhost:8080/"
        },
        "id": "fHTWueHYmEx_",
        "outputId": "9a3bffd9-62c6-45d6-ed6b-08fdad302868"
      },
      "execution_count": null,
      "outputs": [
        {
          "output_type": "execute_result",
          "data": {
            "text/plain": [
              "['sovereignty',\n",
              " 'sovereignty',\n",
              " 'sovereignty',\n",
              " 'sovereignty',\n",
              " 'sovereignty',\n",
              " 'sovereignty',\n",
              " 'sovereignty',\n",
              " 'sovereignty',\n",
              " 'sovereignty',\n",
              " 'sovereignties']"
            ]
          },
          "metadata": {},
          "execution_count": 73
        }
      ]
    },
    {
      "cell_type": "code",
      "source": [
        "arr4 = [word for word in set(text4) if 'gnt' in word]\n",
        "arr4"
      ],
      "metadata": {
        "colab": {
          "base_uri": "https://localhost:8080/"
        },
        "id": "5bJ3PdE1mGZ_",
        "outputId": "93f124b7-cf69-4b5b-a0df-59a2c94aa71c"
      },
      "execution_count": null,
      "outputs": [
        {
          "output_type": "execute_result",
          "data": {
            "text/plain": [
              "['sovereignties', 'sovereignty', 'Sovereignty']"
            ]
          },
          "metadata": {},
          "execution_count": 77
        }
      ]
    },
    {
      "cell_type": "code",
      "source": [
        "[word for word in set(text4) if 'gnt' in word]\n",
        "set([word for word in text4 if 'gnt' in word])\n",
        "# 순서가 달라, 형태가 달라 a는 리스트 b는 set 자료형이 다름\n",
        "# lower()함수를 해주는 경우에는 연산 -> 중복 없앰 / 중복을 없애고 -> 연산 "
      ],
      "metadata": {
        "id": "9FZp91Pxmjyp"
      },
      "execution_count": null,
      "outputs": []
    },
    {
      "cell_type": "code",
      "source": [
        "'THE'.lower() # list에서는 지원하지 않는 함수"
      ],
      "metadata": {
        "colab": {
          "base_uri": "https://localhost:8080/",
          "height": 36
        },
        "id": "nU1Ui4x5qJ1r",
        "outputId": "aeb3efbc-66e1-4f63-db01-4c5bfd0e0a9a"
      },
      "execution_count": null,
      "outputs": [
        {
          "output_type": "execute_result",
          "data": {
            "text/plain": [
              "'the'"
            ],
            "application/vnd.google.colaboratory.intrinsic+json": {
              "type": "string"
            }
          },
          "metadata": {},
          "execution_count": 84
        }
      ]
    },
    {
      "cell_type": "markdown",
      "source": [
        "### 조건을 위한 함수 : `uncased, cased`\n",
        "- 'the' != 'The'\n",
        "- upper(), lower(), title() # 바꿔주는 것 `문자열`\n",
        "- capitalize(), swapcase()\n",
        "- isupper(), islower(), istitle() #진리확인용\n",
        "- endswith(), startswith(), isalpha()"
      ],
      "metadata": {
        "id": "wYf1-pSgof45"
      }
    },
    {
      "cell_type": "code",
      "source": [
        "'word'.capitalize()"
      ],
      "metadata": {
        "colab": {
          "base_uri": "https://localhost:8080/",
          "height": 36
        },
        "id": "9S6mRS63MXAq",
        "outputId": "016f2c41-27ed-4773-8f9d-d5d8c09f986d"
      },
      "execution_count": null,
      "outputs": [
        {
          "output_type": "execute_result",
          "data": {
            "text/plain": [
              "'Word'"
            ],
            "application/vnd.google.colaboratory.intrinsic+json": {
              "type": "string"
            }
          },
          "metadata": {},
          "execution_count": 4
        }
      ]
    },
    {
      "cell_type": "code",
      "source": [
        "'word'.upper()"
      ],
      "metadata": {
        "colab": {
          "base_uri": "https://localhost:8080/",
          "height": 36
        },
        "id": "zSIkBVnwMbxt",
        "outputId": "06a1235f-f952-4663-f0dc-072a333afa30"
      },
      "execution_count": null,
      "outputs": [
        {
          "output_type": "execute_result",
          "data": {
            "text/plain": [
              "'WORD'"
            ],
            "application/vnd.google.colaboratory.intrinsic+json": {
              "type": "string"
            }
          },
          "metadata": {},
          "execution_count": 5
        }
      ]
    },
    {
      "cell_type": "code",
      "source": [
        "'word'.isupper() # 결과가 F/T"
      ],
      "metadata": {
        "colab": {
          "base_uri": "https://localhost:8080/"
        },
        "id": "K27TLcjppEt3",
        "outputId": "4bc030ca-1c44-42d8-d86c-d16be7289575"
      },
      "execution_count": null,
      "outputs": [
        {
          "output_type": "execute_result",
          "data": {
            "text/plain": [
              "False"
            ]
          },
          "metadata": {},
          "execution_count": 78
        }
      ]
    },
    {
      "cell_type": "code",
      "source": [
        "'Word'.isupper()"
      ],
      "metadata": {
        "colab": {
          "base_uri": "https://localhost:8080/"
        },
        "id": "XSkhPS2uuypR",
        "outputId": "027dd5fa-bb48-48d4-e8a3-fb7288752278"
      },
      "execution_count": null,
      "outputs": [
        {
          "output_type": "execute_result",
          "data": {
            "text/plain": [
              "False"
            ]
          },
          "metadata": {},
          "execution_count": 90
        }
      ]
    },
    {
      "cell_type": "code",
      "source": [
        "'Word'.istitle()"
      ],
      "metadata": {
        "colab": {
          "base_uri": "https://localhost:8080/"
        },
        "id": "ElNbphtKu2ST",
        "outputId": "78a09e31-e520-4298-c922-366d4022dad4"
      },
      "execution_count": null,
      "outputs": [
        {
          "output_type": "execute_result",
          "data": {
            "text/plain": [
              "True"
            ]
          },
          "metadata": {},
          "execution_count": 91
        }
      ]
    },
    {
      "cell_type": "code",
      "source": [
        "'word'.startswith('w')"
      ],
      "metadata": {
        "colab": {
          "base_uri": "https://localhost:8080/"
        },
        "id": "HrpI9YTRpIXH",
        "outputId": "fde6c0c5-d40c-41b3-a35e-d1c0ee749dbb"
      },
      "execution_count": null,
      "outputs": [
        {
          "output_type": "execute_result",
          "data": {
            "text/plain": [
              "True"
            ]
          },
          "metadata": {},
          "execution_count": 79
        }
      ]
    },
    {
      "cell_type": "code",
      "source": [
        "','.isalpha()"
      ],
      "metadata": {
        "colab": {
          "base_uri": "https://localhost:8080/"
        },
        "id": "oGGOBbz-pLsM",
        "outputId": "b5a621cd-ad66-427e-83c0-61e7be67b483"
      },
      "execution_count": null,
      "outputs": [
        {
          "output_type": "execute_result",
          "data": {
            "text/plain": [
              "False"
            ]
          },
          "metadata": {},
          "execution_count": 80
        }
      ]
    },
    {
      "cell_type": "code",
      "source": [
        "# text1에서 'ableness'로 끝나는 단어 반환 **\n",
        "[word for word in text1 if word.endswith('ableness')]"
      ],
      "metadata": {
        "colab": {
          "base_uri": "https://localhost:8080/"
        },
        "id": "vi4EgDC8pO-v",
        "outputId": "1179fc7f-5537-4f43-d0b2-8952dc54b027"
      },
      "execution_count": null,
      "outputs": [
        {
          "output_type": "execute_result",
          "data": {
            "text/plain": [
              "['uncomfortableness',\n",
              " 'comfortableness',\n",
              " 'intolerableness',\n",
              " 'immutableness',\n",
              " 'indomitableness',\n",
              " 'reasonableness',\n",
              " 'indispensableness',\n",
              " 'indomitableness',\n",
              " 'honourableness',\n",
              " 'palpableness']"
            ]
          },
          "metadata": {},
          "execution_count": 81
        }
      ]
    },
    {
      "cell_type": "code",
      "source": [
        "# text3 대문자로 시작하는 단어들 중에 길이가 3이상인 단어 -> 중복없이 뽑자 -> 대문자로 반환\n",
        "[word.upper() for word in set(text3) if word.istitle() and len(word) >= 3][:10]"
      ],
      "metadata": {
        "colab": {
          "base_uri": "https://localhost:8080/"
        },
        "id": "fmRVkz4-p5AY",
        "outputId": "e64a3246-c307-477a-836e-e78c094af23c"
      },
      "execution_count": null,
      "outputs": [
        {
          "output_type": "execute_result",
          "data": {
            "text/plain": [
              "['RACHEL',\n",
              " 'REBEKAH',\n",
              " 'ONAM',\n",
              " 'ASK',\n",
              " 'EBAL',\n",
              " 'ONAN',\n",
              " 'ARAM',\n",
              " 'PILDASH',\n",
              " 'HETH',\n",
              " 'UNSTABLE']"
            ]
          },
          "metadata": {},
          "execution_count": 8
        }
      ]
    },
    {
      "cell_type": "code",
      "source": [
        "set([word for word in text3 if word[0].isupper() and len(word) >= 3][:10])"
      ],
      "metadata": {
        "id": "Px3bb83Csl1G",
        "colab": {
          "base_uri": "https://localhost:8080/"
        },
        "outputId": "c63616dd-b961-48aa-d092-f018776be048"
      },
      "execution_count": null,
      "outputs": [
        {
          "output_type": "execute_result",
          "data": {
            "text/plain": [
              "{'And', 'God', 'Let', 'Spirit'}"
            ]
          },
          "metadata": {},
          "execution_count": 9
        }
      ]
    },
    {
      "cell_type": "markdown",
      "source": [
        "- 거르고 계산하고 vs. 계산하고 거름\n",
        "- -> 중복이 남음         -> 중복이 남지 않음..\n",
        " **연산 순서에 따라 달라질수 있음**"
      ],
      "metadata": {
        "id": "8nSwS7fyNK2f"
      }
    },
    {
      "cell_type": "code",
      "source": [
        "# text4에서 알파벳인 단어 중, 길이가 4개 이상이고, 빈도수가 5이상인 단어의 길이 반환\n",
        "# ['apple'] >= [5]\n",
        "fdist = FreqDist(text4)\n",
        "len([len(word) for word in text4 if len(word) >= 4 and fdist[word] >= 5])"
      ],
      "metadata": {
        "colab": {
          "base_uri": "https://localhost:8080/"
        },
        "id": "k9N2sBrnNo8P",
        "outputId": "8a3a9a83-62ac-442f-f28a-c17c3ffd3905"
      },
      "execution_count": null,
      "outputs": [
        {
          "output_type": "execute_result",
          "data": {
            "text/plain": [
              "65634"
            ]
          },
          "metadata": {},
          "execution_count": 14
        }
      ]
    },
    {
      "cell_type": "code",
      "source": [
        "[len(word) for word in text4 if word.isalpha() and len(word) >= 4 and fdist[word] >= 5]"
      ],
      "metadata": {
        "id": "PPQEVDDPSeIC"
      },
      "execution_count": null,
      "outputs": []
    },
    {
      "cell_type": "code",
      "source": [
        "len([len(word) for word in text4 if len(word) >= 4 and text4.count(word) >= 5]) # 런타임 에러 / 비효율적이라 계속 실행만"
      ],
      "metadata": {
        "id": "p-BfBS_QQeSY"
      },
      "execution_count": null,
      "outputs": []
    },
    {
      "cell_type": "code",
      "source": [
        "# [word for word in set(text4) if text4.count('word') >= 15]\n",
        "text4.count('he')"
      ],
      "metadata": {
        "colab": {
          "base_uri": "https://localhost:8080/"
        },
        "id": "Tg6aBo6aRNTK",
        "outputId": "6f16ee64-ffc7-41d0-b2c1-2b17acd3e07c"
      },
      "execution_count": null,
      "outputs": [
        {
          "output_type": "execute_result",
          "data": {
            "text/plain": [
              "80"
            ]
          },
          "metadata": {},
          "execution_count": 19
        }
      ]
    },
    {
      "cell_type": "code",
      "source": [
        "text1[:10] # 텍스트들은 문자열을 리스트화 해둠"
      ],
      "metadata": {
        "colab": {
          "base_uri": "https://localhost:8080/"
        },
        "id": "il21B-qFTQK7",
        "outputId": "43daa941-6d4f-493e-d2b3-3f34fffc6430"
      },
      "execution_count": null,
      "outputs": [
        {
          "output_type": "execute_result",
          "data": {
            "text/plain": [
              "['[',\n",
              " 'Moby',\n",
              " 'Dick',\n",
              " 'by',\n",
              " 'Herman',\n",
              " 'Melville',\n",
              " '1851',\n",
              " ']',\n",
              " 'ETYMOLOGY',\n",
              " '.']"
            ]
          },
          "metadata": {},
          "execution_count": 21
        }
      ]
    },
    {
      "cell_type": "code",
      "source": [
        "\"\"\"fdist\"\"\"\n",
        "# 객체이기 때문에 접근을 []로 해주고 생성할때마다 새로운 변수이름을 설정 및 할당해주는 것\n",
        "fdist4 = FreqDist(text4)\n",
        "#fdist[:5] # 딕셔너리 형태로 저장되어 있음\n",
        "fdist4\n",
        "# key -> 단어, value -> 숫자 (빈도수)\n",
        "# count 함수를 사용해 접근하면, word를 하나씩 돌아가면서 갯수를 계산해 반환하지만, fdist()함수를 사용하면 이미 빈도수를 계산해둔 리스트로 접근하기 때문에 훨씬 효율적임."
      ],
      "metadata": {
        "colab": {
          "base_uri": "https://localhost:8080/"
        },
        "id": "iWCkp5nqTd4C",
        "outputId": "b4ae9b3e-220d-4106-8b5a-a4e23841833f"
      },
      "execution_count": null,
      "outputs": [
        {
          "output_type": "execute_result",
          "data": {
            "text/plain": [
              "FreqDist({'Fellow': 24,\n",
              "          '-': 294,\n",
              "          'Citizens': 7,\n",
              "          'of': 7169,\n",
              "          'the': 9555,\n",
              "          'Senate': 12,\n",
              "          'and': 5226,\n",
              "          'House': 9,\n",
              "          'Representatives': 5,\n",
              "          ':': 160,\n",
              "          'Among': 4,\n",
              "          'vicissitudes': 5,\n",
              "          'incident': 8,\n",
              "          'to': 4477,\n",
              "          'life': 140,\n",
              "          'no': 419,\n",
              "          'event': 16,\n",
              "          'could': 72,\n",
              "          'have': 1029,\n",
              "          'filled': 6,\n",
              "          'me': 197,\n",
              "          'with': 918,\n",
              "          'greater': 53,\n",
              "          'anxieties': 3,\n",
              "          'than': 246,\n",
              "          'that': 1769,\n",
              "          'which': 1007,\n",
              "          'notification': 1,\n",
              "          'was': 274,\n",
              "          'transmitted': 3,\n",
              "          'by': 1063,\n",
              "          'your': 115,\n",
              "          'order': 64,\n",
              "          ',': 7275,\n",
              "          'received': 12,\n",
              "          'on': 521,\n",
              "          '14th': 1,\n",
              "          'day': 96,\n",
              "          'present': 85,\n",
              "          'month': 2,\n",
              "          '.': 5011,\n",
              "          'On': 24,\n",
              "          'one': 253,\n",
              "          'hand': 48,\n",
              "          'I': 882,\n",
              "          'summoned': 6,\n",
              "          'my': 472,\n",
              "          'Country': 6,\n",
              "          'whose': 66,\n",
              "          'voice': 24,\n",
              "          'can': 484,\n",
              "          'never': 132,\n",
              "          'hear': 11,\n",
              "          'but': 507,\n",
              "          'veneration': 5,\n",
              "          'love': 55,\n",
              "          'from': 545,\n",
              "          'a': 2229,\n",
              "          'retreat': 9,\n",
              "          'had': 131,\n",
              "          'chosen': 22,\n",
              "          'fondest': 1,\n",
              "          'predilection': 1,\n",
              "          'in': 2604,\n",
              "          'flattering': 1,\n",
              "          'hopes': 38,\n",
              "          'an': 388,\n",
              "          'immutable': 3,\n",
              "          'decision': 14,\n",
              "          'as': 926,\n",
              "          'asylum': 1,\n",
              "          'declining': 3,\n",
              "          'years': 143,\n",
              "          '--': 363,\n",
              "          'rendered': 7,\n",
              "          'every': 285,\n",
              "          'more': 318,\n",
              "          'necessary': 82,\n",
              "          'well': 135,\n",
              "          'dear': 8,\n",
              "          'addition': 6,\n",
              "          'habit': 4,\n",
              "          'inclination': 3,\n",
              "          'frequent': 4,\n",
              "          'interruptions': 1,\n",
              "          'health': 21,\n",
              "          'gradual': 2,\n",
              "          'waste': 19,\n",
              "          'committed': 19,\n",
              "          'it': 1036,\n",
              "          'time': 221,\n",
              "          'other': 266,\n",
              "          'magnitude': 7,\n",
              "          'difficulty': 13,\n",
              "          'trust': 60,\n",
              "          'country': 316,\n",
              "          'called': 61,\n",
              "          'being': 62,\n",
              "          'sufficient': 35,\n",
              "          'awaken': 1,\n",
              "          'wisest': 6,\n",
              "          'most': 171,\n",
              "          'experienced': 5,\n",
              "          'her': 45,\n",
              "          'citizens': 241,\n",
              "          'distrustful': 1,\n",
              "          'scrutiny': 2,\n",
              "          'into': 130,\n",
              "          'his': 173,\n",
              "          'qualifications': 6,\n",
              "          'not': 972,\n",
              "          'overwhelm': 2,\n",
              "          'despondence': 1,\n",
              "          'who': 376,\n",
              "          '(': 18,\n",
              "          'inheriting': 1,\n",
              "          'inferior': 4,\n",
              "          'endowments': 1,\n",
              "          'nature': 34,\n",
              "          'unpracticed': 1,\n",
              "          'duties': 92,\n",
              "          'civil': 53,\n",
              "          'administration': 62,\n",
              "          ')': 16,\n",
              "          'ought': 60,\n",
              "          'be': 1505,\n",
              "          'peculiarly': 6,\n",
              "          'conscious': 9,\n",
              "          'own': 249,\n",
              "          'deficiencies': 3,\n",
              "          'In': 225,\n",
              "          'this': 755,\n",
              "          'conflict': 23,\n",
              "          'emotions': 3,\n",
              "          'all': 807,\n",
              "          'dare': 10,\n",
              "          'aver': 1,\n",
              "          'is': 1477,\n",
              "          'has': 632,\n",
              "          'been': 496,\n",
              "          'faithful': 36,\n",
              "          'study': 4,\n",
              "          'collect': 5,\n",
              "          'duty': 120,\n",
              "          'just': 122,\n",
              "          'appreciation': 4,\n",
              "          'circumstance': 3,\n",
              "          'might': 69,\n",
              "          'affected': 7,\n",
              "          'All': 36,\n",
              "          'hope': 119,\n",
              "          'if': 190,\n",
              "          'executing': 3,\n",
              "          'task': 41,\n",
              "          'too': 89,\n",
              "          'much': 108,\n",
              "          'swayed': 2,\n",
              "          'grateful': 15,\n",
              "          'remembrance': 3,\n",
              "          'former': 19,\n",
              "          'instances': 10,\n",
              "          'or': 559,\n",
              "          'affectionate': 4,\n",
              "          'sensibility': 3,\n",
              "          'transcendent': 2,\n",
              "          'proof': 12,\n",
              "          'confidence': 87,\n",
              "          'fellow': 134,\n",
              "          'thence': 1,\n",
              "          'little': 37,\n",
              "          'consulted': 1,\n",
              "          'incapacity': 2,\n",
              "          'disinclination': 1,\n",
              "          'for': 1141,\n",
              "          'weighty': 2,\n",
              "          'untried': 1,\n",
              "          'cares': 1,\n",
              "          'before': 124,\n",
              "          'error': 11,\n",
              "          'will': 935,\n",
              "          'palliated': 1,\n",
              "          'motives': 10,\n",
              "          'mislead': 1,\n",
              "          'its': 562,\n",
              "          'consequences': 16,\n",
              "          'judged': 3,\n",
              "          'some': 94,\n",
              "          'share': 38,\n",
              "          'partiality': 4,\n",
              "          'they': 358,\n",
              "          'originated': 2,\n",
              "          'Such': 26,\n",
              "          'impressions': 3,\n",
              "          'under': 175,\n",
              "          'obedience': 11,\n",
              "          'public': 224,\n",
              "          'summons': 4,\n",
              "          'repaired': 1,\n",
              "          'station': 16,\n",
              "          'would': 213,\n",
              "          'improper': 1,\n",
              "          'omit': 1,\n",
              "          'first': 98,\n",
              "          'official': 18,\n",
              "          'act': 52,\n",
              "          'fervent': 9,\n",
              "          'supplications': 5,\n",
              "          'Almighty': 28,\n",
              "          'Being': 11,\n",
              "          'rules': 21,\n",
              "          'over': 87,\n",
              "          'universe': 3,\n",
              "          'presides': 2,\n",
              "          'councils': 11,\n",
              "          'nations': 186,\n",
              "          'providential': 3,\n",
              "          'aids': 5,\n",
              "          'supply': 8,\n",
              "          'human': 91,\n",
              "          'defect': 4,\n",
              "          'His': 38,\n",
              "          'benediction': 3,\n",
              "          'may': 323,\n",
              "          'consecrate': 3,\n",
              "          'liberties': 14,\n",
              "          'happiness': 51,\n",
              "          'people': 589,\n",
              "          'United': 171,\n",
              "          'States': 331,\n",
              "          'Government': 334,\n",
              "          'instituted': 7,\n",
              "          'themselves': 72,\n",
              "          'these': 236,\n",
              "          'essential': 39,\n",
              "          'purposes': 48,\n",
              "          'enable': 12,\n",
              "          'instrument': 33,\n",
              "          'employed': 12,\n",
              "          'execute': 19,\n",
              "          'success': 47,\n",
              "          'functions': 19,\n",
              "          'allotted': 4,\n",
              "          'charge': 8,\n",
              "          'tendering': 1,\n",
              "          'homage': 1,\n",
              "          'Great': 20,\n",
              "          'Author': 5,\n",
              "          'private': 26,\n",
              "          'good': 145,\n",
              "          'assure': 12,\n",
              "          'myself': 33,\n",
              "          'expresses': 2,\n",
              "          'sentiments': 17,\n",
              "          'less': 82,\n",
              "          'nor': 73,\n",
              "          'those': 318,\n",
              "          'at': 329,\n",
              "          'large': 37,\n",
              "          'either': 43,\n",
              "          'No': 51,\n",
              "          'bound': 17,\n",
              "          'acknowledge': 6,\n",
              "          'adore': 1,\n",
              "          'Invisible': 1,\n",
              "          'Hand': 3,\n",
              "          'conducts': 1,\n",
              "          'affairs': 42,\n",
              "          'men': 144,\n",
              "          'Every': 16,\n",
              "          'step': 11,\n",
              "          'advanced': 13,\n",
              "          'character': 60,\n",
              "          'independent': 32,\n",
              "          'nation': 243,\n",
              "          'seems': 16,\n",
              "          'distinguished': 25,\n",
              "          'token': 1,\n",
              "          'agency': 8,\n",
              "          ';': 573,\n",
              "          'important': 64,\n",
              "          'revolution': 21,\n",
              "          'accomplished': 16,\n",
              "          'system': 89,\n",
              "          'their': 743,\n",
              "          'united': 33,\n",
              "          'government': 264,\n",
              "          'tranquil': 2,\n",
              "          'deliberations': 6,\n",
              "          'voluntary': 5,\n",
              "          'consent': 12,\n",
              "          'so': 369,\n",
              "          'many': 99,\n",
              "          'distinct': 6,\n",
              "          'communities': 24,\n",
              "          'resulted': 4,\n",
              "          'compared': 3,\n",
              "          'means': 72,\n",
              "          'governments': 47,\n",
              "          'established': 30,\n",
              "          'without': 132,\n",
              "          'return': 25,\n",
              "          'pious': 1,\n",
              "          'gratitude': 17,\n",
              "          'along': 14,\n",
              "          'humble': 13,\n",
              "          'anticipation': 3,\n",
              "          'future': 97,\n",
              "          'blessings': 40,\n",
              "          'past': 55,\n",
              "          'seem': 20,\n",
              "          'presage': 2,\n",
              "          'These': 61,\n",
              "          'reflections': 1,\n",
              "          'arising': 3,\n",
              "          'out': 99,\n",
              "          'crisis': 21,\n",
              "          'forced': 9,\n",
              "          'strongly': 7,\n",
              "          'mind': 41,\n",
              "          'suppressed': 3,\n",
              "          'You': 22,\n",
              "          'join': 23,\n",
              "          'thinking': 3,\n",
              "          'there': 176,\n",
              "          'are': 820,\n",
              "          'none': 29,\n",
              "          'influence': 57,\n",
              "          'proceedings': 2,\n",
              "          'new': 241,\n",
              "          'free': 184,\n",
              "          'auspiciously': 1,\n",
              "          'commence': 5,\n",
              "          'By': 29,\n",
              "          'article': 7,\n",
              "          'establishing': 4,\n",
              "          'executive': 35,\n",
              "          'department': 17,\n",
              "          'made': 156,\n",
              "          'President': 95,\n",
              "          '\"': 152,\n",
              "          'recommend': 13,\n",
              "          'consideration': 29,\n",
              "          'such': 192,\n",
              "          'measures': 41,\n",
              "          'he': 80,\n",
              "          'shall': 312,\n",
              "          'judge': 10,\n",
              "          'expedient': 9,\n",
              "          '.\"': 74,\n",
              "          'The': 634,\n",
              "          'circumstances': 42,\n",
              "          'now': 203,\n",
              "          'meet': 56,\n",
              "          'you': 201,\n",
              "          'acquit': 1,\n",
              "          'entering': 9,\n",
              "          'subject': 62,\n",
              "          'further': 35,\n",
              "          'refer': 7,\n",
              "          'great': 326,\n",
              "          'constitutional': 52,\n",
              "          'charter': 5,\n",
              "          'assembled': 11,\n",
              "          'defining': 2,\n",
              "          'powers': 100,\n",
              "          'designates': 1,\n",
              "          'objects': 34,\n",
              "          'attention': 33,\n",
              "          'given': 66,\n",
              "          'It': 366,\n",
              "          'consistent': 13,\n",
              "          'far': 88,\n",
              "          'congenial': 1,\n",
              "          'feelings': 13,\n",
              "          'actuate': 1,\n",
              "          'substitute': 4,\n",
              "          'place': 71,\n",
              "          'recommendation': 6,\n",
              "          'particular': 14,\n",
              "          'tribute': 2,\n",
              "          'due': 29,\n",
              "          'talents': 13,\n",
              "          'rectitude': 1,\n",
              "          'patriotism': 33,\n",
              "          'adorn': 1,\n",
              "          'characters': 6,\n",
              "          'selected': 9,\n",
              "          'devise': 4,\n",
              "          'adopt': 13,\n",
              "          'them': 330,\n",
              "          'honorable': 27,\n",
              "          'behold': 1,\n",
              "          'surest': 10,\n",
              "          'pledges': 6,\n",
              "          'side': 21,\n",
              "          'local': 41,\n",
              "          'prejudices': 13,\n",
              "          'attachments': 3,\n",
              "          'separate': 14,\n",
              "          'views': 27,\n",
              "          'party': 78,\n",
              "          'animosities': 6,\n",
              "          'misdirect': 1,\n",
              "          'comprehensive': 4,\n",
              "          'equal': 75,\n",
              "          'eye': 4,\n",
              "          'watch': 7,\n",
              "          'assemblage': 3,\n",
              "          'interests': 115,\n",
              "          'another': 67,\n",
              "          'foundation': 11,\n",
              "          'our': 2062,\n",
              "          'national': 138,\n",
              "          'policy': 97,\n",
              "          'laid': 8,\n",
              "          'pure': 8,\n",
              "          'principles': 96,\n",
              "          'morality': 5,\n",
              "          'preeminence': 1,\n",
              "          'exemplified': 2,\n",
              "          'attributes': 3,\n",
              "          'win': 6,\n",
              "          'affections': 7,\n",
              "          'command': 15,\n",
              "          'respect': 62,\n",
              "          'world': 327,\n",
              "          'dwell': 3,\n",
              "          'prospect': 9,\n",
              "          'satisfaction': 18,\n",
              "          'ardent': 9,\n",
              "          'inspire': 8,\n",
              "          'since': 49,\n",
              "          'truth': 33,\n",
              "          'thoroughly': 2,\n",
              "          'exists': 16,\n",
              "          'economy': 51,\n",
              "          'course': 57,\n",
              "          'indissoluble': 1,\n",
              "          'union': 51,\n",
              "          'between': 95,\n",
              "          'virtue': 20,\n",
              "          'advantage': 18,\n",
              "          'genuine': 5,\n",
              "          'maxims': 2,\n",
              "          'honest': 26,\n",
              "          'magnanimous': 2,\n",
              "          'solid': 3,\n",
              "          'rewards': 15,\n",
              "          'prosperity': 68,\n",
              "          'felicity': 3,\n",
              "          'we': 1281,\n",
              "          'persuaded': 2,\n",
              "          'propitious': 2,\n",
              "          'smiles': 2,\n",
              "          'Heaven': 10,\n",
              "          'expected': 17,\n",
              "          'disregards': 1,\n",
              "          'eternal': 8,\n",
              "          'right': 122,\n",
              "          'itself': 75,\n",
              "          'ordained': 3,\n",
              "          'preservation': 26,\n",
              "          'sacred': 30,\n",
              "          'fire': 14,\n",
              "          'liberty': 115,\n",
              "          'destiny': 34,\n",
              "          'republican': 17,\n",
              "          'model': 4,\n",
              "          'justly': 15,\n",
              "          'considered': 17,\n",
              "          'perhaps': 21,\n",
              "          'deeply': 22,\n",
              "          'finally': 11,\n",
              "          'staked': 3,\n",
              "          'experiment': 22,\n",
              "          'entrusted': 2,\n",
              "          'hands': 46,\n",
              "          'American': 171,\n",
              "          'Besides': 3,\n",
              "          'ordinary': 11,\n",
              "          'submitted': 8,\n",
              "          'care': 44,\n",
              "          'remain': 29,\n",
              "          'judgment': 37,\n",
              "          'decide': 7,\n",
              "          'how': 32,\n",
              "          'exercise': 42,\n",
              "          'occasional': 3,\n",
              "          'power': 237,\n",
              "          'delegated': 6,\n",
              "          'fifth': 1,\n",
              "          'Constitution': 200,\n",
              "          'juncture': 1,\n",
              "          'objections': 6,\n",
              "          'urged': 8,\n",
              "          'against': 115,\n",
              "          'degree': 32,\n",
              "          'inquietude': 1,\n",
              "          'birth': 19,\n",
              "          'Instead': 4,\n",
              "          'undertaking': 4,\n",
              "          'recommendations': 8,\n",
              "          'guided': 9,\n",
              "          'lights': 7,\n",
              "          'derived': 9,\n",
              "          'opportunities': 12,\n",
              "          'again': 71,\n",
              "          'give': 68,\n",
              "          'way': 86,\n",
              "          'entire': 16,\n",
              "          'discernment': 1,\n",
              "          'pursuit': 11,\n",
              "          'whilst': 11,\n",
              "          'carefully': 7,\n",
              "          'avoid': 15,\n",
              "          'alteration': 2,\n",
              "          'endanger': 7,\n",
              "          'benefits': 22,\n",
              "          'effective': 23,\n",
              "          'await': 5,\n",
              "          'lessons': 9,\n",
              "          'experience': 47,\n",
              "          'reverence': 8,\n",
              "          'characteristic': 1,\n",
              "          'rights': 134,\n",
              "          'freemen': 7,\n",
              "          'regard': 46,\n",
              "          'harmony': 26,\n",
              "          'sufficiently': 6,\n",
              "          'question': 60,\n",
              "          'impregnably': 1,\n",
              "          'fortified': 2,\n",
              "          'latter': 10,\n",
              "          'safely': 10,\n",
              "          'advantageously': 3,\n",
              "          'promoted': 13,\n",
              "          'To': 123,\n",
              "          'foregoing': 2,\n",
              "          'observations': 3,\n",
              "          'add': 21,\n",
              "          'properly': 9,\n",
              "          'addressed': 3,\n",
              "          'concerns': 17,\n",
              "          'therefore': 42,\n",
              "          'brief': 9,\n",
              "          'possible': 39,\n",
              "          'When': 44,\n",
              "          'honored': 9,\n",
              "          'call': 40,\n",
              "          'service': 86,\n",
              "          'then': 72,\n",
              "          'eve': 2,\n",
              "          'arduous': 10,\n",
              "          'struggle': 22,\n",
              "          'light': 29,\n",
              "          'contemplated': 2,\n",
              "          'required': 24,\n",
              "          'should': 320,\n",
              "          'renounce': 1,\n",
              "          'pecuniary': 6,\n",
              "          'compensation': 4,\n",
              "          'From': 31,\n",
              "          'resolution': 9,\n",
              "          'instance': 14,\n",
              "          'departed': 2,\n",
              "          'still': 82,\n",
              "          'produced': 10,\n",
              "          'must': 373,\n",
              "          'decline': 7,\n",
              "          'inapplicable': 1,\n",
              "          'any': 274,\n",
              "          'personal': 30,\n",
              "          'emoluments': 1,\n",
              "          'indispensably': 1,\n",
              "          'included': 3,\n",
              "          'permanent': 32,\n",
              "          'provision': 20,\n",
              "          'accordingly': 2,\n",
              "          'pray': 10,\n",
              "          'estimates': 2,\n",
              "          'am': 66,\n",
              "          'placed': 31,\n",
              "          'during': 24,\n",
              "          'continuance': 15,\n",
              "          'limited': 19,\n",
              "          'actual': 13,\n",
              "          'expenditures': 24,\n",
              "          'thought': 41,\n",
              "          'require': 37,\n",
              "          'Having': 6,\n",
              "          'thus': 27,\n",
              "          'imparted': 2,\n",
              "          'awakened': 4,\n",
              "          'occasion': 38,\n",
              "          'brings': 6,\n",
              "          'us': 502,\n",
              "          'together': 80,\n",
              "          'take': 64,\n",
              "          'leave': 24,\n",
              "          'resorting': 2,\n",
              "          'once': 45,\n",
              "          'benign': 8,\n",
              "          'Parent': 1,\n",
              "          'Human': 3,\n",
              "          'Race': 1,\n",
              "          'supplication': 1,\n",
              "          'He': 32,\n",
              "          'pleased': 4,\n",
              "          'favor': 39,\n",
              "          'deliberating': 1,\n",
              "          'perfect': 26,\n",
              "          'tranquillity': 13,\n",
              "          'dispositions': 2,\n",
              "          'deciding': 2,\n",
              "          'unparalleled': 3,\n",
              "          'unanimity': 3,\n",
              "          'form': 44,\n",
              "          'security': 64,\n",
              "          'advancement': 16,\n",
              "          'divine': 8,\n",
              "          'blessing': 11,\n",
              "          'equally': 27,\n",
              "          'conspicuous': 3,\n",
              "          'enlarged': 11,\n",
              "          'temperate': 2,\n",
              "          'consultations': 3,\n",
              "          'wise': 31,\n",
              "          'depend': 19,\n",
              "          'upon': 365,\n",
              "          'Chief': 28,\n",
              "          'Magistrate': 11,\n",
              "          'proper': 64,\n",
              "          'arrive': 1,\n",
              "          'endeavor': 27,\n",
              "          'express': 21,\n",
              "          'high': 77,\n",
              "          'sense': 52,\n",
              "          'entertain': 8,\n",
              "          'honor': 62,\n",
              "          'reposed': 5,\n",
              "          'America': 240,\n",
              "          'Previous': 1,\n",
              "          'execution': 12,\n",
              "          'requires': 22,\n",
              "          'oath': 58,\n",
              "          'office': 75,\n",
              "          'This': 119,\n",
              "          'about': 45,\n",
              "          'presence': 29,\n",
              "          'That': 51,\n",
              "          'found': 64,\n",
              "          'violated': 2,\n",
              "          'willingly': 2,\n",
              "          'knowingly': 3,\n",
              "          'injunctions': 4,\n",
              "          'thereof': 7,\n",
              "          'besides': 2,\n",
              "          'incurring': 2,\n",
              "          'punishment': 10,\n",
              "          'upbraidings': 1,\n",
              "          'witnesses': 3,\n",
              "          'solemn': 34,\n",
              "          'ceremony': 11,\n",
              "          'perceived': 1,\n",
              "          'early': 22,\n",
              "          'times': 51,\n",
              "          'middle': 9,\n",
              "          'remained': 5,\n",
              "          'unlimited': 5,\n",
              "          'submission': 4,\n",
              "          'foreign': 102,\n",
              "          'legislature': 1,\n",
              "          'total': 7,\n",
              "          'independence': 36,\n",
              "          'claims': 10,\n",
              "          'reflection': 7,\n",
              "          'were': 141,\n",
              "          'apprehensive': 1,\n",
              "          'danger': 40,\n",
              "          'formidable': 6,\n",
              "          'fleets': 1,\n",
              "          'armies': 11,\n",
              "          'determine': 9,\n",
              "          'resist': 10,\n",
              "          'contests': 4,\n",
              "          'dissensions': 4,\n",
              "          'certainly': 13,\n",
              "          'arise': 13,\n",
              "          'concerning': 9,\n",
              "          'forms': 24,\n",
              "          'whole': 93,\n",
              "          'parts': 25,\n",
              "          'extensive': 7,\n",
              "          'Relying': 3,\n",
              "          'however': 51,\n",
              "          'purity': 7,\n",
              "          'intentions': 6,\n",
              "          'justice': 117,\n",
              "          'cause': 62,\n",
              "          'integrity': 24,\n",
              "          'intelligence': 18,\n",
              "          'overruling': 4,\n",
              "          'Providence': 16,\n",
              "          'signally': 4,\n",
              "          'protected': 23,\n",
              "          'representatives': 14,\n",
              "          'consisting': 1,\n",
              "          'half': 16,\n",
              "          'number': 25,\n",
              "          'only': 240,\n",
              "          'broke': 1,\n",
              "          'pieces': 1,\n",
              "          'chains': 4,\n",
              "          'forging': 2,\n",
              "          'rod': 1,\n",
              "          'iron': 4,\n",
              "          'lifted': 3,\n",
              "          'up': 68,\n",
              "          'frankly': 5,\n",
              "          'cut': 7,\n",
              "          'asunder': 2,\n",
              "          'ties': 11,\n",
              "          'launched': 3,\n",
              "          'ocean': 16,\n",
              "          'uncertainty': 5,\n",
              "          'zeal': 12,\n",
              "          'ardor': 3,\n",
              "          'Revolutionary': 3,\n",
              "          'war': 164,\n",
              "          'supplying': 4,\n",
              "          'commanded': 4,\n",
              "          'least': 19,\n",
              "          'temporary': 10,\n",
              "          'society': 36,\n",
              "          'Confederation': 5,\n",
              "          'felt': 17,\n",
              "          'prepared': 13,\n",
              "          'models': 1,\n",
              "          'Batavian': 1,\n",
              "          'Helvetic': 2,\n",
              "          'confederacies': 2,\n",
              "          'examples': 10,\n",
              "          'detail': 3,\n",
              "          'precision': 3,\n",
              "          'history': 102,\n",
              "          'ones': 10,\n",
              "          'ever': 92,\n",
              "          'But': 162,\n",
              "          'reflecting': 3,\n",
              "          'striking': 7,\n",
              "          'difference': 24,\n",
              "          'particulars': 1,\n",
              "          'where': 67,\n",
              "          'courier': 1,\n",
              "          'go': 48,\n",
              "          'seat': 3,\n",
              "          'frontier': 3,\n",
              "          'single': 32,\n",
              "          'foreseen': 1,\n",
              "          'assisted': 2,\n",
              "          'Congress': 126,\n",
              "          'formation': 12,\n",
              "          'durable': 4,\n",
              "          'Negligence': 1,\n",
              "          'regulations': 2,\n",
              "          'inattention': 2,\n",
              "          'disobedience': 2,\n",
              "          'authority': 55,\n",
              "          'individuals': 24,\n",
              "          'soon': 22,\n",
              "          'appeared': 4,\n",
              "          'melancholy': 1,\n",
              "          'universal': 13,\n",
              "          'languor': 1,\n",
              "          'jealousies': 6,\n",
              "          'rivalries': 1,\n",
              "          'navigation': 7,\n",
              "          'commerce': 59,\n",
              "          'discouragement': 3,\n",
              "          'manufactures': 16,\n",
              "          'fall': 9,\n",
              "          'value': 21,\n",
              "          'lands': 21,\n",
              "          'produce': 33,\n",
              "          'contempt': 4,\n",
              "          'faith': 91,\n",
              "          'loss': 13,\n",
              "          'credit': 24,\n",
              "          'length': 9,\n",
              "          'discontents': 2,\n",
              "          'combinations': 12,\n",
              "          'partial': 10,\n",
              "          'conventions': 1,\n",
              "          'insurrection': 2,\n",
              "          'threatening': 6,\n",
              "          'calamity': 2,\n",
              "          'dangerous': 16,\n",
              "          'abandoned': 5,\n",
              "          'usual': 2,\n",
              "          'Measures': 1,\n",
              "          'pursued': 16,\n",
              "          'concert': 2,\n",
              "          'plan': 11,\n",
              "          'establish': 18,\n",
              "          'insure': 8,\n",
              "          'domestic': 49,\n",
              "          'provide': 27,\n",
              "          'common': 91,\n",
              "          'defense': 49,\n",
              "          'promote': 34,\n",
              "          'general': 51,\n",
              "          'welfare': 42,\n",
              "          'secure': 69,\n",
              "          'disquisitions': 1,\n",
              "          'discussions': 4,\n",
              "          'issued': 1,\n",
              "          'happy': 29,\n",
              "          'Employed': 1,\n",
              "          'abroad': 30,\n",
              "          'transactions': 5,\n",
              "          'saw': 10,\n",
              "          'Irritated': 1,\n",
              "          'literary': 1,\n",
              "          'altercation': 1,\n",
              "          'animated': 4,\n",
              "          'debate': 8,\n",
              "          'heated': 1,\n",
              "          'animosity': 1,\n",
              "          'read': 10,\n",
              "          'result': 33,\n",
              "          'heads': 7,\n",
              "          'prompted': 3,\n",
              "          'hearts': 29,\n",
              "          'better': 80,\n",
              "          'adapted': 12,\n",
              "          'genius': 16,\n",
              "          'situation': 16,\n",
              "          'relations': 47,\n",
              "          'proposed': 10,\n",
              "          'suggested': 4,\n",
              "          'outlines': 3,\n",
              "          'conformable': 2,\n",
              "          'esteemed': 2,\n",
              "          'native': 12,\n",
              "          'State': 61,\n",
              "          'contributed': 13,\n",
              "          'Claiming': 1,\n",
              "          'suffrage': 18,\n",
              "          'adoption': 19,\n",
              "          'rejection': 1,\n",
              "          'constitution': 9,\n",
              "          'rule': 35,\n",
              "          'posterity': 10,\n",
              "          'theirs': 5,\n",
              "          'did': 52,\n",
              "          'hesitate': 2,\n",
              "          'approbation': 7,\n",
              "          'occasions': 4,\n",
              "          'objection': 3,\n",
              "          'Executive': 62,\n",
              "          'Nor': 14,\n",
              "          'entertained': 9,\n",
              "          'promoting': 9,\n",
              "          'see': 63,\n",
              "          'feel': 29,\n",
              "          'legislatures': 4,\n",
              "          'according': 12,\n",
              "          'ordain': 1,\n",
              "          'Returning': 1,\n",
              "          'bosom': 5,\n",
              "          'after': 37,\n",
              "          'painful': 3,\n",
              "          'separation': 4,\n",
              "          'ten': 4,\n",
              "          'elected': 16,\n",
              "          'things': 73,\n",
              "          'repeatedly': 1,\n",
              "          'serious': 16,\n",
              "          'obligations': 34,\n",
              "          'support': 92,\n",
              "          'operation': 19,\n",
              "          'equaled': 2,\n",
              "          'sanguine': 4,\n",
              "          'expectations': 7,\n",
              "          'friends': 36,\n",
              "          'habitual': 2,\n",
              "          'delight': 2,\n",
              "          'effects': 11,\n",
              "          'peace': 251,\n",
              "          'acquired': 6,\n",
              "          'attachment': 7,\n",
              "          'What': 28,\n",
              "          'indeed': 20,\n",
              "          'deserve': 10,\n",
              "          'esteem': 3,\n",
              "          '?': 120,\n",
              "          'There': 86,\n",
              "          'solidity': 1,\n",
              "          'ancient': 22,\n",
              "          'idea': 17,\n",
              "          'congregations': 1,\n",
              "          'cities': 11,\n",
              "          'pleasing': 5,\n",
              "          'sight': 7,\n",
              "          'superior': 6,\n",
              "          'intelligences': 1,\n",
              "          'very': 59,\n",
              "          'certain': 36,\n",
              "          'benevolent': 2,\n",
              "          'spectacle': 7,\n",
              "          'presented': 8,\n",
              "          'noble': 11,\n",
              "          'majestic': 3,\n",
              "          'august': 3,\n",
              "          'assembly': 8,\n",
              "          'like': 65,\n",
              "          'often': 29,\n",
              "          'seen': 30,\n",
              "          'Chamber': 1,\n",
              "          'branches': 14,\n",
              "          'Legislature': 13,\n",
              "          'exercised': 12,\n",
              "          'regular': 8,\n",
              "          'periods': 4,\n",
              "          'neighbors': 20,\n",
              "          'make': 145,\n",
              "          'laws': 129,\n",
              "          'Can': 10,\n",
              "          'anything': 11,\n",
              "          'mere': 27,\n",
              "          'ornament': 2,\n",
              "          'decoration': 1,\n",
              "          'added': 13,\n",
              "          'robes': 1,\n",
              "          'diamonds': 1,\n",
              "          'amiable': 2,\n",
              "          'respectable': 4,\n",
              "          'when': 177,\n",
              "          'descends': 1,\n",
              "          'accidents': 1,\n",
              "          'institutions': 77,\n",
              "          'remote': 3,\n",
              "          'antiquity': 1,\n",
              "          'springs': 5,\n",
              "          'fresh': 3,\n",
              "          'judgments': 6,\n",
              "          'enlightened': 23,\n",
              "          'For': 88,\n",
              "          'represented': 2,\n",
              "          'majesty': 4,\n",
              "          'reflected': 4,\n",
              "          'legitimate': 19,\n",
              "          'whatever': 25,\n",
              "          'appear': 17,\n",
              "          'existence': 34,\n",
              "          'ours': 16,\n",
              "          'full': 66,\n",
              "          'dissemination': 1,\n",
              "          'knowledge': 41,\n",
              "          'throughout': 37,\n",
              "          'body': 40,\n",
              "          'And': 183,\n",
              "          'what': 155,\n",
              "          'object': 36,\n",
              "          'If': 105,\n",
              "          'pride': 19,\n",
              "          'justifiable': 1,\n",
              "          'excusable': 1,\n",
              "          'riches': 4,\n",
              "          'grandeur': 1,\n",
              "          'glory': 12,\n",
              "          'conviction': 20,\n",
              "          'innocence': 1,\n",
              "          'information': 10,\n",
              "          'benevolence': 3,\n",
              "          'midst': 7,\n",
              "          'ideas': 12,\n",
              "          'unfaithful': 2,\n",
              "          'ourselves': 80,\n",
              "          'lose': 8,\n",
              "          'extraneous': 2,\n",
              "          'infect': 1,\n",
              "          'fair': 40,\n",
              "          'virtuous': 10,\n",
              "          'elections': 12,\n",
              "          'election': 28,\n",
              "          'determined': 28,\n",
              "          'majority': 22,\n",
              "          'vote': 10,\n",
              "          'procured': 1,\n",
              "          'through': 111,\n",
              "          'artifice': 1,\n",
              "          'corruption': 6,\n",
              "          'choice': 21,\n",
              "          'ends': 10,\n",
              "          'solitary': 1,\n",
              "          'obtained': 4,\n",
              "          'flattery': 1,\n",
              "          'menaces': 1,\n",
              "          'fraud': 3,\n",
              "          ...})"
            ]
          },
          "metadata": {},
          "execution_count": 40
        }
      ]
    },
    {
      "cell_type": "code",
      "source": [
        "[word for word in fdist.items()]"
      ],
      "metadata": {
        "id": "LS5AsYJvUc9T"
      },
      "execution_count": null,
      "outputs": []
    },
    {
      "cell_type": "code",
      "source": [
        "[word for (word, count) in fdist.items() if len(word) >= 16]"
      ],
      "metadata": {
        "colab": {
          "base_uri": "https://localhost:8080/"
        },
        "id": "3Xnsxu_NVkSv",
        "outputId": "af9fe6e5-c61f-4428-9f32-e707abdbe412"
      },
      "execution_count": null,
      "outputs": [
        {
          "output_type": "execute_result",
          "data": {
            "text/plain": [
              "['antiphilosophists',\n",
              " 'constitutionally',\n",
              " 'discountenancing',\n",
              " 'misrepresentation',\n",
              " 'contradistinction',\n",
              " 'misunderstanding',\n",
              " 'responsibilities',\n",
              " 'unconstitutional',\n",
              " 'uncharitableness',\n",
              " 'instrumentalities',\n",
              " 'disqualification',\n",
              " 'misappropriation',\n",
              " 'transcontinental',\n",
              " 'sentimentalizing',\n",
              " 'internationality',\n",
              " 'RESPONSIBILITIES',\n",
              " 'irresponsibility',\n",
              " 'enthusiastically']"
            ]
          },
          "metadata": {},
          "execution_count": 37
        }
      ]
    },
    {
      "cell_type": "code",
      "source": [
        "[len(word) for (word, count) in fdist4.items() if len(word) >= 4 and len(word) >= 17]"
      ],
      "metadata": {
        "colab": {
          "base_uri": "https://localhost:8080/"
        },
        "id": "cuzJouJiVqoE",
        "outputId": "94c949fc-b43f-4590-fd41-283f69459abe"
      },
      "execution_count": null,
      "outputs": [
        {
          "output_type": "execute_result",
          "data": {
            "text/plain": [
              "[17, 17, 17, 17]"
            ]
          },
          "metadata": {},
          "execution_count": 43
        }
      ]
    },
    {
      "cell_type": "markdown",
      "source": [
        "### 리스트와 스트링\n",
        "- split()\n",
        "- join()\n",
        "- 이 두 함수를 통해 문자열과 리스트를 왔다갔다 하며 변환할 수 있어야 함"
      ],
      "metadata": {
        "id": "UxrVV0luojbl"
      }
    },
    {
      "cell_type": "code",
      "source": [
        "sent = \"I, am, thirsty\"\n",
        "#['I', 'am', 'thirsty']\n",
        "sent1 = sent.split(',')\n",
        "print(sent.split(','))\n",
        "print(sent1)\n",
        "sent # 원본 훼손 안하는 친구들은 그냥 프린트가 됨"
      ],
      "metadata": {
        "colab": {
          "base_uri": "https://localhost:8080/",
          "height": 73
        },
        "id": "uDz9R6dbpSsK",
        "outputId": "072a17be-4451-4000-ca09-2982ae3e6679"
      },
      "execution_count": null,
      "outputs": [
        {
          "output_type": "stream",
          "name": "stdout",
          "text": [
            "['I', ' am', ' thirsty']\n",
            "['I', ' am', ' thirsty']\n"
          ]
        },
        {
          "output_type": "execute_result",
          "data": {
            "text/plain": [
              "'I, am, thirsty'"
            ],
            "application/vnd.google.colaboratory.intrinsic+json": {
              "type": "string"
            }
          },
          "metadata": {},
          "execution_count": 65
        }
      ]
    },
    {
      "cell_type": "code",
      "source": [
        "for elem in sent1:\n",
        "  elem = elem.strip()\n",
        "print(sent1)\n",
        "# -> 이 결과가 당연한게 수정 및 삭제는 리스트라 인덱스로 해야해 \n",
        "# 방법2. 혹은 그냥 새로운 리스트 만들어서 append해야하는데 이게 바로 list comprehension이라 []바로 word for word 하는게 효율적 ..\n"
      ],
      "metadata": {
        "colab": {
          "base_uri": "https://localhost:8080/"
        },
        "id": "5oXe5SLNp2zg",
        "outputId": "e9bbcee6-1e70-4318-f372-82deff0a4cc2"
      },
      "execution_count": null,
      "outputs": [
        {
          "output_type": "stream",
          "name": "stdout",
          "text": [
            "['I', ' am', ' thirsty']\n"
          ]
        }
      ]
    },
    {
      "cell_type": "code",
      "source": [
        "sent.replace(',','').strip().split() # srip 없어도 동일"
      ],
      "metadata": {
        "colab": {
          "base_uri": "https://localhost:8080/"
        },
        "id": "qFKa5n72rh0T",
        "outputId": "c9fe68c5-b407-4cc5-8472-e1323da9d8db"
      },
      "execution_count": null,
      "outputs": [
        {
          "output_type": "execute_result",
          "data": {
            "text/plain": [
              "['I', 'am', 'thirsty']"
            ]
          },
          "metadata": {},
          "execution_count": 64
        }
      ]
    },
    {
      "cell_type": "code",
      "source": [
        "[word.strip() for word in sent1]"
      ],
      "metadata": {
        "colab": {
          "base_uri": "https://localhost:8080/"
        },
        "id": "br5PGBRssejD",
        "outputId": "080d53ca-b97d-4c4b-e0ca-6c7f84227685"
      },
      "execution_count": null,
      "outputs": [
        {
          "output_type": "execute_result",
          "data": {
            "text/plain": [
              "['I', 'am', 'thirsty']"
            ]
          },
          "metadata": {},
          "execution_count": 67
        }
      ]
    },
    {
      "cell_type": "code",
      "source": [
        "# strip()은 앞뒤 공백만 없애주는거라 그냥 문장에 strip()함수 적용하면 아무일도 일어나지 않음"
      ],
      "metadata": {
        "id": "1SOeqoZmtsHJ"
      },
      "execution_count": null,
      "outputs": []
    },
    {
      "cell_type": "code",
      "source": [
        "tokens = sent.split(',')\n",
        "tokens = [word.strip() for word in tokens] #-> 이 리스트 변수에 담아서 사용해도 됨"
      ],
      "metadata": {
        "id": "iZuBETq5t8VX"
      },
      "execution_count": null,
      "outputs": []
    },
    {
      "cell_type": "code",
      "source": [
        "\"\".join(tokens) #-> 구분자를 먼저 쓰고 매개변수는 리스트 이름\n",
        "# \"-\".join(tokens)"
      ],
      "metadata": {
        "colab": {
          "base_uri": "https://localhost:8080/",
          "height": 36
        },
        "id": "2Gb8IJi0uNd4",
        "outputId": "fd3c1842-1533-4ce3-fcd7-df005cdf870e"
      },
      "execution_count": null,
      "outputs": [
        {
          "output_type": "execute_result",
          "data": {
            "text/plain": [
              "'Iamthirsty'"
            ],
            "application/vnd.google.colaboratory.intrinsic+json": {
              "type": "string"
            }
          },
          "metadata": {},
          "execution_count": 96
        }
      ]
    },
    {
      "cell_type": "markdown",
      "source": [
        "`리스트`자료형이 온다는 것 기억"
      ],
      "metadata": {
        "id": "jNNA3YoLuhFM"
      }
    },
    {
      "cell_type": "markdown",
      "source": [
        "### 반복문\n",
        "- *[word for word in text1] : *(1)조건있는 요소들을 리스트에 (2)추가해줄때\n",
        "- 자료구조를 순회할 때 사용함.\n",
        "- 정해진 동작을 반복적으로 수행할 때 내리는 명령어\n",
        "- 같은 동작을 반복하는 for loop\n",
        "- 시작조건, 종료조건, 수행명령으로 구성됨\n",
        "- for 요소 in 반복범위:\n",
        "       수행명령\n",
        "\n",
        "- for, while\n",
        "- 들여쓰기, 블록 -> 논리구조\n",
        "- 무한루프가 되지 않도록 주의"
      ],
      "metadata": {
        "id": "lVCASLfQuztZ"
      }
    },
    {
      "cell_type": "code",
      "source": [
        "import nltk\n",
        "from nltk.book import *\n",
        "nltk.download('book', quiet = True)"
      ],
      "metadata": {
        "colab": {
          "base_uri": "https://localhost:8080/"
        },
        "id": "uShuyJ66vvrD",
        "outputId": "b4dd6c70-3397-4f67-ab17-5df18123b6a5"
      },
      "execution_count": null,
      "outputs": [
        {
          "output_type": "execute_result",
          "data": {
            "text/plain": [
              "True"
            ]
          },
          "metadata": {},
          "execution_count": 73
        }
      ]
    },
    {
      "cell_type": "code",
      "source": [
        "for word in text1[:10]:\n",
        "  print(word)"
      ],
      "metadata": {
        "id": "ChEdTAxMv9PK"
      },
      "execution_count": null,
      "outputs": []
    },
    {
      "cell_type": "code",
      "source": [
        "for word in text1:\n",
        "  print(word, end = \"\")"
      ],
      "metadata": {
        "id": "flLsEMjkwM4B"
      },
      "execution_count": null,
      "outputs": []
    },
    {
      "cell_type": "code",
      "source": [
        "arr = []\n",
        "for word in text1:\n",
        "  if len(word) >= 17:\n",
        "    arr.append(word)\n",
        "arr1 =[0 for _ in range(10)]\n",
        "print(arr)\n",
        "print(arr1)\n",
        "# 리스트 컴프랑 동일한 표현임"
      ],
      "metadata": {
        "colab": {
          "base_uri": "https://localhost:8080/"
        },
        "id": "-52Aqf3ewSwO",
        "outputId": "e7ff6350-8d5b-4c37-81d8-56167fba1dbd"
      },
      "execution_count": null,
      "outputs": [
        {
          "output_type": "stream",
          "name": "stdout",
          "text": [
            "['uncomfortableness', 'cannibalistically', 'circumnavigations', 'superstitiousness', 'superstitiousness', 'comprehensiveness', 'preternaturalness', 'indispensableness', 'characteristically', 'comprehensiveness', 'comprehensiveness', 'uncompromisedness', 'uninterpenetratingly', 'subterraneousness']\n",
            "[0, 0, 0, 0, 0, 0, 0, 0, 0, 0]\n"
          ]
        }
      ]
    },
    {
      "cell_type": "code",
      "source": [
        "# 동일한 아이를 만들고 싶다면\n",
        "arr3 =[]\n",
        "for word in text3:\n",
        "  arr3.append(word)\n",
        "print(text3[:10])\n",
        "print(arr3[:10])"
      ],
      "metadata": {
        "colab": {
          "base_uri": "https://localhost:8080/"
        },
        "id": "g-eiEDbawoP3",
        "outputId": "4afb2440-9325-4fb1-8c6e-f347fb14689f"
      },
      "execution_count": null,
      "outputs": [
        {
          "output_type": "stream",
          "name": "stdout",
          "text": [
            "['In', 'the', 'beginning', 'God', 'created', 'the', 'heaven', 'and', 'the', 'earth']\n",
            "['In', 'the', 'beginning', 'God', 'created', 'the', 'heaven', 'and', 'the', 'earth']\n"
          ]
        }
      ]
    },
    {
      "cell_type": "markdown",
      "source": [
        "[word# elem에 대한 조건추가는 여기에 for word in text1 # 조건추가는 여기에]"
      ],
      "metadata": {
        "id": "BTbA_D9TxADq"
      }
    },
    {
      "cell_type": "code",
      "source": [
        "alphabet = ['a', 'b', 'c']\n",
        "for w in alphabet:\n",
        "  print(w, end = \" \")"
      ],
      "metadata": {
        "colab": {
          "base_uri": "https://localhost:8080/"
        },
        "id": "M5Zqh_78xZC4",
        "outputId": "c0ffacdd-e712-4392-9e5b-97a1a01ef309"
      },
      "execution_count": null,
      "outputs": [
        {
          "output_type": "stream",
          "name": "stdout",
          "text": [
            "a b c "
          ]
        }
      ]
    },
    {
      "cell_type": "code",
      "source": [
        "# 숫자 반복 : range()\n",
        "for i in range(1, 10, 2):\n",
        "  print(i, end = \" \")"
      ],
      "metadata": {
        "colab": {
          "base_uri": "https://localhost:8080/"
        },
        "id": "S_MLzbcDx0lG",
        "outputId": "de9d1bfb-f256-4b0d-9a74-3f57f781dfa9"
      },
      "execution_count": null,
      "outputs": [
        {
          "output_type": "stream",
          "name": "stdout",
          "text": [
            "1 3 5 7 9 "
          ]
        }
      ]
    },
    {
      "cell_type": "code",
      "source": [
        "# text 1 ~9 각 텍스트의 단어 수를 반환\n",
        "texts = [text1, text2, text3, text4, text5, text6, text7, text8, text9]\n",
        "for i in range(9):\n",
        "  print(len(texts[i]), end = \" \")"
      ],
      "metadata": {
        "colab": {
          "base_uri": "https://localhost:8080/"
        },
        "id": "BvRhnR8Rx-cZ",
        "outputId": "711b6a56-1e93-434c-8206-fc64a3882763"
      },
      "execution_count": null,
      "outputs": [
        {
          "output_type": "stream",
          "name": "stdout",
          "text": [
            "260819 141576 44764 152901 45010 16967 100676 4867 69213 "
          ]
        }
      ]
    },
    {
      "cell_type": "markdown",
      "source": [
        "### 출력 포맷팅\n",
        "- 1. f'str....{var}'\n",
        "  - f, F 둘다 가능\n",
        "- 2. '.....%s' %var # 옛날 방식\n",
        "- 3. \"....{}\".format(var) 함수"
      ],
      "metadata": {
        "id": "45jr8DUpyqKa"
      }
    },
    {
      "cell_type": "code",
      "source": [
        "name = 'lee'\n",
        "print(\"My name is\", name) #1.\n",
        "print(f\"My name is {name}\") #2.\n",
        "print(\"My name is {0}\".format(name))\n",
        "print(\"My name is %s\"%(name))"
      ],
      "metadata": {
        "colab": {
          "base_uri": "https://localhost:8080/"
        },
        "id": "aAqaC75ezDI2",
        "outputId": "876fbc0e-2ad4-43f1-e6c4-fe6e93695a44"
      },
      "execution_count": null,
      "outputs": [
        {
          "output_type": "stream",
          "name": "stdout",
          "text": [
            "My name is lee\n",
            "My name is lee\n",
            "My name is lee\n",
            "My name is lee\n"
          ]
        }
      ]
    },
    {
      "cell_type": "code",
      "source": [
        "age = 14\n",
        "print(f\"My name is {name}, and I am {age} years old.\") # 두방식의 차이점 : 가독성의 차이\n",
        "print(\"My name is {1} and I am {0} years old\".format(age, name)) # 디폴트는 순서대로"
      ],
      "metadata": {
        "colab": {
          "base_uri": "https://localhost:8080/"
        },
        "id": "vDrCMQGkzh1K",
        "outputId": "c97a8917-cebb-4331-8a7f-69e75fe9c663"
      },
      "execution_count": null,
      "outputs": [
        {
          "output_type": "stream",
          "name": "stdout",
          "text": [
            "My name is lee, and I am 14 years old.\n",
            "My name is lee and I am 14 years old\n"
          ]
        }
      ]
    },
    {
      "cell_type": "code",
      "source": [
        "a = 0.685398913\n",
        "print(f\"This is {a:.3f}\") #1\n",
        "print(\"This is %.3f\" %(a)) #2\n",
        "print(\"This is {}\".format(a)) #3"
      ],
      "metadata": {
        "colab": {
          "base_uri": "https://localhost:8080/"
        },
        "id": "OtUcfgvV0sXM",
        "outputId": "0408431b-6a34-4a64-ae6d-6d7464eb0cdf"
      },
      "execution_count": null,
      "outputs": [
        {
          "output_type": "stream",
          "name": "stdout",
          "text": [
            "This is 0.685\n",
            "This is 0.685\n",
            "This is 0.685398913\n"
          ]
        }
      ]
    }
  ]
}